{
  "nbformat": 4,
  "nbformat_minor": 0,
  "metadata": {
    "application/vnd.databricks.v1+notebook": {
      "notebookName": "SparkDataframe-JSON_solutions",
      "dashboards": [],
      "notebookMetadata": {
        "pythonIndentUnit": 2
      },
      "language": "python",
      "widgets": {},
      "notebookOrigID": 620345572627505
    },
    "colab": {
      "name": "UNG - SparkDataframe-JSON-etudiants.ipynb",
      "provenance": [],
      "collapsed_sections": [],
      "toc_visible": true
    },
    "language_info": {
      "name": "python"
    },
    "kernelspec": {
      "name": "python3",
      "display_name": "Python 3"
    }
  },
  "cells": [
    {
      "cell_type": "markdown",
      "metadata": {
        "application/vnd.databricks.v1+cell": {
          "title": "",
          "showTitle": false,
          "inputWidgets": {},
          "nuid": "6b731d77-eb7f-4548-9ee0-ce03d65ff98c"
        },
        "id": "uoEBE0CnprxJ"
      },
      "source": [
        "* Master DAC, BDLE, 2021 \n",
        "* Author: Mohamed-Amine Baazizi\n",
        "* Affiliation: LIP6 - Faculté des Sciences - Sorbonne Université\n",
        "* Email: mohamed-amine.baazizi@lip6.fr"
      ]
    },
    {
      "cell_type": "markdown",
      "metadata": {
        "application/vnd.databricks.v1+cell": {
          "title": "",
          "showTitle": false,
          "inputWidgets": {},
          "nuid": "874bbdf4-8c96-44c8-8a6f-fc19e07d1257"
        },
        "id": "ElCGcuduprxN"
      },
      "source": [
        "# Querying nested data "
      ]
    },
    {
      "cell_type": "markdown",
      "metadata": {
        "application/vnd.databricks.v1+cell": {
          "title": "",
          "showTitle": false,
          "inputWidgets": {},
          "nuid": "d6d50913-1930-490e-8cb5-8059cc813572"
        },
        "id": "4gAH4pUZprxN"
      },
      "source": [
        "This lab session complements the previous session with several concepts:\n",
        "* manipulating irregular, nested data represented in JSON format\n",
        "* using windowing functions, multi-dimensional aggregations, and pivot tables"
      ]
    },
    {
      "cell_type": "markdown",
      "metadata": {
        "application/vnd.databricks.v1+cell": {
          "title": "",
          "showTitle": false,
          "inputWidgets": {},
          "nuid": "b15737ae-19bd-4b9f-b9f3-52388cc5e50e"
        },
        "id": "levNDESpS1hT"
      },
      "source": [
        "\n",
        "\n",
        "```\n",
        "# This is formatted as code\n",
        "```\n",
        "\n",
        "## Préparation"
      ]
    },
    {
      "cell_type": "markdown",
      "metadata": {
        "application/vnd.databricks.v1+cell": {
          "title": "",
          "showTitle": false,
          "inputWidgets": {},
          "nuid": "b6afe82e-35d6-4358-9b79-8f56074e0908"
        },
        "id": "4pZBsez9S1hT"
      },
      "source": [
        "Vérifier que des ressources de calcul sont allouées à votre notebook est connecté (cf RAM  de disque indiqués en haut à droite) . Sinon cliquer sur le bouton connecter pour obtenir des ressources.\n",
        "\n",
        "\n"
      ]
    },
    {
      "cell_type": "markdown",
      "metadata": {
        "id": "CEjerqQ6Ink6"
      },
      "source": [
        "Pour accéder directement aux fichiers stockées sur votre google drive. Renseigner le code d'authentification lorsqu'il est demandé\n",
        "\n",
        "Ajuster le nom de votre dossier : MyDrive/ens/bdle/dir. **Remplacer dir **"
      ]
    },
    {
      "cell_type": "code",
      "metadata": {
        "id": "g7Dv93rsImuM",
        "colab": {
          "base_uri": "https://localhost:8080/"
        },
        "outputId": "3720c9cf-cfb9-4428-fea4-58f66782b15c"
      },
      "source": [
        "import os\n",
        "from google.colab import drive\n",
        "drive.mount(\"/content/drive\", force_remount=True)\n",
        "\n",
        "drive_dir = \"/content/drive/MyDrive/ens/bdle/SparkDF/\"\n",
        "os.makedirs(drive_dir, exist_ok=True)\n",
        "os.listdir(drive_dir)"
      ],
      "execution_count": null,
      "outputs": [
        {
          "output_type": "stream",
          "name": "stdout",
          "text": [
            "Mounted at /content/drive\n"
          ]
        },
        {
          "output_type": "execute_result",
          "data": {
            "text/plain": [
              "['books.csv', 'ratings.csv', 'users.csv', 'vk_001.json']"
            ]
          },
          "metadata": {},
          "execution_count": 1
        }
      ]
    },
    {
      "cell_type": "markdown",
      "metadata": {
        "id": "7v9EXMl8aPZC"
      },
      "source": [
        "Installer pyspark et findspark :\n"
      ]
    },
    {
      "cell_type": "code",
      "metadata": {
        "id": "3zlwNHy1S8C2",
        "colab": {
          "base_uri": "https://localhost:8080/"
        },
        "outputId": "78d8a512-4195-4b52-c213-6a7703e58108"
      },
      "source": [
        "!pip install -q pyspark\n",
        "!pip install -q findspark"
      ],
      "execution_count": null,
      "outputs": [
        {
          "output_type": "stream",
          "name": "stdout",
          "text": [
            "\u001b[K     |████████████████████████████████| 281.3 MB 48 kB/s \n",
            "\u001b[K     |████████████████████████████████| 198 kB 76.3 MB/s \n",
            "\u001b[?25h  Building wheel for pyspark (setup.py) ... \u001b[?25l\u001b[?25hdone\n"
          ]
        }
      ]
    },
    {
      "cell_type": "markdown",
      "metadata": {
        "id": "PnEmOd_zOUo0"
      },
      "source": [
        "Démarrer la session spark"
      ]
    },
    {
      "cell_type": "code",
      "metadata": {
        "id": "W0ADH0J-VW7i"
      },
      "source": [
        "import os\n",
        "# !find /usr/local -name \"pyspark\"\n",
        "os.environ[\"SPARK_HOME\"] = \"/usr/local/lib/python3.7/dist-packages/pyspark\"\n",
        "os.environ[\"JAVA_HOME\"] = \"/usr\""
      ],
      "execution_count": null,
      "outputs": []
    },
    {
      "cell_type": "code",
      "metadata": {
        "id": "Q_WxQZB7TaUC",
        "colab": {
          "base_uri": "https://localhost:8080/"
        },
        "outputId": "a851d435-c851-4327-9e00-a9522fde7fb5"
      },
      "source": [
        "# Principaux import\n",
        "import findspark\n",
        "from pyspark.sql import SparkSession \n",
        "from pyspark import SparkConf  \n",
        "\n",
        "# pour les dataframe et udf\n",
        "from pyspark.sql import *  \n",
        "from pyspark.sql.functions import *\n",
        "from pyspark.sql.types import *\n",
        "from datetime import *\n",
        "\n",
        "# pour le chronomètre\n",
        "import time\n",
        "\n",
        "# initialise les variables d'environnement pour spark\n",
        "findspark.init()\n",
        "\n",
        "# Démarrage session spark \n",
        "# --------------------------\n",
        "def demarrer_spark():\n",
        "  local = \"local[*]\"\n",
        "  appName = \"TP\"\n",
        "  configLocale = SparkConf().setAppName(appName).setMaster(local).\\\n",
        "  set(\"spark.executor.memory\", \"6G\").\\\n",
        "  set(\"spark.driver.memory\",\"6G\").\\\n",
        "  set(\"spark.sql.catalogImplementation\",\"in-memory\")\n",
        "  \n",
        "  spark = SparkSession.builder.config(conf = configLocale).getOrCreate()\n",
        "  sc = spark.sparkContext\n",
        "  sc.setLogLevel(\"ERROR\")\n",
        "  \n",
        "  spark.conf.set(\"spark.sql.autoBroadcastJoinThreshold\",\"-1\")\n",
        "\n",
        "  # On ajuste l'environnement d'exécution des requêtes à la taille du cluster (4 coeurs)\n",
        "  spark.conf.set(\"spark.sql.shuffle.partitions\",\"4\")    \n",
        "  print(\"session démarrée, son id est \", sc.applicationId)\n",
        "  return spark\n",
        "spark = demarrer_spark()"
      ],
      "execution_count": null,
      "outputs": [
        {
          "output_type": "stream",
          "name": "stdout",
          "text": [
            "session démarrée, son id est  local-1636728713757\n"
          ]
        }
      ]
    },
    {
      "cell_type": "code",
      "metadata": {
        "application/vnd.databricks.v1+cell": {
          "title": "",
          "showTitle": false,
          "inputWidgets": {},
          "nuid": "852847c4-bd45-4f9c-ae8b-2c704f389cf9"
        },
        "id": "fj9pUgrmGpLe",
        "colab": {
          "base_uri": "https://localhost:8080/"
        },
        "outputId": "8dcd39a5-6fd9-4aa3-8547-2aa3af46d391"
      },
      "source": [
        "# on utilise 8 partitions au lieu de 200 par défaut\n",
        "spark.conf.set(\"spark.sql.shuffle.partitions\", \"8\")\n",
        "print(\"Nombre de partitions utilisées : \", spark.conf.get(\"spark.sql.shuffle.partitions\"))"
      ],
      "execution_count": null,
      "outputs": [
        {
          "output_type": "stream",
          "name": "stdout",
          "text": [
            "Nombre de partitions utilisées :  8\n"
          ]
        }
      ]
    },
    {
      "cell_type": "markdown",
      "metadata": {
        "application/vnd.databricks.v1+cell": {
          "title": "",
          "showTitle": false,
          "inputWidgets": {},
          "nuid": "41dd8b8e-d697-4efb-a1d2-cd34a08b3e7e"
        },
        "id": "NtjUaom1_2bC"
      },
      "source": [
        "## Data loading"
      ]
    },
    {
      "cell_type": "code",
      "metadata": {
        "colab": {
          "base_uri": "https://localhost:8080/"
        },
        "id": "NnpzRKcuA9Yi",
        "outputId": "ddca2d01-b8af-453c-b5e8-f556daebfa78"
      },
      "source": [
        "# URL du dossier PUBLIC_DATASET contenant des fichiers de données pour les TP\n",
        "# ---------------------------------------------------------------------------\n",
        "# en cas de problème avec le téléchargement des datasets, aller directement sur l'URL ci-dessous\n",
        "PUBLIC_DATASET_URL = \"https://nuage.lip6.fr/s/H3bpyRGgnCq2NR4\" \n",
        "PUBLIC_DATASET=PUBLIC_DATASET_URL + \"/download?path=\"\n",
        "\n",
        "print(\"URL pour les datasets \", PUBLIC_DATASET_URL)"
      ],
      "execution_count": null,
      "outputs": [
        {
          "output_type": "stream",
          "name": "stdout",
          "text": [
            "URL pour les datasets  https://nuage.lip6.fr/s/H3bpyRGgnCq2NR4\n"
          ]
        }
      ]
    },
    {
      "cell_type": "code",
      "metadata": {
        "colab": {
          "base_uri": "https://localhost:8080/"
        },
        "id": "PecIszauBHx7",
        "outputId": "060c261f-6b99-4dd2-c3ba-174728cffb7f"
      },
      "source": [
        "import os\n",
        "from urllib import request\n",
        "\n",
        "def load_file(file,dir):\n",
        "  if(os.path.isfile(file)):\n",
        "    print(file, \"is already stored\")\n",
        "  else:\n",
        "    url = PUBLIC_DATASET + \"/\"+ dir + \"/\" + file\n",
        "    print(\"downloading from URL: \", url, \"save in : \" + drive_dir   + file)\n",
        "    request.urlretrieve(url , drive_dir + file)\n",
        "\n",
        "load_file(\"vk_001.json\", \"VKRU18\")\n",
        "\n",
        "# Liste des fichiers de IMDB\n",
        "os.listdir(drive_dir)"
      ],
      "execution_count": null,
      "outputs": [
        {
          "output_type": "stream",
          "name": "stdout",
          "text": [
            "downloading from URL:  https://nuage.lip6.fr/s/H3bpyRGgnCq2NR4/download?path=/VKRU18/vk_001.json save in : /content/drive/MyDrive/ens/bdle/SparkDF/vk_001.json\n"
          ]
        },
        {
          "output_type": "execute_result",
          "data": {
            "text/plain": [
              "['books.csv', 'ratings.csv', 'users.csv', 'vk_001.json']"
            ]
          },
          "metadata": {},
          "execution_count": 7
        }
      ]
    },
    {
      "cell_type": "markdown",
      "metadata": {
        "application/vnd.databricks.v1+cell": {
          "title": "",
          "showTitle": false,
          "inputWidgets": {},
          "nuid": "6d0b9ed5-34c9-4087-8e89-c4054b53dceb"
        },
        "id": "wy32zRSTprxY"
      },
      "source": [
        "## Dataset loading\n",
        "The dataset used in this lab session describes posts exchanged in a Russian social network, called VK, during the 2018 Russian elections.\n",
        "The schema of this dataset is described in the official API website\n",
        "https://vk.com/dev/streaming_api_docs_2?f=7.%2BЧтение%2Bпотока \n",
        "\n",
        "\n",
        "We will use this dataset to perform some analytics on the type of posts, the tags used in these post and the relationships between authors of the posts."
      ]
    },
    {
      "cell_type": "code",
      "metadata": {
        "application/vnd.databricks.v1+cell": {
          "title": "",
          "showTitle": false,
          "inputWidgets": {},
          "nuid": "15b333f9-91cb-4217-85a2-1b78fc88aac7"
        },
        "colab": {
          "base_uri": "https://localhost:8080/"
        },
        "id": "YidaWoNpprxY",
        "outputId": "7359b9b8-ec45-482f-a320-e41d8765f823"
      },
      "source": [
        "data = spark.read.format(\"json\").load(drive_dir+'vk_001.json').distinct()\n",
        "data.count()"
      ],
      "execution_count": null,
      "outputs": [
        {
          "output_type": "execute_result",
          "data": {
            "text/plain": [
              "30683"
            ]
          },
          "metadata": {},
          "execution_count": 8
        }
      ]
    },
    {
      "cell_type": "code",
      "metadata": {
        "application/vnd.databricks.v1+cell": {
          "title": "",
          "showTitle": false,
          "inputWidgets": {},
          "nuid": "f8f7180a-05dd-46fb-af63-e1a5f743687e"
        },
        "colab": {
          "base_uri": "https://localhost:8080/"
        },
        "id": "R9_4b_OFprxZ",
        "outputId": "70b1a9b7-55f8-4efd-e6c4-8c8ae05d2b72"
      },
      "source": [
        "#examine the schema\n",
        "data.printSchema()"
      ],
      "execution_count": null,
      "outputs": [
        {
          "output_type": "stream",
          "name": "stdout",
          "text": [
            "root\n",
            " |-- _id: struct (nullable = true)\n",
            " |    |-- $oid: string (nullable = true)\n",
            " |-- code: long (nullable = true)\n",
            " |-- event: struct (nullable = true)\n",
            " |    |-- action: string (nullable = true)\n",
            " |    |-- attachments: array (nullable = true)\n",
            " |    |    |-- element: struct (containsNull = true)\n",
            " |    |    |    |-- album: struct (nullable = true)\n",
            " |    |    |    |    |-- created: long (nullable = true)\n",
            " |    |    |    |    |-- description: string (nullable = true)\n",
            " |    |    |    |    |-- id: string (nullable = true)\n",
            " |    |    |    |    |-- owner_id: long (nullable = true)\n",
            " |    |    |    |    |-- size: long (nullable = true)\n",
            " |    |    |    |    |-- thumb: struct (nullable = true)\n",
            " |    |    |    |    |    |-- access_key: string (nullable = true)\n",
            " |    |    |    |    |    |-- album_id: long (nullable = true)\n",
            " |    |    |    |    |    |-- date: long (nullable = true)\n",
            " |    |    |    |    |    |-- height: long (nullable = true)\n",
            " |    |    |    |    |    |-- id: long (nullable = true)\n",
            " |    |    |    |    |    |-- owner_id: long (nullable = true)\n",
            " |    |    |    |    |    |-- photo_1280: string (nullable = true)\n",
            " |    |    |    |    |    |-- photo_130: string (nullable = true)\n",
            " |    |    |    |    |    |-- photo_2560: string (nullable = true)\n",
            " |    |    |    |    |    |-- photo_604: string (nullable = true)\n",
            " |    |    |    |    |    |-- photo_75: string (nullable = true)\n",
            " |    |    |    |    |    |-- photo_807: string (nullable = true)\n",
            " |    |    |    |    |    |-- text: string (nullable = true)\n",
            " |    |    |    |    |    |-- user_id: long (nullable = true)\n",
            " |    |    |    |    |    |-- width: long (nullable = true)\n",
            " |    |    |    |    |-- title: string (nullable = true)\n",
            " |    |    |    |    |-- updated: long (nullable = true)\n",
            " |    |    |    |-- audio: struct (nullable = true)\n",
            " |    |    |    |    |-- album_id: long (nullable = true)\n",
            " |    |    |    |    |-- artist: string (nullable = true)\n",
            " |    |    |    |    |-- content_restricted: long (nullable = true)\n",
            " |    |    |    |    |-- date: long (nullable = true)\n",
            " |    |    |    |    |-- duration: long (nullable = true)\n",
            " |    |    |    |    |-- genre_id: long (nullable = true)\n",
            " |    |    |    |    |-- id: long (nullable = true)\n",
            " |    |    |    |    |-- lyrics_id: long (nullable = true)\n",
            " |    |    |    |    |-- no_search: long (nullable = true)\n",
            " |    |    |    |    |-- owner_id: long (nullable = true)\n",
            " |    |    |    |    |-- title: string (nullable = true)\n",
            " |    |    |    |    |-- url: string (nullable = true)\n",
            " |    |    |    |-- doc: struct (nullable = true)\n",
            " |    |    |    |    |-- access_key: string (nullable = true)\n",
            " |    |    |    |    |-- date: long (nullable = true)\n",
            " |    |    |    |    |-- ext: string (nullable = true)\n",
            " |    |    |    |    |-- id: long (nullable = true)\n",
            " |    |    |    |    |-- owner_id: long (nullable = true)\n",
            " |    |    |    |    |-- preview: struct (nullable = true)\n",
            " |    |    |    |    |    |-- photo: struct (nullable = true)\n",
            " |    |    |    |    |    |    |-- sizes: array (nullable = true)\n",
            " |    |    |    |    |    |    |    |-- element: struct (containsNull = true)\n",
            " |    |    |    |    |    |    |    |    |-- height: long (nullable = true)\n",
            " |    |    |    |    |    |    |    |    |-- src: string (nullable = true)\n",
            " |    |    |    |    |    |    |    |    |-- type: string (nullable = true)\n",
            " |    |    |    |    |    |    |    |    |-- width: long (nullable = true)\n",
            " |    |    |    |    |    |-- video: struct (nullable = true)\n",
            " |    |    |    |    |    |    |-- file_size: long (nullable = true)\n",
            " |    |    |    |    |    |    |-- height: long (nullable = true)\n",
            " |    |    |    |    |    |    |-- src: string (nullable = true)\n",
            " |    |    |    |    |    |    |-- width: long (nullable = true)\n",
            " |    |    |    |    |-- size: long (nullable = true)\n",
            " |    |    |    |    |-- title: string (nullable = true)\n",
            " |    |    |    |    |-- type: long (nullable = true)\n",
            " |    |    |    |    |-- url: string (nullable = true)\n",
            " |    |    |    |-- link: struct (nullable = true)\n",
            " |    |    |    |    |-- button: struct (nullable = true)\n",
            " |    |    |    |    |    |-- title: string (nullable = true)\n",
            " |    |    |    |    |    |-- url: string (nullable = true)\n",
            " |    |    |    |    |-- button_action: string (nullable = true)\n",
            " |    |    |    |    |-- button_text: string (nullable = true)\n",
            " |    |    |    |    |-- caption: string (nullable = true)\n",
            " |    |    |    |    |-- description: string (nullable = true)\n",
            " |    |    |    |    |-- is_external: long (nullable = true)\n",
            " |    |    |    |    |-- photo: struct (nullable = true)\n",
            " |    |    |    |    |    |-- album_id: long (nullable = true)\n",
            " |    |    |    |    |    |-- date: long (nullable = true)\n",
            " |    |    |    |    |    |-- height: long (nullable = true)\n",
            " |    |    |    |    |    |-- id: long (nullable = true)\n",
            " |    |    |    |    |    |-- lat: double (nullable = true)\n",
            " |    |    |    |    |    |-- long: double (nullable = true)\n",
            " |    |    |    |    |    |-- owner_id: long (nullable = true)\n",
            " |    |    |    |    |    |-- photo_1280: string (nullable = true)\n",
            " |    |    |    |    |    |-- photo_130: string (nullable = true)\n",
            " |    |    |    |    |    |-- photo_2560: string (nullable = true)\n",
            " |    |    |    |    |    |-- photo_604: string (nullable = true)\n",
            " |    |    |    |    |    |-- photo_75: string (nullable = true)\n",
            " |    |    |    |    |    |-- photo_807: string (nullable = true)\n",
            " |    |    |    |    |    |-- text: string (nullable = true)\n",
            " |    |    |    |    |    |-- user_id: long (nullable = true)\n",
            " |    |    |    |    |    |-- width: long (nullable = true)\n",
            " |    |    |    |    |-- preview_page: string (nullable = true)\n",
            " |    |    |    |    |-- preview_url: string (nullable = true)\n",
            " |    |    |    |    |-- target: string (nullable = true)\n",
            " |    |    |    |    |-- title: string (nullable = true)\n",
            " |    |    |    |    |-- url: string (nullable = true)\n",
            " |    |    |    |-- note: struct (nullable = true)\n",
            " |    |    |    |    |-- comments: long (nullable = true)\n",
            " |    |    |    |    |-- date: long (nullable = true)\n",
            " |    |    |    |    |-- id: long (nullable = true)\n",
            " |    |    |    |    |-- owner_id: long (nullable = true)\n",
            " |    |    |    |    |-- read_comments: long (nullable = true)\n",
            " |    |    |    |    |-- title: string (nullable = true)\n",
            " |    |    |    |    |-- view_url: string (nullable = true)\n",
            " |    |    |    |-- page: struct (nullable = true)\n",
            " |    |    |    |    |-- created: long (nullable = true)\n",
            " |    |    |    |    |-- creator_id: long (nullable = true)\n",
            " |    |    |    |    |-- current_user_can_edit: long (nullable = true)\n",
            " |    |    |    |    |-- current_user_can_edit_access: long (nullable = true)\n",
            " |    |    |    |    |-- edited: long (nullable = true)\n",
            " |    |    |    |    |-- editor_id: long (nullable = true)\n",
            " |    |    |    |    |-- group_id: long (nullable = true)\n",
            " |    |    |    |    |-- id: long (nullable = true)\n",
            " |    |    |    |    |-- title: string (nullable = true)\n",
            " |    |    |    |    |-- view_url: string (nullable = true)\n",
            " |    |    |    |    |-- views: long (nullable = true)\n",
            " |    |    |    |    |-- who_can_edit: long (nullable = true)\n",
            " |    |    |    |    |-- who_can_view: long (nullable = true)\n",
            " |    |    |    |-- photo: struct (nullable = true)\n",
            " |    |    |    |    |-- access_key: string (nullable = true)\n",
            " |    |    |    |    |-- album_id: long (nullable = true)\n",
            " |    |    |    |    |-- date: long (nullable = true)\n",
            " |    |    |    |    |-- height: long (nullable = true)\n",
            " |    |    |    |    |-- id: long (nullable = true)\n",
            " |    |    |    |    |-- lat: double (nullable = true)\n",
            " |    |    |    |    |-- long: double (nullable = true)\n",
            " |    |    |    |    |-- owner_id: long (nullable = true)\n",
            " |    |    |    |    |-- photo_1280: string (nullable = true)\n",
            " |    |    |    |    |-- photo_130: string (nullable = true)\n",
            " |    |    |    |    |-- photo_2560: string (nullable = true)\n",
            " |    |    |    |    |-- photo_604: string (nullable = true)\n",
            " |    |    |    |    |-- photo_75: string (nullable = true)\n",
            " |    |    |    |    |-- photo_807: string (nullable = true)\n",
            " |    |    |    |    |-- post_id: long (nullable = true)\n",
            " |    |    |    |    |-- text: string (nullable = true)\n",
            " |    |    |    |    |-- user_id: long (nullable = true)\n",
            " |    |    |    |    |-- width: long (nullable = true)\n",
            " |    |    |    |-- photos_list: array (nullable = true)\n",
            " |    |    |    |    |-- element: string (containsNull = true)\n",
            " |    |    |    |-- poll: struct (nullable = true)\n",
            " |    |    |    |    |-- anonymous: long (nullable = true)\n",
            " |    |    |    |    |-- answer_id: long (nullable = true)\n",
            " |    |    |    |    |-- answers: array (nullable = true)\n",
            " |    |    |    |    |    |-- element: struct (containsNull = true)\n",
            " |    |    |    |    |    |    |-- id: long (nullable = true)\n",
            " |    |    |    |    |    |    |-- rate: double (nullable = true)\n",
            " |    |    |    |    |    |    |-- text: string (nullable = true)\n",
            " |    |    |    |    |    |    |-- votes: long (nullable = true)\n",
            " |    |    |    |    |-- created: long (nullable = true)\n",
            " |    |    |    |    |-- id: long (nullable = true)\n",
            " |    |    |    |    |-- owner_id: long (nullable = true)\n",
            " |    |    |    |    |-- question: string (nullable = true)\n",
            " |    |    |    |    |-- votes: long (nullable = true)\n",
            " |    |    |    |-- type: string (nullable = true)\n",
            " |    |    |    |-- video: struct (nullable = true)\n",
            " |    |    |    |    |-- access_key: string (nullable = true)\n",
            " |    |    |    |    |-- album_id: long (nullable = true)\n",
            " |    |    |    |    |-- can_add: long (nullable = true)\n",
            " |    |    |    |    |-- can_edit: long (nullable = true)\n",
            " |    |    |    |    |-- comments: long (nullable = true)\n",
            " |    |    |    |    |-- content_restricted: long (nullable = true)\n",
            " |    |    |    |    |-- date: long (nullable = true)\n",
            " |    |    |    |    |-- description: string (nullable = true)\n",
            " |    |    |    |    |-- duration: long (nullable = true)\n",
            " |    |    |    |    |-- first_frame_130: string (nullable = true)\n",
            " |    |    |    |    |-- first_frame_160: string (nullable = true)\n",
            " |    |    |    |    |-- first_frame_320: string (nullable = true)\n",
            " |    |    |    |    |-- first_frame_800: string (nullable = true)\n",
            " |    |    |    |    |-- height: long (nullable = true)\n",
            " |    |    |    |    |-- id: long (nullable = true)\n",
            " |    |    |    |    |-- is_private: long (nullable = true)\n",
            " |    |    |    |    |-- live: long (nullable = true)\n",
            " |    |    |    |    |-- owner_id: long (nullable = true)\n",
            " |    |    |    |    |-- photo_130: string (nullable = true)\n",
            " |    |    |    |    |-- photo_320: string (nullable = true)\n",
            " |    |    |    |    |-- photo_640: string (nullable = true)\n",
            " |    |    |    |    |-- photo_800: string (nullable = true)\n",
            " |    |    |    |    |-- platform: string (nullable = true)\n",
            " |    |    |    |    |-- processing: long (nullable = true)\n",
            " |    |    |    |    |-- repeat: long (nullable = true)\n",
            " |    |    |    |    |-- spectators: long (nullable = true)\n",
            " |    |    |    |    |-- title: string (nullable = true)\n",
            " |    |    |    |    |-- upcoming: long (nullable = true)\n",
            " |    |    |    |    |-- user_id: long (nullable = true)\n",
            " |    |    |    |    |-- views: long (nullable = true)\n",
            " |    |    |    |    |-- width: long (nullable = true)\n",
            " |    |-- author: struct (nullable = true)\n",
            " |    |    |-- author_url: string (nullable = true)\n",
            " |    |    |-- id: long (nullable = true)\n",
            " |    |    |-- platform: long (nullable = true)\n",
            " |    |    |-- shared_post_author_id: long (nullable = true)\n",
            " |    |    |-- shared_post_author_url: string (nullable = true)\n",
            " |    |-- creation_time: long (nullable = true)\n",
            " |    |-- event_id: struct (nullable = true)\n",
            " |    |    |-- comment_id: long (nullable = true)\n",
            " |    |    |-- post_id: long (nullable = true)\n",
            " |    |    |-- post_owner_id: long (nullable = true)\n",
            " |    |    |-- shared_post_id: long (nullable = true)\n",
            " |    |    |-- shared_post_owner_id: long (nullable = true)\n",
            " |    |-- event_shared_url: string (nullable = true)\n",
            " |    |-- event_type: string (nullable = true)\n",
            " |    |-- event_url: string (nullable = true)\n",
            " |    |-- geo: struct (nullable = true)\n",
            " |    |    |-- coordinates: string (nullable = true)\n",
            " |    |    |-- place: struct (nullable = true)\n",
            " |    |    |    |-- address: string (nullable = true)\n",
            " |    |    |    |-- checkins: long (nullable = true)\n",
            " |    |    |    |-- city: string (nullable = true)\n",
            " |    |    |    |-- country: string (nullable = true)\n",
            " |    |    |    |-- created: long (nullable = true)\n",
            " |    |    |    |-- group_id: long (nullable = true)\n",
            " |    |    |    |-- group_photo: string (nullable = true)\n",
            " |    |    |    |-- icon: string (nullable = true)\n",
            " |    |    |    |-- id: long (nullable = true)\n",
            " |    |    |    |-- latitude: double (nullable = true)\n",
            " |    |    |    |-- longitude: double (nullable = true)\n",
            " |    |    |    |-- title: string (nullable = true)\n",
            " |    |    |    |-- type: long (nullable = true)\n",
            " |    |    |    |-- updated: long (nullable = true)\n",
            " |    |    |-- showmap: long (nullable = true)\n",
            " |    |    |-- type: string (nullable = true)\n",
            " |    |-- shared_post_creation_time: long (nullable = true)\n",
            " |    |-- shared_post_text: string (nullable = true)\n",
            " |    |-- signer_id: long (nullable = true)\n",
            " |    |-- tags: array (nullable = true)\n",
            " |    |    |-- element: string (containsNull = true)\n",
            " |    |-- text: string (nullable = true)\n",
            "\n"
          ]
        }
      ]
    },
    {
      "cell_type": "markdown",
      "metadata": {
        "application/vnd.databricks.v1+cell": {
          "title": "",
          "showTitle": false,
          "inputWidgets": {},
          "nuid": "a5c2c97f-43bd-4b16-b175-fcbdd7edbe74"
        },
        "id": "dDpBqJ28prxZ"
      },
      "source": [
        "## Questions"
      ]
    },
    {
      "cell_type": "markdown",
      "metadata": {
        "application/vnd.databricks.v1+cell": {
          "title": "",
          "showTitle": false,
          "inputWidgets": {},
          "nuid": "3734f85f-21a0-4c63-b4fb-9da4ba1185a5"
        },
        "id": "Pb4LtVKQprxa"
      },
      "source": [
        "The schema indicates each attribute with nullable=true which is not very informative since we can not know whether a field has missing values.\n",
        "The following instructions count the number of rows w/o missing values for some specific fields of interest."
      ]
    },
    {
      "cell_type": "code",
      "metadata": {
        "application/vnd.databricks.v1+cell": {
          "title": "",
          "showTitle": false,
          "inputWidgets": {},
          "nuid": "7d51ee9e-0266-413d-a3d5-cd96a905a3cb"
        },
        "id": "m98KJWncprxa"
      },
      "source": [
        "att_list = [\"event\", \n",
        "                 \"event.event_id\", \n",
        "                 \"event.event_id.post_id\", \n",
        "                 \"event.event_id.post_owner_id\", \n",
        "                 \"event.event_id.comment_id\", \n",
        "                 \"event.event_id.shared_post_id\", \n",
        "                 \"event.author\", \n",
        "                 \"event.attachments\", \n",
        "                 \"event.geo\", \n",
        "                 \"event.tags\",\n",
        "                 \"event.creation_time\"]"
      ],
      "execution_count": null,
      "outputs": []
    },
    {
      "cell_type": "code",
      "metadata": {
        "application/vnd.databricks.v1+cell": {
          "title": "",
          "showTitle": false,
          "inputWidgets": {},
          "nuid": "45f92445-f2cc-4bad-a868-2c246eedf210"
        },
        "colab": {
          "base_uri": "https://localhost:8080/"
        },
        "id": "ilDCsjR-prxb",
        "outputId": "91bcf842-77bc-469c-ce96-826c4da86ac6"
      },
      "source": [
        "for att in att_list:\n",
        "    print(\"count of %s=%s\"%(att, data.where(att+ \" is not null\").count()))"
      ],
      "execution_count": null,
      "outputs": [
        {
          "output_type": "stream",
          "name": "stdout",
          "text": [
            "count of event=30683\n",
            "count of event.event_id=30683\n",
            "count of event.event_id.post_id=30683\n",
            "count of event.event_id.post_owner_id=30683\n",
            "count of event.event_id.comment_id=16518\n",
            "count of event.event_id.shared_post_id=638\n",
            "count of event.author=30683\n",
            "count of event.attachments=15944\n",
            "count of event.geo=22\n",
            "count of event.tags=30683\n",
            "count of event.creation_time=30683\n"
          ]
        }
      ]
    },
    {
      "cell_type": "markdown",
      "metadata": {
        "application/vnd.databricks.v1+cell": {
          "title": "",
          "showTitle": false,
          "inputWidgets": {},
          "nuid": "522322f1-5229-42b2-9e20-9c37455db09c"
        },
        "id": "ooLKXBpiprxb"
      },
      "source": [
        "What do you observe? Which attributes have missing values?\n",
        "\n",
        "Feel free to examine the content of these attributes (count the number of distinct values, examine a sample of distinct values, etc)"
      ]
    },
    {
      "cell_type": "markdown",
      "metadata": {
        "id": "EUpA6BNn6K0_"
      },
      "source": [
        "<FONT color=\"red\"> We have missing values. \"*event.event_id.comment*\", \"*event.event_id.shared_post_id*\", \"*event.attachments*\" and \"*event.geo*\".</FONT>"
      ]
    },
    {
      "cell_type": "markdown",
      "metadata": {
        "application/vnd.databricks.v1+cell": {
          "title": "",
          "showTitle": false,
          "inputWidgets": {},
          "nuid": "3952d4e9-2364-456a-865a-1c61e9bdf606"
        },
        "id": "GkQg8U_sprxb"
      },
      "source": [
        "The official documentation (https://vk.com/dev/streaming_api_docs_2?f=7.%2BЧтение%2Bпотока) reports on some assumptions about the presence/absence of values.\n",
        "For example, the field `event.event_id.comment_id` is present only when `event.event_type='comment'` and `event.event_id.shared_post_id` is present only when `event.event_type='share'`.\n",
        "\n",
        "Write two queries to verify these assumptions."
      ]
    },
    {
      "cell_type": "markdown",
      "metadata": {
        "application/vnd.databricks.v1+cell": {
          "title": "",
          "showTitle": false,
          "inputWidgets": {},
          "nuid": "3fbbb414-4ac3-4a17-9db9-1178b16dd5be"
        },
        "id": "kJmWtnOXprxc"
      },
      "source": [
        "#### Check that `event.event_id.comment_id` is present only when `event.event_type='comment'`"
      ]
    },
    {
      "cell_type": "code",
      "metadata": {
        "colab": {
          "base_uri": "https://localhost:8080/"
        },
        "id": "ot4BjHT-_AGj",
        "outputId": "2b64deb7-9cb6-4740-bda9-8f4d63e6635c"
      },
      "source": [
        "data.filter((col('event.event_type') != 'comment') & (col('event.event_id.comment_id').isNotNull())).count() == 0"
      ],
      "execution_count": null,
      "outputs": [
        {
          "output_type": "execute_result",
          "data": {
            "text/plain": [
              "True"
            ]
          },
          "metadata": {},
          "execution_count": 12
        }
      ]
    },
    {
      "cell_type": "markdown",
      "metadata": {
        "application/vnd.databricks.v1+cell": {
          "title": "",
          "showTitle": false,
          "inputWidgets": {},
          "nuid": "7fd1d4b1-5669-479f-9442-74ee3d27fd39"
        },
        "id": "XV4xcggMprxc"
      },
      "source": [
        "#### Check that `event.event_id.shared_post_id` is present only when `event.event_type='share'`"
      ]
    },
    {
      "cell_type": "code",
      "metadata": {
        "colab": {
          "base_uri": "https://localhost:8080/"
        },
        "id": "GrW5FdoN-9Nu",
        "outputId": "09e32a5f-1a22-4969-f948-a27b841509da"
      },
      "source": [
        "data.filter((col('event.event_type') != 'share') & (col('event.event_id.shared_post_id').isNotNull())).count() == 0"
      ],
      "execution_count": null,
      "outputs": [
        {
          "output_type": "execute_result",
          "data": {
            "text/plain": [
              "True"
            ]
          },
          "metadata": {},
          "execution_count": 13
        }
      ]
    },
    {
      "cell_type": "markdown",
      "metadata": {
        "application/vnd.databricks.v1+cell": {
          "title": "",
          "showTitle": false,
          "inputWidgets": {},
          "nuid": "e5faf6c8-77a9-41ac-b27d-f2a490ba0a62"
        },
        "id": "81hc99X5prxd"
      },
      "source": [
        "#### How many distinct post ids are there?"
      ]
    },
    {
      "cell_type": "code",
      "metadata": {
        "application/vnd.databricks.v1+cell": {
          "title": "",
          "showTitle": false,
          "inputWidgets": {},
          "nuid": "3f14b0e8-cfd6-4c7c-ae1a-98c3f8d7d5f4"
        },
        "id": "E1NOBRuRprxe"
      },
      "source": [
        "from pyspark.sql.functions import count, countDistinct"
      ],
      "execution_count": null,
      "outputs": []
    },
    {
      "cell_type": "code",
      "metadata": {
        "colab": {
          "base_uri": "https://localhost:8080/"
        },
        "id": "lCqLp2xr_Q_k",
        "outputId": "c3ea4b68-23cf-490f-fe57-63983cd62a18"
      },
      "source": [
        "nb_posts = data.select(countDistinct(col=\"event.event_id.post_id\"))\n",
        "nb_posts.show()"
      ],
      "execution_count": null,
      "outputs": [
        {
          "output_type": "stream",
          "name": "stdout",
          "text": [
            "+--------------------------------------+\n",
            "|count(DISTINCT event.event_id.post_id)|\n",
            "+--------------------------------------+\n",
            "|                                 21683|\n",
            "+--------------------------------------+\n",
            "\n"
          ]
        }
      ]
    },
    {
      "cell_type": "markdown",
      "metadata": {
        "application/vnd.databricks.v1+cell": {
          "title": "",
          "showTitle": false,
          "inputWidgets": {},
          "nuid": "18a5eb84-8408-4db4-979a-b0c24aa14a96"
        },
        "id": "33x5r-bXprxg"
      },
      "source": [
        "#### How many distinct post_ids per event type"
      ]
    },
    {
      "cell_type": "code",
      "metadata": {
        "colab": {
          "base_uri": "https://localhost:8080/"
        },
        "id": "SI_jkDObAhy8",
        "outputId": "0bb2f87c-2816-4328-a2e0-a518cff0e8e4"
      },
      "source": [
        "post_per_type = data.select(\"event.event_type\",\"event.event_id.post_id\").distinct().groupBy(\"event_type\").count().select(col(\"event_type\"),col(\"count\").alias(\"count_objects\"))\n",
        "post_per_type.show()"
      ],
      "execution_count": null,
      "outputs": [
        {
          "output_type": "stream",
          "name": "stdout",
          "text": [
            "+----------+-------------+\n",
            "|event_type|count_objects|\n",
            "+----------+-------------+\n",
            "|     share|          544|\n",
            "|      post|         8137|\n",
            "|   comment|        14202|\n",
            "+----------+-------------+\n",
            "\n"
          ]
        }
      ]
    },
    {
      "cell_type": "code",
      "metadata": {
        "application/vnd.databricks.v1+cell": {
          "title": "",
          "showTitle": false,
          "inputWidgets": {},
          "nuid": "f2b8dd1b-d33c-48a8-b3fe-74dc5240fbb1"
        },
        "colab": {
          "base_uri": "https://localhost:8080/"
        },
        "id": "OLECgaRCprxh",
        "outputId": "a2aca687-ecb4-438c-92df-c5617555b69f"
      },
      "source": [
        "post_per_type = data.groupBy(\"event.event_type\").agg(countDistinct(col=\"event.event_id.post_id\").alias(\"count_object\"))\n",
        "post_per_type.show()"
      ],
      "execution_count": null,
      "outputs": [
        {
          "output_type": "stream",
          "name": "stdout",
          "text": [
            "+----------+------------+\n",
            "|event_type|count_object|\n",
            "+----------+------------+\n",
            "|     share|         544|\n",
            "|      post|        8137|\n",
            "|   comment|       14202|\n",
            "+----------+------------+\n",
            "\n"
          ]
        }
      ]
    },
    {
      "cell_type": "markdown",
      "metadata": {
        "application/vnd.databricks.v1+cell": {
          "title": "",
          "showTitle": false,
          "inputWidgets": {},
          "nuid": "84d2e387-91eb-4c1b-8296-c94ee57d57c0"
        },
        "id": "vzhqW9rjprxh"
      },
      "source": [
        "#### Flattening lists of tags"
      ]
    },
    {
      "cell_type": "markdown",
      "metadata": {
        "application/vnd.databricks.v1+cell": {
          "title": "",
          "showTitle": false,
          "inputWidgets": {},
          "nuid": "46cacbe4-56db-44a4-90a8-14af421acd26"
        },
        "id": "NYHcmgNBprxi"
      },
      "source": [
        "In `data`, each object is associated with an array of tags accessed from `event.tags` (see the schema). Write an instruction to add a `tag` column containing a single tag obtained by flattening the `tags` array"
      ]
    },
    {
      "cell_type": "code",
      "metadata": {
        "application/vnd.databricks.v1+cell": {
          "title": "",
          "showTitle": false,
          "inputWidgets": {},
          "nuid": "8cda653d-3761-4027-8446-753a501d70ba"
        },
        "id": "QG__DEDCprxi"
      },
      "source": [
        "from pyspark.sql.functions import explode"
      ],
      "execution_count": null,
      "outputs": []
    },
    {
      "cell_type": "code",
      "metadata": {
        "id": "yIdYVh3PFXa9"
      },
      "source": [
        "att_list = [\"event\", \n",
        "                 \"event.event_id\", \n",
        "                 \"event.event_id.post_id\", \n",
        "                 \"event.event_id.post_owner_id\", \n",
        "                 \"event.event_id.comment_id\", \n",
        "                 \"event.event_id.shared_post_id\", \n",
        "                 \"event.author\", \n",
        "                 \"event.attachments\", \n",
        "                 \"event.geo\", \n",
        "                 \"event.tags\",\n",
        "                 \"event.creation_time\"]"
      ],
      "execution_count": null,
      "outputs": []
    },
    {
      "cell_type": "code",
      "metadata": {
        "colab": {
          "base_uri": "https://localhost:8080/"
        },
        "id": "zS99m8QJE1qK",
        "outputId": "50a11341-59c6-4f48-f689-a46365642f18"
      },
      "source": [
        "data_with_tags = data.select(\"_id\",\"code\",\"event\",explode(\"event.tags\").alias(\"tag\"))\n",
        "data_with_tags.show()"
      ],
      "execution_count": null,
      "outputs": [
        {
          "output_type": "stream",
          "name": "stdout",
          "text": [
            "+--------------------+----+--------------------+---------+\n",
            "|                 _id|code|               event|      tag|\n",
            "+--------------------+----+--------------------+---------+\n",
            "|{5a66276e7f254c35...| 100|{new, null, {http...| grudinin|\n",
            "|{5a66296f7f254c35...| 100|{new, null, {http...|    putin|\n",
            "|{5a6629907f254c35...| 100|{new, null, {http...|  sobchak|\n",
            "|{5a662a137f254c35...| 100|{new, [{null, nul...|    putin|\n",
            "|{5a662b387f254c35...| 100|{new, [{null, nul...| grudinin|\n",
            "|{5a662dadd81e7c3b...| 100|{new, [{null, nul...|    putin|\n",
            "|{5a662e5cd81e7c3b...| 100|{new, [{null, nul...|yavlinsky|\n",
            "|{5a662fe3d81e7c3b...| 100|{new, [{null, nul...| grudinin|\n",
            "|{5a6631c5d81e7c3b...| 100|{new, [{null, nul...|  navalny|\n",
            "|{5a663292d81e7c3b...| 100|{new, null, {http...| grudinin|\n",
            "|{5a663292d81e7c3b...| 100|{new, null, {http...|    putin|\n",
            "|{5a6632bad81e7c3b...| 100|{new, [{null, nul...|  navalny|\n",
            "|{5a663449d81e7c3b...| 100|{new, null, {http...|    putin|\n",
            "|{5a68c389713e4d08...| 100|{new, [{null, nul...| grudinin|\n",
            "|{5a68c389713e4d08...| 100|{new, [{null, nul...|    putin|\n",
            "|{5a68d054713e4d08...| 100|{new, null, {http...| grudinin|\n",
            "|{5a68d0e1713e4d08...| 100|{new, [{null, nul...| grudinin|\n",
            "|{5a68d3c7713e4d08...| 100|{new, null, {http...|  sobchak|\n",
            "|{5a68d75a713e4d08...| 100|{new, null, {http...|    putin|\n",
            "|{5a68d75a713e4d08...| 100|{new, null, {http...|yavlinsky|\n",
            "+--------------------+----+--------------------+---------+\n",
            "only showing top 20 rows\n",
            "\n"
          ]
        }
      ]
    },
    {
      "cell_type": "markdown",
      "metadata": {
        "application/vnd.databricks.v1+cell": {
          "title": "",
          "showTitle": false,
          "inputWidgets": {},
          "nuid": "3eaa3fc3-bd1e-4e70-a05a-ac090bc60842"
        },
        "id": "vh96FD2bprxk"
      },
      "source": [
        "#### Return the number of distinct post_id per tag. Sort in descending order of count"
      ]
    },
    {
      "cell_type": "code",
      "metadata": {
        "colab": {
          "base_uri": "https://localhost:8080/"
        },
        "id": "Vfkwp0pvHIHW",
        "outputId": "fb4bf5f3-9e28-40ba-feeb-73696d28e01e"
      },
      "source": [
        "from pyspark.sql.functions import desc\n",
        "\n",
        "objects_per_tag = data.select(explode(\"event.tags\").alias(\"tag\"),\"event.event_id.post_id\").groupBy(\"tag\").agg(countDistinct(\"post_id\").alias(\"nb_posts\")).sort(col(\"nb_posts\").desc())\n",
        "objects_per_tag.show()"
      ],
      "execution_count": null,
      "outputs": [
        {
          "output_type": "stream",
          "name": "stdout",
          "text": [
            "+-----------+--------+\n",
            "|        tag|nb_posts|\n",
            "+-----------+--------+\n",
            "|      putin|   14859|\n",
            "|   grudinin|    6222|\n",
            "|    navalny|    2616|\n",
            "|    sobchak|    2134|\n",
            "|zhirinovsky|    1231|\n",
            "|      titov|     577|\n",
            "|  yavlinsky|     361|\n",
            "+-----------+--------+\n",
            "\n"
          ]
        }
      ]
    },
    {
      "cell_type": "markdown",
      "metadata": {
        "application/vnd.databricks.v1+cell": {
          "title": "",
          "showTitle": false,
          "inputWidgets": {},
          "nuid": "19a168da-6156-46e6-ba46-9f32ea8ef973"
        },
        "id": "nfM1F2E8prxl"
      },
      "source": [
        "#### Return the number of distinct author.id per tag. Sort in descending order of count"
      ]
    },
    {
      "cell_type": "code",
      "metadata": {
        "colab": {
          "base_uri": "https://localhost:8080/"
        },
        "id": "Uj-JOzkK7ItJ",
        "outputId": "afa5608b-37e3-446d-b29c-2916d0eb4796"
      },
      "source": [
        "authors_per_tag =  data.select(explode(\"event.tags\").alias(\"tag\"),\"event.author.id\").groupBy(\"tag\").agg(countDistinct(\"id\").alias(\"nb_authors\")).sort(col(\"nb_authors\").desc())\n",
        "\n",
        "authors_per_tag.show()"
      ],
      "execution_count": null,
      "outputs": [
        {
          "output_type": "stream",
          "name": "stdout",
          "text": [
            "+-----------+----------+\n",
            "|        tag|nb_authors|\n",
            "+-----------+----------+\n",
            "|      putin|     15673|\n",
            "|   grudinin|      6207|\n",
            "|    navalny|      2580|\n",
            "|    sobchak|      2288|\n",
            "|zhirinovsky|      1214|\n",
            "|      titov|       572|\n",
            "|  yavlinsky|       347|\n",
            "+-----------+----------+\n",
            "\n"
          ]
        }
      ]
    },
    {
      "cell_type": "markdown",
      "metadata": {
        "application/vnd.databricks.v1+cell": {
          "title": "",
          "showTitle": false,
          "inputWidgets": {},
          "nuid": "6f0f1299-a899-4c97-b6e2-3d1b85d40e1e"
        },
        "id": "DsEFVAeuprxm"
      },
      "source": [
        "#### Fact-checking using Wikipedia"
      ]
    },
    {
      "cell_type": "markdown",
      "metadata": {
        "application/vnd.databricks.v1+cell": {
          "title": "",
          "showTitle": false,
          "inputWidgets": {},
          "nuid": "41cc71ca-f30b-4d32-b0ea-b2f07dedc4f8"
        },
        "id": "_3SSnBlEprxm"
      },
      "source": [
        "Observe that each tag corresponds to a candidate of the RU2018 Elections (Putin, Titov, etc).\n",
        "We would like to check the relationship between the count of tags per author and the number of votes associated to each candidate.\n",
        "We collect, from Wikipedia, the number of votes per candidates and make it available though the dataset `votes` defined as follows."
      ]
    },
    {
      "cell_type": "code",
      "metadata": {
        "application/vnd.databricks.v1+cell": {
          "title": "",
          "showTitle": false,
          "inputWidgets": {},
          "nuid": "ce0daa76-7f39-4ace-8aee-84d700748bf5"
        },
        "colab": {
          "base_uri": "https://localhost:8080/"
        },
        "id": "LQi20X-Dprxm",
        "outputId": "40358377-8cd0-4707-92a3-293e257932e2"
      },
      "source": [
        "from pyspark.sql.types import *\n",
        "\n",
        "schema_votes = StructType([StructField(\"name\", StringType()),\\\n",
        "                     StructField(\"party\", StringType()),\\\n",
        "                     StructField(\"votes\", LongType())])\n",
        "                     \n",
        "\n",
        "raw_votes = [(\"putin\", \"Independent\", 56430712),\\\n",
        "             (\"grudinin\", \"Communist\",8659206), \\\n",
        "             (\"zhirinovsky\",\"Liberal Democratic Party\",4154985),\\\n",
        "             (\"sobchak\",\"Civic Initiative\",1238031),\\\n",
        "             (\"yavlinsky\",\"Yabloko\",769644), \\\n",
        "             (\"titov\",\"Party of Growth\",556801)\\\n",
        "            ]\n",
        "\n",
        "votes = spark.createDataFrame(raw_votes,schema_votes) \n",
        "votes.show()"
      ],
      "execution_count": null,
      "outputs": [
        {
          "output_type": "stream",
          "name": "stdout",
          "text": [
            "+-----------+--------------------+--------+\n",
            "|       name|               party|   votes|\n",
            "+-----------+--------------------+--------+\n",
            "|      putin|         Independent|56430712|\n",
            "|   grudinin|           Communist| 8659206|\n",
            "|zhirinovsky|Liberal Democrati...| 4154985|\n",
            "|    sobchak|    Civic Initiative| 1238031|\n",
            "|  yavlinsky|             Yabloko|  769644|\n",
            "|      titov|     Party of Growth|  556801|\n",
            "+-----------+--------------------+--------+\n",
            "\n"
          ]
        }
      ]
    },
    {
      "cell_type": "markdown",
      "metadata": {
        "application/vnd.databricks.v1+cell": {
          "title": "",
          "showTitle": false,
          "inputWidgets": {},
          "nuid": "1eb8c379-a81d-44f4-837d-a5baa1607c51"
        },
        "id": "EZQD2DaVprxn"
      },
      "source": [
        "#### Return for each candidate the number of its votes and the number of authors who tagged it. What do you observe?"
      ]
    },
    {
      "cell_type": "code",
      "metadata": {
        "colab": {
          "base_uri": "https://localhost:8080/"
        },
        "id": "lreK8TQu76RV",
        "outputId": "1a8e445a-577c-41ef-ef96-22298cc57eb3"
      },
      "source": [
        "votes_count =  votes.select(\"name\",\"votes\").join(authors_per_tag,votes.name == authors_per_tag.tag).select(\"name\",\"votes\",\"nb_authors\").sort(desc(\"nb_authors\"))\n",
        "votes_count.show()"
      ],
      "execution_count": null,
      "outputs": [
        {
          "output_type": "stream",
          "name": "stdout",
          "text": [
            "+-----------+--------+----------+\n",
            "|       name|   votes|nb_authors|\n",
            "+-----------+--------+----------+\n",
            "|      putin|56430712|     15673|\n",
            "|   grudinin| 8659206|      6207|\n",
            "|    sobchak| 1238031|      2288|\n",
            "|zhirinovsky| 4154985|      1214|\n",
            "|      titov|  556801|       572|\n",
            "|  yavlinsky|  769644|       347|\n",
            "+-----------+--------+----------+\n",
            "\n"
          ]
        }
      ]
    },
    {
      "cell_type": "markdown",
      "metadata": {
        "application/vnd.databricks.v1+cell": {
          "title": "",
          "showTitle": false,
          "inputWidgets": {},
          "nuid": "d74a6e5a-d7c8-41cc-a06a-b794a9bb0a15"
        },
        "id": "AOW_KUIJprxo"
      },
      "source": [
        "### Window function"
      ]
    },
    {
      "cell_type": "markdown",
      "metadata": {
        "application/vnd.databricks.v1+cell": {
          "title": "",
          "showTitle": false,
          "inputWidgets": {},
          "nuid": "6f0f9048-910d-4359-a682-9ce918bdff95"
        },
        "id": "Ybq-IKfQprxo"
      },
      "source": [
        "Read about the windowing functions https://databricks.com/blog/2015/07/15/introducing-window-functions-in-spark-sql.html."
      ]
    },
    {
      "cell_type": "code",
      "metadata": {
        "application/vnd.databricks.v1+cell": {
          "title": "",
          "showTitle": false,
          "inputWidgets": {},
          "nuid": "1440237b-2101-4d45-acd8-ac94b3eb2b08"
        },
        "id": "uDk75DiJprxo"
      },
      "source": [
        "from pyspark.sql.window import Window\n",
        "from pyspark.sql.functions import rank\n"
      ],
      "execution_count": null,
      "outputs": []
    },
    {
      "cell_type": "markdown",
      "metadata": {
        "application/vnd.databricks.v1+cell": {
          "title": "",
          "showTitle": false,
          "inputWidgets": {},
          "nuid": "69982c0c-5118-4c62-9012-de5b9170fc69"
        },
        "id": "Gm9jTAX6prxo"
      },
      "source": [
        "Define a window specification for the `votes` and `nb_authors` columns"
      ]
    },
    {
      "cell_type": "code",
      "metadata": {
        "id": "2zy8c21UO_hw"
      },
      "source": [
        "windowSpecVotes = Window.orderBy(desc(\"votes\")).rowsBetween(Window.unboundedPreceding,Window.currentRow)\n",
        "windowSpecCount = Window.orderBy(desc(\"nb_authors\")).rowsBetween(Window.unboundedPreceding,Window.currentRow)"
      ],
      "execution_count": null,
      "outputs": []
    },
    {
      "cell_type": "markdown",
      "metadata": {
        "application/vnd.databricks.v1+cell": {
          "title": "",
          "showTitle": false,
          "inputWidgets": {},
          "nuid": "f4fe4e90-7d17-4358-b2dc-c5710fa4778d"
        },
        "id": "0PcS3Rs_prxp"
      },
      "source": [
        "Using the window specifications, augment `votes_count` with two attributes, `votes_rank` and `nbAuths_ranks`, which rank each candidate  based on the number of votes he received  and the number of authors who tagged a post with his name. \n",
        "\n",
        "Hint. The window spans the entire data and does not use any partitioning."
      ]
    },
    {
      "cell_type": "code",
      "metadata": {
        "application/vnd.databricks.v1+cell": {
          "title": "",
          "showTitle": false,
          "inputWidgets": {},
          "nuid": "5c8a1790-8ffc-443d-b5f3-6778220d204a"
        },
        "colab": {
          "base_uri": "https://localhost:8080/"
        },
        "id": "_8L6qWl7prxp",
        "outputId": "f5759635-7ed4-4f3e-dc74-534a8f4752d2"
      },
      "source": [
        "compare = votes_count.select(\"*\",rank().over(windowSpecVotes).alias(\"votes_rank\"),rank().over(windowSpecCount).alias(\"nb_authors_rank\"))\n",
        "compare.show()"
      ],
      "execution_count": null,
      "outputs": [
        {
          "output_type": "stream",
          "name": "stdout",
          "text": [
            "+-----------+--------+----------+----------+---------------+\n",
            "|       name|   votes|nb_authors|votes_rank|nb_authors_rank|\n",
            "+-----------+--------+----------+----------+---------------+\n",
            "|      putin|56430712|     15673|         1|              1|\n",
            "|   grudinin| 8659206|      6207|         2|              2|\n",
            "|    sobchak| 1238031|      2288|         4|              3|\n",
            "|zhirinovsky| 4154985|      1214|         3|              4|\n",
            "|      titov|  556801|       572|         6|              5|\n",
            "|  yavlinsky|  769644|       347|         5|              6|\n",
            "+-----------+--------+----------+----------+---------------+\n",
            "\n"
          ]
        }
      ]
    },
    {
      "cell_type": "markdown",
      "metadata": {
        "application/vnd.databricks.v1+cell": {
          "title": "",
          "showTitle": false,
          "inputWidgets": {},
          "nuid": "d86e5ce3-4e27-42a3-95ca-b8c431a1e42d"
        },
        "id": "Tz4evj6Eprxp"
      },
      "source": [
        "### Multidimensional aggregation"
      ]
    },
    {
      "cell_type": "markdown",
      "metadata": {
        "application/vnd.databricks.v1+cell": {
          "title": "",
          "showTitle": false,
          "inputWidgets": {},
          "nuid": "b7fd0b2b-ab71-49a2-8370-f26c99275fc5"
        },
        "id": "ROc2mFViprxp"
      },
      "source": [
        "We want to create a cube with three dimensions: `tag`, `event_type` and `month`. While the first two attributes are already available, the month column must be extracted from the `creation_time` attribute using a built-in function. \n",
        "\n",
        "Create a dataset `dataTagMon` obtained by augmenting `data_with_tags` with an attribute `month` containing the month extracted from the `event.creation_time` attribute.\n",
        "\n",
        "Hint. You will notice that only months 1, 2 and 3 exist in the dataset."
      ]
    },
    {
      "cell_type": "code",
      "metadata": {
        "application/vnd.databricks.v1+cell": {
          "title": "",
          "showTitle": false,
          "inputWidgets": {},
          "nuid": "42c14658-4b38-4d4b-a224-801e28f96310"
        },
        "id": "46fAgW5Iprxp"
      },
      "source": [
        "from pyspark.sql.functions import from_unixtime\n",
        "from pyspark.sql.functions import month"
      ],
      "execution_count": null,
      "outputs": []
    },
    {
      "cell_type": "code",
      "metadata": {
        "colab": {
          "base_uri": "https://localhost:8080/"
        },
        "id": "TFgjhbRrT-Zv",
        "outputId": "c1a57509-a783-47a1-b454-601467e0995d"
      },
      "source": [
        "data_tag_mon = data_with_tags.select(\"*\",month(from_unixtime(\"event.creation_time\")).alias(\"month\"))\n",
        "\n",
        "data_tag_mon.select(\"month\").distinct().show()"
      ],
      "execution_count": null,
      "outputs": [
        {
          "output_type": "stream",
          "name": "stdout",
          "text": [
            "+-----+\n",
            "|month|\n",
            "+-----+\n",
            "|    1|\n",
            "|    3|\n",
            "|    2|\n",
            "+-----+\n",
            "\n"
          ]
        }
      ]
    },
    {
      "cell_type": "markdown",
      "metadata": {
        "application/vnd.databricks.v1+cell": {
          "title": "",
          "showTitle": false,
          "inputWidgets": {},
          "nuid": "3c7ef8bb-55c3-4377-8f79-8bb92b66ed72"
        },
        "id": "R0O0F2UOprxq"
      },
      "source": [
        "#### For each combination of event_type, tag and month, count the nomber of distinct post_ids"
      ]
    },
    {
      "cell_type": "code",
      "metadata": {
        "colab": {
          "base_uri": "https://localhost:8080/"
        },
        "id": "BprPtdYgdXMW",
        "outputId": "73463557-1208-4bca-af72-0ec87a4e0640"
      },
      "source": [
        "tag_event_month = data_tag_mon.groupBy(\"event.event_type\",\"tag\",\"month\").agg(countDistinct(\"event.event_id.post_id\").alias(\"count_dist_postids\"))\n",
        "tag_event_month.orderBy(desc(\"count_dist_postids\")).show()"
      ],
      "execution_count": null,
      "outputs": [
        {
          "output_type": "stream",
          "name": "stdout",
          "text": [
            "+----------+--------+-----+------------------+\n",
            "|event_type|     tag|month|count_dist_postids|\n",
            "+----------+--------+-----+------------------+\n",
            "|   comment|   putin|    2|              4191|\n",
            "|   comment|   putin|    3|              3543|\n",
            "|      post|   putin|    2|              2963|\n",
            "|      post|   putin|    3|              2954|\n",
            "|   comment|grudinin|    2|              2012|\n",
            "|   comment|grudinin|    3|              1484|\n",
            "|      post|grudinin|    2|              1409|\n",
            "|   comment|   putin|    1|              1390|\n",
            "|      post|grudinin|    3|              1206|\n",
            "|      post|   putin|    1|              1104|\n",
            "|   comment| navalny|    2|               780|\n",
            "|   comment| sobchak|    3|               538|\n",
            "|      post| sobchak|    2|               503|\n",
            "|   comment| navalny|    1|               474|\n",
            "|      post| navalny|    2|               461|\n",
            "|   comment|grudinin|    1|               442|\n",
            "|   comment| sobchak|    2|               436|\n",
            "|      post| sobchak|    3|               425|\n",
            "|   comment| navalny|    3|               415|\n",
            "|      post|grudinin|    1|               372|\n",
            "+----------+--------+-----+------------------+\n",
            "only showing top 20 rows\n",
            "\n"
          ]
        }
      ]
    },
    {
      "cell_type": "markdown",
      "metadata": {
        "application/vnd.databricks.v1+cell": {
          "title": "",
          "showTitle": false,
          "inputWidgets": {},
          "nuid": "4a94979c-083c-4125-97bc-354eb779d510"
        },
        "id": "AoYXQ5Szprxq"
      },
      "source": [
        "### Pivot table"
      ]
    },
    {
      "cell_type": "markdown",
      "metadata": {
        "application/vnd.databricks.v1+cell": {
          "title": "",
          "showTitle": false,
          "inputWidgets": {},
          "nuid": "4ec557a8-081b-4875-b790-71c6aebc89d7"
        },
        "id": "ZMFl9INuprxq"
      },
      "source": [
        "#### Using the `tag_event_month` table, create a pivot table by reducing the dimensions to month and event type."
      ]
    },
    {
      "cell_type": "code",
      "metadata": {
        "colab": {
          "base_uri": "https://localhost:8080/"
        },
        "id": "UMufJtindmVz",
        "outputId": "f375f422-74b5-4802-cfda-c25a873f8673"
      },
      "source": [
        "month_event_type = tag_event_month.groupBy(\"month\").pivot(\"event_type\").sum(\"count_dist_postids\")\n",
        "month_event_type.printSchema()\n",
        "month_event_type.show()"
      ],
      "execution_count": null,
      "outputs": [
        {
          "output_type": "stream",
          "name": "stdout",
          "text": [
            "root\n",
            " |-- month: integer (nullable = true)\n",
            " |-- comment: long (nullable = true)\n",
            " |-- post: long (nullable = true)\n",
            " |-- share: long (nullable = true)\n",
            "\n",
            "+-----+-------+----+-----+\n",
            "|month|comment|post|share|\n",
            "+-----+-------+----+-----+\n",
            "|    3|   6424|5328|  207|\n",
            "|    1|   2564|1986|  100|\n",
            "|    2|   7873|5863|  372|\n",
            "+-----+-------+----+-----+\n",
            "\n"
          ]
        }
      ]
    },
    {
      "cell_type": "markdown",
      "metadata": {
        "application/vnd.databricks.v1+cell": {
          "title": "",
          "showTitle": false,
          "inputWidgets": {},
          "nuid": "1f243674-9805-42b6-a042-a3bf81d8ba48"
        },
        "id": "yTF9tW-Uprxr"
      },
      "source": [
        "###  Tag co-occurrence matrix"
      ]
    },
    {
      "cell_type": "markdown",
      "metadata": {
        "application/vnd.databricks.v1+cell": {
          "title": "",
          "showTitle": false,
          "inputWidgets": {},
          "nuid": "5736e929-621d-47ea-aa09-c7a627efccf8"
        },
        "id": "Lpre-U_5prxr"
      },
      "source": [
        "#### create a dataframe indicating for each pair of distinct tags the author that uses both of them."
      ]
    },
    {
      "cell_type": "code",
      "metadata": {
        "colab": {
          "base_uri": "https://localhost:8080/"
        },
        "id": "QIF16EjkhcYP",
        "outputId": "9e047477-7bf7-4109-d800-91c8f6d89d9f"
      },
      "source": [
        "auth_tag = data_with_tags.select(col(\"event.author.id\").alias(\"id1\"),col(\"tag\"))\\\n",
        ".crossJoin(data_with_tags.select(col(\"event.author.id\").alias(\"id2\"),col(\"tag\").alias(\"otherTag\")))\\\n",
        ".filter((col(\"id1\") == col(\"id2\")) & (col(\"tag\") != col(\"otherTag\")))\\\n",
        ".select(col(\"id1\").alias(\"authorID\"),\"tag\",\"otherTag\")\n",
        "auth_tag.show()"
      ],
      "execution_count": null,
      "outputs": [
        {
          "output_type": "stream",
          "name": "stdout",
          "text": [
            "+----------+-----------+-----------+\n",
            "|  authorID|        tag|   otherTag|\n",
            "+----------+-----------+-----------+\n",
            "|-163732739|    navalny|      putin|\n",
            "|-163732739|    navalny|    sobchak|\n",
            "|-163732739|      putin|    navalny|\n",
            "|-163732739|      putin|    sobchak|\n",
            "|-163732739|    sobchak|    navalny|\n",
            "|-163732739|    sobchak|      putin|\n",
            "|-163685747|   grudinin|      putin|\n",
            "|-163685747|   grudinin|    sobchak|\n",
            "|-163685747|      putin|   grudinin|\n",
            "|-163685747|      putin|    sobchak|\n",
            "|-163685747|    sobchak|   grudinin|\n",
            "|-163685747|    sobchak|      putin|\n",
            "|-163455107|    navalny|      putin|\n",
            "|-163455107|      putin|    navalny|\n",
            "|-163409699|  yavlinsky|zhirinovsky|\n",
            "|-163409699|zhirinovsky|  yavlinsky|\n",
            "|-163370734|      putin|    sobchak|\n",
            "|-163370734|    sobchak|      putin|\n",
            "|-163322498|   grudinin|      putin|\n",
            "|-163322498|   grudinin|    sobchak|\n",
            "+----------+-----------+-----------+\n",
            "only showing top 20 rows\n",
            "\n"
          ]
        }
      ]
    },
    {
      "cell_type": "markdown",
      "metadata": {
        "application/vnd.databricks.v1+cell": {
          "title": "",
          "showTitle": false,
          "inputWidgets": {},
          "nuid": "f19b8b38-060d-4530-9852-2dbc79190a76"
        },
        "id": "N3qnJ3nhprxr"
      },
      "source": [
        "#### Build the tag co-occurence matrix indicating for each pair of tags the number of authors that use them"
      ]
    },
    {
      "cell_type": "code",
      "metadata": {
        "colab": {
          "base_uri": "https://localhost:8080/"
        },
        "id": "XAqqembsoSft",
        "outputId": "f237b34f-0542-45b1-bbf2-f6699f3f9f8d"
      },
      "source": [
        "co_occur_mat = auth_tag.groupBy(\"tag\").pivot(\"otherTag\").agg(count(\"tag\"))\n",
        "co_occur_mat.show()"
      ],
      "execution_count": null,
      "outputs": [
        {
          "output_type": "stream",
          "name": "stdout",
          "text": [
            "+-----------+--------+-------+-----+-------+-----+---------+-----------+\n",
            "|        tag|grudinin|navalny|putin|sobchak|titov|yavlinsky|zhirinovsky|\n",
            "+-----------+--------+-------+-----+-------+-----+---------+-----------+\n",
            "|      titov|     140|     21|  246|    111| null|       94|         90|\n",
            "|zhirinovsky|     714|     90|  901|    439|   90|      145|       null|\n",
            "|    navalny|    1113|   null| 1806|    300|   21|       60|         90|\n",
            "|    sobchak|     722|    300| 1299|   null|  111|      199|        439|\n",
            "|  yavlinsky|     210|     60|  355|    199|   94|     null|        145|\n",
            "|      putin|    7267|   1806| null|   1299|  246|      355|        901|\n",
            "|   grudinin|    null|   1113| 7267|    722|  140|      210|        714|\n",
            "+-----------+--------+-------+-----+-------+-----+---------+-----------+\n",
            "\n"
          ]
        }
      ]
    },
    {
      "cell_type": "markdown",
      "metadata": {
        "application/vnd.databricks.v1+cell": {
          "title": "",
          "showTitle": false,
          "inputWidgets": {},
          "nuid": "6a57e4d1-fc45-4fe9-88e5-0a9b441396e7"
        },
        "id": "E5R5AHi-prxt"
      },
      "source": [
        "## END"
      ]
    }
  ]
}