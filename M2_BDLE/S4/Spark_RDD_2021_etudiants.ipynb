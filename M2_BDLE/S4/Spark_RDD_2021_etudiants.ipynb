{
  "nbformat": 4,
  "nbformat_minor": 0,
  "metadata": {
    "application/vnd.databricks.v1+notebook": {
      "notebookName": "Spark-RDD-2021_solutions",
      "dashboards": [],
      "notebookMetadata": {
        "pythonIndentUnit": 2
      },
      "language": "python",
      "widgets": {},
      "notebookOrigID": 2832703719774903
    },
    "colab": {
      "name": "Spark-RDD-2021-etudiants.ipynb",
      "provenance": [],
      "collapsed_sections": [
        "R5ZJa3iU_2bh"
      ],
      "toc_visible": true
    },
    "language_info": {
      "name": "python"
    },
    "kernelspec": {
      "name": "python3",
      "display_name": "Python 3"
    }
  },
  "cells": [
    {
      "cell_type": "markdown",
      "metadata": {
        "application/vnd.databricks.v1+cell": {
          "title": "",
          "showTitle": false,
          "inputWidgets": {},
          "nuid": "59ad38d8-fb28-470f-a038-842f83d07a09"
        },
        "id": "kCaImCHx_2a_"
      },
      "source": [
        "* Master DAC, BDLE, 2021 \n",
        "* Author: Mohamed-Amine Baazizi\n",
        "* Affiliation: LIP6 - Faculté des Sciences - Sorbonne Université\n",
        "* Email: mohamed-amine.baazizi@lip6.fr\n",
        "\n",
        "# Map-Reduce in Spark"
      ]
    },
    {
      "cell_type": "markdown",
      "metadata": {
        "application/vnd.databricks.v1+cell": {
          "title": "",
          "showTitle": false,
          "inputWidgets": {},
          "nuid": "9fba542c-e80b-4537-97be-d3af3cac7e19"
        },
        "id": "ee9AXss0_2bB"
      },
      "source": [
        "The goal of this lab is to write programs in the Map-Reduce paradigm using the RDD-python API of Spark. \n",
        "The API for documentation is available here:\n",
        "\n",
        "- https://spark.apache.org/docs/latest/api/python/reference/pyspark.html\n",
        "\n",
        "\n",
        "You are expected to use the following higher order functions like `map, flatMap, filter, reduceByKey, groupByKey, join, zipWithIndex` and the standard relational operators `union, intersection, subtract, join` and to favor functional-style programming."
      ]
    },
    {
      "cell_type": "code",
      "metadata": {
        "id": "kPlI6WHxAMHj"
      },
      "source": [
        ""
      ],
      "execution_count": null,
      "outputs": []
    },
    {
      "cell_type": "markdown",
      "metadata": {
        "application/vnd.databricks.v1+cell": {
          "title": "",
          "showTitle": false,
          "inputWidgets": {},
          "nuid": "b15737ae-19bd-4b9f-b9f3-52388cc5e50e"
        },
        "id": "levNDESpS1hT"
      },
      "source": [
        "## Préparation"
      ]
    },
    {
      "cell_type": "markdown",
      "metadata": {
        "application/vnd.databricks.v1+cell": {
          "title": "",
          "showTitle": false,
          "inputWidgets": {},
          "nuid": "b6afe82e-35d6-4358-9b79-8f56074e0908"
        },
        "id": "4pZBsez9S1hT"
      },
      "source": [
        "Vérifier que des ressources de calcul sont allouées à votre notebook est connecté (cf RAM  de disque indiqués en haut à droite) . Sinon cliquer sur le bouton connecter pour obtenir des ressources.\n",
        "\n",
        "\n"
      ]
    },
    {
      "cell_type": "markdown",
      "metadata": {
        "id": "CEjerqQ6Ink6"
      },
      "source": [
        "Pour accéder directement aux fichiers stockées sur votre google drive. Renseigner le code d'authentification lorsqu'il est demandé\n",
        "\n",
        "Ajuster le nom de votre dossier : MyDrive/ens/bdle/DM1"
      ]
    },
    {
      "cell_type": "code",
      "metadata": {
        "id": "g7Dv93rsImuM",
        "colab": {
          "base_uri": "https://localhost:8080/"
        },
        "outputId": "0348cacf-a8df-435e-f461-57c9c43d7419"
      },
      "source": [
        "import os\n",
        "from google.colab import drive\n",
        "drive.mount(\"/content/drive\", force_remount=True)\n",
        "\n",
        "drive_dir = \"/content/drive/MyDrive/ens/bdle/SparkMR\"\n",
        "os.makedirs(drive_dir, exist_ok=True)\n",
        "os.listdir(drive_dir)"
      ],
      "execution_count": null,
      "outputs": [
        {
          "output_type": "stream",
          "name": "stdout",
          "text": [
            "Mounted at /content/drive\n"
          ]
        },
        {
          "output_type": "execute_result",
          "data": {
            "text/plain": [
              "['smallwordcount.txt']"
            ]
          },
          "metadata": {},
          "execution_count": 1
        }
      ]
    },
    {
      "cell_type": "markdown",
      "metadata": {
        "id": "7v9EXMl8aPZC"
      },
      "source": [
        "Installer pyspark et findspark :\n"
      ]
    },
    {
      "cell_type": "code",
      "metadata": {
        "id": "3zlwNHy1S8C2",
        "colab": {
          "base_uri": "https://localhost:8080/"
        },
        "outputId": "d807f913-a963-400c-98e1-cc84705d9e79"
      },
      "source": [
        "!pip install -q pyspark\n",
        "!pip install -q findspark"
      ],
      "execution_count": null,
      "outputs": [
        {
          "output_type": "stream",
          "name": "stdout",
          "text": [
            "\u001b[K     |████████████████████████████████| 212.4 MB 62 kB/s \n",
            "\u001b[K     |████████████████████████████████| 198 kB 32.3 MB/s \n",
            "\u001b[?25h  Building wheel for pyspark (setup.py) ... \u001b[?25l\u001b[?25hdone\n"
          ]
        }
      ]
    },
    {
      "cell_type": "markdown",
      "metadata": {
        "id": "PnEmOd_zOUo0"
      },
      "source": [
        "Démarrer la session spark"
      ]
    },
    {
      "cell_type": "code",
      "metadata": {
        "id": "W0ADH0J-VW7i"
      },
      "source": [
        "import os\n",
        "# !find /usr/local -name \"pyspark\"\n",
        "os.environ[\"SPARK_HOME\"] = \"/usr/local/lib/python3.7/dist-packages/pyspark\"\n",
        "os.environ[\"JAVA_HOME\"] = \"/usr\""
      ],
      "execution_count": null,
      "outputs": []
    },
    {
      "cell_type": "code",
      "metadata": {
        "id": "Q_WxQZB7TaUC",
        "colab": {
          "base_uri": "https://localhost:8080/"
        },
        "outputId": "c12be8b0-4c0b-4927-83ad-5ceaab4bc707"
      },
      "source": [
        "# Principaux import\n",
        "import findspark\n",
        "from pyspark.sql import SparkSession \n",
        "from pyspark import SparkConf  \n",
        "\n",
        "# pour les dataframe et udf\n",
        "from pyspark.sql import *  \n",
        "from pyspark.sql.functions import *\n",
        "from pyspark.sql.types import *\n",
        "from datetime import *\n",
        "\n",
        "# pour le chronomètre\n",
        "import time\n",
        "\n",
        "# initialise les variables d'environnement pour spark\n",
        "findspark.init()\n",
        "\n",
        "# Démarrage session spark \n",
        "# --------------------------\n",
        "def demarrer_spark():\n",
        "  local = \"local[*]\"\n",
        "  appName = \"TP\"\n",
        "  configLocale = SparkConf().setAppName(appName).setMaster(local).\\\n",
        "  set(\"spark.executor.memory\", \"6G\").\\\n",
        "  set(\"spark.driver.memory\",\"6G\").\\\n",
        "  set(\"spark.sql.catalogImplementation\",\"in-memory\")\n",
        "  \n",
        "  spark = SparkSession.builder.config(conf = configLocale).getOrCreate()\n",
        "  sc = spark.sparkContext\n",
        "  sc.setLogLevel(\"ERROR\")\n",
        "  \n",
        "  spark.conf.set(\"spark.sql.autoBroadcastJoinThreshold\",\"-1\")\n",
        "\n",
        "  # On ajuste l'environnement d'exécution des requêtes à la taille du cluster (4 coeurs)\n",
        "  spark.conf.set(\"spark.sql.shuffle.partitions\",\"4\")    \n",
        "  print(\"session démarrée, son id est \", sc.applicationId)\n",
        "  return spark\n",
        "spark = demarrer_spark()"
      ],
      "execution_count": null,
      "outputs": [
        {
          "output_type": "stream",
          "name": "stdout",
          "text": [
            "session démarrée, son id est  local-1634225923835\n"
          ]
        }
      ]
    },
    {
      "cell_type": "code",
      "metadata": {
        "application/vnd.databricks.v1+cell": {
          "title": "",
          "showTitle": false,
          "inputWidgets": {},
          "nuid": "852847c4-bd45-4f9c-ae8b-2c704f389cf9"
        },
        "id": "fj9pUgrmGpLe",
        "colab": {
          "base_uri": "https://localhost:8080/"
        },
        "outputId": "ecfe82dc-dce5-4c9a-d18c-da5473703550"
      },
      "source": [
        "# on utilise 8 partitions au lieu de 200 par défaut\n",
        "spark.conf.set(\"spark.sql.shuffle.partitions\", \"8\")\n",
        "print(\"Nombre de partitions utilisées : \", spark.conf.get(\"spark.sql.shuffle.partitions\"))"
      ],
      "execution_count": null,
      "outputs": [
        {
          "output_type": "stream",
          "name": "stdout",
          "text": [
            "Nombre de partitions utilisées :  8\n"
          ]
        }
      ]
    },
    {
      "cell_type": "markdown",
      "metadata": {
        "application/vnd.databricks.v1+cell": {
          "title": "",
          "showTitle": false,
          "inputWidgets": {},
          "nuid": "41dd8b8e-d697-4efb-a1d2-cd34a08b3e7e"
        },
        "id": "NtjUaom1_2bC"
      },
      "source": [
        "## Data loading"
      ]
    },
    {
      "cell_type": "code",
      "metadata": {
        "colab": {
          "base_uri": "https://localhost:8080/"
        },
        "id": "NnpzRKcuA9Yi",
        "outputId": "2597383e-e577-4da3-b6cd-70cf3027ee3d"
      },
      "source": [
        "# URL du dossier PUBLIC_DATASET contenant des fichiers de données pour les TP\n",
        "# ---------------------------------------------------------------------------\n",
        "# en cas de problème avec le téléchargement des datasets, aller directement sur l'URL ci-dessous\n",
        "PUBLIC_DATASET_URL = \"https://nuage.lip6.fr/s/H3bpyRGgnCq2NR4\" \n",
        "PUBLIC_DATASET=PUBLIC_DATASET_URL + \"/download?path=\"\n",
        "\n",
        "print(\"URL pour les datasets \", PUBLIC_DATASET_URL)"
      ],
      "execution_count": null,
      "outputs": [
        {
          "output_type": "stream",
          "name": "stdout",
          "text": [
            "URL pour les datasets  https://nuage.lip6.fr/s/H3bpyRGgnCq2NR4\n"
          ]
        }
      ]
    },
    {
      "cell_type": "code",
      "metadata": {
        "colab": {
          "base_uri": "https://localhost:8080/"
        },
        "id": "PecIszauBHx7",
        "outputId": "bef64cc2-0ff4-42c7-9a4e-0a65fade18a8"
      },
      "source": [
        "import os\n",
        "from urllib import request\n",
        "\n",
        "def load_file(file):\n",
        "  if(os.path.isfile(file)):\n",
        "    print(file, \"is already stored\")\n",
        "  else:\n",
        "    url = PUBLIC_DATASET + \"/wordcount/\" + file\n",
        "    print(\"downloading from URL: \", url, \"save in : \" + drive_dir   + \"/\" + file)\n",
        "    request.urlretrieve(url , drive_dir + \"/\"  + file)\n",
        "\n",
        "load_file(\"smallwordcount.txt\")\n",
        "\n",
        "# Liste des fichiers de IMDB\n",
        "os.listdir(drive_dir)"
      ],
      "execution_count": null,
      "outputs": [
        {
          "output_type": "stream",
          "name": "stdout",
          "text": [
            "downloading from URL:  https://nuage.lip6.fr/s/H3bpyRGgnCq2NR4/download?path=/wordcount/smallwordcount.txt save in : /content/drive/MyDrive/ens/bdle/SparkMR/smallwordcount.txt\n"
          ]
        },
        {
          "output_type": "execute_result",
          "data": {
            "text/plain": [
              "['smallwordcount.txt']"
            ]
          },
          "metadata": {},
          "execution_count": 36
        }
      ]
    },
    {
      "cell_type": "code",
      "metadata": {
        "application/vnd.databricks.v1+cell": {
          "title": "",
          "showTitle": false,
          "inputWidgets": {},
          "nuid": "b0ac5ec5-aaf5-49b5-93f3-e7e683614060"
        },
        "id": "6jFz_v1f_2bC"
      },
      "source": [
        "#size of displayed elements\n",
        "n=10"
      ],
      "execution_count": null,
      "outputs": []
    },
    {
      "cell_type": "markdown",
      "metadata": {
        "application/vnd.databricks.v1+cell": {
          "title": "",
          "showTitle": false,
          "inputWidgets": {},
          "nuid": "da441951-c647-4f43-a39f-a4f3d5d78834"
        },
        "id": "sJxVYsj4_2bE"
      },
      "source": [
        "## Simplified TF*IDF"
      ]
    },
    {
      "cell_type": "markdown",
      "metadata": {
        "application/vnd.databricks.v1+cell": {
          "title": "",
          "showTitle": false,
          "inputWidgets": {},
          "nuid": "7b55b445-bb8c-4476-a113-b7c123d6dbf9"
        },
        "id": "hlMsPzZe_2bF"
      },
      "source": [
        "Write instructions to compute the simplified version of TF*IDF for a synthetic corpus of words.\n",
        "The input data is an RDD of pairs $$(d_i, [w_j])$$\n",
        "where $$d_i \\text{ is a document identifier and } [w_i] \\text{ a list of words associated to } d_i \\text{ with possible repetition }$$\n",
        "\n",
        "You are expected to produce an RDD of triples $$(d_l, w_m,  tf \\times idf)$$ \n",
        "where $$tf \\text{ is the number of occurrence of } w_m \\text{ in } d_l$$\n",
        "and $$ idf \\text{ is the inverse of the number of documents where } w_m \\text{ appears }  $$"
      ]
    },
    {
      "cell_type": "code",
      "metadata": {
        "id": "LmvyUaX4BqvK"
      },
      "source": [
        ""
      ],
      "execution_count": null,
      "outputs": []
    },
    {
      "cell_type": "code",
      "metadata": {
        "application/vnd.databricks.v1+cell": {
          "title": "",
          "showTitle": false,
          "inputWidgets": {},
          "nuid": "fdd28cf0-01ca-4d1e-86fe-331d4d31bb88"
        },
        "colab": {
          "base_uri": "https://localhost:8080/"
        },
        "id": "VozqQ8fQ_2bF",
        "outputId": "a781f868-dffc-4ae2-fb8f-f15aa789279f"
      },
      "source": [
        "dataset = ['d1,one fish two fish','d2,red fish blue', 'd3,one red bird']\n",
        "data = spark.sparkContext.parallelize(dataset)\n",
        "lines = data.filter(lambda x: x!='')\\\n",
        ".map(lambda x : x.split(\",\")).map(lambda x:(x[0],x[1].split(\" \")))\n",
        "lines.take(n)"
      ],
      "execution_count": null,
      "outputs": [
        {
          "output_type": "execute_result",
          "data": {
            "text/plain": [
              "[('d1', ['one', 'fish', 'two', 'fish']),\n",
              " ('d2', ['red', 'fish', 'blue']),\n",
              " ('d3', ['one', 'red', 'bird'])]"
            ]
          },
          "metadata": {},
          "execution_count": 23
        }
      ]
    },
    {
      "cell_type": "code",
      "metadata": {
        "colab": {
          "base_uri": "https://localhost:8080/"
        },
        "id": "GhTlzQBUlpCf",
        "outputId": "49e63a8a-519c-4c94-f354-73c23ca0c7b1"
      },
      "source": [
        "count = data.count()\n",
        "count"
      ],
      "execution_count": null,
      "outputs": [
        {
          "output_type": "execute_result",
          "data": {
            "text/plain": [
              "3"
            ]
          },
          "metadata": {},
          "execution_count": 38
        }
      ]
    },
    {
      "cell_type": "markdown",
      "metadata": {
        "application/vnd.databricks.v1+cell": {
          "title": "",
          "showTitle": false,
          "inputWidgets": {},
          "nuid": "b564aa25-2c55-42de-b8d9-7b891124ccb2"
        },
        "id": "a6I4jiUe_2bG"
      },
      "source": [
        "complete the stub of `combine` which is python function that combines each word in `list` with `word` given as argument"
      ]
    },
    {
      "cell_type": "code",
      "metadata": {
        "application/vnd.databricks.v1+cell": {
          "title": "",
          "showTitle": false,
          "inputWidgets": {},
          "nuid": "beedc2cf-dcfc-42aa-97cc-8df92de5dc18"
        },
        "id": "AihTGDo0_2bH"
      },
      "source": [
        "def combine(list, word):\n",
        "  #...\n",
        "  return res"
      ],
      "execution_count": null,
      "outputs": []
    },
    {
      "cell_type": "code",
      "metadata": {
        "application/vnd.databricks.v1+cell": {
          "title": "",
          "showTitle": false,
          "inputWidgets": {},
          "nuid": "647ae7f1-ae6e-4b1a-862d-2794304d3afa"
        },
        "colab": {
          "base_uri": "https://localhost:8080/"
        },
        "id": "duRmK0yS_2bH",
        "outputId": "69ed2900-7134-4339-d777-a6956ec45f4d"
      },
      "source": [
        "list = ['d3', 'one', 'red', 'bird']\n",
        "word = 'd1'\n",
        "combine(list,word)"
      ],
      "execution_count": null,
      "outputs": [
        {
          "output_type": "execute_result",
          "data": {
            "text/plain": [
              "[('d1', 'd3'), ('d1', 'one'), ('d1', 'red'), ('d1', 'bird')]"
            ]
          },
          "metadata": {},
          "execution_count": 25
        }
      ]
    },
    {
      "cell_type": "markdown",
      "metadata": {
        "application/vnd.databricks.v1+cell": {
          "title": "",
          "showTitle": false,
          "inputWidgets": {},
          "nuid": "8b2fe5bc-751b-49c8-87c5-47e99e0674b3"
        },
        "id": "1FaUj-Hc_2bI"
      },
      "source": [
        "starting from `lines` produce and RDD of all pairs $$(d_i, w_j)$$"
      ]
    },
    {
      "cell_type": "code",
      "metadata": {
        "application/vnd.databricks.v1+cell": {
          "title": "",
          "showTitle": false,
          "inputWidgets": {},
          "nuid": "69760fca-df32-4847-a5f0-15a67370c275"
        },
        "colab": {
          "base_uri": "https://localhost:8080/"
        },
        "id": "rVn7-skp_2bJ",
        "outputId": "0b433216-5759-41e7-ee41-fc9bc9b60e7b"
      },
      "source": [
        "word_doc = lines.#...\n",
        "word_doc.take(n)"
      ],
      "execution_count": null,
      "outputs": [
        {
          "output_type": "execute_result",
          "data": {
            "text/plain": [
              "[('d1', 'one'),\n",
              " ('d1', 'fish'),\n",
              " ('d1', 'two'),\n",
              " ('d1', 'fish'),\n",
              " ('d2', 'red'),\n",
              " ('d2', 'fish'),\n",
              " ('d2', 'blue'),\n",
              " ('d3', 'one'),\n",
              " ('d3', 'red'),\n",
              " ('d3', 'bird')]"
            ]
          },
          "metadata": {},
          "execution_count": 26
        }
      ]
    },
    {
      "cell_type": "code",
      "metadata": {
        "application/vnd.databricks.v1+cell": {
          "title": "",
          "showTitle": false,
          "inputWidgets": {},
          "nuid": "233897e1-0c96-4ab4-9a82-6e7e8841466b"
        },
        "id": "wILBLbgB_2bK"
      },
      "source": [
        "def add(a,b):\n",
        "  return a+b"
      ],
      "execution_count": null,
      "outputs": []
    },
    {
      "cell_type": "markdown",
      "metadata": {
        "application/vnd.databricks.v1+cell": {
          "title": "",
          "showTitle": false,
          "inputWidgets": {},
          "nuid": "747d26f2-3587-40da-8a68-5ab4b9b6c8dc"
        },
        "id": "LnxzATVg_2bK"
      },
      "source": [
        "For each pair (document,word), count its frequency"
      ]
    },
    {
      "cell_type": "code",
      "metadata": {
        "application/vnd.databricks.v1+cell": {
          "title": "",
          "showTitle": false,
          "inputWidgets": {},
          "nuid": "94ddd20a-56e4-4766-a65e-89cc74a41d96"
        },
        "colab": {
          "base_uri": "https://localhost:8080/"
        },
        "id": "J1-pKl1H_2bK",
        "outputId": "4aab6b86-75f9-4929-dc4a-536d38261b9a"
      },
      "source": [
        "freq_word = word_doc.#...\n",
        "freq_word.take(n)"
      ],
      "execution_count": null,
      "outputs": [
        {
          "output_type": "execute_result",
          "data": {
            "text/plain": [
              "[(('one', 'd1'), 1),\n",
              " (('fish', 'd2'), 1),\n",
              " (('one', 'd3'), 1),\n",
              " (('red', 'd3'), 1),\n",
              " (('fish', 'd1'), 2),\n",
              " (('two', 'd1'), 1),\n",
              " (('red', 'd2'), 1),\n",
              " (('blue', 'd2'), 1),\n",
              " (('bird', 'd3'), 1)]"
            ]
          },
          "metadata": {},
          "execution_count": 28
        }
      ]
    },
    {
      "cell_type": "markdown",
      "metadata": {
        "id": "SNqc70jpjSig"
      },
      "source": [
        "for each word, produce a pair (d,freq) "
      ]
    },
    {
      "cell_type": "code",
      "metadata": {
        "colab": {
          "base_uri": "https://localhost:8080/"
        },
        "id": "MMlY-JFZkloL",
        "outputId": "e5ae30c2-34e1-46e0-cd0f-254e67d9335c"
      },
      "source": [
        "freq_word_bis = freq_word.#...\n",
        "freq_word_bis.take(n)"
      ],
      "execution_count": null,
      "outputs": [
        {
          "output_type": "execute_result",
          "data": {
            "text/plain": [
              "[('one', ('d1', 1)),\n",
              " ('fish', ('d2', 1)),\n",
              " ('one', ('d3', 1)),\n",
              " ('red', ('d3', 1)),\n",
              " ('fish', ('d1', 2)),\n",
              " ('two', ('d1', 1)),\n",
              " ('red', ('d2', 1)),\n",
              " ('blue', ('d2', 1)),\n",
              " ('bird', ('d3', 1))]"
            ]
          },
          "metadata": {},
          "execution_count": 33
        }
      ]
    },
    {
      "cell_type": "markdown",
      "metadata": {
        "id": "kR-GrBQrqMlx"
      },
      "source": [
        "for each word, compute its document frequency, i.e # of documents in which it appears"
      ]
    },
    {
      "cell_type": "code",
      "metadata": {
        "colab": {
          "base_uri": "https://localhost:8080/"
        },
        "id": "TBXOJRVGjQo5",
        "outputId": "8b05316c-3b85-4914-b933-828fbf002e85"
      },
      "source": [
        "doc_freq = freq_word_bis.#...\n",
        "doc_freq.take(n)"
      ],
      "execution_count": null,
      "outputs": [
        {
          "output_type": "execute_result",
          "data": {
            "text/plain": [
              "[('fish', 1.5),\n",
              " ('two', 3.0),\n",
              " ('bird', 3.0),\n",
              " ('one', 1.5),\n",
              " ('red', 1.5),\n",
              " ('blue', 3.0)]"
            ]
          },
          "metadata": {},
          "execution_count": 39
        }
      ]
    },
    {
      "cell_type": "markdown",
      "metadata": {
        "application/vnd.databricks.v1+cell": {
          "title": "",
          "showTitle": false,
          "inputWidgets": {},
          "nuid": "a438cbe9-9d8e-4548-812f-94dc4e80b7c7"
        },
        "id": "K6gugWm3_2bM"
      },
      "source": [
        "for each word, compute its simplified score"
      ]
    },
    {
      "cell_type": "code",
      "metadata": {
        "colab": {
          "base_uri": "https://localhost:8080/"
        },
        "id": "4bUg0AUOkZxq",
        "outputId": "03470fa7-01cc-4e3d-b0ef-b1b02671084f"
      },
      "source": [
        "final = freq_word_bis.#...\n",
        "final.take(n)"
      ],
      "execution_count": null,
      "outputs": [
        {
          "output_type": "execute_result",
          "data": {
            "text/plain": [
              "[('two', 'd1', 3.0),\n",
              " ('bird', 'd3', 3.0),\n",
              " ('red', 'd3', 1.5),\n",
              " ('red', 'd2', 1.5),\n",
              " ('blue', 'd2', 3.0),\n",
              " ('fish', 'd2', 1.5),\n",
              " ('fish', 'd1', 0.75),\n",
              " ('one', 'd1', 1.5),\n",
              " ('one', 'd3', 1.5)]"
            ]
          },
          "metadata": {},
          "execution_count": 40
        }
      ]
    },
    {
      "cell_type": "markdown",
      "metadata": {
        "application/vnd.databricks.v1+cell": {
          "title": "",
          "showTitle": false,
          "inputWidgets": {},
          "nuid": "f5bb2c2d-375d-46a5-a65d-bc4666fbc6f2"
        },
        "id": "3A1Ky2-7_2bN"
      },
      "source": [
        "## Text analytics"
      ]
    },
    {
      "cell_type": "markdown",
      "metadata": {
        "application/vnd.databricks.v1+cell": {
          "title": "",
          "showTitle": false,
          "inputWidgets": {},
          "nuid": "ab5bbde1-7466-4c89-b95f-78feed13a0ca"
        },
        "id": "y2eBlT4G_2bN"
      },
      "source": [
        "The goal is to compute the SPMI (simplified pointwise mutual information) metric for words in a corpus.\n",
        "Given two words, a and b, \n",
        "\n",
        "$$SPMI(a, b) =  P(ab) / (P(a) * P(b)$$\n",
        "where $$P(ab) \\text{ is the probability of two words coming one after the other, and } P(a), P(b) \\text{ the probabilities of the words a and b, respectively} $$"
      ]
    },
    {
      "cell_type": "code",
      "metadata": {
        "application/vnd.databricks.v1+cell": {
          "title": "",
          "showTitle": false,
          "inputWidgets": {},
          "nuid": "c5ee7820-75bd-4928-b2c5-c073bc08b099"
        },
        "id": "pg41kQfy_2bN"
      },
      "source": [
        "def removespecialchars (word) :\n",
        "    charstoremove = ['[',']','*','#','.','_',':','?','!',',',';','“','”','\\n'] \n",
        "    for ch in word:\n",
        "        if ch in charstoremove:\n",
        "            word = word.replace(ch,'')\n",
        "    return word"
      ],
      "execution_count": null,
      "outputs": []
    },
    {
      "cell_type": "markdown",
      "metadata": {
        "application/vnd.databricks.v1+cell": {
          "title": "",
          "showTitle": false,
          "inputWidgets": {},
          "nuid": "094f58d0-6bd5-4358-b813-44e9cad9f8b0"
        },
        "id": "PjrIcZop_2bO"
      },
      "source": [
        "Read file in utf-8 using use_unicode=False"
      ]
    },
    {
      "cell_type": "code",
      "metadata": {
        "application/vnd.databricks.v1+cell": {
          "title": "",
          "showTitle": false,
          "inputWidgets": {},
          "nuid": "fdcc1213-f1d5-4627-ab35-10a9a70b20b4"
        },
        "id": "z_UnSpCf_2bO"
      },
      "source": [
        "dataset =''"
      ],
      "execution_count": null,
      "outputs": []
    },
    {
      "cell_type": "code",
      "metadata": {
        "application/vnd.databricks.v1+cell": {
          "title": "",
          "showTitle": false,
          "inputWidgets": {},
          "nuid": "32835aca-879b-44c4-a711-80394bafc061"
        },
        "colab": {
          "base_uri": "https://localhost:8080/"
        },
        "id": "SFfXLzxX_2bP",
        "outputId": "7d270982-3bc1-4759-aa72-19ab6114d091"
      },
      "source": [
        "data = spark.sparkContext.textFile(drive_dir+\"/smallwordcount.txt\", use_unicode=\"False\")\n",
        "print(\"before filtering there are %d lines\" % data.count())\n",
        "# data.take(n)\n",
        "lines = data.filter(lambda x: x!='')\\\n",
        ".map(lambda x:removespecialchars(x))\\\n",
        ".map(lambda x : x.split(\" \"))\n",
        "print(\"after filtering there are %d lines\" % lines.count())\n"
      ],
      "execution_count": null,
      "outputs": [
        {
          "output_type": "stream",
          "name": "stdout",
          "text": [
            "before filtering there are 14594 lines\n",
            "after filtering there are 12153 lines\n"
          ]
        }
      ]
    },
    {
      "cell_type": "markdown",
      "metadata": {
        "application/vnd.databricks.v1+cell": {
          "title": "",
          "showTitle": false,
          "inputWidgets": {},
          "nuid": "6f09fdc9-c2bc-45ce-9fa5-b1572210a33c"
        },
        "id": "0JZEGq1c_2bP"
      },
      "source": [
        "retrieve the list of words"
      ]
    },
    {
      "cell_type": "code",
      "metadata": {
        "application/vnd.databricks.v1+cell": {
          "title": "",
          "showTitle": false,
          "inputWidgets": {},
          "nuid": "d6b46df5-117a-4d75-ba47-825ffb07ba44"
        },
        "colab": {
          "base_uri": "https://localhost:8080/"
        },
        "id": "D7omXEru_2bP",
        "outputId": "a7c8b00a-2412-4eed-b630-e55395f3c1b0"
      },
      "source": [
        "words = lines.flatMap(lambda w:w).filter(lambda w:len(w)>0)\n",
        "words.take(n)"
      ],
      "execution_count": null,
      "outputs": [
        {
          "output_type": "execute_result",
          "data": {
            "text/plain": [
              "['The',\n",
              " 'Project',\n",
              " 'Gutenberg',\n",
              " 'EBook',\n",
              " 'of',\n",
              " 'Pride',\n",
              " 'and',\n",
              " 'Prejudice',\n",
              " 'by',\n",
              " 'Jane']"
            ]
          },
          "metadata": {},
          "execution_count": 49
        }
      ]
    },
    {
      "cell_type": "markdown",
      "metadata": {
        "application/vnd.databricks.v1+cell": {
          "title": "",
          "showTitle": false,
          "inputWidgets": {},
          "nuid": "b4d08473-bacb-4f7b-b40c-8cac5a6e48b2"
        },
        "id": "bnck6h-F_2bQ"
      },
      "source": [
        "compute the frequency of each word"
      ]
    },
    {
      "cell_type": "code",
      "metadata": {
        "application/vnd.databricks.v1+cell": {
          "title": "",
          "showTitle": false,
          "inputWidgets": {},
          "nuid": "6c3e36f8-963c-4eef-8fed-232783b255d3"
        },
        "colab": {
          "base_uri": "https://localhost:8080/"
        },
        "id": "MTLQJCFj_2bQ",
        "outputId": "88589181-89a7-4275-ac62-0f2af0230069"
      },
      "source": [
        "wordcount = words.#...\n",
        "wordcount.take(n)"
      ],
      "execution_count": null,
      "outputs": [
        {
          "output_type": "execute_result",
          "data": {
            "text/plain": [
              "[('The', 285),\n",
              " ('Project', 83),\n",
              " ('EBook', 3),\n",
              " ('of', 3693),\n",
              " ('Pride', 6),\n",
              " ('Jane', 263),\n",
              " ('Austen', 4),\n",
              " ('is', 859),\n",
              " ('use', 23),\n",
              " ('anyone', 29)]"
            ]
          },
          "metadata": {},
          "execution_count": 50
        }
      ]
    },
    {
      "cell_type": "markdown",
      "metadata": {
        "application/vnd.databricks.v1+cell": {
          "title": "",
          "showTitle": false,
          "inputWidgets": {},
          "nuid": "a49cf7cd-fdc5-4fb5-853b-46fd816f0e7c"
        },
        "id": "dUqkVCec_2bS"
      },
      "source": [
        "count the number of distinct words"
      ]
    },
    {
      "cell_type": "code",
      "metadata": {
        "application/vnd.databricks.v1+cell": {
          "title": "",
          "showTitle": false,
          "inputWidgets": {},
          "nuid": "e17cd8b4-e4cc-42fb-a0b7-d864a7af4f1a"
        },
        "colab": {
          "base_uri": "https://localhost:8080/"
        },
        "id": "BwOc8G03_2bS",
        "outputId": "eea0a429-7a56-4491-eba3-342ff3c0cc75"
      },
      "source": [
        "nb_distinct_words = wordcount.count()\n",
        "nb_distinct_words"
      ],
      "execution_count": null,
      "outputs": [
        {
          "output_type": "execute_result",
          "data": {
            "text/plain": [
              "7761"
            ]
          },
          "metadata": {},
          "execution_count": 51
        }
      ]
    },
    {
      "cell_type": "markdown",
      "metadata": {
        "application/vnd.databricks.v1+cell": {
          "title": "",
          "showTitle": false,
          "inputWidgets": {},
          "nuid": "8ab42617-270b-4ba1-8aeb-7b9c384f839d"
        },
        "id": "gEf0uZVD_2bT"
      },
      "source": [
        "compute the proba of each word"
      ]
    },
    {
      "cell_type": "code",
      "metadata": {
        "application/vnd.databricks.v1+cell": {
          "title": "",
          "showTitle": false,
          "inputWidgets": {},
          "nuid": "e8dc9c29-f19b-4265-845f-7044e27223be"
        },
        "colab": {
          "base_uri": "https://localhost:8080/"
        },
        "id": "yL1QhrU7_2bU",
        "outputId": "dda07987-0e3a-4a79-bc07-30bdd02e87f7"
      },
      "source": [
        "word_proba = wordcount.#...\n",
        "word_proba.take(n)"
      ],
      "execution_count": null,
      "outputs": [
        {
          "output_type": "execute_result",
          "data": {
            "text/plain": [
              "[('The', 0.03672207189795129),\n",
              " ('Project', 0.010694498131684061),\n",
              " ('EBook', 0.00038654812524159255),\n",
              " ('of', 0.47584074217240047),\n",
              " ('Pride', 0.0007730962504831851),\n",
              " ('Jane', 0.033887385646179616),\n",
              " ('Austen', 0.0005153975003221235),\n",
              " ('is', 0.110681613194176),\n",
              " ('use', 0.0029635356268522097),\n",
              " ('anyone', 0.003736631877335395)]"
            ]
          },
          "metadata": {},
          "execution_count": 52
        }
      ]
    },
    {
      "cell_type": "markdown",
      "metadata": {
        "application/vnd.databricks.v1+cell": {
          "title": "",
          "showTitle": false,
          "inputWidgets": {},
          "nuid": "372549f2-0140-44e5-addf-e9326e60c69c"
        },
        "id": "AJ1iMxDs_2bW"
      },
      "source": [
        "Collocation of words: build an RDD of bigrams. A bigram is a pair of words appearing in consecutive order."
      ]
    },
    {
      "cell_type": "code",
      "metadata": {
        "application/vnd.databricks.v1+cell": {
          "title": "",
          "showTitle": false,
          "inputWidgets": {},
          "nuid": "a76e0a1e-51a3-415c-9924-f5742a98f6ad"
        },
        "colab": {
          "base_uri": "https://localhost:8080/"
        },
        "id": "4HsXxn6C_2bX",
        "outputId": "75a94195-48be-4b60-b8e6-1c408f893b50"
      },
      "source": [
        "words_index = words.#...\n",
        "words_index.take(n)"
      ],
      "execution_count": null,
      "outputs": [
        {
          "output_type": "execute_result",
          "data": {
            "text/plain": [
              "[(0, 'The'),\n",
              " (1, 'Project'),\n",
              " (2, 'Gutenberg'),\n",
              " (3, 'EBook'),\n",
              " (4, 'of'),\n",
              " (5, 'Pride'),\n",
              " (6, 'and'),\n",
              " (7, 'Prejudice'),\n",
              " (8, 'by'),\n",
              " (9, 'Jane')]"
            ]
          },
          "metadata": {},
          "execution_count": 53
        }
      ]
    },
    {
      "cell_type": "code",
      "metadata": {
        "application/vnd.databricks.v1+cell": {
          "title": "",
          "showTitle": false,
          "inputWidgets": {},
          "nuid": "ebf1a640-7dfd-4117-be7b-437cebb4d3a1"
        },
        "colab": {
          "base_uri": "https://localhost:8080/"
        },
        "id": "xlqZ5MFR_2bY",
        "outputId": "a30b8ae3-e458-4938-9913-faca317e68ed"
      },
      "source": [
        "words_index_other = words_index.#...\n",
        "words_index_other.take(n)                                                 "
      ],
      "execution_count": null,
      "outputs": [
        {
          "output_type": "execute_result",
          "data": {
            "text/plain": [
              "[(-1, 'The'),\n",
              " (0, 'Project'),\n",
              " (1, 'Gutenberg'),\n",
              " (2, 'EBook'),\n",
              " (3, 'of'),\n",
              " (4, 'Pride'),\n",
              " (5, 'and'),\n",
              " (6, 'Prejudice'),\n",
              " (7, 'by'),\n",
              " (8, 'Jane')]"
            ]
          },
          "metadata": {},
          "execution_count": 54
        }
      ]
    },
    {
      "cell_type": "code",
      "metadata": {
        "application/vnd.databricks.v1+cell": {
          "title": "",
          "showTitle": false,
          "inputWidgets": {},
          "nuid": "19fc037a-5303-46f0-83ec-6a9bbe4436d5"
        },
        "colab": {
          "base_uri": "https://localhost:8080/"
        },
        "id": "5emou1DL_2bZ",
        "outputId": "0eb503ea-1346-46b0-c64b-c7b033a67910"
      },
      "source": [
        "bigram = words_index.#...\n",
        "bigram.take(n)"
      ],
      "execution_count": null,
      "outputs": [
        {
          "output_type": "execute_result",
          "data": {
            "text/plain": [
              "[('The', 'Project'),\n",
              " ('of', 'Pride'),\n",
              " ('by', 'Jane'),\n",
              " ('eBook', 'is'),\n",
              " ('use', 'of'),\n",
              " ('at', 'no'),\n",
              " ('with', 'almost'),\n",
              " ('whatsoever', 'You'),\n",
              " ('it', 'give'),\n",
              " ('or', 're-use')]"
            ]
          },
          "metadata": {},
          "execution_count": 55
        }
      ]
    },
    {
      "cell_type": "markdown",
      "metadata": {
        "application/vnd.databricks.v1+cell": {
          "title": "",
          "showTitle": false,
          "inputWidgets": {},
          "nuid": "5813908e-4121-415f-8717-6eeea35cb5f1"
        },
        "id": "t9GWKQDp_2ba"
      },
      "source": [
        "count the fequency of each bigram"
      ]
    },
    {
      "cell_type": "code",
      "metadata": {
        "application/vnd.databricks.v1+cell": {
          "title": "",
          "showTitle": false,
          "inputWidgets": {},
          "nuid": "7010d5c7-74cf-4d13-8ae0-4663557c8099"
        },
        "colab": {
          "base_uri": "https://localhost:8080/"
        },
        "id": "SM0XGm_F_2ba",
        "outputId": "774449cd-ab6b-4351-897c-f59e9dbbbb79"
      },
      "source": [
        "bigramcount = bigram.#...\n",
        "bigramcount.take(n)"
      ],
      "execution_count": null,
      "outputs": [
        {
          "output_type": "execute_result",
          "data": {
            "text/plain": [
              "[(('use', 'of'), 8),\n",
              " (('at', 'no'), 6),\n",
              " (('the', 'terms'), 14),\n",
              " (('12', '2019'), 1),\n",
              " (('PREJUDICE', 'Produced'), 1),\n",
              " (('Volunteers', 'and'), 3),\n",
              " (('and', 'Prejudice'), 4),\n",
              " (('Chapter', '4'), 2),\n",
              " (('Chapter', '10'), 2),\n",
              " (('Chapter', '12'), 2)]"
            ]
          },
          "metadata": {},
          "execution_count": 56
        }
      ]
    },
    {
      "cell_type": "markdown",
      "metadata": {
        "application/vnd.databricks.v1+cell": {
          "title": "",
          "showTitle": false,
          "inputWidgets": {},
          "nuid": "44502dd0-70d8-4467-b180-daa7790c6bc7"
        },
        "id": "_-vGmlff_2bb"
      },
      "source": [
        "attach to each bigram the probability of its words, i.e. $$P(a) * P(b)$$"
      ]
    },
    {
      "cell_type": "code",
      "metadata": {
        "application/vnd.databricks.v1+cell": {
          "title": "",
          "showTitle": false,
          "inputWidgets": {},
          "nuid": "43c9c3b8-bf4f-47b3-a333-5682f29c4612"
        },
        "colab": {
          "base_uri": "https://localhost:8080/"
        },
        "id": "vn_zMw8g_2bb",
        "outputId": "11489ae3-6018-4425-eaf9-c584802c6479"
      },
      "source": [
        "bigramproba = bigramcount.#...\n",
        "bigramproba.take(n)"
      ],
      "execution_count": null,
      "outputs": [
        {
          "output_type": "execute_result",
          "data": {
            "text/plain": [
              "[(('of', 'Pride'), 0.0003678706936006188),\n",
              " (('Title', 'Pride'), 9.961296875185996e-08),\n",
              " (('vain', 'Pride'), 1.7930334375334792e-06),\n",
              " (('mine', 'Pride'), 1.4941945312778994e-06),\n",
              " (('cover', 'Pride'), 1.9922593750371993e-07),\n",
              " (('of', 'them'), 0.026609313503778098),\n",
              " (('like', 'them'), 0.0005476056935518915),\n",
              " (('seen', 'them'), 0.0005404003554788403),\n",
              " (('before', 'them'), 0.0016139957283634696),\n",
              " (('make', 'them'), 0.0012104967962726025)]"
            ]
          },
          "metadata": {},
          "execution_count": 57
        }
      ]
    },
    {
      "cell_type": "markdown",
      "metadata": {
        "application/vnd.databricks.v1+cell": {
          "title": "",
          "showTitle": false,
          "inputWidgets": {},
          "nuid": "d64a92a3-f3e2-4ca8-beb7-28b2dfbf0807"
        },
        "id": "kz68ZQ7l_2bc"
      },
      "source": [
        "count the number of distinct bigrams"
      ]
    },
    {
      "cell_type": "code",
      "metadata": {
        "application/vnd.databricks.v1+cell": {
          "title": "",
          "showTitle": false,
          "inputWidgets": {},
          "nuid": "90bc5fe5-37f6-44cf-8a76-8e9f168784d6"
        },
        "colab": {
          "base_uri": "https://localhost:8080/"
        },
        "id": "Qi_pDd5o_2bc",
        "outputId": "060f3a82-80f1-4337-8dc1-cafea685b2ba"
      },
      "source": [
        "bigram_distinct = bigramcount.count()\n",
        "bigram_distinct"
      ],
      "execution_count": null,
      "outputs": [
        {
          "output_type": "execute_result",
          "data": {
            "text/plain": [
              "59099"
            ]
          },
          "metadata": {},
          "execution_count": 58
        }
      ]
    },
    {
      "cell_type": "markdown",
      "metadata": {
        "application/vnd.databricks.v1+cell": {
          "title": "",
          "showTitle": false,
          "inputWidgets": {},
          "nuid": "e5b897b0-2120-43ea-a069-ad39143b8a35"
        },
        "id": "JQYxiQg9_2bd"
      },
      "source": [
        "attach to each bigram its probability, i.e. $$P(ab)$$"
      ]
    },
    {
      "cell_type": "code",
      "metadata": {
        "application/vnd.databricks.v1+cell": {
          "title": "",
          "showTitle": false,
          "inputWidgets": {},
          "nuid": "01e63b07-3181-41a4-8f62-b60909a3347b"
        },
        "colab": {
          "base_uri": "https://localhost:8080/"
        },
        "id": "trnmGMBa_2be",
        "outputId": "f780b7a6-5942-4791-e2eb-611330596311"
      },
      "source": [
        "bigramjointproba = bigramcount.#...\n",
        "bigramjointproba.take(n)"
      ],
      "execution_count": null,
      "outputs": [
        {
          "output_type": "execute_result",
          "data": {
            "text/plain": [
              "[(('use', 'of'), 0.00013536608064434254),\n",
              " (('at', 'no'), 0.0001015245604832569),\n",
              " (('the', 'terms'), 0.00023689064112759946),\n",
              " (('12', '2019'), 1.6920760080542818e-05),\n",
              " (('PREJUDICE', 'Produced'), 1.6920760080542818e-05),\n",
              " (('Volunteers', 'and'), 5.076228024162845e-05),\n",
              " (('and', 'Prejudice'), 6.768304032217127e-05),\n",
              " (('Chapter', '4'), 3.3841520161085635e-05),\n",
              " (('Chapter', '10'), 3.3841520161085635e-05),\n",
              " (('Chapter', '12'), 3.3841520161085635e-05)]"
            ]
          },
          "metadata": {},
          "execution_count": 59
        }
      ]
    },
    {
      "cell_type": "markdown",
      "metadata": {
        "application/vnd.databricks.v1+cell": {
          "title": "",
          "showTitle": false,
          "inputWidgets": {},
          "nuid": "882d1325-07a3-41dd-851b-a2f7a6d7cf7a"
        },
        "id": "6W7oVeWB_2be"
      },
      "source": [
        "compute the SPMI and sort in descending order on the score"
      ]
    },
    {
      "cell_type": "code",
      "metadata": {
        "application/vnd.databricks.v1+cell": {
          "title": "",
          "showTitle": false,
          "inputWidgets": {},
          "nuid": "753f2e1a-bf18-4fe9-b5db-ba7ecf81ca55"
        },
        "colab": {
          "base_uri": "https://localhost:8080/"
        },
        "id": "b9l4t2Vk_2bf",
        "outputId": "5e9cbc10-376e-4821-adff-6a373e9608a9"
      },
      "source": [
        "SPMI = bigramjointproba.#...\n",
        "SPMI.take(n)"
      ],
      "execution_count": null,
      "outputs": [
        {
          "output_type": "execute_result",
          "data": {
            "text/plain": [
              "[(('staff', 'Please'), 1019.1901893433051),\n",
              " (('he—poor', 'Eliza—to'), 1019.1901893433051),\n",
              " (('net', 'purses'), 1019.1901893433051),\n",
              " (('Italian', 'songs'), 1019.1901893433051),\n",
              " (('barbarously', 'misused'), 1019.1901893433051),\n",
              " (('weighty', 'accusation'), 1019.1901893433051),\n",
              " (('vicious', 'propensities—the'), 1019.1901893433051),\n",
              " (('untamed', 'unabashed'), 1019.1901893433051),\n",
              " (('City', 'UT'), 1019.1901893433051),\n",
              " (('Kenilworth', 'Birmingham'), 1019.1901893433051)]"
            ]
          },
          "metadata": {},
          "execution_count": 60
        }
      ]
    },
    {
      "cell_type": "markdown",
      "metadata": {
        "application/vnd.databricks.v1+cell": {
          "title": "",
          "showTitle": false,
          "inputWidgets": {},
          "nuid": "fa3a4987-1765-4cd7-9d6c-790af051f93e"
        },
        "id": "CyhUU7bd_2bh"
      },
      "source": [
        "## Matrix multiplication"
      ]
    },
    {
      "cell_type": "markdown",
      "metadata": {
        "application/vnd.databricks.v1+cell": {
          "title": "",
          "showTitle": false,
          "inputWidgets": {},
          "nuid": "aeaced1f-7898-4c11-a5fe-c72674141aa4"
        },
        "id": "75wifCJz_2bh"
      },
      "source": [
        "Write a program to perform matrix multiplication using the Spark RDD operators.\n",
        "The input matrices are represented with their coordinates: each matrix is an RDD of tuples `(i,j,val)` where `i` is the line number, `j` the column number and `val` the value.\n",
        "The input matrices are provided (`matM` and `matN`).\n",
        "The output matrix is also represented with its coordinates:"
      ]
    },
    {
      "cell_type": "code",
      "metadata": {
        "application/vnd.databricks.v1+cell": {
          "title": "",
          "showTitle": false,
          "inputWidgets": {},
          "nuid": "2197e35f-8bc5-4a6b-93e7-8549d7333752"
        },
        "id": "fVTx5zcK_2bh"
      },
      "source": [
        "M = [(1,1,1),(1,2,2),(1,3,3),(2,1,2),(2,2,5),(2,3,7)]\n",
        "N = [(1,1,2),(1,2,4),(1,3,8),(2,1,1),(2,2,5),(2,3,10),(3,1,3),(3,2,6),(3,3,9)]\n",
        "\n",
        "matM = spark.sparkContext.parallelize(M)\n",
        "matN = spark.sparkContext.parallelize(N)"
      ],
      "execution_count": null,
      "outputs": []
    },
    {
      "cell_type": "code",
      "metadata": {
        "application/vnd.databricks.v1+cell": {
          "title": "",
          "showTitle": false,
          "inputWidgets": {},
          "nuid": "116f9199-3b46-4045-8bae-135ab5dde7d2"
        },
        "colab": {
          "base_uri": "https://localhost:8080/"
        },
        "id": "-rHdeIyO_2bh",
        "outputId": "fbb0380d-56f8-4251-e2f8-82d92b0b1ba7"
      },
      "source": [
        "matMElem = matM.#... #(i,j,v) -> (j,(i,v))\n",
        "matNElem = matN.#... #(j,k,v') -> (j,(k,v'))\n",
        "pairwiseProd = matMElem.#...\n",
        "product = pairwiseProd.#...\n",
        "product.collect()"
      ],
      "execution_count": null,
      "outputs": [
        {
          "output_type": "execute_result",
          "data": {
            "text/plain": [
              "[((1, 1), 13),\n",
              " ((1, 2), 32),\n",
              " ((2, 3), 129),\n",
              " ((1, 3), 55),\n",
              " ((2, 2), 75),\n",
              " ((2, 1), 30)]"
            ]
          },
          "metadata": {},
          "execution_count": 65
        }
      ]
    },
    {
      "cell_type": "markdown",
      "metadata": {
        "application/vnd.databricks.v1+cell": {
          "title": "",
          "showTitle": false,
          "inputWidgets": {},
          "nuid": "9931a596-3ea9-4d1f-b408-b3558647f934"
        },
        "id": "R5ZJa3iU_2bh"
      },
      "source": [
        "##END"
      ]
    }
  ]
}