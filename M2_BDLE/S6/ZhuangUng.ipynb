{
  "nbformat": 4,
  "nbformat_minor": 0,
  "metadata": {
    "colab": {
      "name": "ZhuangUng.ipynb",
      "provenance": [],
      "collapsed_sections": []
    },
    "kernelspec": {
      "name": "python3",
      "display_name": "Python 3"
    },
    "language_info": {
      "name": "python"
    }
  },
  "cells": [
    {
      "cell_type": "markdown",
      "metadata": {
        "id": "baur_mBcBzsE"
      },
      "source": [
        "**Etudiants :**<br/>\n",
        "3701123 - Pascal ZHUANG<br/>\n",
        "3680881 - Richard UNG\n",
        "\n",
        "# **DM 2**\n",
        "\n",
        "**Données Kaggle :** [USA Housing Listings](https://www.kaggle.com/austinreese/usa-housing-listings)"
      ]
    },
    {
      "cell_type": "markdown",
      "metadata": {
        "id": "GAK2nLcRD7Be"
      },
      "source": [
        "## **Préparation**"
      ]
    },
    {
      "cell_type": "code",
      "metadata": {
        "colab": {
          "base_uri": "https://localhost:8080/"
        },
        "id": "UUrIJ7vHBoh1",
        "outputId": "8d663a97-0cbf-4e74-ce4a-73c510251c14"
      },
      "source": [
        "import os\n",
        "from google.colab import drive\n",
        "drive.mount(\"/content/drive\", force_remount=True)\n",
        "\n",
        "drive_dir = \"/content/drive/MyDrive/ens/bdle/DM2/\"\n",
        "os.makedirs(drive_dir, exist_ok=True)\n",
        "os.listdir(drive_dir)"
      ],
      "execution_count": null,
      "outputs": [
        {
          "output_type": "stream",
          "name": "stdout",
          "text": [
            "Mounted at /content/drive\n"
          ]
        },
        {
          "output_type": "execute_result",
          "data": {
            "text/plain": [
              "['housing.csv']"
            ]
          },
          "metadata": {},
          "execution_count": 1
        }
      ]
    },
    {
      "cell_type": "markdown",
      "metadata": {
        "id": "0o57SqV8DUeX"
      },
      "source": [
        "**Installer pyspark et findspark :**"
      ]
    },
    {
      "cell_type": "code",
      "metadata": {
        "id": "8Ea1jrCeDVYg",
        "colab": {
          "base_uri": "https://localhost:8080/"
        },
        "outputId": "375f630b-7440-4281-94ab-2f7ea128c9bb"
      },
      "source": [
        "!pip install -q pyspark\n",
        "!pip install -q findspark"
      ],
      "execution_count": null,
      "outputs": [
        {
          "output_type": "stream",
          "name": "stdout",
          "text": [
            "\u001b[K     |████████████████████████████████| 281.3 MB 38 kB/s \n",
            "\u001b[K     |████████████████████████████████| 198 kB 46.9 MB/s \n",
            "\u001b[?25h  Building wheel for pyspark (setup.py) ... \u001b[?25l\u001b[?25hdone\n"
          ]
        }
      ]
    },
    {
      "cell_type": "markdown",
      "metadata": {
        "id": "1Woz_sk9DZWk"
      },
      "source": [
        "**Démarrer la session spark :**"
      ]
    },
    {
      "cell_type": "code",
      "metadata": {
        "id": "ujQHCNUbDcjI"
      },
      "source": [
        "import os\n",
        "# !find /usr/local -name \"pyspark\"\n",
        "os.environ[\"SPARK_HOME\"] = \"/usr/local/lib/python3.7/dist-packages/pyspark\"\n",
        "os.environ[\"JAVA_HOME\"] = \"/usr\""
      ],
      "execution_count": null,
      "outputs": []
    },
    {
      "cell_type": "code",
      "metadata": {
        "colab": {
          "base_uri": "https://localhost:8080/"
        },
        "id": "WNJDMcFF8OaZ",
        "outputId": "524f1152-d3a3-4dfd-933b-1b8fe6736808"
      },
      "source": [
        "# Principaux import\n",
        "import findspark\n",
        "from pyspark.sql import SparkSession \n",
        "from pyspark import SparkConf\n",
        "\n",
        "# pour les dataframe et udf\n",
        "from pyspark.sql import *  \n",
        "from pyspark.sql.functions import *\n",
        "from pyspark.sql.types import *\n",
        "from datetime import *\n",
        "\n",
        "# pour le chronomètre\n",
        "import time\n",
        "\n",
        "# initialise les variables d'environnement pour spark\n",
        "findspark.init()\n",
        "\n",
        "# Démarrage session spark \n",
        "# --------------------------\n",
        "def demarrer_spark():\n",
        "  local = \"local[*]\"\n",
        "  appName = \"TP\"\n",
        "  configLocale = SparkConf().setAppName(appName).setMaster(local).\\\n",
        "  set(\"spark.executor.memory\", \"6G\").\\\n",
        "  set(\"spark.driver.memory\",\"6G\").\\\n",
        "  set(\"spark.sql.catalogImplementation\",\"in-memory\")\n",
        "  \n",
        "  spark = SparkSession.builder.config(conf = configLocale).getOrCreate()\n",
        "  sc = spark.sparkContext\n",
        "  sc.setLogLevel(\"ERROR\")\n",
        "  \n",
        "  spark.conf.set(\"spark.sql.autoBroadcastJoinThreshold\",\"-1\")\n",
        "\n",
        "  # On ajuste l'environnement d'exécution des requêtes à la taille du cluster (4 coeurs)\n",
        "  spark.conf.set(\"spark.sql.shuffle.partitions\",\"4\")    \n",
        "  print(\"session démarrée, son id est \", sc.applicationId)\n",
        "  return spark\n",
        "spark = demarrer_spark()"
      ],
      "execution_count": null,
      "outputs": [
        {
          "output_type": "stream",
          "name": "stdout",
          "text": [
            "session démarrée, son id est  local-1636642079079\n"
          ]
        }
      ]
    },
    {
      "cell_type": "code",
      "metadata": {
        "id": "w3MlsOztUjuS",
        "colab": {
          "base_uri": "https://localhost:8080/"
        },
        "outputId": "81f7db13-15c6-47f8-ace0-2511263e1467"
      },
      "source": [
        "# on utilise 8 partitions au lieu de 200 par défaut\n",
        "spark.conf.set(\"spark.sql.shuffle.partitions\", \"8\")\n",
        "print(\"Nombre de partitions utilisées : \", spark.conf.get(\"spark.sql.shuffle.partitions\"))\n"
      ],
      "execution_count": null,
      "outputs": [
        {
          "output_type": "stream",
          "name": "stdout",
          "text": [
            "Nombre de partitions utilisées :  8\n"
          ]
        }
      ]
    },
    {
      "cell_type": "markdown",
      "metadata": {
        "id": "lbRqqQfhD2Mo"
      },
      "source": [
        "## **Chargement des données**\n",
        "\n",
        "Nous observons que les données ne sont pas correctement chargées lorsque nous chargeons directement avec la librairie *Pyspark*.<br/>\n",
        "Nous avons donc commencé par lire le fichier *csv* avec la librairie *Pandas* puis nous le convertissons ensuite en dataframe *Pyspark*.<br/><br/>\n",
        "\n",
        "\n",
        "**Lecture du fichier à partir de la librarie *Pandas* :**"
      ]
    },
    {
      "cell_type": "code",
      "metadata": {
        "id": "MEVFXvD_sgXL",
        "colab": {
          "base_uri": "https://localhost:8080/"
        },
        "outputId": "544b9037-aacc-4345-89a3-3d48ce4acbfb"
      },
      "source": [
        "import pandas as pd\n",
        "\n",
        "housing_df = pd.read_csv(drive_dir +\"housing.csv\")\n",
        "print(\"Dimensions :\", housing_df.shape, \"\\n\")"
      ],
      "execution_count": null,
      "outputs": [
        {
          "output_type": "stream",
          "name": "stdout",
          "text": [
            "Dimensions : (384977, 22) \n",
            "\n"
          ]
        }
      ]
    },
    {
      "cell_type": "markdown",
      "metadata": {
        "id": "YApUx4saHpLA"
      },
      "source": [
        "**Conversion du dataframe Pandas en dataframe Pyspark :**"
      ]
    },
    {
      "cell_type": "code",
      "metadata": {
        "id": "MkHWJSS93oDc",
        "colab": {
          "base_uri": "https://localhost:8080/"
        },
        "outputId": "242c71ad-22e4-478c-f044-234914ccd6da"
      },
      "source": [
        "schema = StructType() \\\n",
        "      .add(\"id\",LongType(), True) \\\n",
        "      .add(\"url\",StringType(), True) \\\n",
        "      .add(\"region\",StringType(), True) \\\n",
        "      .add(\"region_url\",StringType(), True) \\\n",
        "      .add(\"price\",LongType(), True) \\\n",
        "      .add(\"type\",StringType(), True) \\\n",
        "      .add(\"sqfeet\",IntegerType(), True) \\\n",
        "      .add(\"beds\",IntegerType(), True) \\\n",
        "      .add(\"baths\",DoubleType(), True) \\\n",
        "      .add(\"cats_allowed\",IntegerType(), True) \\\n",
        "      .add(\"dogs_allowed\",IntegerType(), True) \\\n",
        "      .add(\"smoking_allowed\",IntegerType(), True) \\\n",
        "      .add(\"wheelchair_access\",IntegerType(), True) \\\n",
        "      .add(\"electric_vehicle_charge\",IntegerType(), True) \\\n",
        "      .add(\"comes_furnished\",IntegerType(), True) \\\n",
        "      .add(\"laundry_options\",StringType(), True) \\\n",
        "      .add(\"parking_options\",StringType(), True) \\\n",
        "      .add(\"image_url\",StringType(), True) \\\n",
        "      .add(\"description\",StringType(), True) \\\n",
        "      .add(\"lat\",DoubleType(), True) \\\n",
        "      .add(\"long\",DoubleType(), True) \\\n",
        "      .add(\"state\",StringType(), True)\n",
        "\n",
        "df = spark.createDataFrame(housing_df, schema=schema)\n",
        "\n",
        "df.show(10)\n",
        "df.printSchema()"
      ],
      "execution_count": null,
      "outputs": [
        {
          "output_type": "stream",
          "name": "stdout",
          "text": [
            "+----------+--------------------+------------+--------------------+-----+---------+------+----+-----+------------+------------+---------------+-----------------+-----------------------+---------------+---------------+------------------+--------------------+--------------------+-------+-------------------+-----+\n",
            "|        id|                 url|      region|          region_url|price|     type|sqfeet|beds|baths|cats_allowed|dogs_allowed|smoking_allowed|wheelchair_access|electric_vehicle_charge|comes_furnished|laundry_options|   parking_options|           image_url|         description|    lat|               long|state|\n",
            "+----------+--------------------+------------+--------------------+-----+---------+------+----+-----+------------+------------+---------------+-----------------+-----------------------+---------------+---------------+------------------+--------------------+--------------------+-------+-------------------+-----+\n",
            "|7049044568|https://reno.crai...|reno / tahoe|https://reno.crai...| 1148|apartment|  1078|   3|  2.0|           1|           1|              0|                0|                      0|              0|    w/d in unit|           carport|https://images.cr...|Ridgeview by Vint...|39.5483|           -119.796|   ca|\n",
            "|7049047186|https://reno.crai...|reno / tahoe|https://reno.crai...| 1200|    condo|  1001|   2|  2.0|           0|           0|              0|                0|                      0|              0|    w/d hookups|           carport|https://images.cr...|Conveniently loca...|39.5026|           -119.789|   ca|\n",
            "|7043634882|https://reno.crai...|reno / tahoe|https://reno.crai...| 1813|apartment|  1683|   2|  2.0|           1|           1|              1|                0|                      0|              0|    w/d in unit|   attached garage|https://images.cr...|2BD | 2BA | 1683S...|39.6269|           -119.708|   ca|\n",
            "|7049045324|https://reno.crai...|reno / tahoe|https://reno.crai...| 1095|apartment|   708|   1|  1.0|           1|           1|              1|                0|                      0|              0|    w/d in unit|           carport|https://images.cr...|MOVE IN SPECIAL F...|39.4477|           -119.771|   ca|\n",
            "|7049043759|https://reno.crai...|reno / tahoe|https://reno.crai...|  289|apartment|   250|   0|  1.0|           1|           1|              1|                1|                      0|              1|laundry on site|               NaN|https://images.cr...|Move In Today: Re...|39.5357|           -119.805|   ca|\n",
            "|7046327064|https://reno.crai...|reno / tahoe|https://reno.crai...| 1093|apartment|   720|   1|  1.0|           1|           1|              1|                0|                      0|              0|laundry in bldg|               NaN|https://images.cr...|1BD | 1BA | 720SQ...|39.4572|-119.77600000000001|   ca|\n",
            "|7049020738|https://reno.crai...|reno / tahoe|https://reno.crai...|  935|apartment|   661|   1|  1.0|           1|           1|              1|                0|                      0|              0|laundry on site|off-street parking|https://images.cr...|Tucked away in a ...|39.5118|           -119.802|   ca|\n",
            "|7049041899|https://reno.crai...|reno / tahoe|https://reno.crai...| 1095|apartment|   708|   1|  1.0|           1|           1|              1|                0|                      0|              0|    w/d in unit|           carport|https://images.cr...|MOVE IN SPECIAL F...|39.4477|           -119.771|   ca|\n",
            "|7049041451|https://reno.crai...|reno / tahoe|https://reno.crai...| 1525|apartment|  1053|   2|  2.0|           1|           1|              0|                0|                      0|              0|    w/d in unit|           carport|https://images.cr...|BRAND NEW APARTME...|39.6185|-119.67200000000001|   ca|\n",
            "|7049041434|https://reno.crai...|reno / tahoe|https://reno.crai...| 1295|    condo|   930|   2|  2.0|           0|           0|              0|                0|                      0|              0|    w/d in unit|           carport|https://images.cr...|6850 Sharlands Av...|39.5193|           -119.897|   ca|\n",
            "+----------+--------------------+------------+--------------------+-----+---------+------+----+-----+------------+------------+---------------+-----------------+-----------------------+---------------+---------------+------------------+--------------------+--------------------+-------+-------------------+-----+\n",
            "only showing top 10 rows\n",
            "\n",
            "root\n",
            " |-- id: long (nullable = true)\n",
            " |-- url: string (nullable = true)\n",
            " |-- region: string (nullable = true)\n",
            " |-- region_url: string (nullable = true)\n",
            " |-- price: long (nullable = true)\n",
            " |-- type: string (nullable = true)\n",
            " |-- sqfeet: integer (nullable = true)\n",
            " |-- beds: integer (nullable = true)\n",
            " |-- baths: double (nullable = true)\n",
            " |-- cats_allowed: integer (nullable = true)\n",
            " |-- dogs_allowed: integer (nullable = true)\n",
            " |-- smoking_allowed: integer (nullable = true)\n",
            " |-- wheelchair_access: integer (nullable = true)\n",
            " |-- electric_vehicle_charge: integer (nullable = true)\n",
            " |-- comes_furnished: integer (nullable = true)\n",
            " |-- laundry_options: string (nullable = true)\n",
            " |-- parking_options: string (nullable = true)\n",
            " |-- image_url: string (nullable = true)\n",
            " |-- description: string (nullable = true)\n",
            " |-- lat: double (nullable = true)\n",
            " |-- long: double (nullable = true)\n",
            " |-- state: string (nullable = true)\n",
            "\n"
          ]
        }
      ]
    },
    {
      "cell_type": "markdown",
      "metadata": {
        "id": "saM6Cla4UUhx"
      },
      "source": [
        "**Création de listes contenant les noms de colonnes selon son type :**"
      ]
    },
    {
      "cell_type": "code",
      "metadata": {
        "id": "eBvPADGxmgPp"
      },
      "source": [
        "# Liste des colonnes numériques\n",
        "num_col = [\"price\", \"sqfeet\", \"beds\", \"baths\", \"lat\", \"long\"]\n",
        "\n",
        "# Liste des colonnes catégorielles encodées\n",
        "cat_col = [\"cats_allowed\", \"dogs_allowed\", \"smoking_allowed\",\\\n",
        "           \"electric_vehicle_charge\", \"comes_furnished\", \"wheelchair_access\"]\n",
        "\n",
        "# Liste des colonnes catégorielles non encodées (type : string)\n",
        "str_col = [\"url\", \"region\", \"region_url\", \"type\", \"laundry_options\",\\\n",
        "           \"parking_options\", \"image_url\", \"description\", \"state\"]"
      ],
      "execution_count": null,
      "outputs": []
    },
    {
      "cell_type": "markdown",
      "metadata": {
        "id": "vUU4DeFadVc3"
      },
      "source": [
        "## **Exploration des données**\n",
        "**Statistiques rapides sur les variables numériques :**"
      ]
    },
    {
      "cell_type": "code",
      "metadata": {
        "id": "nvrFVO1D32SI",
        "colab": {
          "base_uri": "https://localhost:8080/"
        },
        "outputId": "fc2e6428-170a-426a-8cdc-e2dcbb1c9a7e"
      },
      "source": [
        "df.select(num_col).describe().show()"
      ],
      "execution_count": null,
      "outputs": [
        {
          "output_type": "stream",
          "name": "stdout",
          "text": [
            "+-------+-----------------+------------------+------------------+------------------+--------+--------+\n",
            "|summary|            price|            sqfeet|              beds|             baths|     lat|    long|\n",
            "+-------+-----------------+------------------+------------------+------------------+--------+--------+\n",
            "|  count|           384977|            384977|            384977|            384977|  384977|  384977|\n",
            "|   mean|8825.722318476168| 1059.899565428584|1.9053449946360432|1.4807183286274246|     NaN|     NaN|\n",
            "| stddev|4462199.876538977|19150.757244214365|3.4945716198252246|0.6180605193011355|     NaN|     NaN|\n",
            "|    min|                0|                 0|                 0|               0.0|-43.5333|-163.894|\n",
            "|    max|       2768307249|           8388607|              1100|              75.0|     NaN|     NaN|\n",
            "+-------+-----------------+------------------+------------------+------------------+--------+--------+\n",
            "\n"
          ]
        }
      ]
    },
    {
      "cell_type": "markdown",
      "metadata": {
        "id": "_fxw93X3u6Fe"
      },
      "source": [
        "* Les colonnes *price* et *sqfeet* possèdent des valeurs très grandes par rapport aux autres colonnes, il faudra donc **normaliser nos données** avant de les passer à notre modèle de prédiction pour avoir la **même échelle** dans les différentes colonnes. <br/>\n",
        "Par ailleurs, lorsque l'on a trop de valeurs distinctes dans une catégorie, l'arbre de régression n'arrive pas à le supporter.<br/><br/>\n",
        "\n",
        "* Les colonnes donnant la *latitude (lat)* et la *longitude (long)* possèdent toutes les deux des valeurs manquantes, nous pouvons donc : \n",
        "  * soit **supprimer les lignes concernées** \n",
        "  * soit les **compléter** avec une valeur (mean, median, mode, ...)<br/>\n",
        "\n",
        "Par la suite, nous choisirons de **supprimer ces lignes**."
      ]
    },
    {
      "cell_type": "markdown",
      "metadata": {
        "id": "vrsbTexEuVJZ"
      },
      "source": [
        "**Valeurs distinctes sur les variables catégorielles :**"
      ]
    },
    {
      "cell_type": "code",
      "metadata": {
        "id": "BIJtOZvrtCxN",
        "colab": {
          "base_uri": "https://localhost:8080/"
        },
        "outputId": "09ab1e81-0d07-4cba-828d-400ba3371a7c"
      },
      "source": [
        "df.select([countDistinct(c).alias(c) for c in str_col+cat_col]).show()"
      ],
      "execution_count": null,
      "outputs": [
        {
          "output_type": "stream",
          "name": "stdout",
          "text": [
            "+------+------+----------+----+---------------+---------------+---------+-----------+-----+------------+------------+---------------+-----------------------+---------------+-----------------+\n",
            "|   url|region|region_url|type|laundry_options|parking_options|image_url|description|state|cats_allowed|dogs_allowed|smoking_allowed|electric_vehicle_charge|comes_furnished|wheelchair_access|\n",
            "+------+------+----------+----+---------------+---------------+---------+-----------+-----+------------+------------+---------------+-----------------------+---------------+-----------------+\n",
            "|384977|   404|       413|  12|              6|              8|   181068|     280837|   51|           2|           2|              2|                      2|              2|                2|\n",
            "+------+------+----------+----+---------------+---------------+---------+-----------+-----+------------+------------+---------------+-----------------------+---------------+-----------------+\n",
            "\n"
          ]
        }
      ]
    },
    {
      "cell_type": "markdown",
      "metadata": {
        "id": "FT5BpLqWXEtf"
      },
      "source": [
        "Nous supposons que certaines de ces variables **ne sont pas pertinentes** pour la prédiction de *price*:\n",
        "* Les colonnes *id* et *url* ne nous apportent aucun renseignement supplémentaire pouvant influencer le prix .\n",
        "* La colonne *region_url* dont l'information pertinente se trouve dans la colonne *region*.\n",
        "* La colonne *description* qui contient un texte plus ou moins long, difficile à extraire les informations pertinentes sans faire du NLP.\n",
        "\n",
        "Nous pourrons donc considérer la **suppression** de ces colonnes du dataframe avant de le passer au modèle de régression."
      ]
    },
    {
      "cell_type": "markdown",
      "metadata": {
        "id": "qYEC9ELNPOUZ"
      },
      "source": [
        "**Valeurs manquantes :**"
      ]
    },
    {
      "cell_type": "code",
      "metadata": {
        "id": "RA9uCHYyEDic",
        "colab": {
          "base_uri": "https://localhost:8080/"
        },
        "outputId": "bbcbd2f3-a12d-4ae6-fe9a-e161db8b17a2"
      },
      "source": [
        "df.select([count(when(isnan(c), c)).alias(c) for c in df.columns]).show()"
      ],
      "execution_count": null,
      "outputs": [
        {
          "output_type": "stream",
          "name": "stdout",
          "text": [
            "+---+---+------+----------+-----+----+------+----+-----+------------+------------+---------------+-----------------+-----------------------+---------------+---------------+---------------+---------+-----------+----+----+-----+\n",
            "| id|url|region|region_url|price|type|sqfeet|beds|baths|cats_allowed|dogs_allowed|smoking_allowed|wheelchair_access|electric_vehicle_charge|comes_furnished|laundry_options|parking_options|image_url|description| lat|long|state|\n",
            "+---+---+------+----------+-----+----+------+----+-----+------------+------------+---------------+-----------------+-----------------------+---------------+---------------+---------------+---------+-----------+----+----+-----+\n",
            "|  0|  0|     0|         0|    0|   0|     0|   0|    0|           0|           0|              0|                0|                      0|              0|          79026|         140687|        0|          2|1918|1918|    0|\n",
            "+---+---+------+----------+-----+----+------+----+-----+------------+------------+---------------+-----------------+-----------------------+---------------+---------------+---------------+---------+-----------+----+----+-----+\n",
            "\n"
          ]
        }
      ]
    },
    {
      "cell_type": "markdown",
      "metadata": {
        "id": "L6dENzL3OAZ0"
      },
      "source": [
        "**Valeurs manquantes en pourcentage tronquées à 2 chiffres après la virgule :**"
      ]
    },
    {
      "cell_type": "code",
      "metadata": {
        "id": "PLHd-QSIL5iF",
        "colab": {
          "base_uri": "https://localhost:8080/"
        },
        "outputId": "3c147bcb-73d2-490e-f13f-50b49b21e7be"
      },
      "source": [
        "df.select([format_number(count(when(isnan(c), c))*100/count('id'),2).alias(c) for c in df.columns]).show()"
      ],
      "execution_count": null,
      "outputs": [
        {
          "output_type": "stream",
          "name": "stdout",
          "text": [
            "+----+----+------+----------+-----+----+------+----+-----+------------+------------+---------------+-----------------+-----------------------+---------------+---------------+---------------+---------+-----------+----+----+-----+\n",
            "|  id| url|region|region_url|price|type|sqfeet|beds|baths|cats_allowed|dogs_allowed|smoking_allowed|wheelchair_access|electric_vehicle_charge|comes_furnished|laundry_options|parking_options|image_url|description| lat|long|state|\n",
            "+----+----+------+----------+-----+----+------+----+-----+------------+------------+---------------+-----------------+-----------------------+---------------+---------------+---------------+---------+-----------+----+----+-----+\n",
            "|0.00|0.00|  0.00|      0.00| 0.00|0.00|  0.00|0.00| 0.00|        0.00|        0.00|           0.00|             0.00|                   0.00|           0.00|          20.53|          36.54|     0.00|       0.00|0.50|0.50| 0.00|\n",
            "+----+----+------+----------+-----+----+------+----+-----+------------+------------+---------------+-----------------+-----------------------+---------------+---------------+---------------+---------+-----------+----+----+-----+\n",
            "\n"
          ]
        }
      ]
    },
    {
      "cell_type": "markdown",
      "metadata": {
        "id": "Vq2RmAz12B6s"
      },
      "source": [
        "Nous observons **cinq colonnes ayant des valeurs manquantes** dont les colonnes *description*, *lat* et *long* que nous avons déjà vu prédemment.<br/>\n",
        "\n",
        "Les deux autres colonnes qui possèdent des valeurs manquantes sont *laundry_options* et *parking_options* qui en possèdent un nombre **assez conséquent** (respectivement 20.53% et 36.54%). \n",
        "\n",
        "Comme pour les colonnes de la latitude et de la longitude, nous pouvons :\n",
        "1. soit **supprimer les lignes où il y a une valeur manquante**, les valeurs manquantes étant assez nombreuses, nous pouvons perdre des exemples pertinents.\n",
        "2. soit directement **supprimer les colonnes**, mais cela ne semble pas un bon choix, la présence d'un parking ou d'une laverie devrait faire varier le prix d'un appartement et est donc potentiellement pertinente pour la prédiction.\n",
        "3. soit leur **assigner des valeurs**, mais ajouter des valeurs pré-définies peut introduire des biais.<br/>\n",
        "\n",
        "Nous allons par la suite choisir la **3ème méthode**."
      ]
    },
    {
      "cell_type": "markdown",
      "metadata": {
        "id": "stNUgHpy-qRo"
      },
      "source": [
        "## **Préparation des données**"
      ]
    },
    {
      "cell_type": "markdown",
      "metadata": {
        "id": "VEn7DYvN7-ck"
      },
      "source": [
        "### **Stratégie**\n",
        "\n",
        "**Suppression des colonnes non pertinentes :**"
      ]
    },
    {
      "cell_type": "code",
      "metadata": {
        "id": "4Am0647TqIbf",
        "colab": {
          "base_uri": "https://localhost:8080/"
        },
        "outputId": "a26babcf-5c38-464d-cff3-28f16e2bb6a4"
      },
      "source": [
        "# Liste des colonnes numériques\n",
        "num_col = [\"sqfeet\", \"beds\", \"baths\", \"lat\", \"long\"]\n",
        "\n",
        "# Liste des colonnes catégorielles encodées\n",
        "cat_col = [\"cats_allowed\", \"dogs_allowed\", \"smoking_allowed\",\\\n",
        "           \"electric_vehicle_charge\", \"comes_furnished\", \"wheelchair_access\"]\n",
        "\n",
        "# Liste des colonnes catégorielles non encodées (type : string)\n",
        "str_col = [\"region\", \"type\", \"laundry_options\", \"parking_options\", \"state\"]\n",
        "\n",
        "df_prep = df.select([\"price\"]+num_col+cat_col+str_col)\n",
        "df_prep.show(5)"
      ],
      "execution_count": null,
      "outputs": [
        {
          "output_type": "stream",
          "name": "stdout",
          "text": [
            "+-----+------+----+-----+-------+--------+------------+------------+---------------+-----------------------+---------------+-----------------+------------+---------+---------------+---------------+-----+\n",
            "|price|sqfeet|beds|baths|    lat|    long|cats_allowed|dogs_allowed|smoking_allowed|electric_vehicle_charge|comes_furnished|wheelchair_access|      region|     type|laundry_options|parking_options|state|\n",
            "+-----+------+----+-----+-------+--------+------------+------------+---------------+-----------------------+---------------+-----------------+------------+---------+---------------+---------------+-----+\n",
            "| 1148|  1078|   3|  2.0|39.5483|-119.796|           1|           1|              0|                      0|              0|                0|reno / tahoe|apartment|    w/d in unit|        carport|   ca|\n",
            "| 1200|  1001|   2|  2.0|39.5026|-119.789|           0|           0|              0|                      0|              0|                0|reno / tahoe|    condo|    w/d hookups|        carport|   ca|\n",
            "| 1813|  1683|   2|  2.0|39.6269|-119.708|           1|           1|              1|                      0|              0|                0|reno / tahoe|apartment|    w/d in unit|attached garage|   ca|\n",
            "| 1095|   708|   1|  1.0|39.4477|-119.771|           1|           1|              1|                      0|              0|                0|reno / tahoe|apartment|    w/d in unit|        carport|   ca|\n",
            "|  289|   250|   0|  1.0|39.5357|-119.805|           1|           1|              1|                      0|              1|                1|reno / tahoe|apartment|laundry on site|            NaN|   ca|\n",
            "+-----+------+----+-----+-------+--------+------------+------------+---------------+-----------------------+---------------+-----------------+------------+---------+---------------+---------------+-----+\n",
            "only showing top 5 rows\n",
            "\n"
          ]
        }
      ]
    },
    {
      "cell_type": "markdown",
      "metadata": {
        "id": "NZ7-WrKFAMK2"
      },
      "source": [
        "**Pipeline des colonnes numériques :**"
      ]
    },
    {
      "cell_type": "code",
      "metadata": {
        "id": "xsP1Q7rEALby",
        "colab": {
          "base_uri": "https://localhost:8080/"
        },
        "outputId": "ae752720-040b-499b-e959-4cbd89150210"
      },
      "source": [
        "from pyspark.ml.feature import RobustScaler, VectorAssembler\n",
        "from pyspark.ml import Pipeline\n",
        "\n",
        "# Suppression des 1918 lignes contenant une valeur manquante pour les colonnes lat et long\n",
        "df_prep = df_prep.where(~(isnan(\"lat\") | isnan(\"long\")))\n",
        "\n",
        "# Concaténation des colonnes numériques\n",
        "vec_assembler = VectorAssembler(inputCols=num_col, outputCol='num_features')\n",
        "\n",
        "# Normalisation avec RobustScaler car présence probable de valeurs aberrantes\n",
        "scaler = RobustScaler(inputCol = 'num_features', outputCol='scaled_num_features')\n",
        "\n",
        "# Pipeline des colonnes numériques\n",
        "num_stages = [vec_assembler, scaler]\n",
        "num_pipeline = Pipeline(stages = num_stages)\n",
        "df_prep = num_pipeline.fit(df_prep).transform(df_prep)\n",
        "\n",
        "# Affichages des colonnes concernées\n",
        "df_prep.select(num_col+['num_features', 'scaled_num_features']).show(10, truncate=False)"
      ],
      "execution_count": null,
      "outputs": [
        {
          "output_type": "stream",
          "name": "stdout",
          "text": [
            "+------+----+-----+-------+-------------------+--------------------------------------------+-------------------------------------------------------------------+\n",
            "|sqfeet|beds|baths|lat    |long               |num_features                                |scaled_num_features                                                |\n",
            "+------+----+-----+-------+-------------------+--------------------------------------------+-------------------------------------------------------------------+\n",
            "|1078  |3   |2.0  |39.5483|-119.796           |[1078.0,3.0,2.0,39.5483,-119.796]           |[2.7017543859649122,3.0,2.0,5.147373490212411,-6.11157309389588]   |\n",
            "|1001  |2   |2.0  |39.5026|-119.789           |[1001.0,2.0,2.0,39.5026,-119.789]           |[2.508771929824561,2.0,2.0,5.1414254477301125,-6.111215978369007]  |\n",
            "|1683  |2   |2.0  |39.6269|-119.708           |[1683.0,2.0,2.0,39.6269,-119.708]           |[4.2180451127819545,2.0,2.0,5.1576036026655565,-6.107083641558048] |\n",
            "|708   |1   |1.0  |39.4477|-119.771           |[708.0,1.0,1.0,39.4477,-119.771]            |[1.7744360902255638,1.0,1.0,5.134279987505206,-6.110297681299905]  |\n",
            "|250   |0   |1.0  |39.5357|-119.805           |[250.0,0.0,1.0,39.5357,-119.805]            |[0.6265664160401002,0.0,1.0,5.1457335485214495,-6.1120322424304305]|\n",
            "|720   |1   |1.0  |39.4572|-119.77600000000001|[720.0,1.0,1.0,39.4572,-119.77600000000001] |[1.8045112781954886,1.0,1.0,5.1355164514785505,-6.110552763819101] |\n",
            "|661   |1   |1.0  |39.5118|-119.802           |[661.0,1.0,1.0,39.5118,-119.802]            |[1.656641604010025,1.0,1.0,5.14262286547272,-6.111879192918914]    |\n",
            "|708   |1   |1.0  |39.4477|-119.771           |[708.0,1.0,1.0,39.4477,-119.771]            |[1.7744360902255638,1.0,1.0,5.134279987505206,-6.110297681299905]  |\n",
            "|1053  |2   |2.0  |39.6185|-119.67200000000001|[1053.0,2.0,2.0,39.6185,-119.67200000000001]|[2.6390977443609023,2.0,2.0,5.156510308204915,-6.105247047419845]  |\n",
            "|930   |2   |2.0  |39.5193|-119.897           |[930.0,2.0,2.0,39.5193,-119.897]            |[2.3308270676691727,2.0,2.0,5.14359902124115,-6.116725760783618]   |\n",
            "+------+----+-----+-------+-------------------+--------------------------------------------+-------------------------------------------------------------------+\n",
            "only showing top 10 rows\n",
            "\n"
          ]
        }
      ]
    },
    {
      "cell_type": "markdown",
      "metadata": {
        "id": "W6Z-bf4sAUiS"
      },
      "source": [
        "**Pipeline des colonnes catégorielles :**"
      ]
    },
    {
      "cell_type": "code",
      "metadata": {
        "id": "YLGSYEiNAVA7",
        "colab": {
          "base_uri": "https://localhost:8080/"
        },
        "outputId": "1e1c210a-c32d-4066-bfd7-a0b0334a1815"
      },
      "source": [
        "from pyspark.ml.feature import StringIndexer\n",
        "\n",
        "# Indexation des chaines de caractères\n",
        "index_names = ['indexed_'+s for s in str_col]\n",
        "indexer = StringIndexer(inputCols=str_col, outputCols=index_names)\n",
        "\n",
        "# Concaténation des colonnes catégorielles\n",
        "vec_assembler = VectorAssembler(inputCols=cat_col+index_names, outputCol='cat_features')\n",
        "\n",
        "# Pipeline des colonnes catégorielles\n",
        "cat_stages = [indexer, vec_assembler]\n",
        "cat_pipeline = Pipeline(stages = cat_stages)\n",
        "df_prep = cat_pipeline.fit(df_prep).transform(df_prep)\n",
        "\n",
        "# Affichages des colonnes concernées\n",
        "df_prep.select(str_col+index_names+['cat_features']).show(15, truncate=False)"
      ],
      "execution_count": null,
      "outputs": [
        {
          "output_type": "stream",
          "name": "stdout",
          "text": [
            "+------------+---------+---------------+------------------+-----+--------------+------------+-----------------------+-----------------------+-------------+----------------------------------------------+\n",
            "|region      |type     |laundry_options|parking_options   |state|indexed_region|indexed_type|indexed_laundry_options|indexed_parking_options|indexed_state|cat_features                                  |\n",
            "+------------+---------+---------------+------------------+-----+--------------+------------+-----------------------+-----------------------+-------------+----------------------------------------------+\n",
            "|reno / tahoe|apartment|w/d in unit    |carport           |ca   |20.0          |0.0         |0.0                    |3.0                    |0.0          |(11,[0,1,6,9],[1.0,1.0,20.0,3.0])             |\n",
            "|reno / tahoe|condo    |w/d hookups    |carport           |ca   |20.0          |3.0         |2.0                    |3.0                    |0.0          |(11,[6,7,8,9],[20.0,3.0,2.0,3.0])             |\n",
            "|reno / tahoe|apartment|w/d in unit    |attached garage   |ca   |20.0          |0.0         |0.0                    |2.0                    |0.0          |(11,[0,1,2,6,9],[1.0,1.0,1.0,20.0,2.0])       |\n",
            "|reno / tahoe|apartment|w/d in unit    |carport           |ca   |20.0          |0.0         |0.0                    |3.0                    |0.0          |(11,[0,1,2,6,9],[1.0,1.0,1.0,20.0,3.0])       |\n",
            "|reno / tahoe|apartment|laundry on site|NaN               |ca   |20.0          |0.0         |3.0                    |0.0                    |0.0          |[1.0,1.0,1.0,0.0,1.0,1.0,20.0,0.0,3.0,0.0,0.0]|\n",
            "|reno / tahoe|apartment|laundry in bldg|NaN               |ca   |20.0          |0.0         |4.0                    |0.0                    |0.0          |(11,[0,1,2,6,8],[1.0,1.0,1.0,20.0,4.0])       |\n",
            "|reno / tahoe|apartment|laundry on site|off-street parking|ca   |20.0          |0.0         |3.0                    |1.0                    |0.0          |(11,[0,1,2,6,8,9],[1.0,1.0,1.0,20.0,3.0,1.0]) |\n",
            "|reno / tahoe|apartment|w/d in unit    |carport           |ca   |20.0          |0.0         |0.0                    |3.0                    |0.0          |(11,[0,1,2,6,9],[1.0,1.0,1.0,20.0,3.0])       |\n",
            "|reno / tahoe|apartment|w/d in unit    |carport           |ca   |20.0          |0.0         |0.0                    |3.0                    |0.0          |(11,[0,1,6,9],[1.0,1.0,20.0,3.0])             |\n",
            "|reno / tahoe|condo    |w/d in unit    |carport           |ca   |20.0          |3.0         |0.0                    |3.0                    |0.0          |(11,[6,7,9],[20.0,3.0,3.0])                   |\n",
            "|reno / tahoe|apartment|NaN            |NaN               |ca   |20.0          |0.0         |1.0                    |0.0                    |0.0          |(11,[2,6,8],[1.0,20.0,1.0])                   |\n",
            "|reno / tahoe|house    |w/d hookups    |attached garage   |ca   |20.0          |1.0         |2.0                    |2.0                    |0.0          |(11,[6,7,8,9],[20.0,1.0,2.0,2.0])             |\n",
            "|reno / tahoe|apartment|w/d in unit    |carport           |ca   |20.0          |0.0         |0.0                    |3.0                    |0.0          |(11,[0,1,2,6,9],[1.0,1.0,1.0,20.0,3.0])       |\n",
            "|reno / tahoe|apartment|w/d in unit    |NaN               |ca   |20.0          |0.0         |0.0                    |0.0                    |0.0          |(11,[0,1,6],[1.0,1.0,20.0])                   |\n",
            "|reno / tahoe|apartment|w/d in unit    |off-street parking|ca   |20.0          |0.0         |0.0                    |1.0                    |0.0          |(11,[0,1,2,6,9],[1.0,1.0,1.0,20.0,1.0])       |\n",
            "+------------+---------+---------------+------------------+-----+--------------+------------+-----------------------+-----------------------+-------------+----------------------------------------------+\n",
            "only showing top 15 rows\n",
            "\n"
          ]
        }
      ]
    },
    {
      "cell_type": "markdown",
      "metadata": {
        "id": "KbIgS4Jri9f6"
      },
      "source": [
        "L'indexer semble mettre toutes les valeurs manquantes dans une même catégorie, les valeurs NaN sont alors éliminées."
      ]
    },
    {
      "cell_type": "markdown",
      "metadata": {
        "id": "5zCDonIQAKgO"
      },
      "source": [
        "**Affichages des features produites :**"
      ]
    },
    {
      "cell_type": "code",
      "metadata": {
        "id": "vubOcIOutVzh",
        "colab": {
          "base_uri": "https://localhost:8080/"
        },
        "outputId": "94c0492d-3206-4665-f14a-ef79eb471766"
      },
      "source": [
        "df_prep.select(\"scaled_num_features\", \"cat_features\").show(10, truncate=False)"
      ],
      "execution_count": null,
      "outputs": [
        {
          "output_type": "stream",
          "name": "stdout",
          "text": [
            "+-------------------------------------------------------------------+----------------------------------------------+\n",
            "|scaled_num_features                                                |cat_features                                  |\n",
            "+-------------------------------------------------------------------+----------------------------------------------+\n",
            "|[2.7017543859649122,3.0,2.0,5.147373490212411,-6.11157309389588]   |(11,[0,1,6,9],[1.0,1.0,20.0,3.0])             |\n",
            "|[2.508771929824561,2.0,2.0,5.1414254477301125,-6.111215978369007]  |(11,[6,7,8,9],[20.0,3.0,2.0,3.0])             |\n",
            "|[4.2180451127819545,2.0,2.0,5.1576036026655565,-6.107083641558048] |(11,[0,1,2,6,9],[1.0,1.0,1.0,20.0,2.0])       |\n",
            "|[1.7744360902255638,1.0,1.0,5.134279987505206,-6.110297681299905]  |(11,[0,1,2,6,9],[1.0,1.0,1.0,20.0,3.0])       |\n",
            "|[0.6265664160401002,0.0,1.0,5.1457335485214495,-6.1120322424304305]|[1.0,1.0,1.0,0.0,1.0,1.0,20.0,0.0,3.0,0.0,0.0]|\n",
            "|[1.8045112781954886,1.0,1.0,5.1355164514785505,-6.110552763819101] |(11,[0,1,2,6,8],[1.0,1.0,1.0,20.0,4.0])       |\n",
            "|[1.656641604010025,1.0,1.0,5.14262286547272,-6.111879192918914]    |(11,[0,1,2,6,8,9],[1.0,1.0,1.0,20.0,3.0,1.0]) |\n",
            "|[1.7744360902255638,1.0,1.0,5.134279987505206,-6.110297681299905]  |(11,[0,1,2,6,9],[1.0,1.0,1.0,20.0,3.0])       |\n",
            "|[2.6390977443609023,2.0,2.0,5.156510308204915,-6.105247047419845]  |(11,[0,1,6,9],[1.0,1.0,20.0,3.0])             |\n",
            "|[2.3308270676691727,2.0,2.0,5.14359902124115,-6.116725760783618]   |(11,[6,7,9],[20.0,3.0,3.0])                   |\n",
            "+-------------------------------------------------------------------+----------------------------------------------+\n",
            "only showing top 10 rows\n",
            "\n"
          ]
        }
      ]
    },
    {
      "cell_type": "markdown",
      "metadata": {
        "id": "UzEMRAbtuo3X"
      },
      "source": [
        "**Assemblage des features :**"
      ]
    },
    {
      "cell_type": "code",
      "metadata": {
        "id": "KrQRl7_6ut7P",
        "colab": {
          "base_uri": "https://localhost:8080/"
        },
        "outputId": "cea29af3-377e-442b-f944-a5a4fe0a222c"
      },
      "source": [
        "features_col = [\"scaled_num_features\", \"cat_features\"]\n",
        "vec_assembler = VectorAssembler(inputCols=features_col, outputCol='features')\n",
        "df_prep = vec_assembler.transform(df_prep)\n",
        "\n",
        "df_prep.select('features').show(10, truncate=False)"
      ],
      "execution_count": null,
      "outputs": [
        {
          "output_type": "stream",
          "name": "stdout",
          "text": [
            "+----------------------------------------------------------------------------------------------------------------+\n",
            "|features                                                                                                        |\n",
            "+----------------------------------------------------------------------------------------------------------------+\n",
            "|(16,[0,1,2,3,4,5,6,11,14],[2.7017543859649122,3.0,2.0,5.147373490212411,-6.11157309389588,1.0,1.0,20.0,3.0])    |\n",
            "|(16,[0,1,2,3,4,11,12,13,14],[2.508771929824561,2.0,2.0,5.1414254477301125,-6.111215978369007,20.0,3.0,2.0,3.0]) |\n",
            "|[4.2180451127819545,2.0,2.0,5.1576036026655565,-6.107083641558048,1.0,1.0,1.0,0.0,0.0,0.0,20.0,0.0,0.0,2.0,0.0] |\n",
            "|[1.7744360902255638,1.0,1.0,5.134279987505206,-6.110297681299905,1.0,1.0,1.0,0.0,0.0,0.0,20.0,0.0,0.0,3.0,0.0]  |\n",
            "|[0.6265664160401002,0.0,1.0,5.1457335485214495,-6.1120322424304305,1.0,1.0,1.0,0.0,1.0,1.0,20.0,0.0,3.0,0.0,0.0]|\n",
            "|[1.8045112781954886,1.0,1.0,5.1355164514785505,-6.110552763819101,1.0,1.0,1.0,0.0,0.0,0.0,20.0,0.0,4.0,0.0,0.0] |\n",
            "|[1.656641604010025,1.0,1.0,5.14262286547272,-6.111879192918914,1.0,1.0,1.0,0.0,0.0,0.0,20.0,0.0,3.0,1.0,0.0]    |\n",
            "|[1.7744360902255638,1.0,1.0,5.134279987505206,-6.110297681299905,1.0,1.0,1.0,0.0,0.0,0.0,20.0,0.0,0.0,3.0,0.0]  |\n",
            "|(16,[0,1,2,3,4,5,6,11,14],[2.6390977443609023,2.0,2.0,5.156510308204915,-6.105247047419845,1.0,1.0,20.0,3.0])   |\n",
            "|(16,[0,1,2,3,4,11,12,14],[2.3308270676691727,2.0,2.0,5.14359902124115,-6.116725760783618,20.0,3.0,3.0])         |\n",
            "+----------------------------------------------------------------------------------------------------------------+\n",
            "only showing top 10 rows\n",
            "\n"
          ]
        }
      ]
    },
    {
      "cell_type": "markdown",
      "metadata": {
        "id": "qjmkt7mWRxmj"
      },
      "source": [
        "**Suppression des étiquettes aberrantes :**"
      ]
    },
    {
      "cell_type": "markdown",
      "metadata": {
        "id": "ligZKQy_bWdP"
      },
      "source": [
        "![](https://editor.analyticsvidhya.com/uploads/12311IQR.png)\n"
      ]
    },
    {
      "cell_type": "markdown",
      "metadata": {
        "id": "WcskKm5Ba_bO"
      },
      "source": [
        "Tout d'abord nous nous sommes appuyé sur l'utilisation des **quartiles** afin d'essayer de **retirer les outliers**.\n",
        "\n",
        "q1, q3, iqr, lower, upper nous donne respectivement 806.0, 1395.0, 589.0, -77.5 et 2278.5.\n",
        "\n",
        "Comme on peut le voir **lower est négatif**, de ce fait il est inutilisable pour *price* qui ne peut être inférieur à 0. De façon empirique, nous avons trouvé une tranche de valeur permettant d'avoir suffisamment de valeurs exploitables tout en retirant les outliers."
      ]
    },
    {
      "cell_type": "code",
      "metadata": {
        "id": "0PrFhBnDRuE0",
        "colab": {
          "base_uri": "https://localhost:8080/"
        },
        "outputId": "3802ce45-a5d6-4f3f-ca3e-f24cb27b3d9b"
      },
      "source": [
        "q1, q3 = df_prep.approxQuantile('price', [0.25, 0.75], 0)\n",
        "iqr = q3 - q1\n",
        "lower = q1 - (iqr * 1.5)\n",
        "upper = q3 + (iqr * 1.5)\n",
        "\n",
        "print(q1, q3, iqr, lower, upper)\n",
        "\n",
        "# Suppression d'ouliers\n",
        "df_prep = df_prep.where((col('price') > 450) & ((col('price') < 3000)))\n",
        "\n",
        "# Affichage des features et du label\n",
        "df_prep.select('features', col('price').alias('label')).show(truncate=False)"
      ],
      "execution_count": null,
      "outputs": [
        {
          "output_type": "stream",
          "name": "stdout",
          "text": [
            "806.0 1395.0 589.0 -77.5 2278.5\n",
            "+---------------------------------------------------------------------------------------------------------------+-----+\n",
            "|features                                                                                                       |label|\n",
            "+---------------------------------------------------------------------------------------------------------------+-----+\n",
            "|(16,[0,1,2,3,4,5,6,11,14],[2.7017543859649122,3.0,2.0,5.147373490212411,-6.11157309389588,1.0,1.0,20.0,3.0])   |1148 |\n",
            "|(16,[0,1,2,3,4,11,12,13,14],[2.508771929824561,2.0,2.0,5.1414254477301125,-6.111215978369007,20.0,3.0,2.0,3.0])|1200 |\n",
            "|[4.2180451127819545,2.0,2.0,5.1576036026655565,-6.107083641558048,1.0,1.0,1.0,0.0,0.0,0.0,20.0,0.0,0.0,2.0,0.0]|1813 |\n",
            "|[1.7744360902255638,1.0,1.0,5.134279987505206,-6.110297681299905,1.0,1.0,1.0,0.0,0.0,0.0,20.0,0.0,0.0,3.0,0.0] |1095 |\n",
            "|[1.8045112781954886,1.0,1.0,5.1355164514785505,-6.110552763819101,1.0,1.0,1.0,0.0,0.0,0.0,20.0,0.0,4.0,0.0,0.0]|1093 |\n",
            "|[1.656641604010025,1.0,1.0,5.14262286547272,-6.111879192918914,1.0,1.0,1.0,0.0,0.0,0.0,20.0,0.0,3.0,1.0,0.0]   |935  |\n",
            "|[1.7744360902255638,1.0,1.0,5.134279987505206,-6.110297681299905,1.0,1.0,1.0,0.0,0.0,0.0,20.0,0.0,0.0,3.0,0.0] |1095 |\n",
            "|(16,[0,1,2,3,4,5,6,11,14],[2.6390977443609023,2.0,2.0,5.156510308204915,-6.105247047419845,1.0,1.0,20.0,3.0])  |1525 |\n",
            "|(16,[0,1,2,3,4,11,12,14],[2.3308270676691727,2.0,2.0,5.14359902124115,-6.116725760783618,20.0,3.0,3.0])        |1295 |\n",
            "|(16,[0,1,2,3,4,7,11,13],[1.8045112781954886,1.0,1.0,5.1355164514785505,-6.110552763819101,1.0,20.0,1.0])       |1086 |\n",
            "|(16,[0,1,2,3,4,11,12,13,14],[7.807017543859649,4.0,3.0,5.15393325697626,-6.106318394000463,20.0,1.0,2.0,2.0])  |2195 |\n",
            "|[2.9598997493734336,3.0,2.0,5.146084964598085,-6.114991199653092,1.0,1.0,1.0,0.0,0.0,0.0,20.0,0.0,0.0,3.0,0.0] |1159 |\n",
            "|(16,[0,1,2,3,4,5,6,11],[1.9197994987468672,1.0,1.0,5.146202103290296,-6.109226334719286,1.0,1.0,20.0])         |1349 |\n",
            "|[1.9147869674185463,1.0,1.0,5.14762078300708,-6.107593806596438,1.0,1.0,1.0,0.0,0.0,0.0,20.0,0.0,0.0,1.0,0.0]  |1449 |\n",
            "|(16,[0,1,2,3,4,11,14],[2.3834586466165413,2.0,2.0,5.14911755518534,-6.113205622018727,20.0,1.0])               |1295 |\n",
            "|(16,[0,1,2,3,4,5,6,11,14],[2.3032581453634084,2.0,2.0,5.147373490212411,-6.11157309389588,1.0,1.0,20.0,3.0])   |982  |\n",
            "|(16,[0,1,2,3,4,5,6,11,14],[2.989974937343358,2.0,2.0,5.1282668679716785,-6.109481417238481,1.0,1.0,20.0,2.0])  |1895 |\n",
            "|[2.987468671679198,3.0,1.0,5.158905143690129,-6.115858480218355,1.0,1.0,0.0,0.0,0.0,0.0,20.0,4.0,2.0,4.0,0.0]  |1495 |\n",
            "|(16,[0,1,2,3,4,11,12,14],[4.010025062656641,3.0,2.0,5.149078508954602,-6.106420427008141,20.0,1.0,2.0])        |1899 |\n",
            "|[2.2305764411027567,2.0,2.0,5.150249895876718,-6.110858862842134,1.0,1.0,1.0,0.0,0.0,0.0,20.0,0.0,3.0,1.0,0.0] |1075 |\n",
            "+---------------------------------------------------------------------------------------------------------------+-----+\n",
            "only showing top 20 rows\n",
            "\n"
          ]
        }
      ]
    },
    {
      "cell_type": "markdown",
      "metadata": {
        "id": "gb0Le7NfTGp5"
      },
      "source": [
        "### **Sans stratégie**"
      ]
    },
    {
      "cell_type": "markdown",
      "metadata": {
        "id": "QKNbCy5aUz9S"
      },
      "source": [
        "**Traitement des colonnes numériques :**"
      ]
    },
    {
      "cell_type": "markdown",
      "metadata": {
        "id": "y5qiRlPze9Lm"
      },
      "source": [
        "Pour la version sans stratégie nous avons quand même **supprimer les lignes avec valeurs manquantes** des colonnes *lat* et *long* afin d'avoir le même nombre de ligne que les données avec stratégie. Ainsi, le découpage **train/test** se fera de la même façon avec un *seed* équivalent."
      ]
    },
    {
      "cell_type": "code",
      "metadata": {
        "colab": {
          "base_uri": "https://localhost:8080/"
        },
        "id": "RijPuc4UTqf3",
        "outputId": "eb30dcc2-6a5f-4123-a345-79c396b24188"
      },
      "source": [
        "from pyspark.ml.feature import RobustScaler, VectorAssembler\n",
        "from pyspark.ml import Pipeline\n",
        "\n",
        "# Suppression des 1918 lignes contenant une valeur manquante pour les colonnes lat et long\n",
        "df_no_prep = df.where(~(isnan(\"lat\") | isnan(\"long\")))\n",
        "\n",
        "# Concaténation des colonnes numériques\n",
        "vec_assembler = VectorAssembler(inputCols=num_col[1:], outputCol='num_features')\n",
        "df_no_prep = vec_assembler.transform(df_no_prep)\n",
        "\n",
        "# Affichages des colonnes concernées\n",
        "df_no_prep.select(num_col+['num_features']).show(10, truncate=False)"
      ],
      "execution_count": null,
      "outputs": [
        {
          "output_type": "stream",
          "name": "stdout",
          "text": [
            "+-----+------+----+-----+-------+-------------------+--------------------------------------------+\n",
            "|price|sqfeet|beds|baths|lat    |long               |num_features                                |\n",
            "+-----+------+----+-----+-------+-------------------+--------------------------------------------+\n",
            "|1148 |1078  |3   |2.0  |39.5483|-119.796           |[1078.0,3.0,2.0,39.5483,-119.796]           |\n",
            "|1200 |1001  |2   |2.0  |39.5026|-119.789           |[1001.0,2.0,2.0,39.5026,-119.789]           |\n",
            "|1813 |1683  |2   |2.0  |39.6269|-119.708           |[1683.0,2.0,2.0,39.6269,-119.708]           |\n",
            "|1095 |708   |1   |1.0  |39.4477|-119.771           |[708.0,1.0,1.0,39.4477,-119.771]            |\n",
            "|289  |250   |0   |1.0  |39.5357|-119.805           |[250.0,0.0,1.0,39.5357,-119.805]            |\n",
            "|1093 |720   |1   |1.0  |39.4572|-119.77600000000001|[720.0,1.0,1.0,39.4572,-119.77600000000001] |\n",
            "|935  |661   |1   |1.0  |39.5118|-119.802           |[661.0,1.0,1.0,39.5118,-119.802]            |\n",
            "|1095 |708   |1   |1.0  |39.4477|-119.771           |[708.0,1.0,1.0,39.4477,-119.771]            |\n",
            "|1525 |1053  |2   |2.0  |39.6185|-119.67200000000001|[1053.0,2.0,2.0,39.6185,-119.67200000000001]|\n",
            "|1295 |930   |2   |2.0  |39.5193|-119.897           |[930.0,2.0,2.0,39.5193,-119.897]            |\n",
            "+-----+------+----+-----+-------+-------------------+--------------------------------------------+\n",
            "only showing top 10 rows\n",
            "\n"
          ]
        }
      ]
    },
    {
      "cell_type": "markdown",
      "metadata": {
        "id": "rCedbk76U4IJ"
      },
      "source": [
        "**Pipeline des colonnes catégorielles :**"
      ]
    },
    {
      "cell_type": "markdown",
      "metadata": {
        "id": "ZZGahOX1iUqJ"
      },
      "source": [
        "Nous avons supprimé les colonnes *description* et *url* car elles contiennent **trop de valeurs distinctes**. L'arbre de regression ne supporte pas autant d'éléments. Nous aurions pu utiliser la fonction Bucketizer afin de **réduire le nombres de valeurs distinctes** mais cela ne change pas le fait que *description* ne changera pas le prix et que les informations de *url* sont dans *region_url*."
      ]
    },
    {
      "cell_type": "code",
      "metadata": {
        "id": "xvK5QLoHUtDS"
      },
      "source": [
        "from pyspark.ml.feature import StringIndexer\n",
        "\n",
        "str_col = [ \"region\", \"region_url\", \"type\", \"laundry_options\",\\\n",
        "           \"parking_options\", \"image_url\", \"state\"]\n",
        "\n",
        "# Indexation des chaines de caractères\n",
        "index_names = ['indexed_'+s for s in str_col]\n",
        "indexer = StringIndexer(inputCols=str_col, outputCols=index_names)"
      ],
      "execution_count": null,
      "outputs": []
    },
    {
      "cell_type": "code",
      "metadata": {
        "id": "Hsl8e-d1oLos"
      },
      "source": [
        "# Concaténation des colonnes catégorielles\n",
        "vec_assembler = VectorAssembler(inputCols=cat_col+ index_names, outputCol='cat_features')\n",
        "\n",
        "cat_stages = [indexer, vec_assembler]\n",
        "cat_pipeline = Pipeline(stages = cat_stages)\n",
        "df_no_prep = cat_pipeline.fit(df_no_prep).transform(df_no_prep)"
      ],
      "execution_count": null,
      "outputs": []
    },
    {
      "cell_type": "markdown",
      "metadata": {
        "id": "0niojnjHVCR2"
      },
      "source": [
        "**Assemblage des features**"
      ]
    },
    {
      "cell_type": "code",
      "metadata": {
        "id": "eS-I87SqVCod",
        "colab": {
          "base_uri": "https://localhost:8080/"
        },
        "outputId": "4f165ac0-61b2-4217-80ef-5bc5cc707f4a"
      },
      "source": [
        "features_col = [\"num_features\", \"cat_features\"]\n",
        "vec_assembler = VectorAssembler(inputCols=features_col, outputCol='features')\n",
        "df_no_prep = vec_assembler.transform(df_no_prep)\n",
        "\n",
        "df_no_prep.select('features').show(10, truncate=False)"
      ],
      "execution_count": null,
      "outputs": [
        {
          "output_type": "stream",
          "name": "stdout",
          "text": [
            "+------------------------------------------------------------------------------------------------------+\n",
            "|features                                                                                              |\n",
            "+------------------------------------------------------------------------------------------------------+\n",
            "|[1078.0,3.0,2.0,39.5483,-119.796,1.0,1.0,0.0,0.0,0.0,0.0,20.0,16.0,0.0,0.0,3.0,1080.0,0.0]            |\n",
            "|[1001.0,2.0,2.0,39.5026,-119.789,0.0,0.0,0.0,0.0,0.0,0.0,20.0,16.0,3.0,2.0,3.0,41232.0,0.0]           |\n",
            "|[1683.0,2.0,2.0,39.6269,-119.708,1.0,1.0,1.0,0.0,0.0,0.0,20.0,16.0,0.0,0.0,2.0,19113.0,0.0]           |\n",
            "|[708.0,1.0,1.0,39.4477,-119.771,1.0,1.0,1.0,0.0,0.0,0.0,20.0,16.0,0.0,0.0,3.0,498.0,0.0]              |\n",
            "|[250.0,0.0,1.0,39.5357,-119.805,1.0,1.0,1.0,0.0,1.0,1.0,20.0,16.0,0.0,3.0,0.0,110.0,0.0]              |\n",
            "|[720.0,1.0,1.0,39.4572,-119.77600000000001,1.0,1.0,1.0,0.0,0.0,0.0,20.0,16.0,0.0,4.0,0.0,11592.0,0.0] |\n",
            "|[661.0,1.0,1.0,39.5118,-119.802,1.0,1.0,1.0,0.0,0.0,0.0,20.0,16.0,0.0,3.0,1.0,77411.0,0.0]            |\n",
            "|[708.0,1.0,1.0,39.4477,-119.771,1.0,1.0,1.0,0.0,0.0,0.0,20.0,16.0,0.0,0.0,3.0,498.0,0.0]              |\n",
            "|[1053.0,2.0,2.0,39.6185,-119.67200000000001,1.0,1.0,0.0,0.0,0.0,0.0,20.0,16.0,0.0,0.0,3.0,24961.0,0.0]|\n",
            "|(18,[0,1,2,3,4,11,12,13,15,16],[930.0,2.0,2.0,39.5193,-119.897,20.0,16.0,3.0,3.0,14425.0])            |\n",
            "+------------------------------------------------------------------------------------------------------+\n",
            "only showing top 10 rows\n",
            "\n"
          ]
        }
      ]
    },
    {
      "cell_type": "code",
      "metadata": {
        "colab": {
          "base_uri": "https://localhost:8080/"
        },
        "id": "6aH8ACd8NWAO",
        "outputId": "56a13669-e223-4aee-f630-c293023086d3"
      },
      "source": [
        "# Suppression d'ouliers\n",
        "df_no_prep = df_no_prep.where((col('price') > 450) & ((col('price') < 3000)))\n",
        "\n",
        "# Affichage des features et du label\n",
        "df_no_prep.select('features', col('price').alias('label')).show(truncate=False)"
      ],
      "execution_count": null,
      "outputs": [
        {
          "output_type": "stream",
          "name": "stdout",
          "text": [
            "+------------------------------------------------------------------------------------------------------+-----+\n",
            "|features                                                                                              |label|\n",
            "+------------------------------------------------------------------------------------------------------+-----+\n",
            "|[1078.0,3.0,2.0,39.5483,-119.796,1.0,1.0,0.0,0.0,0.0,0.0,20.0,16.0,0.0,0.0,3.0,1080.0,0.0]            |1148 |\n",
            "|[1001.0,2.0,2.0,39.5026,-119.789,0.0,0.0,0.0,0.0,0.0,0.0,20.0,16.0,3.0,2.0,3.0,41232.0,0.0]           |1200 |\n",
            "|[1683.0,2.0,2.0,39.6269,-119.708,1.0,1.0,1.0,0.0,0.0,0.0,20.0,16.0,0.0,0.0,2.0,19113.0,0.0]           |1813 |\n",
            "|[708.0,1.0,1.0,39.4477,-119.771,1.0,1.0,1.0,0.0,0.0,0.0,20.0,16.0,0.0,0.0,3.0,498.0,0.0]              |1095 |\n",
            "|[720.0,1.0,1.0,39.4572,-119.77600000000001,1.0,1.0,1.0,0.0,0.0,0.0,20.0,16.0,0.0,4.0,0.0,11592.0,0.0] |1093 |\n",
            "|[661.0,1.0,1.0,39.5118,-119.802,1.0,1.0,1.0,0.0,0.0,0.0,20.0,16.0,0.0,3.0,1.0,77411.0,0.0]            |935  |\n",
            "|[708.0,1.0,1.0,39.4477,-119.771,1.0,1.0,1.0,0.0,0.0,0.0,20.0,16.0,0.0,0.0,3.0,498.0,0.0]              |1095 |\n",
            "|[1053.0,2.0,2.0,39.6185,-119.67200000000001,1.0,1.0,0.0,0.0,0.0,0.0,20.0,16.0,0.0,0.0,3.0,24961.0,0.0]|1525 |\n",
            "|(18,[0,1,2,3,4,11,12,13,15,16],[930.0,2.0,2.0,39.5193,-119.897,20.0,16.0,3.0,3.0,14425.0])            |1295 |\n",
            "|(18,[0,1,2,3,4,7,11,12,14,16],[720.0,1.0,1.0,39.4572,-119.77600000000001,1.0,20.0,16.0,1.0,97830.0])  |1086 |\n",
            "|[3115.0,4.0,3.0,39.5987,-119.693,0.0,0.0,0.0,0.0,0.0,0.0,20.0,16.0,1.0,2.0,2.0,11342.0,0.0]           |2195 |\n",
            "|[1181.0,3.0,2.0,39.5384,-119.863,1.0,1.0,1.0,0.0,0.0,0.0,20.0,16.0,0.0,0.0,3.0,112280.0,0.0]          |1159 |\n",
            "|(18,[0,1,2,3,4,5,6,11,12,16],[766.0,1.0,1.0,39.5393,-119.75,1.0,1.0,20.0,16.0,4099.0])                |1349 |\n",
            "|[764.0,1.0,1.0,39.5502,-119.71799999999999,1.0,1.0,1.0,0.0,0.0,0.0,20.0,16.0,0.0,0.0,1.0,35619.0,0.0] |1449 |\n",
            "|(18,[0,1,2,3,4,11,12,15,16],[951.0,2.0,2.0,39.5617,-119.82799999999999,20.0,16.0,1.0,10887.0])        |1295 |\n",
            "|[919.0,2.0,2.0,39.5483,-119.796,1.0,1.0,0.0,0.0,0.0,0.0,20.0,16.0,0.0,0.0,3.0,1080.0,0.0]             |982  |\n",
            "|[1193.0,2.0,2.0,39.4015,-119.755,1.0,1.0,0.0,0.0,0.0,0.0,20.0,16.0,0.0,0.0,2.0,8686.0,0.0]            |1895 |\n",
            "|[1192.0,3.0,1.0,39.6369,-119.88,1.0,1.0,0.0,0.0,0.0,0.0,20.0,16.0,4.0,2.0,4.0,27256.0,0.0]            |1495 |\n",
            "|(18,[0,1,2,3,4,11,12,13,15,16],[1600.0,3.0,2.0,39.5614,-119.695,20.0,16.0,1.0,2.0,44219.0])           |1899 |\n",
            "|[890.0,2.0,2.0,39.5704,-119.78200000000001,1.0,1.0,1.0,0.0,0.0,0.0,20.0,16.0,0.0,3.0,1.0,141364.0,0.0]|1075 |\n",
            "+------------------------------------------------------------------------------------------------------+-----+\n",
            "only showing top 20 rows\n",
            "\n"
          ]
        }
      ]
    },
    {
      "cell_type": "markdown",
      "metadata": {
        "id": "n6piTQRHwkr2"
      },
      "source": [
        "## **Modeling**"
      ]
    },
    {
      "cell_type": "markdown",
      "metadata": {
        "id": "DwsQL62VLq9a"
      },
      "source": [
        "**Modèle avec stratégie :**\n",
        "\n",
        "* Nous séparons dans un premier temps les données afin d'obtenir un **ensemble d'apprentissage** qui servira à entraîner notre modèle et un **ensemble de test** utilisé pour l'évaluation des performances du modèle.\n",
        "* Le paramètre *maxBins* de l'arbre de décision doit **être supérieur ou égal** au nombre de valeurs distinctes de la colonne en possèdant le plus.\n",
        "* Le **GridSearch** met environ 5 minutes à s'exécuter."
      ]
    },
    {
      "cell_type": "code",
      "metadata": {
        "id": "OpACcmlGwpXu"
      },
      "source": [
        "from pyspark.ml.regression import DecisionTreeRegressor\n",
        "from pyspark.ml.tuning import CrossValidator, ParamGridBuilder\n",
        "from pyspark.ml.evaluation import RegressionEvaluator\n",
        "\n",
        "# Création des valeurs d'entrainement (80%) et de test (20%)\n",
        "train_data, test_data = df_prep.select('features', col('price').alias('label')).randomSplit([0.8, 0.2], seed=0)\n",
        "\n",
        "# maxBins doit être supérieur ou égal au nombre de valeurs distinctes de la colonne en possèdant le plus.\n",
        "# La colonne région contient 404 valeurs distinctes\n",
        "dt = DecisionTreeRegressor(featuresCol=\"features\", labelCol=\"label\", maxBins=404)\n",
        "\n",
        "# Paramètres à explorer par le GridSearch\n",
        "dt_paramGrid = ParamGridBuilder()\\\n",
        "        .addGrid(dt.minInstancesPerNode, [10, 100])\\\n",
        "        .build()\n",
        "\n",
        "# Evaluateur\n",
        "evaluatorPR = RegressionEvaluator()\n",
        "\n",
        "# Cross validation avec 3 folds\n",
        "cv = CrossValidator(estimator=dt,\\\n",
        "                    estimatorParamMaps=dt_paramGrid,\\\n",
        "                    evaluator = evaluatorPR,\\\n",
        "                    numFolds=3,\\\n",
        "                    parallelism=2)\n",
        "\n",
        "# Recherche des meilleurs hyperparamètres\n",
        "cvModel = cv.fit(train_data)\n",
        "bestModel = cvModel.bestModel\n",
        "\n",
        "# Affichage\n",
        "# print(bestModel.toDebugString)"
      ],
      "execution_count": null,
      "outputs": []
    },
    {
      "cell_type": "markdown",
      "metadata": {
        "id": "0VtGvzBMfNUK"
      },
      "source": [
        "**Résultats sur les données de test avec stratégie :**"
      ]
    },
    {
      "cell_type": "code",
      "metadata": {
        "colab": {
          "base_uri": "https://localhost:8080/",
          "height": 384
        },
        "id": "IgSn9nuqfQwJ",
        "outputId": "ca1ac521-e57e-415e-a39d-ac6eddb5a18a"
      },
      "source": [
        "import matplotlib.pyplot as plt\n",
        "\n",
        "# Prédictions sur les données de tests\n",
        "pred_df = bestModel.transform(test_data)\n",
        "\n",
        "# Evaluation avec les métriques RMSE et MAE\n",
        "eval_rmse = RegressionEvaluator(metricName='rmse')\n",
        "print('RMSE :', eval_rmse.evaluate(pred_df))\n",
        "eval_mae = RegressionEvaluator(metricName='mae')\n",
        "print('MAE  :', eval_mae.evaluate(pred_df))\n",
        "\n",
        "# Récupération des valeurs pour les plots\n",
        "yhat = pred_df.select(\"prediction\").collect()\n",
        "y_true = test_data.select(\"label\").collect()\n",
        "\n",
        "# Plots\n",
        "nb_points = 200\n",
        "plt.figure(figsize=(15,5))\n",
        "plt.title(\"Prédiction vs Label\", fontweight='bold')\n",
        "plt.xlabel(\"Index\")\n",
        "plt.ylabel('Price')\n",
        "plt.plot(range(0, nb_points), yhat[:nb_points], label='Prédiction')\n",
        "plt.plot(range(0, nb_points), y_true[:nb_points], label='Label')\n",
        "plt.legend()\n",
        "plt.show()"
      ],
      "execution_count": null,
      "outputs": [
        {
          "output_type": "stream",
          "name": "stdout",
          "text": [
            "RMSE : 279.96711900884804\n",
            "MAE  : 195.43206159439336\n"
          ]
        },
        {
          "output_type": "display_data",
          "data": {
            "image/png": "[encoded data removed]",
            "text/plain": [
              "<Figure size 1080x360 with 1 Axes>"
            ]
          },
          "metadata": {
            "needs_background": "light"
          }
        }
      ]
    },
    {
      "cell_type": "markdown",
      "metadata": {
        "id": "gBP2L3-I4oNb"
      },
      "source": [
        "Nous observons que la ligne bleue suit plus ou moins bien celle en orange. Le modèle semble assez performant.<br/>\n",
        "La RMSE étant sur la même unité que l'étiquette, nous pouvons alors dire que le modèle se trompe en moyenne de 280 sur le prix."
      ]
    },
    {
      "cell_type": "markdown",
      "metadata": {
        "id": "xyof0rc_g07L"
      },
      "source": [
        "**Modèle sans stratégie**\n",
        "\n",
        "* Nous séparons dans un premier temps les données afin d'obtenir un **ensemble d'apprentissage** qui servira à entraîner notre modèle et un **ensemble de test** utilisé pour l'évaluation des performances du modèle.\n",
        "* Le paramètre *maxBins* de l'arbre de décision doit **être supérieur ou égal** au nombre de valeurs distinctes de la colonne en possèdant le plus.\n",
        "* **L'exécution du GridSearch prend 4 heures à 12 heures.**"
      ]
    },
    {
      "cell_type": "code",
      "metadata": {
        "id": "O97zU5odgw0C"
      },
      "source": [
        "from pyspark.ml.regression import DecisionTreeRegressor\n",
        "from pyspark.ml.tuning import CrossValidator, ParamGridBuilder\n",
        "from pyspark.ml.evaluation import RegressionEvaluator\n",
        "\n",
        "# Création des valeurs d'entrainement (80%) et de test (20%)\n",
        "train_data, test_data = df_no_prep.select('features', col('price').alias('label')).randomSplit([0.8, 0.2], seed=0)\n",
        "\n",
        "# maxBins doit au moins être supérieur ou égal à la colonne possédant la plus grande valeur de nombres distincts\n",
        "# La colonne région contient 180157 valeurs distinctes\n",
        "dt = DecisionTreeRegressor(featuresCol=\"features\", labelCol=\"label\", maxBins=180157)\n",
        "\n",
        "# Paramètres à explorer par le GridSearch\n",
        "dt_paramGrid = ParamGridBuilder()\\\n",
        "        .addGrid(dt.minInstancesPerNode, [10, 100])\\\n",
        "        .build()\n",
        "\n",
        "# Evaluateur\n",
        "evaluatorPR = RegressionEvaluator()\n",
        "\n",
        "# Cross validation avec 3 folds\n",
        "cv = CrossValidator(estimator=dt,\\\n",
        "                    estimatorParamMaps=dt_paramGrid,\\\n",
        "                    evaluator = evaluatorPR,\\\n",
        "                    numFolds=3,\\\n",
        "                    parallelism=2)\n",
        "\n",
        "# Recherche des meilleurs hyperparamètres\n",
        "cvModel = cv.fit(train_data)\n",
        "bestModel = cvModel.bestModel\n",
        "\n",
        "# Affichage\n",
        "# print(bestModel.toDebugString)"
      ],
      "execution_count": null,
      "outputs": []
    },
    {
      "cell_type": "markdown",
      "metadata": {
        "id": "6HkVoquHL1GG"
      },
      "source": [
        "**Résultats sur les données de test sans stratégie :**"
      ]
    },
    {
      "cell_type": "code",
      "metadata": {
        "id": "pc1GKH_56f6J",
        "colab": {
          "base_uri": "https://localhost:8080/",
          "height": 384
        },
        "outputId": "924488bd-b519-4652-fe4c-14ccfb0c9337"
      },
      "source": [
        "import matplotlib.pyplot as plt\n",
        "\n",
        "# Prédictions sur les données de tests\n",
        "pred_df = bestModel.transform(test_data)\n",
        "\n",
        "# Evaluation avec les métriques RMSE et MAE\n",
        "eval_rmse = RegressionEvaluator(metricName='rmse')\n",
        "print('RMSE :', eval_rmse.evaluate(pred_df))\n",
        "eval_mae = RegressionEvaluator(metricName='mae')\n",
        "print('MAE  :', eval_mae.evaluate(pred_df))\n",
        "\n",
        "# Récupération des valeurs pour les plots\n",
        "yhat = pred_df.select(\"prediction\").collect()\n",
        "y_true = test_data.select(\"label\").collect()\n",
        "\n",
        "# Plots\n",
        "nb_points = 200\n",
        "plt.figure(figsize=(15,5))\n",
        "plt.title(\"Prédiction vs Label\", fontweight='bold')\n",
        "plt.xlabel(\"Index\")\n",
        "plt.ylabel('Price')\n",
        "plt.plot(range(0, nb_points), yhat[:nb_points], label='Prédiction')\n",
        "plt.plot(range(0, nb_points), y_true[:nb_points], label='Label')\n",
        "plt.legend()\n",
        "plt.show()"
      ],
      "execution_count": null,
      "outputs": [
        {
          "output_type": "stream",
          "name": "stdout",
          "text": [
            "RMSE : 1048.9480400078503\n",
            "MAE  : 645.0423931837042\n"
          ]
        },
        {
          "output_type": "display_data",
          "data": {
            "image/png": "[encoded data removed]",
            "text/plain": [
              "<Figure size 1080x360 with 1 Axes>"
            ]
          },
          "metadata": {
            "needs_background": "light"
          }
        }
      ]
    },
    {
      "cell_type": "markdown",
      "metadata": {
        "id": "nY3JssCs5NzS"
      },
      "source": [
        "Nous pouvons constater que le modèle avec les données \"sans stratégie\" possède **une RMSE et une MAE beaucoup plus haute** par rapport au modèle qui précède (celle avec stratégie) et une courbe bleue qui suit beaucoup moins bien celle en orange.<br/>\n",
        "Le pre-processing des données a permis au premier modèle d'être beaucoup plus performant que le second.<br/>\n",
        "\n",
        "**La préparation des données joue donc un rôle capital dans le Machine Learning.**"
      ]
    }
  ]
}