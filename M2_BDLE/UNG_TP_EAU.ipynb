{
  "nbformat": 4,
  "nbformat_minor": 0,
  "metadata": {
    "application/vnd.databricks.v1+notebook": {
      "notebookName": "PROJET 2021 SUJET SEUL",
      "dashboards": [
        {
          "elements": [
            {
              "elementNUID": "4916b307-fb50-46f6-a51b-d5496ba229a5",
              "guid": "0544755f-8046-413c-8de2-96b5ba9cde0a",
              "options": null,
              "position": {
                "x": 0,
                "y": 30,
                "height": 1,
                "width": 12,
                "z": null
              },
              "elementType": "command"
            },
            {
              "elementNUID": "93fd1b8c-937f-41f1-88b8-704a5225af12",
              "guid": "1e2aacd3-80ac-42fc-858a-aa6ccf4d1aa1",
              "options": null,
              "position": {
                "x": 0,
                "y": 73,
                "height": 1,
                "width": 12,
                "z": null
              },
              "elementType": "command"
            },
            {
              "elementNUID": "047d52a6-482e-46d9-82c8-d3d85dc7f3ed",
              "guid": "205f0675-4075-4f6d-9ed5-dbe9f2adc9ab",
              "options": null,
              "position": {
                "x": 0,
                "y": 46,
                "height": 6,
                "width": 12,
                "z": null
              },
              "elementType": "command"
            },
            {
              "elementNUID": "51093e36-41d7-45bc-9ac9-538d0ad06cdf",
              "guid": "2f4a2f92-9f7e-463a-853d-28c94fba80e0",
              "options": null,
              "position": {
                "x": 0,
                "y": 53,
                "height": 6,
                "width": 12,
                "z": null
              },
              "elementType": "command"
            },
            {
              "elementNUID": "6fc95d51-5cac-46df-9184-c0a154f0f38c",
              "guid": "4dd6a8a2-ddd5-4d2b-ae85-ba590ba4055c",
              "options": null,
              "position": {
                "x": 0,
                "y": 111,
                "height": 2,
                "width": 12,
                "z": null
              },
              "elementType": "command"
            },
            {
              "elementNUID": "9582d65f-6ff6-4001-aae8-6d354db1567b",
              "guid": "641778b4-ec91-481c-bdc2-d3f6b2e48066",
              "options": null,
              "position": {
                "x": 0,
                "y": 59,
                "height": 1,
                "width": 12,
                "z": null
              },
              "elementType": "command"
            },
            {
              "elementNUID": "aafa7653-49a3-4915-b212-94bf433f313b",
              "guid": "669a6cbd-94f8-444d-bb5a-ddd090c622a7",
              "options": null,
              "position": {
                "x": 0,
                "y": 60,
                "height": 6,
                "width": 12,
                "z": null
              },
              "elementType": "command"
            },
            {
              "elementNUID": "23530f5e-191f-4476-a042-89462af08bf0",
              "guid": "66eaa8c3-2337-45ad-ab9b-64116af586b8",
              "options": null,
              "position": {
                "x": 0,
                "y": 105,
                "height": 6,
                "width": 12,
                "z": null
              },
              "elementType": "command"
            },
            {
              "elementNUID": "cb9b4b91-d7a4-4d6f-b8fd-4f81069ee9bb",
              "guid": "715e0bbb-14c1-4aa9-9894-0e894c449882",
              "options": null,
              "position": {
                "x": 0,
                "y": 7,
                "height": 1,
                "width": 12,
                "z": null
              },
              "elementType": "command"
            },
            {
              "elementNUID": "416e4ed6-56f4-44b6-97bc-95d31da350fe",
              "guid": "75067b7c-9df9-4554-99ca-19999c84ef2f",
              "options": null,
              "position": {
                "x": 0,
                "y": 52,
                "height": 1,
                "width": 12,
                "z": null
              },
              "elementType": "command"
            },
            {
              "elementNUID": "b15737ae-19bd-4b9f-b9f3-52388cc5e50e",
              "guid": "846b7c1d-f1d1-4aa6-b3aa-94cb6d065d1a",
              "options": null,
              "position": {
                "x": 0,
                "y": 3,
                "height": 2,
                "width": 12,
                "z": null
              },
              "elementType": "command"
            },
            {
              "elementNUID": "79374715-17c6-42ea-80b5-f34359f79709",
              "guid": "867fb6bf-585e-4c58-b51c-8495ea2785f2",
              "options": null,
              "position": {
                "x": 0,
                "y": 29,
                "height": 1,
                "width": 12,
                "z": null
              },
              "elementType": "command"
            },
            {
              "elementNUID": "1d712ef6-68d6-4f23-a1dd-3cf94b8813c4",
              "guid": "8ef2f82e-9863-4d96-9bb6-bd7aab7dcac5",
              "options": null,
              "position": {
                "x": 0,
                "y": 80,
                "height": 1,
                "width": 12,
                "z": null
              },
              "elementType": "command"
            },
            {
              "elementNUID": "9b13d583-eac5-414c-b544-43024c76c144",
              "guid": "94043a3f-089a-4cde-9ea5-349a745dad4f",
              "options": null,
              "position": {
                "x": 0,
                "y": 8,
                "height": 1,
                "width": 12,
                "z": null
              },
              "elementType": "command"
            },
            {
              "elementNUID": "0b6b45b2-632b-43dd-a8e2-4ef427ebce3d",
              "guid": "940febd0-c519-4b91-9fec-4e960bbe7760",
              "options": null,
              "position": {
                "x": 0,
                "y": 44,
                "height": 2,
                "width": 12,
                "z": null
              },
              "elementType": "command"
            },
            {
              "elementNUID": "84263fb8-5965-4a60-82bd-f761270691ca",
              "guid": "9fe86fff-0ae7-4ef0-b862-91ae43be4101",
              "options": null,
              "position": {
                "x": 0,
                "y": 74,
                "height": 6,
                "width": 12,
                "z": null
              },
              "elementType": "command"
            },
            {
              "elementNUID": "b6afe82e-35d6-4358-9b79-8f56074e0908",
              "guid": "a1426d76-3fbd-47f7-b011-b24ac7b93fd6",
              "options": null,
              "position": {
                "x": 0,
                "y": 5,
                "height": 2,
                "width": 12,
                "z": null
              },
              "elementType": "command"
            },
            {
              "elementNUID": "1577055d-6909-4db2-b18b-5bf31e2a812f",
              "guid": "a1ca8228-f29e-465e-a4be-b40aefc6bc7a",
              "options": null,
              "position": {
                "x": 0,
                "y": 27,
                "height": 2,
                "width": 12,
                "z": null
              },
              "elementType": "command"
            },
            {
              "elementNUID": "d1701bbd-c69b-48d6-bb57-0d05a7268ffe",
              "guid": "a7aff5ac-f510-4d82-95db-77f034192d44",
              "options": null,
              "position": {
                "x": 0,
                "y": 67,
                "height": 6,
                "width": 12,
                "z": null
              },
              "elementType": "command"
            },
            {
              "elementNUID": "c37903e0-d9bc-49f9-9e1d-6756419344f1",
              "guid": "bd859d00-a580-47f6-b662-f97b3239a821",
              "options": null,
              "position": {
                "x": 0,
                "y": 88,
                "height": 6,
                "width": 12,
                "z": null
              },
              "elementType": "command"
            },
            {
              "elementNUID": "538800ba-6d08-40a7-b6b6-829b40085742",
              "guid": "c23995ca-72a7-4427-a6d1-afa688939e7c",
              "options": null,
              "position": {
                "x": 0,
                "y": 0,
                "height": 3,
                "width": 12,
                "z": null
              },
              "elementType": "command"
            },
            {
              "elementNUID": "19fa455b-45a4-4a48-9ddb-c5a641bbd817",
              "guid": "c2471e6c-252b-4bd0-a71a-770ae09eeb78",
              "options": null,
              "position": {
                "x": 0,
                "y": 104,
                "height": 1,
                "width": 12,
                "z": null
              },
              "elementType": "command"
            },
            {
              "elementNUID": "8181fc8d-066d-4ca3-88d7-a97614dca3f4",
              "guid": "d1918135-6c0e-44df-a1ce-2357f133b00c",
              "options": null,
              "position": {
                "x": 0,
                "y": 66,
                "height": 1,
                "width": 12,
                "z": null
              },
              "elementType": "command"
            },
            {
              "elementNUID": "23f49fe8-1c71-4689-9678-58f7b45f0e94",
              "guid": "de126761-7a12-40b4-af6f-d0ea53591d9c",
              "options": null,
              "position": {
                "x": 0,
                "y": 98,
                "height": 6,
                "width": 12,
                "z": null
              },
              "elementType": "command"
            },
            {
              "elementNUID": "686a3ab5-5331-4f16-b8cc-be1c36a60384",
              "guid": "e5671d03-e164-48d9-a504-7348746454df",
              "options": null,
              "position": {
                "x": 0,
                "y": 81,
                "height": 6,
                "width": 12,
                "z": null
              },
              "elementType": "command"
            },
            {
              "elementNUID": "6f215790-9cd6-4489-b334-1da39461919c",
              "guid": "eafa8853-29da-4eeb-8126-55474014d7f4",
              "options": null,
              "position": {
                "x": 0,
                "y": 94,
                "height": 4,
                "width": 15,
                "z": null
              },
              "elementType": "command"
            },
            {
              "elementNUID": "9a7b7b61-6f71-4ba2-984a-09b552985d29",
              "guid": "f8a42128-0efd-4fe3-9ab6-6af7a1c907fd",
              "options": null,
              "position": {
                "x": 0,
                "y": 31,
                "height": 6,
                "width": 12,
                "z": null
              },
              "elementType": "command"
            },
            {
              "elementNUID": "bad34653-26b5-4d31-ace9-736d13a63c06",
              "guid": "fd691b0e-0bb5-4d6b-8ae9-1dea859886a7",
              "options": null,
              "position": {
                "x": 0,
                "y": 87,
                "height": 1,
                "width": 12,
                "z": null
              },
              "elementType": "command"
            }
          ],
          "guid": "56cffcd7-cc55-4002-b6dd-fbd5d66a50a6",
          "layoutOption": {
            "stack": true,
            "grid": true
          },
          "version": "DashboardViewV1",
          "nuid": "7f52f4e5-dbf1-4115-ad63-488830d101c0",
          "origId": 2643140879502792,
          "title": "Untitled",
          "width": 1024,
          "globalVars": {}
        }
      ],
      "notebookMetadata": {
        "pythonIndentUnit": 2
      },
      "language": "python",
      "widgets": {},
      "notebookOrigID": 2643140879502686
    },
    "colab": {
      "name": "UNG_TP_EAU.ipynb",
      "provenance": [],
      "collapsed_sections": [],
      "toc_visible": true
    },
    "language_info": {
      "name": "python"
    },
    "kernelspec": {
      "name": "python3",
      "display_name": "Python 3"
    }
  },
  "cells": [
    {
      "cell_type": "markdown",
      "metadata": {
        "application/vnd.databricks.v1+cell": {
          "title": "",
          "showTitle": false,
          "inputWidgets": {},
          "nuid": "2fcea654-56eb-4219-a555-b7635dc8ec23"
        },
        "id": "5T30y-4iGpLZ"
      },
      "source": [
        "BDLE 2021\n",
        "\n",
        "date du document  :  3/12/2021"
      ]
    },
    {
      "cell_type": "markdown",
      "metadata": {
        "application/vnd.databricks.v1+cell": {
          "title": "",
          "showTitle": false,
          "inputWidgets": {},
          "nuid": "538800ba-6d08-40a7-b6b6-829b40085742"
        },
        "id": "L_q0KahUGpLc"
      },
      "source": [
        "# TP : accès parallèle, traitement sur des partitions\n",
        "\n",
        "exemple d'accès en parallèle aux données du site Eau de France.\n",
        "[Données de piezométrie](https://hubeau.eaufrance.fr/page/api-piezometrie) "
      ]
    },
    {
      "cell_type": "markdown",
      "metadata": {
        "application/vnd.databricks.v1+cell": {
          "title": "",
          "showTitle": false,
          "inputWidgets": {},
          "nuid": "b15737ae-19bd-4b9f-b9f3-52388cc5e50e"
        },
        "id": "levNDESpS1hT"
      },
      "source": [
        "## Préparation"
      ]
    },
    {
      "cell_type": "markdown",
      "metadata": {
        "id": "CEjerqQ6Ink6"
      },
      "source": [
        "Pour accéder directement aux fichiers stockées sur votre google drive. Renseigner le code d'authentification lorsqu'il est demandé\n",
        "\n",
        "Ajuster le nom de votre dossier : MyDrive/essai"
      ]
    },
    {
      "cell_type": "code",
      "metadata": {
        "id": "g7Dv93rsImuM"
      },
      "source": [
        "# import os\n",
        "# from google.colab import drive\n",
        "# drive.mount(\"/content/drive\")\n",
        "\n",
        "# drive_dir = \"/content/drive/MyDrive/essai\"\n",
        "# os.makedirs(drive_dir, exist_ok=True)\n",
        "# os.listdir(drive_dir)"
      ],
      "execution_count": 1,
      "outputs": []
    },
    {
      "cell_type": "markdown",
      "metadata": {
        "id": "7v9EXMl8aPZC"
      },
      "source": [
        "Installer pyspark et findspark :\n"
      ]
    },
    {
      "cell_type": "code",
      "metadata": {
        "id": "3zlwNHy1S8C2",
        "colab": {
          "base_uri": "https://localhost:8080/"
        },
        "outputId": "7eb849d4-671c-4098-98ae-fe7786bd2a1d"
      },
      "source": [
        "!pip install -q pyspark\n",
        "!pip install -q findspark\n",
        "print(\"installé\")"
      ],
      "execution_count": 2,
      "outputs": [
        {
          "output_type": "stream",
          "name": "stdout",
          "text": [
            "\u001b[K     |████████████████████████████████| 281.4 MB 33 kB/s \n",
            "\u001b[K     |████████████████████████████████| 198 kB 54.3 MB/s \n",
            "\u001b[?25h  Building wheel for pyspark (setup.py) ... \u001b[?25l\u001b[?25hdone\n",
            "installé\n"
          ]
        }
      ]
    },
    {
      "cell_type": "markdown",
      "metadata": {
        "id": "PnEmOd_zOUo0"
      },
      "source": [
        "Démarrer la session spark"
      ]
    },
    {
      "cell_type": "code",
      "metadata": {
        "id": "W0ADH0J-VW7i"
      },
      "source": [
        "import os\n",
        "# !find /usr/local -name \"pyspark\"\n",
        "os.environ[\"SPARK_HOME\"] = \"/usr/local/lib/python3.7/dist-packages/pyspark\"\n",
        "os.environ[\"JAVA_HOME\"] = \"/usr\""
      ],
      "execution_count": 3,
      "outputs": []
    },
    {
      "cell_type": "code",
      "metadata": {
        "id": "Q_WxQZB7TaUC",
        "colab": {
          "base_uri": "https://localhost:8080/"
        },
        "outputId": "30033d87-cdfa-41f9-cb27-5eb33da919a0"
      },
      "source": [
        "# Principaux import\n",
        "import findspark\n",
        "from pyspark.sql import SparkSession \n",
        "from pyspark import SparkConf  \n",
        "\n",
        "# pour les dataframe et udf\n",
        "from pyspark.sql import *  \n",
        "from pyspark.sql.functions import *\n",
        "from pyspark.sql.types import *\n",
        "from datetime import *\n",
        "\n",
        "# pour le chronomètre\n",
        "import time\n",
        "\n",
        "# initialise les variables d'environnement pour spark\n",
        "findspark.init()\n",
        "\n",
        "# Démarrage session spark \n",
        "# --------------------------\n",
        "def demarrer_spark():\n",
        "  local = \"local[*]\"\n",
        "  appName = \"TP\"\n",
        "  configLocale = SparkConf().setAppName(appName).setMaster(local).\\\n",
        "  set(\"spark.executor.memory\", \"6G\").\\\n",
        "  set(\"spark.driver.memory\",\"3G\").\\\n",
        "  set(\"spark.sql.catalogImplementation\",\"in-memory\")\n",
        "  \n",
        "  spark = SparkSession.builder.config(conf = configLocale).getOrCreate()\n",
        "  sc = spark.sparkContext\n",
        "  sc.setLogLevel(\"ERROR\")\n",
        "  \n",
        "  spark.conf.set(\"spark.sql.autoBroadcastJoinThreshold\",\"-1\")\n",
        "\n",
        "  # On ajuste l'environnement d'exécution des requêtes à la taille du cluster (4 coeurs)\n",
        "  spark.conf.set(\"spark.sql.shuffle.partitions\",\"4\")    \n",
        "  print(\"session démarrée, son id est \", sc.applicationId)\n",
        "  return spark\n",
        "spark = demarrer_spark()"
      ],
      "execution_count": 4,
      "outputs": [
        {
          "output_type": "stream",
          "name": "stdout",
          "text": [
            "session démarrée, son id est  local-1644507947822\n"
          ]
        }
      ]
    },
    {
      "cell_type": "markdown",
      "metadata": {
        "id": "6PPivNNpOcBT"
      },
      "source": [
        "Redéfinir la fonction **display** pour afficher le resutltat des requêtes dans un tableau"
      ]
    },
    {
      "cell_type": "code",
      "metadata": {
        "id": "FFu44fW7LRgC"
      },
      "source": [
        "import pandas as pd\n",
        "from google.colab import data_table\n",
        "\n",
        "# alternatives to Databricks display function.\n",
        "\n",
        "def display(df, n=100):\n",
        "  return data_table.DataTable(df.limit(n).toPandas(), include_index=False, num_rows_per_page=10)\n",
        "\n",
        "def display2(df, n=20):\n",
        "  pd.set_option('max_columns', None)\n",
        "  pd.set_option('max_colwidth', None)\n",
        "  return df.limit(n).toPandas().head(n)"
      ],
      "execution_count": 5,
      "outputs": []
    },
    {
      "cell_type": "markdown",
      "metadata": {
        "id": "I0-keRafUD5N"
      },
      "source": [
        "Définir le tag **%%sql** pour pouvoir écrire plus simplement des requêtes en SQL dans une cellule"
      ]
    },
    {
      "cell_type": "code",
      "metadata": {
        "id": "eJ7aiRS-gaVF",
        "colab": {
          "base_uri": "https://localhost:8080/"
        },
        "outputId": "a6fea2eb-9db2-401a-c1a1-a686defe174d"
      },
      "source": [
        "from IPython.core.magic import (register_line_magic, register_cell_magic, register_line_cell_magic)\n",
        "\n",
        "def removeComments(query):\n",
        "  result = \"\"\n",
        "  for line in query.split('\\n'):\n",
        "    if not(line.strip().startswith(\"--\")):\n",
        "      result += line + \" \"\n",
        "  return result\n",
        "\n",
        "@register_line_cell_magic\n",
        "def sql(line, cell=None):\n",
        "    \"To run a sql query. Use:  %%sql\"\n",
        "    val = cell if cell is not None else line\n",
        "    tabRequetes = removeComments(val).split(\";\")\n",
        "    for r in tabRequetes:\n",
        "        if len(r.strip()) > 2:\n",
        "          derniere = spark.sql(r)\n",
        "    return display(derniere)\n",
        "print(\"fonctions définies\")"
      ],
      "execution_count": 6,
      "outputs": [
        {
          "output_type": "stream",
          "name": "stdout",
          "text": [
            "fonctions définies\n"
          ]
        }
      ]
    },
    {
      "cell_type": "markdown",
      "metadata": {
        "id": "jOSO0N8paIT1"
      },
      "source": [
        "Utiliaires : Chronomètres"
      ]
    },
    {
      "cell_type": "code",
      "metadata": {
        "application/vnd.databricks.v1+cell": {
          "title": "",
          "showTitle": false,
          "inputWidgets": {},
          "nuid": "a6272df1-b406-40d0-b5df-0df8dacb430b"
        },
        "colab": {
          "base_uri": "https://localhost:8080/"
        },
        "id": "fP14u62aG1_9",
        "outputId": "6c4423fc-10b5-4b25-ab3d-0073fabf2fd7"
      },
      "source": [
        "#------------------------------\n",
        "# Chronometre : chronoPersist2\n",
        "#------------------------------\n",
        "import time\n",
        "\n",
        "# Ce chronometre garantit que chaque tuple du dataframe est lu entièrement.\n",
        "# En effet il est nécessaire de lire le détail de chaque tuple avant de les 'copier' en mémoire.\n",
        "def chronoPersist(df):\n",
        "    df.unpersist()\n",
        "    t1 = time.perf_counter()\n",
        "    count = df.persist().count()\n",
        "    t2 = time.perf_counter()\n",
        "    df.unpersist()\n",
        "    print('durée: {:.1f} s'.format(t2 - t1), 'pour lire', count , 'elements')\n",
        "\n",
        "def chronoPersist2(df):\n",
        "  dest = df.selectExpr(\"*\", \"1\")\n",
        "  t1 = time.perf_counter()\n",
        "  count = dest.persist().count()\n",
        "  t2 = time.perf_counter()\n",
        "  dest.unpersist()\n",
        "  print('durée: {:.1f} s'.format(t2 - t1), 'pour lire', count , 'elements')\n",
        "        \n",
        "def chronoCount(df):\n",
        "  t1 = time.perf_counter()\n",
        "  count = df.count()\n",
        "  t2 = time.perf_counter()\n",
        "  print('durée: {:.1f} s'.format(t2 - t1), 'pour dénombrer', count , 'elements')\n",
        "    \n",
        "print(\"fonctions définies\")"
      ],
      "execution_count": 7,
      "outputs": [
        {
          "output_type": "stream",
          "name": "stdout",
          "text": [
            "fonctions définies\n"
          ]
        }
      ]
    },
    {
      "cell_type": "markdown",
      "metadata": {
        "application/vnd.databricks.v1+cell": {
          "title": "",
          "showTitle": false,
          "inputWidgets": {},
          "nuid": "b15737ae-19bd-4b9f-b9f3-52388cc5e50e"
        },
        "id": "sIeeBKU2GpLc"
      },
      "source": [
        "## Accès aux données"
      ]
    },
    {
      "cell_type": "code",
      "metadata": {
        "application/vnd.databricks.v1+cell": {
          "title": "",
          "showTitle": false,
          "inputWidgets": {},
          "nuid": "5f7082b7-3297-469a-82c3-2e6aaf5acc22"
        },
        "colab": {
          "base_uri": "https://localhost:8080/"
        },
        "id": "dG-ZrStWvR6N",
        "outputId": "9801ac87-c12c-4149-bbbd-a5f0e4af5e5c"
      },
      "source": [
        "import os\n",
        "temp = \"/temp/\"\n",
        "os.makedirs(temp, exist_ok=True)\n",
        "os.listdir(temp)"
      ],
      "execution_count": 8,
      "outputs": [
        {
          "output_type": "execute_result",
          "data": {
            "text/plain": [
              "[]"
            ]
          },
          "metadata": {},
          "execution_count": 8
        }
      ]
    },
    {
      "cell_type": "markdown",
      "metadata": {
        "application/vnd.databricks.v1+cell": {
          "title": "",
          "showTitle": false,
          "inputWidgets": {},
          "nuid": "9b13d583-eac5-414c-b544-43024c76c144"
        },
        "id": "NqVvf8iLGpLf"
      },
      "source": [
        "URL pour l'accès aux datasets"
      ]
    },
    {
      "cell_type": "code",
      "metadata": {
        "application/vnd.databricks.v1+cell": {
          "title": "",
          "showTitle": false,
          "inputWidgets": {},
          "nuid": "8a1fead0-61e4-4d04-a2c0-7858f767b0a1"
        },
        "id": "8g6iWNvES1hW",
        "colab": {
          "base_uri": "https://localhost:8080/"
        },
        "outputId": "2933bfe6-4df9-4684-bf77-e4e61bbdfbbd"
      },
      "source": [
        "# ---------------------------------------------------------------------------\n",
        "# en cas de problème avec le téléchargement des datasets, aller directement sur l'URL ci-dessous\n",
        "PUBLIC_DATASET_URL = \"https://nuage.lip6.fr/s/H3bpyRGgnCq2NR4\" \n",
        "PUBLIC_DATASET=PUBLIC_DATASET_URL + \"/download?path=\"\n",
        "\n",
        "print(\"URL pour les datasets \", PUBLIC_DATASET_URL)"
      ],
      "execution_count": 9,
      "outputs": [
        {
          "output_type": "stream",
          "name": "stdout",
          "text": [
            "URL pour les datasets  https://nuage.lip6.fr/s/H3bpyRGgnCq2NR4\n"
          ]
        }
      ]
    },
    {
      "cell_type": "code",
      "metadata": {
        "colab": {
          "base_uri": "https://localhost:8080/"
        },
        "id": "4MDvKL2IQTGU",
        "outputId": "5ea33853-7dc1-4a94-ffa8-3bd2c24c9650"
      },
      "source": [
        "import os\n",
        "from urllib import request\n",
        "\n",
        "# acces online aux données\n",
        "# https://www.egc.asso.fr/wp-content/uploads/data_Rostrenen.csv\n",
        "\n",
        "\n",
        "def load_file(file):\n",
        "  if(os.path.isfile( temp + file)):\n",
        "    print(file, \"is already stored\")\n",
        "  else:\n",
        "    url = PUBLIC_DATASET + \"/defi_EGC_2022/\" + file\n",
        "    print(\"downloading from URL: \", url, \"save in : \" + temp + file)\n",
        "    request.urlretrieve(url , temp  + file)\n",
        "\n",
        "load_file(\"points_eau.csv\")\n",
        "load_file(\"data_Rostrenen.csv\")\n",
        "\n",
        "# Liste des fichiers de IMDB\n",
        "os.listdir(temp)"
      ],
      "execution_count": 10,
      "outputs": [
        {
          "output_type": "stream",
          "name": "stdout",
          "text": [
            "downloading from URL:  https://nuage.lip6.fr/s/H3bpyRGgnCq2NR4/download?path=/defi_EGC_2022/points_eau.csv save in : /temp/points_eau.csv\n",
            "downloading from URL:  https://nuage.lip6.fr/s/H3bpyRGgnCq2NR4/download?path=/defi_EGC_2022/data_Rostrenen.csv save in : /temp/data_Rostrenen.csv\n"
          ]
        },
        {
          "output_type": "execute_result",
          "data": {
            "text/plain": [
              "['data_Rostrenen.csv', 'points_eau.csv']"
            ]
          },
          "metadata": {},
          "execution_count": 10
        }
      ]
    },
    {
      "cell_type": "markdown",
      "metadata": {
        "id": "VhfbfMyGTpk1"
      },
      "source": [
        "## Table Point : les points d'eau"
      ]
    },
    {
      "cell_type": "code",
      "metadata": {
        "colab": {
          "base_uri": "https://localhost:8080/",
          "height": 254
        },
        "id": "-G94_aiGTtLJ",
        "outputId": "cb234981-7604-4d69-8e78-8504e4134759"
      },
      "source": [
        "point = spark.read.option(\"delimiter\",\";\").option(\"header\",True).csv(temp + 'points_eau.csv').repartition(4).persist()\n",
        "point.createOrReplaceTempView(\"point\")\n",
        "display(point, 3)"
      ],
      "execution_count": 11,
      "outputs": [
        {
          "output_type": "execute_result",
          "data": {
            "application/vnd.google.colaboratory.module+javascript": "\n      import \"https://ssl.gstatic.com/colaboratory/data_table/81f25a011006ed3d/data_table.js\";\n\n      window.createDataTable({\n        data: [[\"00762X0004/S1\",\n\"BSS000FHYM\",\n\"0.860993857091503\",\n\"49.6497369721205\",\n\"76456\",\n\"MOTTEVILLE\",\n\"H9923020\",\n\"L'Austreberthe \\u00e0 Saint-Paer\",\n\"121AU01\",\n\"Craie du S\\u00e9no-Turonien du Bassin Parisien de l'estuaire de la Seine (bassin Seine-Normandie)\"],\n [\"07223C0113/S\",\n\"BSS001URLS\",\n\"4.9003527411453\",\n\"45.6473838620031\",\n\"69273\",\n\"CORBAS\",\nnull,\nnull,\n\"521AK00\",\n\"NV3 absent, nom de l'entit\\u00e9 NV2 : Formations fluvio-glaciaires du couloir d'Heyrieux\"],\n [\"00487X0015/S1\",\n\"BSS000EECH\",\n\"3.07279822338651\",\n\"49.9035922409316\",\n\"80413\",\n\"HANCOURT\",\n\"E6351408\",\n\"Haute Somme \\u00e0 Ham\",\n\"121BB01\",\n\"Craie du S\\u00e9no-Turonien du bassin versant de la Somme (bassin Artois-Picardie)\"]],\n        columns: [[\"string\", \"CODE_BSS\"], [\"string\", \"BSS_ID\"], [\"string\", \"LONGITUDE\"], [\"string\", \"LATITUDE\"], [\"string\", \"CODE_INSEE_COMMUNE\"], [\"string\", \"NOM_COMMUNE\"], [\"string\", \"CODE_STATION_HYDRO\"], [\"string\", \"NOM_STATION_HYDRO\"], [\"string\", \"CODE_BDLISA\"], [\"string\", \"NOM_ENTITE_BDLISA\"]],\n        columnOptions: [],\n        rowsPerPage: 10,\n        helpUrl: \"https://colab.research.google.com/notebooks/data_table.ipynb\",\n        suppressOutputScrolling: true,\n        minimumWidth: undefined,\n      });\n    ",
            "text/plain": [
              "<google.colab.data_table.DataTable object>"
            ],
            "text/html": [
              "<div>\n",
              "<style scoped>\n",
              "    .dataframe tbody tr th:only-of-type {\n",
              "        vertical-align: middle;\n",
              "    }\n",
              "\n",
              "    .dataframe tbody tr th {\n",
              "        vertical-align: top;\n",
              "    }\n",
              "\n",
              "    .dataframe thead th {\n",
              "        text-align: right;\n",
              "    }\n",
              "</style>\n",
              "<table border=\"1\" class=\"dataframe\">\n",
              "  <thead>\n",
              "    <tr style=\"text-align: right;\">\n",
              "      <th></th>\n",
              "      <th>CODE_BSS</th>\n",
              "      <th>BSS_ID</th>\n",
              "      <th>LONGITUDE</th>\n",
              "      <th>LATITUDE</th>\n",
              "      <th>CODE_INSEE_COMMUNE</th>\n",
              "      <th>NOM_COMMUNE</th>\n",
              "      <th>CODE_STATION_HYDRO</th>\n",
              "      <th>NOM_STATION_HYDRO</th>\n",
              "      <th>CODE_BDLISA</th>\n",
              "      <th>NOM_ENTITE_BDLISA</th>\n",
              "    </tr>\n",
              "  </thead>\n",
              "  <tbody>\n",
              "    <tr>\n",
              "      <th>0</th>\n",
              "      <td>00762X0004/S1</td>\n",
              "      <td>BSS000FHYM</td>\n",
              "      <td>0.860993857091503</td>\n",
              "      <td>49.6497369721205</td>\n",
              "      <td>76456</td>\n",
              "      <td>MOTTEVILLE</td>\n",
              "      <td>H9923020</td>\n",
              "      <td>L'Austreberthe à Saint-Paer</td>\n",
              "      <td>121AU01</td>\n",
              "      <td>Craie du Séno-Turonien du Bassin Parisien de l...</td>\n",
              "    </tr>\n",
              "    <tr>\n",
              "      <th>1</th>\n",
              "      <td>07223C0113/S</td>\n",
              "      <td>BSS001URLS</td>\n",
              "      <td>4.9003527411453</td>\n",
              "      <td>45.6473838620031</td>\n",
              "      <td>69273</td>\n",
              "      <td>CORBAS</td>\n",
              "      <td>None</td>\n",
              "      <td>None</td>\n",
              "      <td>521AK00</td>\n",
              "      <td>NV3 absent, nom de l'entité NV2 : Formations f...</td>\n",
              "    </tr>\n",
              "    <tr>\n",
              "      <th>2</th>\n",
              "      <td>00487X0015/S1</td>\n",
              "      <td>BSS000EECH</td>\n",
              "      <td>3.07279822338651</td>\n",
              "      <td>49.9035922409316</td>\n",
              "      <td>80413</td>\n",
              "      <td>HANCOURT</td>\n",
              "      <td>E6351408</td>\n",
              "      <td>Haute Somme à Ham</td>\n",
              "      <td>121BB01</td>\n",
              "      <td>Craie du Séno-Turonien du bassin versant de la...</td>\n",
              "    </tr>\n",
              "  </tbody>\n",
              "</table>\n",
              "</div>"
            ]
          },
          "metadata": {},
          "execution_count": 11
        }
      ]
    },
    {
      "cell_type": "markdown",
      "metadata": {
        "id": "bW9MIghwahqo"
      },
      "source": [
        "Nombre de points d'eau"
      ]
    },
    {
      "cell_type": "code",
      "metadata": {
        "colab": {
          "base_uri": "https://localhost:8080/"
        },
        "id": "_U1xTUSDWXsw",
        "outputId": "6f6dd711-004b-47f5-dcfe-169673025517"
      },
      "source": [
        "point.count()"
      ],
      "execution_count": 12,
      "outputs": [
        {
          "output_type": "execute_result",
          "data": {
            "text/plain": [
              "18"
            ]
          },
          "metadata": {},
          "execution_count": 12
        }
      ]
    },
    {
      "cell_type": "markdown",
      "metadata": {
        "id": "tgRnEegaHmG0"
      },
      "source": [
        "## Requetes d'analyse"
      ]
    },
    {
      "cell_type": "code",
      "metadata": {
        "colab": {
          "base_uri": "https://localhost:8080/",
          "height": 412
        },
        "id": "BcNG4N4IXaoG",
        "outputId": "829d566c-54ff-4de9-f95f-d82f58011240"
      },
      "source": [
        "%%sql\n",
        "select *\n",
        "from Point\n",
        "where nom_commune like '%P%'"
      ],
      "execution_count": 13,
      "outputs": [
        {
          "output_type": "execute_result",
          "data": {
            "application/vnd.google.colaboratory.module+javascript": "\n      import \"https://ssl.gstatic.com/colaboratory/data_table/81f25a011006ed3d/data_table.js\";\n\n      window.createDataTable({\n        data: [[\"07476X0029/S\",\n\"BSS001VTUD\",\n\"5.19017582950695\",\n\"45.3650549559674\",\n\"38300\",\n\"PENOL\",\nnull,\nnull,\n\"521AM00\",\n\"NV3 absent, nom de l'entit\\u00e9 NV2 : Alluvions fluvio-glaciaires de la plaine de Bi\\u00e8vre-Valloire\"],\n [\"01516X0004/S1\",\n\"BSS000LETA\",\n\"1.61497845782586\",\n\"48.9815660459082\",\n\"78484\",\n\"PERDREAUVILLE\",\nnull,\nnull,\n\"121AZ01\",\n\"Craie du S\\u00e9no-Turonien du Bassin Parisien du Vexin normand et picard - bassin versant de l'Andelle et de l'Epte (bassin Seine-Normandie)\"],\n [\"06505X0080/FORC\",\n\"BSS001REHG\",\n\"4.76295450181247\",\n\"46.1383028294756\",\n\"69242\",\n\"TAPONAS\",\nnull,\nnull,\n\"507AD02\",\n\"Sables plioc\\u00e8nes du Val de Sa\\u00f4ne\"],\n [\"00755X0006/S1\",\n\"BSS000FHCQ\",\n\"0.419809838577633\",\n\"49.5555270637694\",\n\"76714\",\n\"LES TROIS-PIERRES\",\n\"G9103020\",\n\"L\\u00e9zarde \\u00e0 Montivilliers\",\n\"121AU01\",\n\"Craie du S\\u00e9no-Turonien du Bassin Parisien de l'estuaire de la Seine (bassin Seine-Normandie)\"],\n [\"02706X0074/S77-20\",\n\"BSS000UTLD\",\n\"6.9302772399532\",\n\"48.4395463138954\",\n\"88082\",\n\"CELLES-SUR-PLAINE\",\nnull,\nnull,\n\"143AK07\",\n\"Gr\\u00e8s d'Annweiler et Gr\\u00e8s de Senones du Buntsandstein en Lorraine dans le bassin Rh\\u00f4ne M\\u00e9diterran\\u00e9e\"]],\n        columns: [[\"string\", \"CODE_BSS\"], [\"string\", \"BSS_ID\"], [\"string\", \"LONGITUDE\"], [\"string\", \"LATITUDE\"], [\"string\", \"CODE_INSEE_COMMUNE\"], [\"string\", \"NOM_COMMUNE\"], [\"string\", \"CODE_STATION_HYDRO\"], [\"string\", \"NOM_STATION_HYDRO\"], [\"string\", \"CODE_BDLISA\"], [\"string\", \"NOM_ENTITE_BDLISA\"]],\n        columnOptions: [],\n        rowsPerPage: 10,\n        helpUrl: \"https://colab.research.google.com/notebooks/data_table.ipynb\",\n        suppressOutputScrolling: true,\n        minimumWidth: undefined,\n      });\n    ",
            "text/plain": [
              "<google.colab.data_table.DataTable object>"
            ],
            "text/html": [
              "<div>\n",
              "<style scoped>\n",
              "    .dataframe tbody tr th:only-of-type {\n",
              "        vertical-align: middle;\n",
              "    }\n",
              "\n",
              "    .dataframe tbody tr th {\n",
              "        vertical-align: top;\n",
              "    }\n",
              "\n",
              "    .dataframe thead th {\n",
              "        text-align: right;\n",
              "    }\n",
              "</style>\n",
              "<table border=\"1\" class=\"dataframe\">\n",
              "  <thead>\n",
              "    <tr style=\"text-align: right;\">\n",
              "      <th></th>\n",
              "      <th>CODE_BSS</th>\n",
              "      <th>BSS_ID</th>\n",
              "      <th>LONGITUDE</th>\n",
              "      <th>LATITUDE</th>\n",
              "      <th>CODE_INSEE_COMMUNE</th>\n",
              "      <th>NOM_COMMUNE</th>\n",
              "      <th>CODE_STATION_HYDRO</th>\n",
              "      <th>NOM_STATION_HYDRO</th>\n",
              "      <th>CODE_BDLISA</th>\n",
              "      <th>NOM_ENTITE_BDLISA</th>\n",
              "    </tr>\n",
              "  </thead>\n",
              "  <tbody>\n",
              "    <tr>\n",
              "      <th>0</th>\n",
              "      <td>07476X0029/S</td>\n",
              "      <td>BSS001VTUD</td>\n",
              "      <td>5.19017582950695</td>\n",
              "      <td>45.3650549559674</td>\n",
              "      <td>38300</td>\n",
              "      <td>PENOL</td>\n",
              "      <td>None</td>\n",
              "      <td>None</td>\n",
              "      <td>521AM00</td>\n",
              "      <td>NV3 absent, nom de l'entité NV2 : Alluvions fl...</td>\n",
              "    </tr>\n",
              "    <tr>\n",
              "      <th>1</th>\n",
              "      <td>01516X0004/S1</td>\n",
              "      <td>BSS000LETA</td>\n",
              "      <td>1.61497845782586</td>\n",
              "      <td>48.9815660459082</td>\n",
              "      <td>78484</td>\n",
              "      <td>PERDREAUVILLE</td>\n",
              "      <td>None</td>\n",
              "      <td>None</td>\n",
              "      <td>121AZ01</td>\n",
              "      <td>Craie du Séno-Turonien du Bassin Parisien du V...</td>\n",
              "    </tr>\n",
              "    <tr>\n",
              "      <th>2</th>\n",
              "      <td>06505X0080/FORC</td>\n",
              "      <td>BSS001REHG</td>\n",
              "      <td>4.76295450181247</td>\n",
              "      <td>46.1383028294756</td>\n",
              "      <td>69242</td>\n",
              "      <td>TAPONAS</td>\n",
              "      <td>None</td>\n",
              "      <td>None</td>\n",
              "      <td>507AD02</td>\n",
              "      <td>Sables pliocènes du Val de Saône</td>\n",
              "    </tr>\n",
              "    <tr>\n",
              "      <th>3</th>\n",
              "      <td>00755X0006/S1</td>\n",
              "      <td>BSS000FHCQ</td>\n",
              "      <td>0.419809838577633</td>\n",
              "      <td>49.5555270637694</td>\n",
              "      <td>76714</td>\n",
              "      <td>LES TROIS-PIERRES</td>\n",
              "      <td>G9103020</td>\n",
              "      <td>Lézarde à Montivilliers</td>\n",
              "      <td>121AU01</td>\n",
              "      <td>Craie du Séno-Turonien du Bassin Parisien de l...</td>\n",
              "    </tr>\n",
              "    <tr>\n",
              "      <th>4</th>\n",
              "      <td>02706X0074/S77-20</td>\n",
              "      <td>BSS000UTLD</td>\n",
              "      <td>6.9302772399532</td>\n",
              "      <td>48.4395463138954</td>\n",
              "      <td>88082</td>\n",
              "      <td>CELLES-SUR-PLAINE</td>\n",
              "      <td>None</td>\n",
              "      <td>None</td>\n",
              "      <td>143AK07</td>\n",
              "      <td>Grès d'Annweiler et Grès de Senones du Buntsan...</td>\n",
              "    </tr>\n",
              "  </tbody>\n",
              "</table>\n",
              "</div>"
            ]
          },
          "metadata": {},
          "execution_count": 13
        }
      ]
    },
    {
      "cell_type": "code",
      "metadata": {
        "colab": {
          "base_uri": "https://localhost:8080/",
          "height": 111
        },
        "id": "uehBOEE4X2ic",
        "outputId": "eb3878fd-abf5-47c5-8ef3-e97a1ac50b28"
      },
      "source": [
        "%%sql\n",
        "select min(longitude)\n",
        "from Point\n"
      ],
      "execution_count": 14,
      "outputs": [
        {
          "output_type": "execute_result",
          "data": {
            "application/vnd.google.colaboratory.module+javascript": "\n      import \"https://ssl.gstatic.com/colaboratory/data_table/81f25a011006ed3d/data_table.js\";\n\n      window.createDataTable({\n        data: [[\"-3.30717741173568\"]],\n        columns: [[\"string\", \"min(longitude)\"]],\n        columnOptions: [],\n        rowsPerPage: 10,\n        helpUrl: \"https://colab.research.google.com/notebooks/data_table.ipynb\",\n        suppressOutputScrolling: true,\n        minimumWidth: undefined,\n      });\n    ",
            "text/plain": [
              "<google.colab.data_table.DataTable object>"
            ],
            "text/html": [
              "<div>\n",
              "<style scoped>\n",
              "    .dataframe tbody tr th:only-of-type {\n",
              "        vertical-align: middle;\n",
              "    }\n",
              "\n",
              "    .dataframe tbody tr th {\n",
              "        vertical-align: top;\n",
              "    }\n",
              "\n",
              "    .dataframe thead th {\n",
              "        text-align: right;\n",
              "    }\n",
              "</style>\n",
              "<table border=\"1\" class=\"dataframe\">\n",
              "  <thead>\n",
              "    <tr style=\"text-align: right;\">\n",
              "      <th></th>\n",
              "      <th>min(longitude)</th>\n",
              "    </tr>\n",
              "  </thead>\n",
              "  <tbody>\n",
              "    <tr>\n",
              "      <th>0</th>\n",
              "      <td>-3.30717741173568</td>\n",
              "    </tr>\n",
              "  </tbody>\n",
              "</table>\n",
              "</div>"
            ]
          },
          "metadata": {},
          "execution_count": 14
        }
      ]
    },
    {
      "cell_type": "markdown",
      "metadata": {
        "id": "NcyFk0pfbRw4"
      },
      "source": [
        "## Accès Open data online\n",
        "\n",
        "Example d'URL : https://hubeau.eaufrance.fr/api/v1/niveaux_nappes/chroniques?code_bss=07548X0009/F&sort=desc&size=10\n",
        "les paramêtres de l'appel sont\n",
        "*   *code_bss* : le code du point d'eau\n",
        "*   *sort* : pour **trier** les données par date décroissante : sort=desc\n",
        "*   *size* : le nombre de tuples retournés"
      ]
    },
    {
      "cell_type": "code",
      "metadata": {
        "colab": {
          "base_uri": "https://localhost:8080/",
          "height": 419
        },
        "id": "RkXQC1oobV_3",
        "outputId": "bc0b4aea-7685-427d-d68b-78cd5d943dcc"
      },
      "source": [
        "import urllib.request\n",
        "import json\n",
        "\n",
        "# code_bss = \"07548X0009/F\"\n",
        "code_bss = \"01516X0004/S1\"\n",
        "\n",
        "urlEau = f\"https://hubeau.eaufrance.fr/api/v1/niveaux_nappes/chroniques?code_bss={code_bss}&sort=desc&size=20\"\n",
        "\n",
        "with urllib.request.urlopen(urlEau) as response:\n",
        "   encoding = response.info().get_content_charset('utf-8')\n",
        "  # obj = json.loads(response.read().decode(encoding))\n",
        "  # texte = json.dumps(obj)\n",
        "   texte = response.read().decode(encoding)\n",
        "\n",
        "jrdd = spark.sparkContext.parallelize([texte])\n",
        "data1 = spark.read.json(jrdd)\n",
        "# data1.printSchema()\n",
        "data2 = data1.selectExpr(\"explode(data) as item\").\\\n",
        "selectExpr(\"item.code_bss as code\",\\\n",
        "           \"item.profondeur_nappe as niveau\",\\\n",
        "           \"item.date_mesure as date\",\\\n",
        "           \"item.timestamp_mesure as time\")\n",
        "data3 = data2.orderBy(desc(data2.date))\n",
        "data3.persist()\n",
        "data3.printSchema()\n",
        "display(data3)"
      ],
      "execution_count": 15,
      "outputs": [
        {
          "output_type": "stream",
          "name": "stdout",
          "text": [
            "root\n",
            " |-- code: string (nullable = true)\n",
            " |-- niveau: double (nullable = true)\n",
            " |-- date: string (nullable = true)\n",
            " |-- time: long (nullable = true)\n",
            "\n"
          ]
        },
        {
          "output_type": "execute_result",
          "data": {
            "application/vnd.google.colaboratory.module+javascript": "\n      import \"https://ssl.gstatic.com/colaboratory/data_table/81f25a011006ed3d/data_table.js\";\n\n      window.createDataTable({\n        data: [[\"01516X0004/S1\",\n{\n            'v': 20.1,\n            'f': \"20.1\",\n        },\n\"2022-02-07\",\n{\n            'v': 1644192000000,\n            'f': \"1644192000000\",\n        }],\n [\"01516X0004/S1\",\n{\n            'v': 20.09,\n            'f': \"20.09\",\n        },\n\"2022-02-06\",\n{\n            'v': 1644163200000,\n            'f': \"1644163200000\",\n        }],\n [\"01516X0004/S1\",\n{\n            'v': 20.11,\n            'f': \"20.11\",\n        },\n\"2022-02-05\",\n{\n            'v': 1644019200000,\n            'f': \"1644019200000\",\n        }],\n [\"01516X0004/S1\",\n{\n            'v': 20.09,\n            'f': \"20.09\",\n        },\n\"2022-02-04\",\n{\n            'v': 1643972400000,\n            'f': \"1643972400000\",\n        }],\n [\"01516X0004/S1\",\n{\n            'v': 20.1,\n            'f': \"20.1\",\n        },\n\"2022-02-03\",\n{\n            'v': 1643864400000,\n            'f': \"1643864400000\",\n        }],\n [\"01516X0004/S1\",\n{\n            'v': 20.11,\n            'f': \"20.11\",\n        },\n\"2022-02-02\",\n{\n            'v': 1643760000000,\n            'f': \"1643760000000\",\n        }],\n [\"01516X0004/S1\",\n{\n            'v': 20.1,\n            'f': \"20.1\",\n        },\n\"2022-02-01\",\n{\n            'v': 1643731200000,\n            'f': \"1643731200000\",\n        }],\n [\"01516X0004/S1\",\n{\n            'v': 20.1,\n            'f': \"20.1\",\n        },\n\"2022-01-31\",\n{\n            'v': 1643594400000,\n            'f': \"1643594400000\",\n        }],\n [\"01516X0004/S1\",\n{\n            'v': 20.11,\n            'f': \"20.11\",\n        },\n\"2022-01-30\",\n{\n            'v': 1643558400000,\n            'f': \"1643558400000\",\n        }],\n [\"01516X0004/S1\",\n{\n            'v': 20.12,\n            'f': \"20.12\",\n        },\n\"2022-01-29\",\n{\n            'v': 1643425200000,\n            'f': \"1643425200000\",\n        }],\n [\"01516X0004/S1\",\n{\n            'v': 20.12,\n            'f': \"20.12\",\n        },\n\"2022-01-28\",\n{\n            'v': 1643328000000,\n            'f': \"1643328000000\",\n        }],\n [\"01516X0004/S1\",\n{\n            'v': 20.12,\n            'f': \"20.12\",\n        },\n\"2022-01-27\",\n{\n            'v': 1643245200000,\n            'f': \"1643245200000\",\n        }],\n [\"01516X0004/S1\",\n{\n            'v': 20.12,\n            'f': \"20.12\",\n        },\n\"2022-01-26\",\n{\n            'v': 1643173200000,\n            'f': \"1643173200000\",\n        }],\n [\"01516X0004/S1\",\n{\n            'v': 20.13,\n            'f': \"20.13\",\n        },\n\"2022-01-25\",\n{\n            'v': 1643068800000,\n            'f': \"1643068800000\",\n        }],\n [\"01516X0004/S1\",\n{\n            'v': 20.13,\n            'f': \"20.13\",\n        },\n\"2022-01-24\",\n{\n            'v': 1642982400000,\n            'f': \"1642982400000\",\n        }],\n [\"01516X0004/S1\",\n{\n            'v': 20.13,\n            'f': \"20.13\",\n        },\n\"2022-01-23\",\n{\n            'v': 1642899600000,\n            'f': \"1642899600000\",\n        }],\n [\"01516X0004/S1\",\n{\n            'v': 20.13,\n            'f': \"20.13\",\n        },\n\"2022-01-22\",\n{\n            'v': 1642892400000,\n            'f': \"1642892400000\",\n        }],\n [\"01516X0004/S1\",\n{\n            'v': 20.14,\n            'f': \"20.14\",\n        },\n\"2022-01-21\",\n{\n            'v': 1642748400000,\n            'f': \"1642748400000\",\n        }],\n [\"01516X0004/S1\",\n{\n            'v': 20.14,\n            'f': \"20.14\",\n        },\n\"2022-01-20\",\n{\n            'v': 1642636800000,\n            'f': \"1642636800000\",\n        }],\n [\"01516X0004/S1\",\n{\n            'v': 20.14,\n            'f': \"20.14\",\n        },\n\"2022-01-19\",\n{\n            'v': 1642575600000,\n            'f': \"1642575600000\",\n        }]],\n        columns: [[\"string\", \"code\"], [\"number\", \"niveau\"], [\"string\", \"date\"], [\"number\", \"time\"]],\n        columnOptions: [],\n        rowsPerPage: 10,\n        helpUrl: \"https://colab.research.google.com/notebooks/data_table.ipynb\",\n        suppressOutputScrolling: true,\n        minimumWidth: undefined,\n      });\n    ",
            "text/plain": [
              "<google.colab.data_table.DataTable object>"
            ],
            "text/html": [
              "<div>\n",
              "<style scoped>\n",
              "    .dataframe tbody tr th:only-of-type {\n",
              "        vertical-align: middle;\n",
              "    }\n",
              "\n",
              "    .dataframe tbody tr th {\n",
              "        vertical-align: top;\n",
              "    }\n",
              "\n",
              "    .dataframe thead th {\n",
              "        text-align: right;\n",
              "    }\n",
              "</style>\n",
              "<table border=\"1\" class=\"dataframe\">\n",
              "  <thead>\n",
              "    <tr style=\"text-align: right;\">\n",
              "      <th></th>\n",
              "      <th>code</th>\n",
              "      <th>niveau</th>\n",
              "      <th>date</th>\n",
              "      <th>time</th>\n",
              "    </tr>\n",
              "  </thead>\n",
              "  <tbody>\n",
              "    <tr>\n",
              "      <th>0</th>\n",
              "      <td>01516X0004/S1</td>\n",
              "      <td>20.10</td>\n",
              "      <td>2022-02-07</td>\n",
              "      <td>1644192000000</td>\n",
              "    </tr>\n",
              "    <tr>\n",
              "      <th>1</th>\n",
              "      <td>01516X0004/S1</td>\n",
              "      <td>20.09</td>\n",
              "      <td>2022-02-06</td>\n",
              "      <td>1644163200000</td>\n",
              "    </tr>\n",
              "    <tr>\n",
              "      <th>2</th>\n",
              "      <td>01516X0004/S1</td>\n",
              "      <td>20.11</td>\n",
              "      <td>2022-02-05</td>\n",
              "      <td>1644019200000</td>\n",
              "    </tr>\n",
              "    <tr>\n",
              "      <th>3</th>\n",
              "      <td>01516X0004/S1</td>\n",
              "      <td>20.09</td>\n",
              "      <td>2022-02-04</td>\n",
              "      <td>1643972400000</td>\n",
              "    </tr>\n",
              "    <tr>\n",
              "      <th>4</th>\n",
              "      <td>01516X0004/S1</td>\n",
              "      <td>20.10</td>\n",
              "      <td>2022-02-03</td>\n",
              "      <td>1643864400000</td>\n",
              "    </tr>\n",
              "    <tr>\n",
              "      <th>5</th>\n",
              "      <td>01516X0004/S1</td>\n",
              "      <td>20.11</td>\n",
              "      <td>2022-02-02</td>\n",
              "      <td>1643760000000</td>\n",
              "    </tr>\n",
              "    <tr>\n",
              "      <th>6</th>\n",
              "      <td>01516X0004/S1</td>\n",
              "      <td>20.10</td>\n",
              "      <td>2022-02-01</td>\n",
              "      <td>1643731200000</td>\n",
              "    </tr>\n",
              "    <tr>\n",
              "      <th>7</th>\n",
              "      <td>01516X0004/S1</td>\n",
              "      <td>20.10</td>\n",
              "      <td>2022-01-31</td>\n",
              "      <td>1643594400000</td>\n",
              "    </tr>\n",
              "    <tr>\n",
              "      <th>8</th>\n",
              "      <td>01516X0004/S1</td>\n",
              "      <td>20.11</td>\n",
              "      <td>2022-01-30</td>\n",
              "      <td>1643558400000</td>\n",
              "    </tr>\n",
              "    <tr>\n",
              "      <th>9</th>\n",
              "      <td>01516X0004/S1</td>\n",
              "      <td>20.12</td>\n",
              "      <td>2022-01-29</td>\n",
              "      <td>1643425200000</td>\n",
              "    </tr>\n",
              "    <tr>\n",
              "      <th>10</th>\n",
              "      <td>01516X0004/S1</td>\n",
              "      <td>20.12</td>\n",
              "      <td>2022-01-28</td>\n",
              "      <td>1643328000000</td>\n",
              "    </tr>\n",
              "    <tr>\n",
              "      <th>11</th>\n",
              "      <td>01516X0004/S1</td>\n",
              "      <td>20.12</td>\n",
              "      <td>2022-01-27</td>\n",
              "      <td>1643245200000</td>\n",
              "    </tr>\n",
              "    <tr>\n",
              "      <th>12</th>\n",
              "      <td>01516X0004/S1</td>\n",
              "      <td>20.12</td>\n",
              "      <td>2022-01-26</td>\n",
              "      <td>1643173200000</td>\n",
              "    </tr>\n",
              "    <tr>\n",
              "      <th>13</th>\n",
              "      <td>01516X0004/S1</td>\n",
              "      <td>20.13</td>\n",
              "      <td>2022-01-25</td>\n",
              "      <td>1643068800000</td>\n",
              "    </tr>\n",
              "    <tr>\n",
              "      <th>14</th>\n",
              "      <td>01516X0004/S1</td>\n",
              "      <td>20.13</td>\n",
              "      <td>2022-01-24</td>\n",
              "      <td>1642982400000</td>\n",
              "    </tr>\n",
              "    <tr>\n",
              "      <th>15</th>\n",
              "      <td>01516X0004/S1</td>\n",
              "      <td>20.13</td>\n",
              "      <td>2022-01-23</td>\n",
              "      <td>1642899600000</td>\n",
              "    </tr>\n",
              "    <tr>\n",
              "      <th>16</th>\n",
              "      <td>01516X0004/S1</td>\n",
              "      <td>20.13</td>\n",
              "      <td>2022-01-22</td>\n",
              "      <td>1642892400000</td>\n",
              "    </tr>\n",
              "    <tr>\n",
              "      <th>17</th>\n",
              "      <td>01516X0004/S1</td>\n",
              "      <td>20.14</td>\n",
              "      <td>2022-01-21</td>\n",
              "      <td>1642748400000</td>\n",
              "    </tr>\n",
              "    <tr>\n",
              "      <th>18</th>\n",
              "      <td>01516X0004/S1</td>\n",
              "      <td>20.14</td>\n",
              "      <td>2022-01-20</td>\n",
              "      <td>1642636800000</td>\n",
              "    </tr>\n",
              "    <tr>\n",
              "      <th>19</th>\n",
              "      <td>01516X0004/S1</td>\n",
              "      <td>20.14</td>\n",
              "      <td>2022-01-19</td>\n",
              "      <td>1642575600000</td>\n",
              "    </tr>\n",
              "  </tbody>\n",
              "</table>\n",
              "</div>"
            ]
          },
          "metadata": {},
          "execution_count": 15
        }
      ]
    },
    {
      "cell_type": "markdown",
      "metadata": {
        "id": "JFI5RDCqWhwS"
      },
      "source": [
        "# Exercice 1 : Accès en parallèle aux mesures d'eau"
      ]
    },
    {
      "cell_type": "markdown",
      "metadata": {
        "id": "R2a3UBenX0km"
      },
      "source": [
        "## Question 1 : Accès parallèle"
      ]
    },
    {
      "cell_type": "markdown",
      "metadata": {
        "id": "RRWpDO30Wkwr"
      },
      "source": [
        "Pour toutes les stations (code_bss) de la table Point. Accéder en parallèle au site pour récupérer les 10 dernières mesures de niveau d'eau.\n",
        "Le résultat est un seul dataframe Mesure(code,niveau,date,time) contenant toutes les mesures de tous les points d'eau. Rendre persistant le dataframe Mesure."
      ]
    },
    {
      "cell_type": "code",
      "metadata": {
        "id": "-_Ij-OL0XbQS",
        "colab": {
          "base_uri": "https://localhost:8080/",
          "height": 315
        },
        "outputId": "cbf066f0-c542-4740-b2ea-017adcbec387"
      },
      "source": [
        "def getNiveau(code_bss):\n",
        "  urlEau = f\"https://hubeau.eaufrance.fr/api/v1/niveaux_nappes/chroniques?code_bss={code_bss}&sort=desc&size=10\"\n",
        "  with urllib.request.urlopen(urlEau) as response:\n",
        "    encoding = response.info().get_content_charset('utf-8')\n",
        "    obj = json.loads(response.read().decode(encoding))\n",
        "  return obj['data']\n",
        "\n",
        "typeRetour = ArrayType(MapType(StringType(), StringType()))\n",
        "getNiveauUDF = udf(getNiveau, typeRetour)\n",
        "\n",
        "r1 = point.withColumn(\"Niveaux\", getNiveauUDF(col(\"code_bss\"))).select('code_bss', explode('Niveaux').alias('Niveau'))\n",
        "\n",
        "Mesure = r1.rdd.map(lambda x: (x.code_bss, float(x.Niveau[\"profondeur_nappe\"]), x.Niveau[\"date_mesure\"], float(x.Niveau[\"timestamp_mesure\"])))\\\n",
        ".toDF([\"code\",\"niveau\",\"date\",\"time\"]).persist()\n",
        "\n",
        "display(Mesure)"
      ],
      "execution_count": 50,
      "outputs": [
        {
          "output_type": "execute_result",
          "data": {
            "application/vnd.google.colaboratory.module+javascript": "\n      import \"https://ssl.gstatic.com/colaboratory/data_table/81f25a011006ed3d/data_table.js\";\n\n      window.createDataTable({\n        data: [[\"00762X0004/S1\",\n{\n            'v': 32.93,\n            'f': \"32.93\",\n        },\n\"2022-02-02\",\n{\n            'v': 1643760000000.0,\n            'f': \"1643760000000.0\",\n        }],\n [\"00762X0004/S1\",\n{\n            'v': 32.91,\n            'f': \"32.91\",\n        },\n\"2022-02-01\",\n{\n            'v': 1643698800000.0,\n            'f': \"1643698800000.0\",\n        }],\n [\"00762X0004/S1\",\n{\n            'v': 32.88,\n            'f': \"32.88\",\n        },\n\"2022-01-31\",\n{\n            'v': 1643598000000.0,\n            'f': \"1643598000000.0\",\n        }],\n [\"00762X0004/S1\",\n{\n            'v': 32.89,\n            'f': \"32.89\",\n        },\n\"2022-01-30\",\n{\n            'v': 1643580000000.0,\n            'f': \"1643580000000.0\",\n        }],\n [\"00762X0004/S1\",\n{\n            'v': 32.89,\n            'f': \"32.89\",\n        },\n\"2022-01-29\",\n{\n            'v': 1643428800000.0,\n            'f': \"1643428800000.0\",\n        }],\n [\"00762X0004/S1\",\n{\n            'v': 32.9,\n            'f': \"32.9\",\n        },\n\"2022-01-28\",\n{\n            'v': 1643382000000.0,\n            'f': \"1643382000000.0\",\n        }],\n [\"00762X0004/S1\",\n{\n            'v': 32.89,\n            'f': \"32.89\",\n        },\n\"2022-01-27\",\n{\n            'v': 1643252400000.0,\n            'f': \"1643252400000.0\",\n        }],\n [\"00762X0004/S1\",\n{\n            'v': 32.89,\n            'f': \"32.89\",\n        },\n\"2022-01-26\",\n{\n            'v': 1643212800000.0,\n            'f': \"1643212800000.0\",\n        }],\n [\"00762X0004/S1\",\n{\n            'v': 32.89,\n            'f': \"32.89\",\n        },\n\"2022-01-25\",\n{\n            'v': 1643076000000.0,\n            'f': \"1643076000000.0\",\n        }],\n [\"00762X0004/S1\",\n{\n            'v': 32.87,\n            'f': \"32.87\",\n        },\n\"2022-01-24\",\n{\n            'v': 1642996800000.0,\n            'f': \"1642996800000.0\",\n        }],\n [\"07223C0113/S\",\n{\n            'v': 6.48,\n            'f': \"6.48\",\n        },\n\"2022-01-31\",\n{\n            'v': 1643601600000.0,\n            'f': \"1643601600000.0\",\n        }],\n [\"07223C0113/S\",\n{\n            'v': 6.48,\n            'f': \"6.48\",\n        },\n\"2022-01-30\",\n{\n            'v': 1643583600000.0,\n            'f': \"1643583600000.0\",\n        }],\n [\"07223C0113/S\",\n{\n            'v': 6.48,\n            'f': \"6.48\",\n        },\n\"2022-01-29\",\n{\n            'v': 1643468400000.0,\n            'f': \"1643468400000.0\",\n        }],\n [\"07223C0113/S\",\n{\n            'v': 6.48,\n            'f': \"6.48\",\n        },\n\"2022-01-28\",\n{\n            'v': 1643342400000.0,\n            'f': \"1643342400000.0\",\n        }],\n [\"07223C0113/S\",\n{\n            'v': 6.47,\n            'f': \"6.47\",\n        },\n\"2022-01-27\",\n{\n            'v': 1643248800000.0,\n            'f': \"1643248800000.0\",\n        }],\n [\"07223C0113/S\",\n{\n            'v': 6.47,\n            'f': \"6.47\",\n        },\n\"2022-01-26\",\n{\n            'v': 1643184000000.0,\n            'f': \"1643184000000.0\",\n        }],\n [\"07223C0113/S\",\n{\n            'v': 6.47,\n            'f': \"6.47\",\n        },\n\"2022-01-25\",\n{\n            'v': 1643086800000.0,\n            'f': \"1643086800000.0\",\n        }],\n [\"07223C0113/S\",\n{\n            'v': 6.46,\n            'f': \"6.46\",\n        },\n\"2022-01-24\",\n{\n            'v': 1642996800000.0,\n            'f': \"1642996800000.0\",\n        }],\n [\"07223C0113/S\",\n{\n            'v': 6.46,\n            'f': \"6.46\",\n        },\n\"2022-01-23\",\n{\n            'v': 1642896000000.0,\n            'f': \"1642896000000.0\",\n        }],\n [\"07223C0113/S\",\n{\n            'v': 6.46,\n            'f': \"6.46\",\n        },\n\"2022-01-22\",\n{\n            'v': 1642809600000.0,\n            'f': \"1642809600000.0\",\n        }],\n [\"00487X0015/S1\",\n{\n            'v': 30.65,\n            'f': \"30.65\",\n        },\n\"2022-02-07\",\n{\n            'v': 1644192000000.0,\n            'f': \"1644192000000.0\",\n        }],\n [\"00487X0015/S1\",\n{\n            'v': 30.65,\n            'f': \"30.65\",\n        },\n\"2022-02-06\",\n{\n            'v': 1644188400000.0,\n            'f': \"1644188400000.0\",\n        }],\n [\"00487X0015/S1\",\n{\n            'v': 30.67,\n            'f': \"30.67\",\n        },\n\"2022-02-05\",\n{\n            'v': 1644026400000.0,\n            'f': \"1644026400000.0\",\n        }],\n [\"00487X0015/S1\",\n{\n            'v': 30.66,\n            'f': \"30.66\",\n        },\n\"2022-02-04\",\n{\n            'v': 1644004800000.0,\n            'f': \"1644004800000.0\",\n        }],\n [\"00487X0015/S1\",\n{\n            'v': 30.66,\n            'f': \"30.66\",\n        },\n\"2022-02-03\",\n{\n            'v': 1643904000000.0,\n            'f': \"1643904000000.0\",\n        }],\n [\"00487X0015/S1\",\n{\n            'v': 30.67,\n            'f': \"30.67\",\n        },\n\"2022-02-02\",\n{\n            'v': 1643817600000.0,\n            'f': \"1643817600000.0\",\n        }],\n [\"00487X0015/S1\",\n{\n            'v': 30.67,\n            'f': \"30.67\",\n        },\n\"2022-02-01\",\n{\n            'v': 1643695200000.0,\n            'f': \"1643695200000.0\",\n        }],\n [\"00487X0015/S1\",\n{\n            'v': 30.66,\n            'f': \"30.66\",\n        },\n\"2022-01-31\",\n{\n            'v': 1643608800000.0,\n            'f': \"1643608800000.0\",\n        }],\n [\"00487X0015/S1\",\n{\n            'v': 30.67,\n            'f': \"30.67\",\n        },\n\"2022-01-30\",\n{\n            'v': 1643565600000.0,\n            'f': \"1643565600000.0\",\n        }],\n [\"00487X0015/S1\",\n{\n            'v': 30.67,\n            'f': \"30.67\",\n        },\n\"2022-01-29\",\n{\n            'v': 1643464800000.0,\n            'f': \"1643464800000.0\",\n        }],\n [\"07476X0029/S\",\n{\n            'v': 28.07,\n            'f': \"28.07\",\n        },\n\"2022-01-31\",\n{\n            'v': 1643608800000.0,\n            'f': \"1643608800000.0\",\n        }],\n [\"07476X0029/S\",\n{\n            'v': 28.07,\n            'f': \"28.07\",\n        },\n\"2022-01-30\",\n{\n            'v': 1643583600000.0,\n            'f': \"1643583600000.0\",\n        }],\n [\"07476X0029/S\",\n{\n            'v': 28.09,\n            'f': \"28.09\",\n        },\n\"2022-01-29\",\n{\n            'v': 1643490000000.0,\n            'f': \"1643490000000.0\",\n        }],\n [\"07476X0029/S\",\n{\n            'v': 28.1,\n            'f': \"28.1\",\n        },\n\"2022-01-28\",\n{\n            'v': 1643342400000.0,\n            'f': \"1643342400000.0\",\n        }],\n [\"07476X0029/S\",\n{\n            'v': 28.11,\n            'f': \"28.11\",\n        },\n\"2022-01-27\",\n{\n            'v': 1643259600000.0,\n            'f': \"1643259600000.0\",\n        }],\n [\"07476X0029/S\",\n{\n            'v': 28.11,\n            'f': \"28.11\",\n        },\n\"2022-01-26\",\n{\n            'v': 1643238000000.0,\n            'f': \"1643238000000.0\",\n        }],\n [\"07476X0029/S\",\n{\n            'v': 28.12,\n            'f': \"28.12\",\n        },\n\"2022-01-25\",\n{\n            'v': 1643148000000.0,\n            'f': \"1643148000000.0\",\n        }],\n [\"07476X0029/S\",\n{\n            'v': 28.13,\n            'f': \"28.13\",\n        },\n\"2022-01-24\",\n{\n            'v': 1643032800000.0,\n            'f': \"1643032800000.0\",\n        }],\n [\"07476X0029/S\",\n{\n            'v': 28.14,\n            'f': \"28.14\",\n        },\n\"2022-01-23\",\n{\n            'v': 1642978800000.0,\n            'f': \"1642978800000.0\",\n        }],\n [\"07476X0029/S\",\n{\n            'v': 28.15,\n            'f': \"28.15\",\n        },\n\"2022-01-22\",\n{\n            'v': 1642892400000.0,\n            'f': \"1642892400000.0\",\n        }],\n [\"01584X0023/LV3\",\n{\n            'v': 11.64,\n            'f': \"11.64\",\n        },\n\"2022-02-07\",\n{\n            'v': 1644192000000.0,\n            'f': \"1644192000000.0\",\n        }],\n [\"01584X0023/LV3\",\n{\n            'v': 11.64,\n            'f': \"11.64\",\n        },\n\"2022-02-06\",\n{\n            'v': 1644188400000.0,\n            'f': \"1644188400000.0\",\n        }],\n [\"01584X0023/LV3\",\n{\n            'v': 11.64,\n            'f': \"11.64\",\n        },\n\"2022-02-05\",\n{\n            'v': 1644033600000.0,\n            'f': \"1644033600000.0\",\n        }],\n [\"01584X0023/LV3\",\n{\n            'v': 11.61,\n            'f': \"11.61\",\n        },\n\"2022-02-04\",\n{\n            'v': 1643954400000.0,\n            'f': \"1643954400000.0\",\n        }],\n [\"01584X0023/LV3\",\n{\n            'v': 11.59,\n            'f': \"11.59\",\n        },\n\"2022-02-03\",\n{\n            'v': 1643875200000.0,\n            'f': \"1643875200000.0\",\n        }],\n [\"01584X0023/LV3\",\n{\n            'v': 11.58,\n            'f': \"11.58\",\n        },\n\"2022-02-02\",\n{\n            'v': 1643760000000.0,\n            'f': \"1643760000000.0\",\n        }],\n [\"01584X0023/LV3\",\n{\n            'v': 11.56,\n            'f': \"11.56\",\n        },\n\"2022-02-01\",\n{\n            'v': 1643724000000.0,\n            'f': \"1643724000000.0\",\n        }],\n [\"01584X0023/LV3\",\n{\n            'v': 11.54,\n            'f': \"11.54\",\n        },\n\"2022-01-31\",\n{\n            'v': 1643612400000.0,\n            'f': \"1643612400000.0\",\n        }],\n [\"01584X0023/LV3\",\n{\n            'v': 11.54,\n            'f': \"11.54\",\n        },\n\"2022-01-30\",\n{\n            'v': 1643526000000.0,\n            'f': \"1643526000000.0\",\n        }],\n [\"01584X0023/LV3\",\n{\n            'v': 11.53,\n            'f': \"11.53\",\n        },\n\"2022-01-29\",\n{\n            'v': 1643450400000.0,\n            'f': \"1643450400000.0\",\n        }],\n [\"01258X0020/S1\",\n{\n            'v': 13.87,\n            'f': \"13.87\",\n        },\n\"2022-02-07\",\n{\n            'v': 1644192000000.0,\n            'f': \"1644192000000.0\",\n        }],\n [\"01258X0020/S1\",\n{\n            'v': 13.86,\n            'f': \"13.86\",\n        },\n\"2022-02-06\",\n{\n            'v': 1644105600000.0,\n            'f': \"1644105600000.0\",\n        }],\n [\"01258X0020/S1\",\n{\n            'v': 13.83,\n            'f': \"13.83\",\n        },\n\"2022-02-05\",\n{\n            'v': 1644019200000.0,\n            'f': \"1644019200000.0\",\n        }],\n [\"01258X0020/S1\",\n{\n            'v': 13.8,\n            'f': \"13.8\",\n        },\n\"2022-02-04\",\n{\n            'v': 1643932800000.0,\n            'f': \"1643932800000.0\",\n        }],\n [\"01258X0020/S1\",\n{\n            'v': 13.79,\n            'f': \"13.79\",\n        },\n\"2022-02-03\",\n{\n            'v': 1643850000000.0,\n            'f': \"1643850000000.0\",\n        }],\n [\"01258X0020/S1\",\n{\n            'v': 13.77,\n            'f': \"13.77\",\n        },\n\"2022-02-02\",\n{\n            'v': 1643760000000.0,\n            'f': \"1643760000000.0\",\n        }],\n [\"01258X0020/S1\",\n{\n            'v': 13.75,\n            'f': \"13.75\",\n        },\n\"2022-02-01\",\n{\n            'v': 1643673600000.0,\n            'f': \"1643673600000.0\",\n        }],\n [\"01258X0020/S1\",\n{\n            'v': 13.72,\n            'f': \"13.72\",\n        },\n\"2022-01-31\",\n{\n            'v': 1643587200000.0,\n            'f': \"1643587200000.0\",\n        }],\n [\"01258X0020/S1\",\n{\n            'v': 13.7,\n            'f': \"13.7\",\n        },\n\"2022-01-30\",\n{\n            'v': 1643500800000.0,\n            'f': \"1643500800000.0\",\n        }],\n [\"01258X0020/S1\",\n{\n            'v': 13.68,\n            'f': \"13.68\",\n        },\n\"2022-01-29\",\n{\n            'v': 1643414400000.0,\n            'f': \"1643414400000.0\",\n        }],\n [\"04398X0002/SONDAG\",\n{\n            'v': 20.92,\n            'f': \"20.92\",\n        },\n\"2022-02-02\",\n{\n            'v': 1643760000000.0,\n            'f': \"1643760000000.0\",\n        }],\n [\"04398X0002/SONDAG\",\n{\n            'v': 20.65,\n            'f': \"20.65\",\n        },\n\"2022-02-01\",\n{\n            'v': 1643673600000.0,\n            'f': \"1643673600000.0\",\n        }],\n [\"04398X0002/SONDAG\",\n{\n            'v': 20.35,\n            'f': \"20.35\",\n        },\n\"2022-01-31\",\n{\n            'v': 1643587200000.0,\n            'f': \"1643587200000.0\",\n        }],\n [\"04398X0002/SONDAG\",\n{\n            'v': 20.06,\n            'f': \"20.06\",\n        },\n\"2022-01-30\",\n{\n            'v': 1643500800000.0,\n            'f': \"1643500800000.0\",\n        }],\n [\"04398X0002/SONDAG\",\n{\n            'v': 19.78,\n            'f': \"19.78\",\n        },\n\"2022-01-29\",\n{\n            'v': 1643414400000.0,\n            'f': \"1643414400000.0\",\n        }],\n [\"04398X0002/SONDAG\",\n{\n            'v': 19.49,\n            'f': \"19.49\",\n        },\n\"2022-01-28\",\n{\n            'v': 1643328000000.0,\n            'f': \"1643328000000.0\",\n        }],\n [\"04398X0002/SONDAG\",\n{\n            'v': 19.21,\n            'f': \"19.21\",\n        },\n\"2022-01-27\",\n{\n            'v': 1643241600000.0,\n            'f': \"1643241600000.0\",\n        }],\n [\"04398X0002/SONDAG\",\n{\n            'v': 19.02,\n            'f': \"19.02\",\n        },\n\"2022-01-26\",\n{\n            'v': 1643176800000.0,\n            'f': \"1643176800000.0\",\n        }],\n [\"04398X0002/SONDAG\",\n{\n            'v': 18.72,\n            'f': \"18.72\",\n        },\n\"2022-01-25\",\n{\n            'v': 1643068800000.0,\n            'f': \"1643068800000.0\",\n        }],\n [\"04398X0002/SONDAG\",\n{\n            'v': 18.48,\n            'f': \"18.48\",\n        },\n\"2022-01-24\",\n{\n            'v': 1642982400000.0,\n            'f': \"1642982400000.0\",\n        }],\n [\"01516X0004/S1\",\n{\n            'v': 20.1,\n            'f': \"20.1\",\n        },\n\"2022-02-07\",\n{\n            'v': 1644192000000.0,\n            'f': \"1644192000000.0\",\n        }],\n [\"01516X0004/S1\",\n{\n            'v': 20.09,\n            'f': \"20.09\",\n        },\n\"2022-02-06\",\n{\n            'v': 1644163200000.0,\n            'f': \"1644163200000.0\",\n        }],\n [\"01516X0004/S1\",\n{\n            'v': 20.11,\n            'f': \"20.11\",\n        },\n\"2022-02-05\",\n{\n            'v': 1644019200000.0,\n            'f': \"1644019200000.0\",\n        }],\n [\"01516X0004/S1\",\n{\n            'v': 20.09,\n            'f': \"20.09\",\n        },\n\"2022-02-04\",\n{\n            'v': 1643972400000.0,\n            'f': \"1643972400000.0\",\n        }],\n [\"01516X0004/S1\",\n{\n            'v': 20.1,\n            'f': \"20.1\",\n        },\n\"2022-02-03\",\n{\n            'v': 1643864400000.0,\n            'f': \"1643864400000.0\",\n        }],\n [\"01516X0004/S1\",\n{\n            'v': 20.11,\n            'f': \"20.11\",\n        },\n\"2022-02-02\",\n{\n            'v': 1643760000000.0,\n            'f': \"1643760000000.0\",\n        }],\n [\"01516X0004/S1\",\n{\n            'v': 20.1,\n            'f': \"20.1\",\n        },\n\"2022-02-01\",\n{\n            'v': 1643731200000.0,\n            'f': \"1643731200000.0\",\n        }],\n [\"01516X0004/S1\",\n{\n            'v': 20.1,\n            'f': \"20.1\",\n        },\n\"2022-01-31\",\n{\n            'v': 1643594400000.0,\n            'f': \"1643594400000.0\",\n        }],\n [\"01516X0004/S1\",\n{\n            'v': 20.11,\n            'f': \"20.11\",\n        },\n\"2022-01-30\",\n{\n            'v': 1643558400000.0,\n            'f': \"1643558400000.0\",\n        }],\n [\"01516X0004/S1\",\n{\n            'v': 20.12,\n            'f': \"20.12\",\n        },\n\"2022-01-29\",\n{\n            'v': 1643425200000.0,\n            'f': \"1643425200000.0\",\n        }],\n [\"02206X0022/S1\",\n{\n            'v': 39.71,\n            'f': \"39.71\",\n        },\n\"2022-02-07\",\n{\n            'v': 1644192000000.0,\n            'f': \"1644192000000.0\",\n        }],\n [\"02206X0022/S1\",\n{\n            'v': 39.67,\n            'f': \"39.67\",\n        },\n\"2022-02-06\",\n{\n            'v': 1644181200000.0,\n            'f': \"1644181200000.0\",\n        }],\n [\"02206X0022/S1\",\n{\n            'v': 39.77,\n            'f': \"39.77\",\n        },\n\"2022-02-05\",\n{\n            'v': 1644019200000.0,\n            'f': \"1644019200000.0\",\n        }],\n [\"02206X0022/S1\",\n{\n            'v': 39.68,\n            'f': \"39.68\",\n        },\n\"2022-02-04\",\n{\n            'v': 1643986800000.0,\n            'f': \"1643986800000.0\",\n        }],\n [\"02206X0022/S1\",\n{\n            'v': 39.7,\n            'f': \"39.7\",\n        },\n\"2022-02-03\",\n{\n            'v': 1643904000000.0,\n            'f': \"1643904000000.0\",\n        }],\n [\"02206X0022/S1\",\n{\n            'v': 39.75,\n            'f': \"39.75\",\n        },\n\"2022-02-02\",\n{\n            'v': 1643760000000.0,\n            'f': \"1643760000000.0\",\n        }],\n [\"02206X0022/S1\",\n{\n            'v': 39.74,\n            'f': \"39.74\",\n        },\n\"2022-02-01\",\n{\n            'v': 1643727600000.0,\n            'f': \"1643727600000.0\",\n        }],\n [\"02206X0022/S1\",\n{\n            'v': 39.7,\n            'f': \"39.7\",\n        },\n\"2022-01-31\",\n{\n            'v': 1643605200000.0,\n            'f': \"1643605200000.0\",\n        }],\n [\"02206X0022/S1\",\n{\n            'v': 39.75,\n            'f': \"39.75\",\n        },\n\"2022-01-30\",\n{\n            'v': 1643583600000.0,\n            'f': \"1643583600000.0\",\n        }],\n [\"02206X0022/S1\",\n{\n            'v': 39.82,\n            'f': \"39.82\",\n        },\n\"2022-01-29\",\n{\n            'v': 1643472000000.0,\n            'f': \"1643472000000.0\",\n        }],\n [\"06505X0080/FORC\",\n{\n            'v': 10.87,\n            'f': \"10.87\",\n        },\n\"2022-01-31\",\n{\n            'v': 1643612400000.0,\n            'f': \"1643612400000.0\",\n        }],\n [\"06505X0080/FORC\",\n{\n            'v': 10.86,\n            'f': \"10.86\",\n        },\n\"2022-01-30\",\n{\n            'v': 1643518800000.0,\n            'f': \"1643518800000.0\",\n        }],\n [\"06505X0080/FORC\",\n{\n            'v': 10.85,\n            'f': \"10.85\",\n        },\n\"2022-01-29\",\n{\n            'v': 1643418000000.0,\n            'f': \"1643418000000.0\",\n        }],\n [\"06505X0080/FORC\",\n{\n            'v': 10.82,\n            'f': \"10.82\",\n        },\n\"2022-01-28\",\n{\n            'v': 1643328000000.0,\n            'f': \"1643328000000.0\",\n        }],\n [\"06505X0080/FORC\",\n{\n            'v': 10.8,\n            'f': \"10.8\",\n        },\n\"2022-01-27\",\n{\n            'v': 1643241600000.0,\n            'f': \"1643241600000.0\",\n        }],\n [\"06505X0080/FORC\",\n{\n            'v': 10.77,\n            'f': \"10.77\",\n        },\n\"2022-01-26\",\n{\n            'v': 1643158800000.0,\n            'f': \"1643158800000.0\",\n        }],\n [\"06505X0080/FORC\",\n{\n            'v': 10.74,\n            'f': \"10.74\",\n        },\n\"2022-01-25\",\n{\n            'v': 1643068800000.0,\n            'f': \"1643068800000.0\",\n        }],\n [\"06505X0080/FORC\",\n{\n            'v': 10.71,\n            'f': \"10.71\",\n        },\n\"2022-01-24\",\n{\n            'v': 1642982400000.0,\n            'f': \"1642982400000.0\",\n        }],\n [\"06505X0080/FORC\",\n{\n            'v': 10.68,\n            'f': \"10.68\",\n        },\n\"2022-01-23\",\n{\n            'v': 1642899600000.0,\n            'f': \"1642899600000.0\",\n        }],\n [\"06505X0080/FORC\",\n{\n            'v': 10.65,\n            'f': \"10.65\",\n        },\n\"2022-01-22\",\n{\n            'v': 1642809600000.0,\n            'f': \"1642809600000.0\",\n        }]],\n        columns: [[\"string\", \"code\"], [\"number\", \"niveau\"], [\"string\", \"date\"], [\"number\", \"time\"]],\n        columnOptions: [],\n        rowsPerPage: 10,\n        helpUrl: \"https://colab.research.google.com/notebooks/data_table.ipynb\",\n        suppressOutputScrolling: true,\n        minimumWidth: undefined,\n      });\n    ",
            "text/plain": [
              "<google.colab.data_table.DataTable object>"
            ],
            "text/html": [
              "<div>\n",
              "<style scoped>\n",
              "    .dataframe tbody tr th:only-of-type {\n",
              "        vertical-align: middle;\n",
              "    }\n",
              "\n",
              "    .dataframe tbody tr th {\n",
              "        vertical-align: top;\n",
              "    }\n",
              "\n",
              "    .dataframe thead th {\n",
              "        text-align: right;\n",
              "    }\n",
              "</style>\n",
              "<table border=\"1\" class=\"dataframe\">\n",
              "  <thead>\n",
              "    <tr style=\"text-align: right;\">\n",
              "      <th></th>\n",
              "      <th>code</th>\n",
              "      <th>niveau</th>\n",
              "      <th>date</th>\n",
              "      <th>time</th>\n",
              "    </tr>\n",
              "  </thead>\n",
              "  <tbody>\n",
              "    <tr>\n",
              "      <th>0</th>\n",
              "      <td>00762X0004/S1</td>\n",
              "      <td>32.93</td>\n",
              "      <td>2022-02-02</td>\n",
              "      <td>1.643760e+12</td>\n",
              "    </tr>\n",
              "    <tr>\n",
              "      <th>1</th>\n",
              "      <td>00762X0004/S1</td>\n",
              "      <td>32.91</td>\n",
              "      <td>2022-02-01</td>\n",
              "      <td>1.643699e+12</td>\n",
              "    </tr>\n",
              "    <tr>\n",
              "      <th>2</th>\n",
              "      <td>00762X0004/S1</td>\n",
              "      <td>32.88</td>\n",
              "      <td>2022-01-31</td>\n",
              "      <td>1.643598e+12</td>\n",
              "    </tr>\n",
              "    <tr>\n",
              "      <th>3</th>\n",
              "      <td>00762X0004/S1</td>\n",
              "      <td>32.89</td>\n",
              "      <td>2022-01-30</td>\n",
              "      <td>1.643580e+12</td>\n",
              "    </tr>\n",
              "    <tr>\n",
              "      <th>4</th>\n",
              "      <td>00762X0004/S1</td>\n",
              "      <td>32.89</td>\n",
              "      <td>2022-01-29</td>\n",
              "      <td>1.643429e+12</td>\n",
              "    </tr>\n",
              "    <tr>\n",
              "      <th>...</th>\n",
              "      <td>...</td>\n",
              "      <td>...</td>\n",
              "      <td>...</td>\n",
              "      <td>...</td>\n",
              "    </tr>\n",
              "    <tr>\n",
              "      <th>95</th>\n",
              "      <td>06505X0080/FORC</td>\n",
              "      <td>10.77</td>\n",
              "      <td>2022-01-26</td>\n",
              "      <td>1.643159e+12</td>\n",
              "    </tr>\n",
              "    <tr>\n",
              "      <th>96</th>\n",
              "      <td>06505X0080/FORC</td>\n",
              "      <td>10.74</td>\n",
              "      <td>2022-01-25</td>\n",
              "      <td>1.643069e+12</td>\n",
              "    </tr>\n",
              "    <tr>\n",
              "      <th>97</th>\n",
              "      <td>06505X0080/FORC</td>\n",
              "      <td>10.71</td>\n",
              "      <td>2022-01-24</td>\n",
              "      <td>1.642982e+12</td>\n",
              "    </tr>\n",
              "    <tr>\n",
              "      <th>98</th>\n",
              "      <td>06505X0080/FORC</td>\n",
              "      <td>10.68</td>\n",
              "      <td>2022-01-23</td>\n",
              "      <td>1.642900e+12</td>\n",
              "    </tr>\n",
              "    <tr>\n",
              "      <th>99</th>\n",
              "      <td>06505X0080/FORC</td>\n",
              "      <td>10.65</td>\n",
              "      <td>2022-01-22</td>\n",
              "      <td>1.642810e+12</td>\n",
              "    </tr>\n",
              "  </tbody>\n",
              "</table>\n",
              "<p>100 rows × 4 columns</p>\n",
              "</div>"
            ]
          },
          "metadata": {},
          "execution_count": 50
        }
      ]
    },
    {
      "cell_type": "markdown",
      "metadata": {
        "id": "aWxnTckFX4EC"
      },
      "source": [
        "## Question 2 : degré de parallélisme"
      ]
    },
    {
      "cell_type": "markdown",
      "metadata": {
        "id": "riRxHIsYX_FQ"
      },
      "source": [
        "En faisant varier le nombre de partitions de 1 à 2, comparer la durée pour générer le dataframe Mesure.\n",
        "Calculer le rapport des durées."
      ]
    },
    {
      "cell_type": "code",
      "metadata": {
        "id": "as5gI9mRm_At",
        "colab": {
          "base_uri": "https://localhost:8080/"
        },
        "outputId": "b3f28eaf-79de-42c4-d1aa-2972e7c21065"
      },
      "source": [
        "import time\n",
        "\n",
        "start_time = time.time()\n",
        "temps1Partition = Mesure.repartition(1).persist()\n",
        "temps1Partition.count()\n",
        "exec_time = time.time() - start_time\n",
        "print(\"Temps partition 1 : --- %s seconds ---\" % (exec_time))\n",
        "\n",
        "\n",
        "start_time = time.time()\n",
        "temps2Partitions = Mesure.repartition(2).persist()\n",
        "temps2Partitions.count()\n",
        "exec_time2 = time.time() - start_time\n",
        "print(\"Temps partition 2 : --- %s seconds ---\" % (exec_time2))\n",
        "\n",
        "print(\"\\nRapport des durées :\", exec_time2/exec_time)"
      ],
      "execution_count": 51,
      "outputs": [
        {
          "output_type": "stream",
          "name": "stdout",
          "text": [
            "Temps partition 1 : --- 4.3180108070373535 seconds ---\n",
            "Temps partition 2 : --- 0.43598151206970215 seconds ---\n",
            "\n",
            "Rapport des durées : 0.10096813823604926\n"
          ]
        }
      ]
    },
    {
      "cell_type": "markdown",
      "metadata": {
        "id": "6fBrIwKAXsYi"
      },
      "source": [
        "# Exercice 2 : Traitement avec des partitions"
      ]
    },
    {
      "cell_type": "markdown",
      "metadata": {
        "id": "3cSOQIuuZ_PD"
      },
      "source": [
        "On fournit des fonctions pour afficher le contenu des partitions d'un dataframe\n"
      ]
    },
    {
      "cell_type": "markdown",
      "metadata": {
        "application/vnd.databricks.v1+cell": {
          "title": "",
          "showTitle": false,
          "inputWidgets": {},
          "nuid": "52fd9538-28a9-4974-92ea-8a7be60563c3"
        },
        "id": "0LPYBvh0G1_-"
      },
      "source": [
        "#### Fonctions showPartitions et showPartitionSize\n",
        " \n",
        "* showPartitions : affiche les _n_ premiers éléments de chaque partition\n",
        "* showPartitionSize : affiche le nombre d'éléments dans chaque partition"
      ]
    },
    {
      "cell_type": "code",
      "metadata": {
        "application/vnd.databricks.v1+cell": {
          "title": "",
          "showTitle": false,
          "inputWidgets": {},
          "nuid": "f626210f-dce5-457b-a05b-1dd3e6af87a2"
        },
        "colab": {
          "base_uri": "https://localhost:8080/"
        },
        "id": "cIfA0oZaG1_-",
        "outputId": "a4f353f9-e036-42f8-bdc0-7c3f6b9d79ee"
      },
      "source": [
        "# fonction auxilliaire\n",
        "def partSize(partID, iterateur):\n",
        "  c=0\n",
        "  suivant = next(iterateur, None)\n",
        "  while suivant is not None :\n",
        "    c+=1\n",
        "    suivant = next(iterateur, None)\n",
        "  return [(partID, c)]\n",
        "\n",
        "\n",
        "def showPartitionSize(df):  \n",
        "  t = df.selectExpr(\"1\").rdd.mapPartitionsWithIndex(partSize)\n",
        "  for (partID, nbElt) in t.collect():\n",
        "    print(\"partition\", partID, \":\", nbElt, \"éléments\")\n",
        "  print()\n",
        "\n",
        "\n",
        "def showPartitions(df, N=5):\n",
        "  size = df.selectExpr(\"1\").rdd.mapPartitionsWithIndex(partSize).collectAsMap()\n",
        "  \n",
        "  def topN(partID, iterateur):\n",
        "    c=0\n",
        "    head=[]\n",
        "    suivant = next(iterateur, None)\n",
        "    while suivant is not None and c < N :\n",
        "      c+=1\n",
        "      head.append(suivant)\n",
        "      suivant = next(iterateur, None)\n",
        "    return [(partID, head)]  \n",
        "  t = df.rdd.mapPartitionsWithIndex(topN)\n",
        "  for (partID, head) in t.collect():\n",
        "    print(\"Partition\", partID, \",\", size[partID], \"éléments\")\n",
        "    for row in head:\n",
        "        print(row)\n",
        "    print()\n",
        "    \n",
        "print('showPartitions et showPartitionSize définies')"
      ],
      "execution_count": 37,
      "outputs": [
        {
          "output_type": "stream",
          "name": "stdout",
          "text": [
            "showPartitions et showPartitionSize définies\n"
          ]
        }
      ]
    },
    {
      "cell_type": "markdown",
      "metadata": {
        "id": "BOlul5ehQCXU"
      },
      "source": [
        "Afficher la taille de chaque partition"
      ]
    },
    {
      "cell_type": "code",
      "metadata": {
        "colab": {
          "base_uri": "https://localhost:8080/"
        },
        "id": "kw3S7FblajL2",
        "outputId": "e9890723-3c4b-444a-e606-d1fed188a485"
      },
      "source": [
        "showPartitionSize(data3)"
      ],
      "execution_count": 38,
      "outputs": [
        {
          "output_type": "stream",
          "name": "stdout",
          "text": [
            "partition 0 : 5 éléments\n",
            "partition 1 : 5 éléments\n",
            "partition 2 : 5 éléments\n",
            "partition 3 : 5 éléments\n",
            "\n"
          ]
        }
      ]
    },
    {
      "cell_type": "markdown",
      "metadata": {
        "id": "EwESmBw_P8-1"
      },
      "source": [
        "Afficher les premiers éléments de chaque partition"
      ]
    },
    {
      "cell_type": "code",
      "metadata": {
        "colab": {
          "base_uri": "https://localhost:8080/"
        },
        "id": "ClAHmDeVblxw",
        "outputId": "189b4e66-8f2b-4c41-cede-438ff4a8c32f"
      },
      "source": [
        "showPartitions(data3)"
      ],
      "execution_count": 39,
      "outputs": [
        {
          "output_type": "stream",
          "name": "stdout",
          "text": [
            "Partition 0 , 5 éléments\n",
            "Row(code='01516X0004/S1', niveau=20.1, date='2022-02-07', time=1644192000000)\n",
            "Row(code='01516X0004/S1', niveau=20.09, date='2022-02-06', time=1644163200000)\n",
            "Row(code='01516X0004/S1', niveau=20.11, date='2022-02-05', time=1644019200000)\n",
            "Row(code='01516X0004/S1', niveau=20.09, date='2022-02-04', time=1643972400000)\n",
            "Row(code='01516X0004/S1', niveau=20.1, date='2022-02-03', time=1643864400000)\n",
            "\n",
            "Partition 1 , 5 éléments\n",
            "Row(code='01516X0004/S1', niveau=20.11, date='2022-02-02', time=1643760000000)\n",
            "Row(code='01516X0004/S1', niveau=20.1, date='2022-02-01', time=1643731200000)\n",
            "Row(code='01516X0004/S1', niveau=20.1, date='2022-01-31', time=1643594400000)\n",
            "Row(code='01516X0004/S1', niveau=20.11, date='2022-01-30', time=1643558400000)\n",
            "Row(code='01516X0004/S1', niveau=20.12, date='2022-01-29', time=1643425200000)\n",
            "\n",
            "Partition 2 , 5 éléments\n",
            "Row(code='01516X0004/S1', niveau=20.12, date='2022-01-28', time=1643328000000)\n",
            "Row(code='01516X0004/S1', niveau=20.12, date='2022-01-27', time=1643245200000)\n",
            "Row(code='01516X0004/S1', niveau=20.12, date='2022-01-26', time=1643173200000)\n",
            "Row(code='01516X0004/S1', niveau=20.13, date='2022-01-25', time=1643068800000)\n",
            "Row(code='01516X0004/S1', niveau=20.13, date='2022-01-24', time=1642982400000)\n",
            "\n",
            "Partition 3 , 5 éléments\n",
            "Row(code='01516X0004/S1', niveau=20.13, date='2022-01-23', time=1642899600000)\n",
            "Row(code='01516X0004/S1', niveau=20.13, date='2022-01-22', time=1642892400000)\n",
            "Row(code='01516X0004/S1', niveau=20.14, date='2022-01-21', time=1642748400000)\n",
            "Row(code='01516X0004/S1', niveau=20.14, date='2022-01-20', time=1642636800000)\n",
            "Row(code='01516X0004/S1', niveau=20.14, date='2022-01-19', time=1642575600000)\n",
            "\n"
          ]
        }
      ]
    },
    {
      "cell_type": "markdown",
      "metadata": {
        "id": "rMHvhFWXbRfX"
      },
      "source": [
        "## Question 3 : Fonction niveauMoyen"
      ]
    },
    {
      "cell_type": "markdown",
      "metadata": {
        "id": "YUw-ILsYbbdZ"
      },
      "source": [
        "En vous inspirant des fonctions topN et showPartitions définir une fonction qui détermine le niveau moyen dans chaque partition. Le résultat est (numP, code, niveauMoyen) avec numP étant le numéro de partition."
      ]
    },
    {
      "cell_type": "code",
      "metadata": {
        "id": "f4ggZjG5cPJ_",
        "colab": {
          "base_uri": "https://localhost:8080/"
        },
        "outputId": "c03f8f24-5c24-4165-a5bc-0a2d079fd4e4"
      },
      "source": [
        "import builtins\n",
        "def niveauMoyen(df):\n",
        "  size = df.selectExpr(\"1\").rdd.mapPartitionsWithIndex(partSize).collectAsMap()\n",
        "  \n",
        "  def topN(partID, iterateur):\n",
        "    head={}\n",
        "\n",
        "    suivant = next(iterateur, None)\n",
        "    while suivant is not None :\n",
        "      if suivant[\"code\"] in head :\n",
        "        head[suivant[\"code\"]].append(suivant[\"niveau\"])\n",
        "      else:\n",
        "        head[suivant[\"code\"]] = [suivant[\"niveau\"]]\n",
        "\n",
        "      suivant = next(iterateur, None)\n",
        "\n",
        "    res = [Row(code=k, moy=builtins.sum(v)/len(v)) for k,v in head.items()]\n",
        "    return [(partID, res)]  \n",
        "    \n",
        "  t = df.rdd.mapPartitionsWithIndex(topN)\n",
        "  for (partID, head) in t.collect():\n",
        "    print(\"Partition\", partID, \",\", size[partID], \"éléments\")\n",
        "    for row in head:\n",
        "        print(\"Code\",row[\"code\"],\": Moyenne =\" , row[\"moy\"])\n",
        "    print()\n",
        "    \n",
        "print('niveauMoyen définie')"
      ],
      "execution_count": 52,
      "outputs": [
        {
          "output_type": "stream",
          "name": "stdout",
          "text": [
            "niveauMoyen définie\n"
          ]
        }
      ]
    },
    {
      "cell_type": "code",
      "source": [
        "niveauMoyen(Mesure)"
      ],
      "metadata": {
        "colab": {
          "base_uri": "https://localhost:8080/"
        },
        "id": "NxLzpSGouO7e",
        "outputId": "7a28b9e4-6b7e-4b83-8f66-8b3fe2689195"
      },
      "execution_count": 53,
      "outputs": [
        {
          "output_type": "stream",
          "name": "stdout",
          "text": [
            "Partition 0 , 50 éléments\n",
            "Code 00762X0004/S1 : Moyenne = 32.894\n",
            "Code 07223C0113/S : Moyenne = 6.470999999999999\n",
            "Code 00487X0015/S1 : Moyenne = 30.663\n",
            "Code 07476X0029/S : Moyenne = 28.108999999999998\n",
            "Code 01584X0023/LV3 : Moyenne = 11.587\n",
            "\n",
            "Partition 1 , 40 éléments\n",
            "Code 01258X0020/S1 : Moyenne = 13.777000000000001\n",
            "Code 04398X0002/SONDAG : Moyenne = 19.668\n",
            "Code 01516X0004/S1 : Moyenne = 20.103\n",
            "Code 02206X0022/S1 : Moyenne = 39.729\n",
            "\n",
            "Partition 2 , 40 éléments\n",
            "Code 06505X0080/FORC : Moyenne = 10.775\n",
            "Code 02603X0009/S1 : Moyenne = 12.565000000000001\n",
            "Code 03124X0088/F : Moyenne = 11.933\n",
            "Code 00755X0006/S1 : Moyenne = 83.34700000000001\n",
            "\n",
            "Partition 3 , 50 éléments\n",
            "Code 02706X0074/S77-20 : Moyenne = 15.898\n",
            "Code 00471X0095/PZ2013 : Moyenne = 9.03\n",
            "Code 02267X0030/S1 : Moyenne = 1.2049999999999996\n",
            "Code 00766X0004/S1 : Moyenne = 68.08999999999999\n",
            "Code 02648X0020/S1 : Moyenne = 6.8629999999999995\n",
            "\n"
          ]
        }
      ]
    },
    {
      "cell_type": "markdown",
      "metadata": {
        "id": "9K5CMfMccQVG"
      },
      "source": [
        "Invoquez la fonction que vous aurez définie"
      ]
    },
    {
      "cell_type": "code",
      "metadata": {
        "colab": {
          "base_uri": "https://localhost:8080/",
          "height": 175
        },
        "id": "S0xtdpoP3XGy",
        "outputId": "82d2f486-6cca-4bf0-9ee3-8b3526554ae8"
      },
      "source": [
        "# exemple d'invocation de la fonction partsize définie ci-dessus pour définir un dataframe.\n",
        "pointPartSize = point.rdd.mapPartitionsWithIndex(partSize).toDF([\"numP\", \"size\"])\n",
        "display(pointPartSize)"
      ],
      "execution_count": null,
      "outputs": [
        {
          "output_type": "execute_result",
          "data": {
            "application/vnd.google.colaboratory.module+javascript": "\n      import \"https://ssl.gstatic.com/colaboratory/data_table/a6224c040fa35dcf/data_table.js\";\n\n      window.createDataTable({\n        data: [[{\n            'v': 0,\n            'f': \"0\",\n        },\n{\n            'v': 5,\n            'f': \"5\",\n        }],\n [{\n            'v': 1,\n            'f': \"1\",\n        },\n{\n            'v': 4,\n            'f': \"4\",\n        }],\n [{\n            'v': 2,\n            'f': \"2\",\n        },\n{\n            'v': 4,\n            'f': \"4\",\n        }],\n [{\n            'v': 3,\n            'f': \"3\",\n        },\n{\n            'v': 5,\n            'f': \"5\",\n        }]],\n        columns: [[\"number\", \"numP\"], [\"number\", \"size\"]],\n        columnOptions: [],\n        rowsPerPage: 10,\n        helpUrl: \"https://colab.research.google.com/notebooks/data_table.ipynb\",\n        suppressOutputScrolling: true,\n        minimumWidth: undefined,\n      });\n    ",
            "text/plain": [
              "<google.colab.data_table.DataTable object>"
            ],
            "text/html": [
              "<div>\n",
              "<style scoped>\n",
              "    .dataframe tbody tr th:only-of-type {\n",
              "        vertical-align: middle;\n",
              "    }\n",
              "\n",
              "    .dataframe tbody tr th {\n",
              "        vertical-align: top;\n",
              "    }\n",
              "\n",
              "    .dataframe thead th {\n",
              "        text-align: right;\n",
              "    }\n",
              "</style>\n",
              "<table border=\"1\" class=\"dataframe\">\n",
              "  <thead>\n",
              "    <tr style=\"text-align: right;\">\n",
              "      <th></th>\n",
              "      <th>numP</th>\n",
              "      <th>size</th>\n",
              "    </tr>\n",
              "  </thead>\n",
              "  <tbody>\n",
              "    <tr>\n",
              "      <th>0</th>\n",
              "      <td>0</td>\n",
              "      <td>5</td>\n",
              "    </tr>\n",
              "    <tr>\n",
              "      <th>1</th>\n",
              "      <td>1</td>\n",
              "      <td>4</td>\n",
              "    </tr>\n",
              "    <tr>\n",
              "      <th>2</th>\n",
              "      <td>2</td>\n",
              "      <td>4</td>\n",
              "    </tr>\n",
              "    <tr>\n",
              "      <th>3</th>\n",
              "      <td>3</td>\n",
              "      <td>5</td>\n",
              "    </tr>\n",
              "  </tbody>\n",
              "</table>\n",
              "</div>"
            ]
          },
          "metadata": {},
          "execution_count": 31
        }
      ]
    },
    {
      "cell_type": "markdown",
      "metadata": {
        "id": "YvTKJysqc0CX"
      },
      "source": [
        "## Question 4 : NiveauTotalJour"
      ]
    },
    {
      "cell_type": "markdown",
      "metadata": {
        "id": "1VOf3bWxc7XH"
      },
      "source": [
        "Definir MesureParJour qui est un partitionnement de Mesure par date. \n",
        "En vous inspirant de la fonctions showPartitions,\n",
        "définir une fonction qui détermine le niveau total par jour dans chaque partition. Le résultat est (numP, date, niveauTotal) "
      ]
    },
    {
      "cell_type": "code",
      "metadata": {
        "id": "yYjpNWMgQV0t",
        "colab": {
          "base_uri": "https://localhost:8080/"
        },
        "outputId": "63b00b38-dead-4d08-ec73-d8f6d9afdd05"
      },
      "source": [
        "def niveauTotalJour(df):\n",
        "  size = df.selectExpr(\"1\").rdd.mapPartitionsWithIndex(partSize).collectAsMap()\n",
        "  \n",
        "  def topN(partID, iterateur):\n",
        "    head={}\n",
        "\n",
        "    suivant = next(iterateur, None)\n",
        "    while suivant is not None :\n",
        "      if suivant[\"date\"] in head :\n",
        "        head[suivant[\"date\"]].append(suivant[\"niveau\"])\n",
        "      else:\n",
        "        head[suivant[\"date\"]] = [suivant[\"niveau\"]]\n",
        "\n",
        "      suivant = next(iterateur, None)\n",
        "\n",
        "    res = [Row(date=k, sum=builtins.sum(v)) for k,v in head.items()]\n",
        "    return [(partID, res)]  \n",
        "    \n",
        "  t = df.rdd.mapPartitionsWithIndex(topN)\n",
        "  for (partID, head) in t.collect():\n",
        "    print(\"Partition\", partID, \",\", size[partID], \"éléments\")\n",
        "    for row in head:\n",
        "        print(row[\"date\"],\": Niveau total =\" , row[\"sum\"])\n",
        "    print()\n",
        "    \n",
        "print('niveauTotalJour définie')"
      ],
      "execution_count": 54,
      "outputs": [
        {
          "output_type": "stream",
          "name": "stdout",
          "text": [
            "niveauTotalJour définie\n"
          ]
        }
      ]
    },
    {
      "cell_type": "code",
      "source": [
        "niveauTotalJour(Mesure)"
      ],
      "metadata": {
        "colab": {
          "base_uri": "https://localhost:8080/"
        },
        "id": "minEOT7NwHi4",
        "outputId": "5dac51e7-88ea-4571-ef50-1543ef92e053"
      },
      "execution_count": 55,
      "outputs": [
        {
          "output_type": "stream",
          "name": "stdout",
          "text": [
            "Partition 0 , 50 éléments\n",
            "2022-02-02 : Niveau total = 75.18\n",
            "2022-02-01 : Niveau total = 75.14\n",
            "2022-01-31 : Niveau total = 109.63\n",
            "2022-01-30 : Niveau total = 109.65\n",
            "2022-01-29 : Niveau total = 109.66000000000001\n",
            "2022-01-28 : Niveau total = 67.47999999999999\n",
            "2022-01-27 : Niveau total = 67.47\n",
            "2022-01-26 : Niveau total = 67.47\n",
            "2022-01-25 : Niveau total = 67.48\n",
            "2022-01-24 : Niveau total = 67.46\n",
            "2022-01-23 : Niveau total = 34.6\n",
            "2022-01-22 : Niveau total = 34.61\n",
            "2022-02-07 : Niveau total = 42.29\n",
            "2022-02-06 : Niveau total = 42.29\n",
            "2022-02-05 : Niveau total = 42.31\n",
            "2022-02-04 : Niveau total = 42.269999999999996\n",
            "2022-02-03 : Niveau total = 42.25\n",
            "\n",
            "Partition 1 , 40 éléments\n",
            "2022-02-07 : Niveau total = 73.68\n",
            "2022-02-06 : Niveau total = 73.62\n",
            "2022-02-05 : Niveau total = 73.71000000000001\n",
            "2022-02-04 : Niveau total = 73.57\n",
            "2022-02-03 : Niveau total = 73.59\n",
            "2022-02-02 : Niveau total = 94.55\n",
            "2022-02-01 : Niveau total = 94.24000000000001\n",
            "2022-01-31 : Niveau total = 93.87\n",
            "2022-01-30 : Niveau total = 93.62\n",
            "2022-01-29 : Niveau total = 93.4\n",
            "2022-01-28 : Niveau total = 19.49\n",
            "2022-01-27 : Niveau total = 19.21\n",
            "2022-01-26 : Niveau total = 19.02\n",
            "2022-01-25 : Niveau total = 18.72\n",
            "2022-01-24 : Niveau total = 18.48\n",
            "\n",
            "Partition 2 , 40 éléments\n",
            "2022-01-31 : Niveau total = 119.16999999999999\n",
            "2022-01-30 : Niveau total = 119.09\n",
            "2022-01-29 : Niveau total = 118.98\n",
            "2022-01-28 : Niveau total = 118.83\n",
            "2022-01-27 : Niveau total = 118.66\n",
            "2022-01-26 : Niveau total = 118.48\n",
            "2022-01-25 : Niveau total = 105.6\n",
            "2022-01-24 : Niveau total = 105.38\n",
            "2022-01-23 : Niveau total = 22.009999999999998\n",
            "2022-01-22 : Niveau total = 10.65\n",
            "2022-02-04 : Niveau total = 12.51\n",
            "2022-02-03 : Niveau total = 12.51\n",
            "2022-02-02 : Niveau total = 95.99000000000001\n",
            "2022-02-01 : Niveau total = 108.34\n",
            "\n",
            "Partition 3 , 50 éléments\n",
            "2022-02-07 : Niveau total = 23.86\n",
            "2022-02-06 : Niveau total = 32.78\n",
            "2022-02-05 : Niveau total = 33.03\n",
            "2022-02-04 : Niveau total = 32.93\n",
            "2022-02-03 : Niveau total = 32.9\n",
            "2022-02-02 : Niveau total = 101.28999999999999\n",
            "2022-02-01 : Niveau total = 101.32000000000001\n",
            "2022-01-31 : Niveau total = 101.27999999999999\n",
            "2022-01-30 : Niveau total = 101.29\n",
            "2022-01-29 : Niveau total = 101.26\n",
            "2022-01-28 : Niveau total = 77.28\n",
            "2022-01-27 : Niveau total = 68.02\n",
            "2022-01-26 : Niveau total = 67.95\n",
            "2022-01-25 : Niveau total = 67.88\n",
            "2022-01-24 : Niveau total = 67.79\n",
            "\n"
          ]
        }
      ]
    }
  ]
}