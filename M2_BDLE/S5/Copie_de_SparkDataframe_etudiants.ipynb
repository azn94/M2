{
  "nbformat": 4,
  "nbformat_minor": 0,
  "metadata": {
    "application/vnd.databricks.v1+notebook": {
      "notebookName": "SparkDataframe-CSV-solution",
      "dashboards": [],
      "notebookMetadata": {
        "pythonIndentUnit": 2
      },
      "language": "python",
      "widgets": {},
      "notebookOrigID": 620345572627578
    },
    "colab": {
      "name": "Copie de SparkDataframe-etudiants.ipynb",
      "provenance": [],
      "collapsed_sections": [],
      "toc_visible": true
    },
    "language_info": {
      "name": "python"
    },
    "kernelspec": {
      "name": "python3",
      "display_name": "Python 3"
    }
  },
  "cells": [
    {
      "cell_type": "markdown",
      "metadata": {
        "application/vnd.databricks.v1+cell": {
          "title": "",
          "showTitle": false,
          "inputWidgets": {},
          "nuid": "710d6dff-49b3-4ff2-8082-441223d45842"
        },
        "id": "OyxZGhX_gpjy"
      },
      "source": [
        "* Master DAC, BDLE, 2021 \n",
        "* Author: Mohamed-Amine Baazizi\n",
        "* Affiliation: LIP6 - Faculté des Sciences - Sorbonne Université\n",
        "* Email: mohamed-amine.baazizi@lip6.fr"
      ]
    },
    {
      "cell_type": "markdown",
      "metadata": {
        "id": "IIjfFN4WiSnO"
      },
      "source": [
        "# Querying tabular  data\n",
        "\n",
        "The goal of the lab session is to formulate SQL queries in Spark.\n",
        "\n",
        "Documentation about expressing SQL using Dataframe\n",
        "* https://spark.apache.org/docs/latest/sql-programming-guide.html\n",
        "\n",
        "Documentation about the Dataframe python API:\n",
        "* https://spark.apache.org/docs/latest/api/python/reference/pyspark.sql.html\n"
      ]
    },
    {
      "cell_type": "markdown",
      "metadata": {
        "application/vnd.databricks.v1+cell": {
          "title": "",
          "showTitle": false,
          "inputWidgets": {},
          "nuid": "b15737ae-19bd-4b9f-b9f3-52388cc5e50e"
        },
        "id": "3Nuee92cjR0z"
      },
      "source": [
        "\n",
        "## Préparation"
      ]
    },
    {
      "cell_type": "markdown",
      "metadata": {
        "application/vnd.databricks.v1+cell": {
          "title": "",
          "showTitle": false,
          "inputWidgets": {},
          "nuid": "b6afe82e-35d6-4358-9b79-8f56074e0908"
        },
        "id": "hf6Ux_HLjR01"
      },
      "source": [
        "Vérifier que des ressources de calcul sont allouées à votre notebook est connecté (cf RAM  de disque indiqués en haut à droite) . Sinon cliquer sur le bouton connecter pour obtenir des ressources.\n",
        "\n",
        "\n"
      ]
    },
    {
      "cell_type": "markdown",
      "metadata": {
        "id": "NAxhSsQ7jR02"
      },
      "source": [
        "Pour accéder directement aux fichiers stockées sur votre google drive. Renseigner le code d'authentification lorsqu'il est demandé\n",
        "\n",
        "Ajuster le nom de votre dossier : MyDrive/ens/bdle/SparkDF. "
      ]
    },
    {
      "cell_type": "code",
      "metadata": {
        "colab": {
          "base_uri": "https://localhost:8080/"
        },
        "id": "c016DDPjjR02",
        "outputId": "c9773753-b30c-4a5e-e8fd-cb3574490e6c"
      },
      "source": [
        "import os\n",
        "from google.colab import drive\n",
        "drive.mount(\"/content/drive\", force_remount=True)\n",
        "\n",
        "drive_dir = \"/content/drive/MyDrive/ens/bdle/SparkDF/\"\n",
        "os.makedirs(drive_dir, exist_ok=True)\n",
        "os.listdir(drive_dir)"
      ],
      "execution_count": null,
      "outputs": [
        {
          "output_type": "stream",
          "name": "stdout",
          "text": [
            "Mounted at /content/drive\n"
          ]
        },
        {
          "output_type": "execute_result",
          "data": {
            "text/plain": [
              "[]"
            ]
          },
          "metadata": {},
          "execution_count": 1
        }
      ]
    },
    {
      "cell_type": "markdown",
      "metadata": {
        "id": "_1fRX5GwjR03"
      },
      "source": [
        "Installer pyspark et findspark :\n"
      ]
    },
    {
      "cell_type": "code",
      "metadata": {
        "colab": {
          "base_uri": "https://localhost:8080/"
        },
        "id": "GKn4z6E_jR03",
        "outputId": "99c24d85-9dfb-4822-f85a-cbc4c4a89d4f"
      },
      "source": [
        "!pip install -q pyspark\n",
        "!pip install -q findspark"
      ],
      "execution_count": null,
      "outputs": [
        {
          "output_type": "stream",
          "name": "stdout",
          "text": [
            "\u001b[K     |████████████████████████████████| 281.3 MB 37 kB/s \n",
            "\u001b[K     |████████████████████████████████| 198 kB 50.7 MB/s \n",
            "\u001b[?25h  Building wheel for pyspark (setup.py) ... \u001b[?25l\u001b[?25hdone\n"
          ]
        }
      ]
    },
    {
      "cell_type": "markdown",
      "metadata": {
        "id": "PnEmOd_zOUo0"
      },
      "source": [
        "Démarrer la session spark"
      ]
    },
    {
      "cell_type": "code",
      "metadata": {
        "id": "W0ADH0J-VW7i"
      },
      "source": [
        "import os\n",
        "# !find /usr/local -name \"pyspark\"\n",
        "os.environ[\"SPARK_HOME\"] = \"/usr/local/lib/python3.7/dist-packages/pyspark\"\n",
        "os.environ[\"JAVA_HOME\"] = \"/usr\""
      ],
      "execution_count": null,
      "outputs": []
    },
    {
      "cell_type": "code",
      "metadata": {
        "id": "Q_WxQZB7TaUC",
        "colab": {
          "base_uri": "https://localhost:8080/"
        },
        "outputId": "94962839-a37d-4048-939c-e0b40df71008"
      },
      "source": [
        "# Principaux import\n",
        "import findspark\n",
        "from pyspark.sql import SparkSession \n",
        "from pyspark import SparkConf  \n",
        "\n",
        "# pour les dataframe et udf\n",
        "from pyspark.sql import *  \n",
        "from pyspark.sql.functions import *\n",
        "from pyspark.sql.types import *\n",
        "from datetime import *\n",
        "\n",
        "# pour le chronomètre\n",
        "import time\n",
        "\n",
        "# initialise les variables d'environnement pour spark\n",
        "findspark.init()\n",
        "\n",
        "# Démarrage session spark \n",
        "# --------------------------\n",
        "def demarrer_spark():\n",
        "  local = \"local[*]\"\n",
        "  appName = \"TP\"\n",
        "  configLocale = SparkConf().setAppName(appName).setMaster(local).\\\n",
        "  set(\"spark.executor.memory\", \"6G\").\\\n",
        "  set(\"spark.driver.memory\",\"6G\").\\\n",
        "  set(\"spark.sql.catalogImplementation\",\"in-memory\")\n",
        "  \n",
        "  spark = SparkSession.builder.config(conf = configLocale).getOrCreate()\n",
        "  sc = spark.sparkContext\n",
        "  sc.setLogLevel(\"ERROR\")\n",
        "  \n",
        "  spark.conf.set(\"spark.sql.autoBroadcastJoinThreshold\",\"-1\")\n",
        "\n",
        "  # On ajuste l'environnement d'exécution des requêtes à la taille du cluster (4 coeurs)\n",
        "  spark.conf.set(\"spark.sql.shuffle.partitions\",\"4\")    \n",
        "  print(\"session démarrée, son id est \", sc.applicationId)\n",
        "  return spark\n",
        "spark = demarrer_spark()"
      ],
      "execution_count": null,
      "outputs": [
        {
          "output_type": "stream",
          "name": "stdout",
          "text": [
            "session démarrée, son id est  local-1634886616544\n"
          ]
        }
      ]
    },
    {
      "cell_type": "code",
      "metadata": {
        "application/vnd.databricks.v1+cell": {
          "title": "",
          "showTitle": false,
          "inputWidgets": {},
          "nuid": "852847c4-bd45-4f9c-ae8b-2c704f389cf9"
        },
        "id": "fj9pUgrmGpLe",
        "colab": {
          "base_uri": "https://localhost:8080/"
        },
        "outputId": "9c3398fe-56d6-46a0-df77-0d4e5f7af88c"
      },
      "source": [
        "# on utilise 8 partitions au lieu de 200 par défaut\n",
        "spark.conf.set(\"spark.sql.shuffle.partitions\", \"8\")\n",
        "print(\"Nombre de partitions utilisées : \", spark.conf.get(\"spark.sql.shuffle.partitions\"))"
      ],
      "execution_count": null,
      "outputs": [
        {
          "output_type": "stream",
          "name": "stdout",
          "text": [
            "Nombre de partitions utilisées :  8\n"
          ]
        }
      ]
    },
    {
      "cell_type": "markdown",
      "metadata": {
        "application/vnd.databricks.v1+cell": {
          "title": "",
          "showTitle": false,
          "inputWidgets": {},
          "nuid": "41dd8b8e-d697-4efb-a1d2-cd34a08b3e7e"
        },
        "id": "NtjUaom1_2bC"
      },
      "source": [
        "## Data loading"
      ]
    },
    {
      "cell_type": "code",
      "metadata": {
        "colab": {
          "base_uri": "https://localhost:8080/"
        },
        "id": "NnpzRKcuA9Yi",
        "outputId": "706b715a-cb7e-46dc-c45c-d9462162224b"
      },
      "source": [
        "# URL du dossier PUBLIC_DATASET contenant des fichiers de données pour les TP\n",
        "# ---------------------------------------------------------------------------\n",
        "# en cas de problème avec le téléchargement des datasets, aller directement sur l'URL ci-dessous\n",
        "PUBLIC_DATASET_URL = \"https://nuage.lip6.fr/s/H3bpyRGgnCq2NR4\" \n",
        "PUBLIC_DATASET=PUBLIC_DATASET_URL + \"/download?path=\"\n",
        "\n",
        "print(\"URL pour les datasets \", PUBLIC_DATASET_URL)"
      ],
      "execution_count": null,
      "outputs": [
        {
          "output_type": "stream",
          "name": "stdout",
          "text": [
            "URL pour les datasets  https://nuage.lip6.fr/s/H3bpyRGgnCq2NR4\n"
          ]
        }
      ]
    },
    {
      "cell_type": "code",
      "metadata": {
        "id": "PecIszauBHx7",
        "colab": {
          "base_uri": "https://localhost:8080/"
        },
        "outputId": "b8594caf-cb94-47cd-da87-8b391c6f29c2"
      },
      "source": [
        "import os\n",
        "from urllib import request\n",
        "\n",
        "def load_file(file,dir):\n",
        "  if(os.path.isfile(file)):\n",
        "    print(file, \"is already stored\")\n",
        "  else:\n",
        "    url = PUBLIC_DATASET + \"/\"+ dir + \"/\" + file\n",
        "    print(\"downloading from URL: \", url, \"save in : \" + drive_dir   + file)\n",
        "    request.urlretrieve(url , drive_dir + file)\n",
        "\n",
        "load_file(\"books.csv\", \"Books\")\n",
        "load_file(\"ratings.csv\", \"Books\")\n",
        "load_file(\"users.csv\", \"Books\")\n",
        "# load_file(\"vk_001.json\", \"VKRU18\")\n",
        "\n",
        "# Liste des fichiers de IMDB\n",
        "os.listdir(drive_dir)"
      ],
      "execution_count": null,
      "outputs": [
        {
          "output_type": "stream",
          "name": "stdout",
          "text": [
            "downloading from URL:  https://nuage.lip6.fr/s/H3bpyRGgnCq2NR4/download?path=/Books/books.csv save in : /content/drive/MyDrive/ens/bdle/SparkDF/books.csv\n",
            "downloading from URL:  https://nuage.lip6.fr/s/H3bpyRGgnCq2NR4/download?path=/Books/ratings.csv save in : /content/drive/MyDrive/ens/bdle/SparkDF/ratings.csv\n",
            "downloading from URL:  https://nuage.lip6.fr/s/H3bpyRGgnCq2NR4/download?path=/Books/users.csv save in : /content/drive/MyDrive/ens/bdle/SparkDF/users.csv\n"
          ]
        },
        {
          "output_type": "execute_result",
          "data": {
            "text/plain": [
              "['books.csv', 'ratings.csv', 'users.csv']"
            ]
          },
          "metadata": {},
          "execution_count": 7
        }
      ]
    },
    {
      "cell_type": "markdown",
      "metadata": {
        "id": "cbLl2vqUjBf7"
      },
      "source": [
        "## Data description"
      ]
    },
    {
      "cell_type": "markdown",
      "metadata": {
        "application/vnd.databricks.v1+cell": {
          "title": "",
          "showTitle": false,
          "inputWidgets": {},
          "nuid": "ec582505-b110-44f0-b9b3-d300d6165d89"
        },
        "id": "9foKjTFmgpj3"
      },
      "source": [
        "We consider the Books dataset which describes books and users rating these books. The schema of this dataset is given as follows:\n",
        "\n",
        "* `Users (userid: Number, country: Text, age: Number)` \n",
        "* `Books (bookid: Number, titlewords: Number, authorwords: Number, year: Number, publisher: Number)`\n",
        "* `Ratings (userid: Number, bookid: Number, rating: Number)`\n",
        "\n",
        "In the Ratings table, userid and bookid refer to Users and Books, respectively."
      ]
    },
    {
      "cell_type": "code",
      "metadata": {
        "application/vnd.databricks.v1+cell": {
          "title": "",
          "showTitle": false,
          "inputWidgets": {},
          "nuid": "964d34b4-edbb-4e27-8a7d-b576a5c54dfe"
        },
        "id": "ABaDcJOkgpkB"
      },
      "source": [
        "#load \n",
        "users =  spark.read\\\n",
        "            .format(\"csv\").option(\"header\", \"true\")\\\n",
        "            .option(\"inferSchema\", \"true\")\\\n",
        "            .load(drive_dir +\"users.csv\")\n",
        "\n",
        "books =  spark.read\\\n",
        "            .format(\"csv\").option(\"header\", \"true\")\\\n",
        "            .option(\"inferSchema\", \"true\")\\\n",
        "            .load(drive_dir +\"books.csv\")\n",
        "\n",
        "ratings =  spark.read\\\n",
        "            .format(\"csv\").option(\"header\", \"true\")\\\n",
        "            .option(\"inferSchema\", \"true\")\\\n",
        "            .load(drive_dir +\"ratings.csv\")\n"
      ],
      "execution_count": null,
      "outputs": []
    },
    {
      "cell_type": "markdown",
      "metadata": {
        "application/vnd.databricks.v1+cell": {
          "title": "",
          "showTitle": false,
          "inputWidgets": {},
          "nuid": "2d5f3c0d-a89b-4c25-99c2-e08e15e32b27"
        },
        "id": "J3qR_5oMgpkB"
      },
      "source": [
        "Upon loading the three datasets, examine their respective schemas using these instructions:"
      ]
    },
    {
      "cell_type": "code",
      "metadata": {
        "application/vnd.databricks.v1+cell": {
          "title": "",
          "showTitle": false,
          "inputWidgets": {},
          "nuid": "ed945e02-8e8f-402c-96f9-c15a0b840769"
        },
        "colab": {
          "base_uri": "https://localhost:8080/"
        },
        "id": "VxhGQFUZgpkC",
        "outputId": "634686cd-e6c9-47de-9bda-992a299115d4"
      },
      "source": [
        "users.printSchema()\n",
        "books.printSchema()\n",
        "ratings.printSchema()"
      ],
      "execution_count": null,
      "outputs": [
        {
          "output_type": "stream",
          "name": "stdout",
          "text": [
            "root\n",
            " |-- userid: integer (nullable = true)\n",
            " |-- country: string (nullable = true)\n",
            " |-- age: integer (nullable = true)\n",
            "\n",
            "root\n",
            " |-- bookid: integer (nullable = true)\n",
            " |-- titlewords: integer (nullable = true)\n",
            " |-- authorwords: integer (nullable = true)\n",
            " |-- year: integer (nullable = true)\n",
            " |-- publisher: integer (nullable = true)\n",
            "\n",
            "root\n",
            " |-- userid: integer (nullable = true)\n",
            " |-- bookid: integer (nullable = true)\n",
            " |-- rating: integer (nullable = true)\n",
            "\n"
          ]
        }
      ]
    },
    {
      "cell_type": "markdown",
      "metadata": {
        "application/vnd.databricks.v1+cell": {
          "title": "",
          "showTitle": false,
          "inputWidgets": {},
          "nuid": "d5fc90eb-d679-4370-86e8-ccc5d96bcd38"
        },
        "id": "veWT9lXjgpkD"
      },
      "source": [
        "### Simple queries"
      ]
    },
    {
      "cell_type": "markdown",
      "metadata": {
        "application/vnd.databricks.v1+cell": {
          "title": "",
          "showTitle": false,
          "inputWidgets": {},
          "nuid": "d15540ae-f2e9-4047-9af6-d5ef82c9cedd"
        },
        "id": "dUugAxALgpkE"
      },
      "source": [
        "#### s0) Ids of users (column userid) from France. Note that country names are in lower case"
      ]
    },
    {
      "cell_type": "code",
      "metadata": {
        "colab": {
          "base_uri": "https://localhost:8080/"
        },
        "id": "J5D4HnGB34va",
        "outputId": "bbcff755-0f0e-4785-a764-f7bba35bd4bd"
      },
      "source": [
        "s0 = users.where(users.country =='france')\n",
        "s0.count()"
      ],
      "execution_count": null,
      "outputs": [
        {
          "output_type": "execute_result",
          "data": {
            "text/plain": [
              "309"
            ]
          },
          "metadata": {},
          "execution_count": 19
        }
      ]
    },
    {
      "cell_type": "markdown",
      "metadata": {
        "application/vnd.databricks.v1+cell": {
          "title": "",
          "showTitle": false,
          "inputWidgets": {},
          "nuid": "3e71430b-3f25-4ae9-bd1c-6aecb7710cf8"
        },
        "id": "E6POqZ5NgpkF"
      },
      "source": [
        "#### s1) Ids of books (column bookid) whose publication year is 2000"
      ]
    },
    {
      "cell_type": "code",
      "metadata": {
        "colab": {
          "base_uri": "https://localhost:8080/"
        },
        "id": "KN0O1vj-46kf",
        "outputId": "4a826620-e674-42ee-c8b3-a2d2c84fef07"
      },
      "source": [
        "s1 = books.where(books.year == 2000)\n",
        "s1.count()"
      ],
      "execution_count": null,
      "outputs": [
        {
          "output_type": "execute_result",
          "data": {
            "text/plain": [
              "3692"
            ]
          },
          "metadata": {},
          "execution_count": 21
        }
      ]
    },
    {
      "cell_type": "markdown",
      "metadata": {
        "application/vnd.databricks.v1+cell": {
          "title": "",
          "showTitle": false,
          "inputWidgets": {},
          "nuid": "87ba9e4a-1805-4043-9bbf-4b8c5354a62a"
        },
        "id": "IC_LRFFIgpkG"
      },
      "source": [
        "#### s2) Ids of books rated above 3 (>3)"
      ]
    },
    {
      "cell_type": "code",
      "metadata": {
        "colab": {
          "base_uri": "https://localhost:8080/"
        },
        "id": "9J8o4wNm5nsc",
        "outputId": "f49ad3e2-af1e-4c39-e3eb-a7d3a79c84e2"
      },
      "source": [
        "s2 = ratings.select(ratings.bookid).where(ratings.rating > 3).distinct()\n",
        "s2.count()"
      ],
      "execution_count": null,
      "outputs": [
        {
          "output_type": "execute_result",
          "data": {
            "text/plain": [
              "32623"
            ]
          },
          "metadata": {},
          "execution_count": 27
        }
      ]
    },
    {
      "cell_type": "markdown",
      "metadata": {
        "application/vnd.databricks.v1+cell": {
          "title": "",
          "showTitle": false,
          "inputWidgets": {},
          "nuid": "f1fac549-8efa-45b9-b670-b193607beefb"
        },
        "id": "CYjccJXigpkG"
      },
      "source": [
        "### Collecting basic statistics"
      ]
    },
    {
      "cell_type": "markdown",
      "metadata": {
        "application/vnd.databricks.v1+cell": {
          "title": "",
          "showTitle": false,
          "inputWidgets": {},
          "nuid": "86c38015-579b-4404-8f86-0eee72fe28fa"
        },
        "id": "qHH1k_vZgpkH"
      },
      "source": [
        "#### Total number of distinct users"
      ]
    },
    {
      "cell_type": "code",
      "metadata": {
        "colab": {
          "base_uri": "https://localhost:8080/"
        },
        "id": "T-hMIBLP6p8A",
        "outputId": "369edb75-a783-46d6-e45a-9978c89d74e6"
      },
      "source": [
        "users.count()"
      ],
      "execution_count": null,
      "outputs": [
        {
          "output_type": "execute_result",
          "data": {
            "text/plain": [
              "27876"
            ]
          },
          "metadata": {},
          "execution_count": 30
        }
      ]
    },
    {
      "cell_type": "markdown",
      "metadata": {
        "application/vnd.databricks.v1+cell": {
          "title": "",
          "showTitle": false,
          "inputWidgets": {},
          "nuid": "edb67201-fd56-4ccf-aad3-b79223d1e45e"
        },
        "id": "C_LaPNWDgpkH"
      },
      "source": [
        "#### Total number of distinct  books"
      ]
    },
    {
      "cell_type": "code",
      "metadata": {
        "application/vnd.databricks.v1+cell": {
          "title": "",
          "showTitle": false,
          "inputWidgets": {},
          "nuid": "e74f806c-e725-439e-8c99-5f1853fce15f"
        },
        "colab": {
          "base_uri": "https://localhost:8080/"
        },
        "id": "Sqrt0jakgpkJ",
        "outputId": "5d0349df-c878-486d-d39d-0b497599beb9"
      },
      "source": [
        "books.count()"
      ],
      "execution_count": null,
      "outputs": [
        {
          "output_type": "execute_result",
          "data": {
            "text/plain": [
              "49972"
            ]
          },
          "metadata": {},
          "execution_count": 32
        }
      ]
    },
    {
      "cell_type": "markdown",
      "metadata": {
        "application/vnd.databricks.v1+cell": {
          "title": "",
          "showTitle": false,
          "inputWidgets": {},
          "nuid": "698dea62-962f-49b4-a6ed-f75e4fe97158"
        },
        "id": "Wg8yX16kgpkJ"
      },
      "source": [
        "### Aggregation queries"
      ]
    },
    {
      "cell_type": "markdown",
      "metadata": {
        "application/vnd.databricks.v1+cell": {
          "title": "",
          "showTitle": false,
          "inputWidgets": {},
          "nuid": "8bb282e9-63fd-4966-a2f9-be82f826c201"
        },
        "id": "_NG7JZTagpkK"
      },
      "source": [
        "#### q1) Number of users per country, sorted in descending order of this number"
      ]
    },
    {
      "cell_type": "code",
      "metadata": {
        "colab": {
          "base_uri": "https://localhost:8080/"
        },
        "id": "x7jam3X57M8Z",
        "outputId": "88954e30-b3c9-4a1b-aedd-a4b51fc274b7"
      },
      "source": [
        "q1 = users.groupBy(users.country).count().orderBy(col(\"count\").desc())\n",
        "q1.show()\n"
      ],
      "execution_count": null,
      "outputs": [
        {
          "output_type": "stream",
          "name": "stdout",
          "text": [
            "+--------------+-----+\n",
            "|       country|count|\n",
            "+--------------+-----+\n",
            "|           usa|18935|\n",
            "|        canada| 2505|\n",
            "|       germany| 1254|\n",
            "|       unknown| 1069|\n",
            "|united kingdom| 1019|\n",
            "|     australia|  581|\n",
            "|         spain|  518|\n",
            "|        france|  309|\n",
            "|         italy|  211|\n",
            "|      portugal|  184|\n",
            "|   switzerland|  176|\n",
            "|   netherlands|  147|\n",
            "|   new zealand|  113|\n",
            "|      malaysia|   99|\n",
            "|       austria|   97|\n",
            "|     singapore|   52|\n",
            "|        brazil|   39|\n",
            "|       finland|   38|\n",
            "|       ireland|   36|\n",
            "|   philippines|   32|\n",
            "+--------------+-----+\n",
            "only showing top 20 rows\n",
            "\n"
          ]
        }
      ]
    },
    {
      "cell_type": "markdown",
      "metadata": {
        "application/vnd.databricks.v1+cell": {
          "title": "",
          "showTitle": false,
          "inputWidgets": {},
          "nuid": "0d16d3ba-dd23-4b61-b2af-7473fca3c23d"
        },
        "id": "cYYkzA4JgpkN"
      },
      "source": [
        "##### Country who has the highest number of users, together with this number. Assume that only one country has this number."
      ]
    },
    {
      "cell_type": "code",
      "metadata": {
        "application/vnd.databricks.v1+cell": {
          "title": "",
          "showTitle": false,
          "inputWidgets": {},
          "nuid": "a02d35ff-25aa-40f0-a694-3b02157acf65"
        },
        "colab": {
          "base_uri": "https://localhost:8080/"
        },
        "id": "v8xxKW6ugpkO",
        "outputId": "f04486ea-1327-446b-cc2c-464cccb8db01"
      },
      "source": [
        "q11 = q1.limit(1).select(\"country\")\n",
        "q11.show()"
      ],
      "execution_count": null,
      "outputs": [
        {
          "output_type": "stream",
          "name": "stdout",
          "text": [
            "+-------+\n",
            "|country|\n",
            "+-------+\n",
            "|    usa|\n",
            "+-------+\n",
            "\n"
          ]
        }
      ]
    },
    {
      "cell_type": "markdown",
      "metadata": {
        "application/vnd.databricks.v1+cell": {
          "title": "",
          "showTitle": false,
          "inputWidgets": {},
          "nuid": "a2516bb5-2513-4ff5-a942-29fc9f6f6ba1"
        },
        "id": "eOuVlZVDgpkP"
      },
      "source": [
        "##### Year with the highest number of edited books, together with this number. Assume that only one year has this number."
      ]
    },
    {
      "cell_type": "code",
      "metadata": {
        "colab": {
          "base_uri": "https://localhost:8080/"
        },
        "id": "gRvmPRKfEup5",
        "outputId": "b25b7474-0cf9-4957-c9ee-fd322ab7aa65"
      },
      "source": [
        "q12 = books.groupBy(books.year).count().sort(col(\"count\").desc()).limit(1)\n",
        "q12.show()\n"
      ],
      "execution_count": null,
      "outputs": [
        {
          "output_type": "stream",
          "name": "stdout",
          "text": [
            "+----+-----+\n",
            "|year|count|\n",
            "+----+-----+\n",
            "|2002| 4529|\n",
            "+----+-----+\n",
            "\n"
          ]
        }
      ]
    },
    {
      "cell_type": "markdown",
      "metadata": {
        "application/vnd.databricks.v1+cell": {
          "title": "",
          "showTitle": false,
          "inputWidgets": {},
          "nuid": "00c7051d-beb2-44e5-bb10-2271c6fbb549"
        },
        "id": "Mkh0B6gOgpkQ"
      },
      "source": [
        "#### q2) Publishers with more than ten (10) edited books, in total"
      ]
    },
    {
      "cell_type": "code",
      "metadata": {
        "colab": {
          "base_uri": "https://localhost:8080/"
        },
        "id": "Eq6jBY_fFJLL",
        "outputId": "acfb15bb-7bbb-4344-9d50-63c84ea89ec0"
      },
      "source": [
        "q2 = books.groupBy(books.publisher).count().where(col(\"count\")>10)\n",
        "q2.count()"
      ],
      "execution_count": null,
      "outputs": [
        {
          "output_type": "execute_result",
          "data": {
            "text/plain": [
              "501"
            ]
          },
          "metadata": {},
          "execution_count": 112
        }
      ]
    },
    {
      "cell_type": "markdown",
      "metadata": {
        "application/vnd.databricks.v1+cell": {
          "title": "",
          "showTitle": false,
          "inputWidgets": {},
          "nuid": "51df47c0-998c-4077-b0e6-0e6fb14fc017"
        },
        "id": "9c4iMlI9gpkR"
      },
      "source": [
        "#### q3) Publishers with more than five (5) edited books for each year in which they have published a book"
      ]
    },
    {
      "cell_type": "code",
      "metadata": {
        "colab": {
          "base_uri": "https://localhost:8080/"
        },
        "id": "IfEx-IbyGidp",
        "outputId": "543c6e14-2c63-4270-ec1e-870a6d4a10c2"
      },
      "source": [
        "\n",
        "q3 = books.select('publisher').subtract(books.groupBy(books.publisher,books.year).count().where(col(\"count\")<5).select('publisher'))\n",
        "q3.count()"
      ],
      "execution_count": null,
      "outputs": [
        {
          "output_type": "execute_result",
          "data": {
            "text/plain": [
              "14"
            ]
          },
          "metadata": {},
          "execution_count": 233
        }
      ]
    },
    {
      "cell_type": "markdown",
      "metadata": {
        "application/vnd.databricks.v1+cell": {
          "title": "",
          "showTitle": false,
          "inputWidgets": {},
          "nuid": "f901adfc-4aaf-41a3-8ab6-c21395fad4e5"
        },
        "id": "u5dBxG7PgpkS"
      },
      "source": [
        "#### q4) The average rating per book"
      ]
    },
    {
      "cell_type": "code",
      "metadata": {
        "colab": {
          "base_uri": "https://localhost:8080/"
        },
        "id": "uGNSbPmARTl9",
        "outputId": "9d0a3b14-72e0-497f-ec57-d37a91973ab5"
      },
      "source": [
        "q4 = ratings.groupby(ratings.bookid).avg(\"rating\")\n",
        "q4.show()"
      ],
      "execution_count": null,
      "outputs": [
        {
          "output_type": "stream",
          "name": "stdout",
          "text": [
            "+------+------------------+\n",
            "|bookid|       avg(rating)|\n",
            "+------+------------------+\n",
            "|  1837|               2.5|\n",
            "|  4885|               3.0|\n",
            "| 27222|               2.0|\n",
            "| 28598|               3.0|\n",
            "| 27517|               4.0|\n",
            "|  5042|               3.0|\n",
            "|114615|              4.25|\n",
            "| 32211|2.8333333333333335|\n",
            "| 55585|               2.0|\n",
            "| 25083|3.3333333333333335|\n",
            "|225454|               5.0|\n",
            "| 66472|              2.25|\n",
            "|  3740|3.0273972602739727|\n",
            "| 66563|               3.0|\n",
            "|  7295|               5.0|\n",
            "| 39829|2.8333333333333335|\n",
            "| 21943|2.3333333333333335|\n",
            "|   820| 3.235294117647059|\n",
            "|    38| 4.043478260869565|\n",
            "|  7084|2.6206896551724137|\n",
            "+------+------------------+\n",
            "only showing top 20 rows\n",
            "\n"
          ]
        }
      ]
    },
    {
      "cell_type": "markdown",
      "metadata": {
        "application/vnd.databricks.v1+cell": {
          "title": "",
          "showTitle": false,
          "inputWidgets": {},
          "nuid": "414dd23b-0af5-4675-beb7-6a7eb05455ca"
        },
        "id": "vMJTqCy8gpkT"
      },
      "source": [
        "### Join queries"
      ]
    },
    {
      "cell_type": "markdown",
      "metadata": {
        "application/vnd.databricks.v1+cell": {
          "title": "",
          "showTitle": false,
          "inputWidgets": {},
          "nuid": "81656482-354d-4c95-8699-743b4bc74829"
        },
        "id": "jpqq7AKfgpkT"
      },
      "source": [
        "#### q5) The publishers of books rated by users living in France"
      ]
    },
    {
      "cell_type": "code",
      "metadata": {
        "colab": {
          "base_uri": "https://localhost:8080/"
        },
        "id": "FJNxQQ-hfi6F",
        "outputId": "455596d5-f4e7-46fb-fe5f-4fe19ab44e1b"
      },
      "source": [
        "q5 = users.join(ratings,\"userid\").join(books,\"bookid\").select(\"publisher\").where(col(\"country\")=='france').distinct()\n",
        "q5.count()"
      ],
      "execution_count": null,
      "outputs": [
        {
          "output_type": "execute_result",
          "data": {
            "text/plain": [
              "339"
            ]
          },
          "metadata": {},
          "execution_count": 249
        }
      ]
    },
    {
      "cell_type": "markdown",
      "metadata": {
        "application/vnd.databricks.v1+cell": {
          "title": "",
          "showTitle": false,
          "inputWidgets": {},
          "nuid": "6c57761f-6395-492b-ab4b-4ef64a8fda6a"
        },
        "id": "pHmyULZPgpkU"
      },
      "source": [
        "#### q6) The publishers of books which were never rated by users living in France"
      ]
    },
    {
      "cell_type": "code",
      "metadata": {
        "colab": {
          "base_uri": "https://localhost:8080/"
        },
        "id": "2mmJyyg9iBND",
        "outputId": "2a8e696a-9539-4219-91a6-58b279f641dc"
      },
      "source": [
        "q6 = books.select(\"publisher\").subtract(q5)\n",
        "q6.count()"
      ],
      "execution_count": null,
      "outputs": [
        {
          "output_type": "execute_result",
          "data": {
            "text/plain": [
              "3236"
            ]
          },
          "metadata": {},
          "execution_count": 250
        }
      ]
    },
    {
      "cell_type": "markdown",
      "metadata": {
        "application/vnd.databricks.v1+cell": {
          "title": "",
          "showTitle": false,
          "inputWidgets": {},
          "nuid": "4c0d19bd-069a-4165-9071-0b5de264969c"
        },
        "id": "aM3wdMxugpkV"
      },
      "source": [
        "### Queries using built-in functions"
      ]
    },
    {
      "cell_type": "markdown",
      "metadata": {
        "application/vnd.databricks.v1+cell": {
          "title": "",
          "showTitle": false,
          "inputWidgets": {},
          "nuid": "7ef47781-b20a-4002-b367-3ce098e129b1"
        },
        "id": "6WYWxoStgpkV"
      },
      "source": [
        "The Spark API contains many useful built-in functions that can be directly invoked on a dataframe. These are documented:\n",
        "* https://spark.apache.org/docs/latest/api/python/reference/pyspark.sql.html#functions\n",
        "\n",
        "The goal of this section is two use some of these functions to compute the Jaccard Similarity between users based on the books they rated.\n",
        "To do so, we need to collect, for each pair of users (u1,u2), the sets of books they have rated, eg. [b1, ..., bn] for u1 and [b'1, ...,b'm] for u2, than apply the similarity formulae explained in https://en.wikipedia.org/wiki/Jaccard_index, that is, dividing the intersection of the sets of books by the union of these sets.\n",
        "\n",
        "$$sim(u1,u2) = |([b_1, ..., b_n] \\cap [b'_1, ...,b'_m]) /  ([b_1, ..., b_n] \\cup [b'_1, ...,b'_m])|$$\n",
        "\n",
        "**Note. Due to the potential high cost for computing the cross-product between all users, we restrict to users of France.**"
      ]
    },
    {
      "cell_type": "markdown",
      "metadata": {
        "application/vnd.databricks.v1+cell": {
          "title": "",
          "showTitle": false,
          "inputWidgets": {},
          "nuid": "e102d560-ec9f-47ef-8fe2-2cf5b9ff2690"
        },
        "id": "Y3a3XqofgpkV"
      },
      "source": [
        "#### create a df with ratings restricted to users of 'france' ."
      ]
    },
    {
      "cell_type": "code",
      "metadata": {
        "application/vnd.databricks.v1+cell": {
          "title": "",
          "showTitle": false,
          "inputWidgets": {},
          "nuid": "6f93fcd9-ae77-426c-91fb-4afb221195ab"
        },
        "colab": {
          "base_uri": "https://localhost:8080/"
        },
        "id": "-Fl-K1a2gpkV",
        "outputId": "53a3627e-4b7f-4508-ec16-a481551cdb3b"
      },
      "source": [
        "users_fr = users.where(\"country = 'france'\")\n",
        "users_fr.count()"
      ],
      "execution_count": null,
      "outputs": [
        {
          "output_type": "execute_result",
          "data": {
            "text/plain": [
              "309"
            ]
          },
          "metadata": {},
          "execution_count": 252
        }
      ]
    },
    {
      "cell_type": "code",
      "metadata": {
        "application/vnd.databricks.v1+cell": {
          "title": "",
          "showTitle": false,
          "inputWidgets": {},
          "nuid": "f13dc53a-0bd7-4857-a687-0f27da72a62d"
        },
        "colab": {
          "base_uri": "https://localhost:8080/"
        },
        "id": "q4J6zGhzgpkW",
        "outputId": "05c11748-2795-4c25-e3e6-1a16338fcb26"
      },
      "source": [
        "ratings_fr = ratings.join(users_fr,\"userid\")\n",
        "ratings_fr.count()"
      ],
      "execution_count": null,
      "outputs": [
        {
          "output_type": "execute_result",
          "data": {
            "text/plain": [
              "2423"
            ]
          },
          "metadata": {},
          "execution_count": 253
        }
      ]
    },
    {
      "cell_type": "markdown",
      "metadata": {
        "application/vnd.databricks.v1+cell": {
          "title": "",
          "showTitle": false,
          "inputWidgets": {},
          "nuid": "fd2c2a51-86fa-4dcd-9031-c34f229afa7e"
        },
        "id": "NycL5PvegpkW"
      },
      "source": [
        "**In this part, users always refers to users of France **"
      ]
    },
    {
      "cell_type": "markdown",
      "metadata": {
        "application/vnd.databricks.v1+cell": {
          "title": "",
          "showTitle": false,
          "inputWidgets": {},
          "nuid": "5c70c665-c8f7-47fa-b5d8-4eb7d9924856"
        },
        "id": "3_LWCeNfgpkW"
      },
      "source": [
        "#### create a dataframe obtained by collecting, for each user, the set of rated books. \n",
        "Hint. group bookids per user than use a built-in function that creates an array from the grouped bookids (examine the schema)"
      ]
    },
    {
      "cell_type": "code",
      "metadata": {
        "application/vnd.databricks.v1+cell": {
          "title": "",
          "showTitle": false,
          "inputWidgets": {},
          "nuid": "1f4a35c4-614d-49e6-b1e3-4dc5a09afcf7"
        },
        "id": "U7vbsI_igpkW"
      },
      "source": [
        "from pyspark.sql.functions import collect_list "
      ],
      "execution_count": null,
      "outputs": []
    },
    {
      "cell_type": "code",
      "metadata": {
        "application/vnd.databricks.v1+cell": {
          "title": "",
          "showTitle": false,
          "inputWidgets": {},
          "nuid": "28e91bc4-bb9e-4ea1-8cdd-7ec56b557c42"
        },
        "id": "CMlWke-kgpkX",
        "colab": {
          "base_uri": "https://localhost:8080/"
        },
        "outputId": "bce9f925-ea21-45e6-f777-689aba0e7f39"
      },
      "source": [
        "users_books = ratings_fr.groupBy('userid').agg(collect_list(\"bookid\").alias(\"bookids\"))\n",
        "users_books.show()"
      ],
      "execution_count": null,
      "outputs": [
        {
          "output_type": "stream",
          "name": "stdout",
          "text": [
            "+------+--------------------+\n",
            "|userid|             bookids|\n",
            "+------+--------------------+\n",
            "|   643|[802, 15659, 814,...|\n",
            "|  2549|        [3220, 3219]|\n",
            "|  2906|        [3522, 3523]|\n",
            "|  3088|        [3664, 3663]|\n",
            "|  5158|   [5645, 5643, 728]|\n",
            "|  5208|        [5681, 5687]|\n",
            "|  5644|        [6270, 6271]|\n",
            "|  6445|              [7219]|\n",
            "|  7720|        [8757, 8758]|\n",
            "|  8890|[21845, 10130, 15...|\n",
            "| 11881|             [12729]|\n",
            "| 13735| [1384, 5431, 14447]|\n",
            "| 13867|[7768, 14549, 145...|\n",
            "| 14638|[27033, 7190, 270...|\n",
            "| 15922|[28704, 28711, 28...|\n",
            "| 16989|              [6101]|\n",
            "| 17054|[33325, 1639, 33326]|\n",
            "| 17789|[33891, 33915, 21...|\n",
            "| 18309|[208, 8197, 1633,...|\n",
            "| 20656|             [37557]|\n",
            "+------+--------------------+\n",
            "only showing top 20 rows\n",
            "\n"
          ]
        }
      ]
    },
    {
      "cell_type": "markdown",
      "metadata": {
        "application/vnd.databricks.v1+cell": {
          "title": "",
          "showTitle": false,
          "inputWidgets": {},
          "nuid": "fbca6f28-b675-45db-91bf-502bd38ed629"
        },
        "id": "izfXutvJgpkX"
      },
      "source": [
        "#### create a dataframe containing pairs of distinct users with their rated books.\n",
        "Hint. You need to rename the dataframe columns."
      ]
    },
    {
      "cell_type": "code",
      "metadata": {
        "application/vnd.databricks.v1+cell": {
          "title": "",
          "showTitle": false,
          "inputWidgets": {},
          "nuid": "194551fd-05e9-417a-bc1c-bcdc2ba4a1a5"
        },
        "id": "pUAboFkdgpkX",
        "colab": {
          "base_uri": "https://localhost:8080/"
        },
        "outputId": "000d0094-37ee-4e36-f84f-9913c47ae48b"
      },
      "source": [
        "pair_users_books = users_books.crossJoin(users_books.select(col(\"userid\").alias(\"userid1\"),col(\"bookids\").alias(\"bookids1\"))).where((col(\"userid\") != col(\"userid1\")) & (col(\"userid\") < col(\"userid1\")))\\\n",
        ".select(struct(\"userid\",\"userid1\").alias(\"pair\"),\"bookids\",\"bookids1\")\n",
        "pair_users_books.show()"
      ],
      "execution_count": null,
      "outputs": [
        {
          "output_type": "stream",
          "name": "stdout",
          "text": [
            "+------------+--------------------+--------------------+\n",
            "|        pair|             bookids|            bookids1|\n",
            "+------------+--------------------+--------------------+\n",
            "| {643, 2906}|[802, 15659, 814,...|        [3522, 3523]|\n",
            "| {643, 5158}|[802, 15659, 814,...|   [5645, 5643, 728]|\n",
            "| {643, 5208}|[802, 15659, 814,...|        [5681, 5687]|\n",
            "| {643, 5644}|[802, 15659, 814,...|        [6270, 6271]|\n",
            "|{643, 11881}|[802, 15659, 814,...|             [12729]|\n",
            "|{643, 13735}|[802, 15659, 814,...| [1384, 5431, 14447]|\n",
            "|{643, 13867}|[802, 15659, 814,...|[7768, 14549, 145...|\n",
            "|{643, 16989}|[802, 15659, 814,...|              [6101]|\n",
            "|{643, 17054}|[802, 15659, 814,...|[33325, 1639, 33326]|\n",
            "|{643, 17789}|[802, 15659, 814,...|[33891, 33915, 21...|\n",
            "|{643, 18309}|[802, 15659, 814,...|[208, 8197, 1633,...|\n",
            "|{643, 22296}|[802, 15659, 814,...|[39500, 33912, 39...|\n",
            "|{643, 24717}|[802, 15659, 814,...|      [43571, 44088]|\n",
            "|{643, 25466}|[802, 15659, 814,...|[21642, 45349, 56...|\n",
            "|{643, 26443}|[802, 15659, 814,...|[1622, 46810, 187...|\n",
            "|{643, 27762}|[802, 15659, 814,...|              [5687]|\n",
            "|{643, 29372}|[802, 15659, 814,...|     [55610, 242508]|\n",
            "|{643, 35179}|[802, 15659, 814,...|[67119, 37369, 3782]|\n",
            "|{643, 37527}|[802, 15659, 814,...|[1228, 7292, 7352...|\n",
            "|{643, 40620}|[802, 15659, 814,...|             [80797]|\n",
            "+------------+--------------------+--------------------+\n",
            "only showing top 20 rows\n",
            "\n"
          ]
        }
      ]
    },
    {
      "cell_type": "markdown",
      "metadata": {
        "application/vnd.databricks.v1+cell": {
          "title": "",
          "showTitle": false,
          "inputWidgets": {},
          "nuid": "39964457-c634-4122-a528-08c164c19c7b"
        },
        "id": "HoWOEuRHgpkX"
      },
      "source": [
        "#### compute the Jaccard similarity and leave only pairs of books with a non-zero similarity"
      ]
    },
    {
      "cell_type": "code",
      "metadata": {
        "application/vnd.databricks.v1+cell": {
          "title": "",
          "showTitle": false,
          "inputWidgets": {},
          "nuid": "d78be2f7-616d-492b-b01b-9ef1482a0660"
        },
        "id": "s0SPGJKDgpkY"
      },
      "source": [
        "from pyspark.sql.functions import array_intersect, array_union, size"
      ],
      "execution_count": null,
      "outputs": []
    },
    {
      "cell_type": "code",
      "metadata": {
        "colab": {
          "base_uri": "https://localhost:8080/"
        },
        "id": "cT3BvrzNHE5x",
        "outputId": "726309fd-e815-46fb-f35e-524f78431547"
      },
      "source": [
        "pair_users_books.printSchema()"
      ],
      "execution_count": null,
      "outputs": [
        {
          "output_type": "stream",
          "name": "stdout",
          "text": [
            "root\n",
            " |-- pair: struct (nullable = false)\n",
            " |    |-- userid: integer (nullable = true)\n",
            " |    |-- userid1: integer (nullable = true)\n",
            " |-- bookids: array (nullable = false)\n",
            " |    |-- element: integer (containsNull = false)\n",
            " |-- bookids1: array (nullable = false)\n",
            " |    |-- element: integer (containsNull = false)\n",
            "\n"
          ]
        }
      ]
    },
    {
      "cell_type": "code",
      "metadata": {
        "application/vnd.databricks.v1+cell": {
          "title": "",
          "showTitle": false,
          "inputWidgets": {},
          "nuid": "5d41e837-626e-4859-b549-73701667bc40"
        },
        "id": "671OCCjXgpkY",
        "colab": {
          "base_uri": "https://localhost:8080/"
        },
        "outputId": "5e5a82ad-9ba4-4c40-9d6b-3544431fae82"
      },
      "source": [
        "jaccard_sim = pair_users_books.withColumn(\"sim\",size(array_intersect(col(\"bookids\"),col(\"bookids1\")))/size(array_union(col(\"bookids\"),col(\"bookids1\")))).select(\"pair.userid\",\"pair.userid1\",\"sim\").sort(col(\"sim\").desc()).where(col(\"sim\") > 0)\n",
        "jaccard_sim.show()"
      ],
      "execution_count": null,
      "outputs": [
        {
          "output_type": "stream",
          "name": "stdout",
          "text": [
            "+------+-------+------------------+\n",
            "|userid|userid1|               sim|\n",
            "+------+-------+------------------+\n",
            "| 72211| 268945|               1.0|\n",
            "|223612| 277660|               0.5|\n",
            "|155585| 187587|               0.5|\n",
            "|  2549|  95895|               0.5|\n",
            "|  2549| 115259|               0.5|\n",
            "|  7720| 223612|               0.5|\n",
            "|115259| 225340|               0.5|\n",
            "|  5644| 187754|               0.5|\n",
            "|252405| 274882|               0.5|\n",
            "| 93263| 133057|               0.5|\n",
            "| 48698| 159394|               0.5|\n",
            "|  5208|  27762|               0.5|\n",
            "| 48698| 252405|               0.5|\n",
            "| 13867| 263926|               0.5|\n",
            "|  6445| 188133|               0.5|\n",
            "|170158| 255405|               0.4|\n",
            "| 34908| 271681|             0.375|\n",
            "|  4260| 197685|0.3333333333333333|\n",
            "| 24717|  93263|0.3333333333333333|\n",
            "|159394| 252405|0.3333333333333333|\n",
            "+------+-------+------------------+\n",
            "only showing top 20 rows\n",
            "\n"
          ]
        }
      ]
    },
    {
      "cell_type": "code",
      "metadata": {
        "application/vnd.databricks.v1+cell": {
          "title": "",
          "showTitle": false,
          "inputWidgets": {},
          "nuid": "610ca5b1-c7ee-492a-9780-4cf6bccaebe7"
        },
        "colab": {
          "base_uri": "https://localhost:8080/"
        },
        "id": "IgDPCTQcgpkY",
        "outputId": "0dd8a8a1-e66d-46bf-c563-731979ca8064"
      },
      "source": [
        "jaccard_sim.count()"
      ],
      "execution_count": null,
      "outputs": [
        {
          "output_type": "execute_result",
          "data": {
            "text/plain": [
              "2023"
            ]
          },
          "metadata": {},
          "execution_count": 369
        }
      ]
    },
    {
      "cell_type": "markdown",
      "metadata": {
        "application/vnd.databricks.v1+cell": {
          "title": "",
          "showTitle": false,
          "inputWidgets": {},
          "nuid": "d0084307-fb8a-409f-bda3-d05647c0e23a"
        },
        "id": "1lBtuiQugpkZ"
      },
      "source": [
        "### Queries with User-defined functions"
      ]
    },
    {
      "cell_type": "markdown",
      "metadata": {
        "application/vnd.databricks.v1+cell": {
          "title": "",
          "showTitle": false,
          "inputWidgets": {},
          "nuid": "801f2d7c-95d9-4378-a911-7611c026193a"
        },
        "id": "XR6dsVMVgpkZ"
      },
      "source": [
        "Spark allows users to define specific functions called `User-Defined Functions`. \n",
        "We illustrate this concept with the following example: \n",
        "\n",
        "consider that we need to return the number of characters of the `country` column. To do so, we define a function called `slen` which, given a string `s` as  input returns its length computed by the string function `len(s)`.\n",
        "The `udf` will be invoked on a dataframe by specifying the column(s) on which it is applied.\n",
        "\n",
        "There are different ways to define a `udf`:\n",
        "* using the `udf` class and registering it using the `register` method of the `udf` class, or\n",
        "* by preceding the function siganture with `@udf('type')` where `type` is the return type of the function\n",
        "\n",
        "We will use the second option which is syntactically simpler."
      ]
    },
    {
      "cell_type": "code",
      "metadata": {
        "application/vnd.databricks.v1+cell": {
          "title": "",
          "showTitle": false,
          "inputWidgets": {},
          "nuid": "4d9afe10-5854-49eb-b0a3-efdc63ffb658"
        },
        "id": "aNpo2qnzgpkZ"
      },
      "source": [
        "from pyspark.sql.functions import udf"
      ],
      "execution_count": null,
      "outputs": []
    },
    {
      "cell_type": "code",
      "metadata": {
        "application/vnd.databricks.v1+cell": {
          "title": "",
          "showTitle": false,
          "inputWidgets": {},
          "nuid": "90335e69-b1a1-4c6d-b941-cbf49514c283"
        },
        "id": "N_F3nIPvgpka"
      },
      "source": [
        "@udf('integer')\n",
        "def slen(s):\n",
        "  return len(s)"
      ],
      "execution_count": null,
      "outputs": []
    },
    {
      "cell_type": "code",
      "metadata": {
        "application/vnd.databricks.v1+cell": {
          "title": "",
          "showTitle": false,
          "inputWidgets": {},
          "nuid": "43b34996-900f-4ac9-a47b-864828b104bc"
        },
        "colab": {
          "base_uri": "https://localhost:8080/"
        },
        "id": "PlJx7wvPgpkb",
        "outputId": "0e42bc26-0ad5-465b-ebdb-4d292691358e"
      },
      "source": [
        "len_country = users.withColumn(\"length\",slen(\"country\"))\n",
        "len_country.show()"
      ],
      "execution_count": null,
      "outputs": [
        {
          "output_type": "stream",
          "name": "stdout",
          "text": [
            "+------+--------------+---+------+\n",
            "|userid|       country|age|length|\n",
            "+------+--------------+---+------+\n",
            "|100004|           usa|  0|     3|\n",
            "|100009|        canada| 49|     6|\n",
            "| 10001|           usa| 47|     3|\n",
            "|100029|       germany|  0|     7|\n",
            "| 10003|           usa| 20|     3|\n",
            "|100035|        canada|  0|     6|\n",
            "|100043|           usa| 36|     3|\n",
            "|100046|           usa| 14|     3|\n",
            "|100053|           usa| 31|     3|\n",
            "|100066|           usa| 26|     3|\n",
            "|100088|united kingdom| 26|    14|\n",
            "|100094|        canada|  0|     6|\n",
            "|100098|           usa|  0|     3|\n",
            "|100115|           usa| 42|     3|\n",
            "|100119|           usa| 27|     3|\n",
            "|100121|           usa| 47|     3|\n",
            "|100131|           usa| 16|     3|\n",
            "|100164|       germany|  0|     7|\n",
            "|100167|           usa| 28|     3|\n",
            "|100176|     australia|  0|     9|\n",
            "+------+--------------+---+------+\n",
            "only showing top 20 rows\n",
            "\n"
          ]
        }
      ]
    },
    {
      "cell_type": "markdown",
      "metadata": {
        "application/vnd.databricks.v1+cell": {
          "title": "",
          "showTitle": false,
          "inputWidgets": {},
          "nuid": "03dc5568-a5cc-4638-b8aa-ccc693e0d7fe"
        },
        "id": "qlLA6a3Lgpkc"
      },
      "source": [
        "#### Mapping ratings to categories"
      ]
    },
    {
      "cell_type": "markdown",
      "metadata": {
        "application/vnd.databricks.v1+cell": {
          "title": "",
          "showTitle": false,
          "inputWidgets": {},
          "nuid": "12803dab-65b8-409e-99ab-5feedc718fd4"
        },
        "id": "8FFEuwAXgpkd"
      },
      "source": [
        "We would like to add a textual representation of ratings such that:\n",
        "* rating <1 is converted to 'bad'\n",
        "* 1 <= rating <2 is converted to 'average'\n",
        "* 2 <= rating <3 is converted to 'good'\n",
        "* 3 <= rating is converted to 'excellent'"
      ]
    },
    {
      "cell_type": "markdown",
      "metadata": {
        "application/vnd.databricks.v1+cell": {
          "title": "",
          "showTitle": false,
          "inputWidgets": {},
          "nuid": "9e6c69be-271e-4719-8305-65984d92f678"
        },
        "id": "5cqRU9z9gpkd"
      },
      "source": [
        "#### Complete the stub of `convert_rating(note)` which maps an integer to a string based on the previous rules."
      ]
    },
    {
      "cell_type": "code",
      "metadata": {
        "application/vnd.databricks.v1+cell": {
          "title": "",
          "showTitle": false,
          "inputWidgets": {},
          "nuid": "63a6fae7-6629-40b9-bcf1-5caa8c6d16c0"
        },
        "id": "pZR8xdnWgpkd"
      },
      "source": [
        "@udf('string')\n",
        "def convert_rating(note):\n",
        "   if note<=1:\n",
        "    return \"bad\"\n",
        "   elif note <=2:\n",
        "        return \"average\"\n",
        "   elif note <=3:\n",
        "         return \"good\"\n",
        "   else:\n",
        "         return \"excellent\""
      ],
      "execution_count": null,
      "outputs": []
    },
    {
      "cell_type": "markdown",
      "metadata": {
        "application/vnd.databricks.v1+cell": {
          "title": "",
          "showTitle": false,
          "inputWidgets": {},
          "nuid": "355482e7-248f-4be2-bc01-8483cf5ad70d"
        },
        "id": "5rVVV-eGgpkd"
      },
      "source": [
        "#### Using  `convert_rating` map each `rating` to its associated category"
      ]
    },
    {
      "cell_type": "code",
      "metadata": {
        "colab": {
          "base_uri": "https://localhost:8080/"
        },
        "id": "J9GTmdT5KPI3",
        "outputId": "cb3a84a1-3e95-4ffa-9a92-077e47234026"
      },
      "source": [
        "text_ratings = ratings.withColumn(\"text_rating\",convert_rating(\"rating\"))\n",
        "text_ratings.show()"
      ],
      "execution_count": null,
      "outputs": [
        {
          "output_type": "stream",
          "name": "stdout",
          "text": [
            "+------+------+------+-----------+\n",
            "|userid|bookid|rating|text_rating|\n",
            "+------+------+------+-----------+\n",
            "|276747|  4780|     4|  excellent|\n",
            "|276747|  1837|     4|  excellent|\n",
            "|276747|  6277|     3|       good|\n",
            "|276762|  7819|     1|        bad|\n",
            "|276762|  4885|     3|       good|\n",
            "|276772| 27222|     2|    average|\n",
            "|276772| 33829|     5|  excellent|\n",
            "|276772| 83629|     5|  excellent|\n",
            "|276786|246867|     3|       good|\n",
            "|276786|117697|     2|    average|\n",
            "|276788|  2239|     3|       good|\n",
            "|276788|  5507|     2|    average|\n",
            "|276788| 19993|     5|  excellent|\n",
            "|276798|118271|     1|        bad|\n",
            "|276798| 82229|     2|    average|\n",
            "|276798|  3218|     2|    average|\n",
            "|276813| 28598|     3|       good|\n",
            "|276813| 76828|     3|       good|\n",
            "|276813|164425|     2|    average|\n",
            "|276813| 95317|     2|    average|\n",
            "+------+------+------+-----------+\n",
            "only showing top 20 rows\n",
            "\n"
          ]
        }
      ]
    },
    {
      "cell_type": "markdown",
      "metadata": {
        "id": "Fx2MGapMRncj"
      },
      "source": [
        "### Queries with vectorized User-defined functions"
      ]
    },
    {
      "cell_type": "markdown",
      "metadata": {
        "id": "yTOhNy7sRu4q"
      },
      "source": [
        "Adopt another strategy by defining a Panda UDF for mapping rating to categories"
      ]
    },
    {
      "cell_type": "code",
      "metadata": {
        "id": "4W082NgpKjwd"
      },
      "source": [
        "import pandas as pd\n",
        "from pyspark.sql.functions import pandas_udf"
      ],
      "execution_count": null,
      "outputs": []
    },
    {
      "cell_type": "code",
      "metadata": {
        "id": "mjH_2npIPDaZ"
      },
      "source": [
        "@pandas_udf('string')\n",
        "def pd_convert_rating(notes):\n",
        "   return notes.apply(lambda note : \"bad\" if note <= 1 else(\"average\" if note <= 2 else (\"good\" if note <= 3 else(\"excellent\"))))"
      ],
      "execution_count": null,
      "outputs": []
    },
    {
      "cell_type": "code",
      "metadata": {
        "colab": {
          "base_uri": "https://localhost:8080/"
        },
        "id": "N-s3drccLJcP",
        "outputId": "d05031fb-8bfd-4a77-84ab-78f041c63d63"
      },
      "source": [
        "text_ratings2 = ratings.withColumn(\"text_rating\", pd_convert_rating(col(\"rating\")))\n",
        "text_ratings2.show()"
      ],
      "execution_count": null,
      "outputs": [
        {
          "output_type": "stream",
          "name": "stdout",
          "text": [
            "+------+------+------+-----------+\n",
            "|userid|bookid|rating|text_rating|\n",
            "+------+------+------+-----------+\n",
            "|276747|  4780|     4|  excellent|\n",
            "|276747|  1837|     4|  excellent|\n",
            "|276747|  6277|     3|       good|\n",
            "|276762|  7819|     1|        bad|\n",
            "|276762|  4885|     3|       good|\n",
            "|276772| 27222|     2|    average|\n",
            "|276772| 33829|     5|  excellent|\n",
            "|276772| 83629|     5|  excellent|\n",
            "|276786|246867|     3|       good|\n",
            "|276786|117697|     2|    average|\n",
            "|276788|  2239|     3|       good|\n",
            "|276788|  5507|     2|    average|\n",
            "|276788| 19993|     5|  excellent|\n",
            "|276798|118271|     1|        bad|\n",
            "|276798| 82229|     2|    average|\n",
            "|276798|  3218|     2|    average|\n",
            "|276813| 28598|     3|       good|\n",
            "|276813| 76828|     3|       good|\n",
            "|276813|164425|     2|    average|\n",
            "|276813| 95317|     2|    average|\n",
            "+------+------+------+-----------+\n",
            "only showing top 20 rows\n",
            "\n"
          ]
        }
      ]
    },
    {
      "cell_type": "markdown",
      "metadata": {
        "application/vnd.databricks.v1+cell": {
          "title": "",
          "showTitle": false,
          "inputWidgets": {},
          "nuid": "e1638b53-4e5c-4c1f-a9ae-1ec61def1391"
        },
        "id": "lYg6Sa9ygpkd"
      },
      "source": [
        "## END"
      ]
    },
    {
      "cell_type": "code",
      "metadata": {
        "application/vnd.databricks.v1+cell": {
          "title": "",
          "showTitle": false,
          "inputWidgets": {},
          "nuid": "9a866371-f6ae-4d6c-ac38-2f67c9b68fbd"
        },
        "id": "JJ5JQqCmgpkd",
        "outputId": "95ef183f-5105-4aed-c1eb-b89fec5f4ced"
      },
      "source": [
        ""
      ],
      "execution_count": null,
      "outputs": [
        {
          "output_type": "display_data",
          "metadata": {
            "application/vnd.databricks.v1+output": {
              "data": "",
              "errorSummary": "",
              "metadata": {},
              "errorTraceType": null,
              "type": "ipynbError",
              "arguments": {}
            }
          },
          "data": {
            "text/html": [
              "<style scoped>\n  .ansiout {\n    display: block;\n    unicode-bidi: embed;\n    white-space: pre-wrap;\n    word-wrap: break-word;\n    word-break: break-all;\n    font-family: \"Source Code Pro\", \"Menlo\", monospace;;\n    font-size: 13px;\n    color: #555;\n    margin-left: 4px;\n    line-height: 19px;\n  }\n</style>"
            ]
          }
        }
      ]
    }
  ]
}