{
  "nbformat": 4,
  "nbformat_minor": 0,
  "metadata": {
    "colab": {
      "name": "TME1-Dataframes-collab_2022.ipynb",
      "provenance": [],
      "collapsed_sections": [],
      "toc_visible": true
    },
    "kernelspec": {
      "name": "python3",
      "display_name": "Python 3"
    },
    "language_info": {
      "name": "python"
    }
  },
  "cells": [
    {
      "cell_type": "markdown",
      "source": [
        "# BDLE : Graphes en DataFrame"
      ],
      "metadata": {
        "id": "ppwDtMwygjsF"
      }
    },
    {
      "cell_type": "markdown",
      "source": [
        "## Préparation\n",
        "\n",
        "*   ***Vérifier que des ressources*** de calcul sont allouées à votre notebook est \n",
        "connecté (cf RAM de disque indiqués en haut à droite) . Sinon cliquer sur le bouton connecter pour obtenir des ressources.\n",
        "\n",
        "*   ***Créer le répertoire*** pour stocker les fichiers nécessaires sur votre google \n",
        "drive (donnez l'autorisation au notebook d'accéder à votre drive lorsque c'est demandé). *Ajuster le nom de votre dossier* : **MyDrive/ens/bdle/GraphDF.**"
      ],
      "metadata": {
        "id": "pmmaq28FhQPQ"
      }
    },
    {
      "cell_type": "code",
      "source": [
        "import os\n",
        "from google.colab import drive\n",
        "drive.mount(\"/content/drive\", force_remount=True)\n",
        "\n",
        "drive_dir = \"/content/drive/MyDrive/ens/bdle/GraphDF/\"\n",
        "os.makedirs(drive_dir, exist_ok=True)\n",
        "os.listdir(drive_dir)"
      ],
      "metadata": {
        "id": "BeAagUyViAQ8",
        "outputId": "1edbead5-9faa-4495-fa1d-b60a65d0432e",
        "colab": {
          "base_uri": "https://localhost:8080/"
        }
      },
      "execution_count": null,
      "outputs": [
        {
          "output_type": "stream",
          "name": "stdout",
          "text": [
            "Mounted at /content/drive\n"
          ]
        },
        {
          "output_type": "execute_result",
          "data": {
            "text/plain": [
              "['data.csv.gz', 'meta.csv.gz']"
            ]
          },
          "metadata": {},
          "execution_count": 2
        }
      ]
    },
    {
      "cell_type": "markdown",
      "source": [
        "***Installer pyspark et findspark :***"
      ],
      "metadata": {
        "id": "ovdV_CzOjPFg"
      }
    },
    {
      "cell_type": "code",
      "source": [
        "!pip install -q pyspark\n",
        "!pip install -q findspark"
      ],
      "metadata": {
        "id": "bM95ARs2jkAJ",
        "colab": {
          "base_uri": "https://localhost:8080/"
        },
        "outputId": "cc06f427-c8d2-4905-8bda-76f093342a05"
      },
      "execution_count": null,
      "outputs": [
        {
          "output_type": "stream",
          "name": "stdout",
          "text": [
            "\u001b[K     |████████████████████████████████| 281.4 MB 27 kB/s \n",
            "\u001b[K     |████████████████████████████████| 198 kB 61.3 MB/s \n",
            "\u001b[?25h  Building wheel for pyspark (setup.py) ... \u001b[?25l\u001b[?25hdone\n"
          ]
        }
      ]
    },
    {
      "cell_type": "markdown",
      "source": [
        "***Démarrer la session spark:***"
      ],
      "metadata": {
        "id": "EwEv6d4m1AX0"
      }
    },
    {
      "cell_type": "code",
      "source": [
        "import os\n",
        "# !find /usr/local -name \"pyspark\"\n",
        "os.environ[\"SPARK_HOME\"] = \"/usr/local/lib/python3.7/dist-packages/pyspark\"\n",
        "os.environ[\"JAVA_HOME\"] = \"/usr\""
      ],
      "metadata": {
        "id": "bmyc4bS61DO9"
      },
      "execution_count": null,
      "outputs": []
    },
    {
      "cell_type": "code",
      "source": [
        "# Principaux import\n",
        "import findspark\n",
        "from pyspark.sql import SparkSession \n",
        "from pyspark import SparkConf  \n",
        "\n",
        "# pour les dataframe et udf\n",
        "from pyspark.sql import *  \n",
        "from pyspark.sql.functions import *\n",
        "from pyspark.sql.types import *\n",
        "from datetime import *\n",
        "\n",
        "# pour le chronomètre\n",
        "import time\n",
        "\n",
        "# initialise les variables d'environnement pour spark\n",
        "findspark.init()\n",
        "\n",
        "# Démarrage session spark \n",
        "# --------------------------\n",
        "def demarrer_spark():\n",
        "  local = \"local[*]\"\n",
        "  appName = \"TP\"\n",
        "  configLocale = SparkConf().setAppName(appName).setMaster(local).\\\n",
        "  set(\"spark.executor.memory\", \"6G\").\\\n",
        "  set(\"spark.driver.memory\",\"6G\").\\\n",
        "  set(\"spark.sql.catalogImplementation\",\"in-memory\")\n",
        "  \n",
        "  spark = SparkSession.builder.config(conf = configLocale).getOrCreate()\n",
        "  sc = spark.sparkContext\n",
        "  sc.setLogLevel(\"ERROR\")\n",
        "  \n",
        "  spark.conf.set(\"spark.sql.autoBroadcastJoinThreshold\",\"-1\")\n",
        "\n",
        "  # On ajuste l'environnement d'exécution des requêtes à la taille du cluster (4 coeurs)\n",
        "  spark.conf.set(\"spark.sql.shuffle.partitions\",\"4\")    \n",
        "  print(\"session démarrée, son id est \", sc.applicationId)\n",
        "  return spark\n",
        "spark = demarrer_spark()"
      ],
      "metadata": {
        "colab": {
          "base_uri": "https://localhost:8080/"
        },
        "id": "Np0ufet11H_9",
        "outputId": "05f3fe81-ffa7-458d-d9a0-0bd03cb4a486"
      },
      "execution_count": null,
      "outputs": [
        {
          "output_type": "stream",
          "name": "stdout",
          "text": [
            "session démarrée, son id est  local-1643314514352\n"
          ]
        }
      ]
    },
    {
      "cell_type": "code",
      "source": [
        "# on utilise 8 partitions au lieu de 200 par défaut\n",
        "spark.conf.set(\"spark.sql.shuffle.partitions\", \"8\")\n",
        "print(\"Nombre de partitions utilisées : \", spark.conf.get(\"spark.sql.shuffle.partitions\"))"
      ],
      "metadata": {
        "id": "xYQI_04X1R-B",
        "colab": {
          "base_uri": "https://localhost:8080/"
        },
        "outputId": "dc8651dd-6a08-4d55-9e87-acdd8e9f87a6"
      },
      "execution_count": null,
      "outputs": [
        {
          "output_type": "stream",
          "name": "stdout",
          "text": [
            "Nombre de partitions utilisées :  8\n"
          ]
        }
      ]
    },
    {
      "cell_type": "markdown",
      "source": [
        "## Données synthétiques sur la musique\n",
        "\n",
        "##### Description des données: \n",
        "\n",
        "- Fichier **data.csv** : contient des informations sur des chansons (trackId) interprétées par des artistes (artistId) et   écoutées par des utilisateurs (userId) à une date donnée par une estampille temporelle timestamp. Contient 260664 lignes.\n",
        "- Fichier **meta.csv**: contient les noms (champ 'Name') des chansons si type==track ou des artistes si type==artist.\n",
        "  'Artist' est le nom de l'artiste qui interprète la chanson si type==track ou le nom de l'artiste (même valeur que 'Name') si track==artist. 'Id' est l'identifiant d'une chanson ou d'un artiste. Contient 44319 lignes."
      ],
      "metadata": {
        "id": "4qO_BThNgxjY"
      }
    },
    {
      "cell_type": "code",
      "source": [
        "# URL du dossier contenant des fichiers de données (data.csv et meta.csv) utiles pour le TP\n",
        "# ---------------------------------------------------------------------------\n",
        "# en cas de problème avec le téléchargement des datasets, aller directement sur l'URL ci-dessous\n",
        "PUBLIC_DATASET_URL = \"https://nuage.lip6.fr/s/H3bpyRGgnCq2NR4\" \n",
        "PUBLIC_DATASET=PUBLIC_DATASET_URL + \"/download?path=\"\n",
        "\n",
        "print(\"URL pour les données: \", PUBLIC_DATASET_URL)"
      ],
      "metadata": {
        "id": "W-LLC8Ct1vgj",
        "colab": {
          "base_uri": "https://localhost:8080/"
        },
        "outputId": "e1549930-fd54-46b7-83a6-f852323a382a"
      },
      "execution_count": null,
      "outputs": [
        {
          "output_type": "stream",
          "name": "stdout",
          "text": [
            "URL pour les données:  https://nuage.lip6.fr/s/H3bpyRGgnCq2NR4\n"
          ]
        }
      ]
    },
    {
      "cell_type": "markdown",
      "source": [
        "## Lecture des données \n",
        "\n",
        "\n"
      ],
      "metadata": {
        "id": "9Ga5tqvIhDFI"
      }
    },
    {
      "cell_type": "code",
      "source": [
        "import os\n",
        "from urllib import request\n",
        "\n",
        "def load_file(file,dir):\n",
        "  if(os.path.isfile(drive_dir+file)):\n",
        "    print(file, \"is already stored\")\n",
        "  else:\n",
        "    url = PUBLIC_DATASET + \"/\"+ dir + \"/\" + file\n",
        "    print(\"downloading from URL: \", url, \"save in : \" + drive_dir   + file)\n",
        "    request.urlretrieve(url , drive_dir + file)\n",
        "\n",
        "load_file(\"data.csv.gz\", \"musique\")\n",
        "load_file(\"meta.csv.gz\", \"musique\")\n",
        "\n",
        "# Liste des fichiers téléchargés\n",
        "print(\"Fichiers musique téléchargés:\")\n",
        "os.listdir(drive_dir)"
      ],
      "metadata": {
        "id": "Fart-YsU2c_Q",
        "colab": {
          "base_uri": "https://localhost:8080/"
        },
        "outputId": "4dccb2ab-61dd-4dff-ed76-d081cf29e4c2"
      },
      "execution_count": null,
      "outputs": [
        {
          "output_type": "stream",
          "name": "stdout",
          "text": [
            "data.csv.gz is already stored\n",
            "meta.csv.gz is already stored\n",
            "Fichiers musique téléchargés:\n"
          ]
        },
        {
          "output_type": "execute_result",
          "data": {
            "text/plain": [
              "['data.csv.gz', 'meta.csv.gz']"
            ]
          },
          "metadata": {},
          "execution_count": 8
        }
      ]
    },
    {
      "cell_type": "code",
      "source": [
        "#Le dossier contenant les fichiers csv importés:\n",
        "DATASET_DIR=\"/content/drive/MyDrive/ens/bdle/GraphDF\"\n",
        "\n",
        "#==============\n",
        "# Données \n",
        "#==============\n",
        "schema = \"\"\"\n",
        "          userId LONG, \n",
        "          trackId LONG, \n",
        "          artistId LONG,\n",
        "          timestamp LONG\n",
        "        \"\"\"\n",
        "print(\"Lecture du fichier: \", DATASET_DIR+\"/data.csv.gz\")\n",
        "data = spark.read.format(\"csv\").option(\"header\", \"true\").schema(schema) \\\n",
        "            .load(DATASET_DIR+\"/data.csv.gz\").persist()\n",
        "data.show(5)\n",
        "data.count() #260664\n"
      ],
      "metadata": {
        "id": "JzcaU7Qd35sM",
        "colab": {
          "base_uri": "https://localhost:8080/"
        },
        "outputId": "745dac71-3497-4463-a914-71a4ae30f8f4"
      },
      "execution_count": null,
      "outputs": [
        {
          "output_type": "stream",
          "name": "stdout",
          "text": [
            "Lecture du fichier:  /content/drive/MyDrive/ens/bdle/GraphDF/data.csv.gz\n",
            "+------+-------+--------+----------+\n",
            "|userId|trackId|artistId| timestamp|\n",
            "+------+-------+--------+----------+\n",
            "| 13065| 944906|  978428|1501588527|\n",
            "|101897| 799685|  989262|1501555608|\n",
            "|215049| 871513|  988199|1501604269|\n",
            "|309769| 857670|  987809|1501540265|\n",
            "|397833| 903510|  994595|1501597615|\n",
            "+------+-------+--------+----------+\n",
            "only showing top 5 rows\n",
            "\n"
          ]
        },
        {
          "output_type": "execute_result",
          "data": {
            "text/plain": [
              "260664"
            ]
          },
          "metadata": {},
          "execution_count": 9
        }
      ]
    },
    {
      "cell_type": "code",
      "source": [
        "#==============\n",
        "# Description des données\n",
        "#==============\n",
        "schema = \"\"\"\n",
        "          type STRING, \n",
        "          Name STRING, \n",
        "          Artist STRING,\n",
        "          Id LONG\n",
        "        \"\"\"\n",
        "print(\"Lecture du fichier: \", DATASET_DIR+\"/meta.csv.gz\")\n",
        "meta = spark.read.format(\"csv\").option(\"header\", \"true\").schema(schema) \\\n",
        "            .load(DATASET_DIR+\"/meta.csv.gz\").persist()\n",
        "\n",
        "meta.show(5)\n",
        "meta.count() #44319\n"
      ],
      "metadata": {
        "id": "bwrqpoZY-gJd",
        "colab": {
          "base_uri": "https://localhost:8080/"
        },
        "outputId": "b51e81fb-0a60-4457-a4b6-7344e9ecc596"
      },
      "execution_count": null,
      "outputs": [
        {
          "output_type": "stream",
          "name": "stdout",
          "text": [
            "Lecture du fichier:  /content/drive/MyDrive/ens/bdle/GraphDF/meta.csv.gz\n",
            "+-----+-----------------+--------------------+------+\n",
            "| type|             Name|              Artist|    Id|\n",
            "+-----+-----------------+--------------------+------+\n",
            "|track|Give Me Some More|Artist: Candy Dulfer|798256|\n",
            "|track|  Still loven you|   Artist: Scorpions|798258|\n",
            "|track|             Spez|     Artist: Stromae|798261|\n",
            "|track| Pachelbels Canon|Artist: David Gar...|798267|\n",
            "|track|              erg|         Artist: DEV|798274|\n",
            "+-----+-----------------+--------------------+------+\n",
            "only showing top 5 rows\n",
            "\n"
          ]
        },
        {
          "output_type": "execute_result",
          "data": {
            "text/plain": [
              "44319"
            ]
          },
          "metadata": {},
          "execution_count": 10
        }
      ]
    },
    {
      "cell_type": "markdown",
      "source": [
        "## Construction du graphe\n"
      ],
      "metadata": {
        "id": "cVSOPqDs4QZa"
      }
    },
    {
      "cell_type": "code",
      "source": [
        "# fonction utilisée par la suite pour calculer les poids des arcs\n",
        "# df: dataframe, source: nom de la colonne contenant les noeuds source des arcs\n",
        "# poids: poids initial avant normalisation, n: nombre maximum d'arcs à garder pour chaque source\n",
        "from pyspark.sql.functions import row_number, sum\n",
        "from pyspark.sql import Window\n",
        "\n",
        "def calcul_poids(df, source, poids, n):\n",
        "    \n",
        "    window = Window.partitionBy(source).orderBy(col(poids).desc())\n",
        "    \n",
        "    # Sert juste à filtrer le nombre d'arc maximum pour chaque source\n",
        "    filterDF = df.withColumn(\"row_number\", row_number().over(window)) \\\n",
        "        .filter(col(\"row_number\") <= n) \\\n",
        "        .drop(col(\"row_number\")) \n",
        "        \n",
        "    # Somme des poids pour chaque source\n",
        "    tmpDF = filterDF.groupBy(col(source)).agg(sum(col(poids)).alias(\"sum_\" + poids))\n",
        "   \n",
        "   # Normalisation des poids\n",
        "    finalDF = filterDF.join(tmpDF, source, \"inner\") \\\n",
        "        .withColumn(\"norm_\" + poids, col(poids) / col(\"sum_\" + poids)) \\\n",
        "        .cache()\n",
        "        \n",
        "    return finalDF"
      ],
      "metadata": {
        "id": "cyfdVl7t4RdR"
      },
      "execution_count": null,
      "outputs": []
    },
    {
      "cell_type": "markdown",
      "source": [
        " ### Construction des liens pondérés entre utilisateurs et chansons \n",
        "* Construire un DataFrame userTrack à partir de data pour stocker les arcs entre utilisateurs et chansons. Pour chaque utilisateur (userId) on ajoute un arc vers une chanson (trackId) avec un poids égal au nombre total de fois que l'utilisateur à écouté la chanson. Utiliser la fonction calcul_poids pour garder pour chaque utilisateur les 100 chansons avec le poids le plus élevé et normaliser les poids des arcs gardés.   \n",
        "    \n",
        "* Affichage du résultat: garder uniquement les arcs qui ont les 5 plus grandes valeurs possibles des poids (utilisez la fonction rank() et la fenêtre over(window)). Afficher 20 lignes du résultat, en triant le résultat par ordre décroissant des poids, ensuite par ordre croissant des userId et des artistId."
      ],
      "metadata": {
        "id": "xx4_sb9B5eb_"
      }
    },
    {
      "cell_type": "code",
      "source": [
        "from pyspark.sql.functions import col, rank\n",
        "\n",
        "#nombre de fois que chaque utilisateurs écoute un track\n",
        "userTrack = data.groupby('userId', 'trackId').agg(first('artistId').alias('artistId'), count('userId').alias('count'))\n",
        "\n",
        "#calculer le poids final en utilisant calcul_poids\n",
        "userTrack = calcul_poids(userTrack, 'userId', 'count', 100).persist() \n",
        "\n",
        "window = Window.partitionBy('userId').orderBy(col(\"norm_count\").desc())\n",
        "    \n",
        "userTrackList = userTrack.withColumn(\"position\", rank().over(window))\\\n",
        "  .where(col(\"position\")<6)\\\n",
        "  .orderBy('userId', 'artistId').select('userId', 'trackId', 'norm_count').take(20)\n",
        "\n",
        "for val in userTrackList:\n",
        "   print(\"%s %s %s\" % val)\n",
        "    \n",
        "userTrack.count() # résultat: 210675   "
      ],
      "metadata": {
        "id": "UjALrImW5kcQ",
        "colab": {
          "base_uri": "https://localhost:8080/"
        },
        "outputId": "21c13d6d-9175-463a-96fd-d0f0b4c4af35"
      },
      "execution_count": null,
      "outputs": [
        {
          "output_type": "stream",
          "name": "stdout",
          "text": [
            "10 960353 0.0625\n",
            "10 855194 0.0625\n",
            "10 943645 0.0625\n",
            "10 801772 0.0625\n",
            "10 958924 0.0625\n",
            "10 823737 0.0625\n",
            "10 807650 0.0625\n",
            "10 824440 0.0625\n",
            "10 960214 0.0625\n",
            "10 828318 0.0625\n",
            "10 955486 0.0625\n",
            "10 941064 0.0625\n",
            "10 839649 0.0625\n",
            "10 956604 0.0625\n",
            "10 934050 0.0625\n",
            "10 901153 0.0625\n",
            "28 837417 0.027777777777777776\n",
            "28 878347 0.027777777777777776\n",
            "28 833384 0.027777777777777776\n",
            "28 952135 0.027777777777777776\n"
          ]
        },
        {
          "output_type": "execute_result",
          "data": {
            "text/plain": [
              "210675"
            ]
          },
          "metadata": {},
          "execution_count": 12
        }
      ]
    },
    {
      "cell_type": "markdown",
      "source": [
        "### Construction des liens pondérés entre utilisateurs et artistes\n",
        "* Construire un DataFrame userArtist à partir de data pour stocker les arcs entre utilisateurs et artistes. Pour chaque utilisateur (userId) on ajoute un arc vers un artiste (artistId) avec un poids égal au nombre total de fois que l'utilisateur à écouté des chansons de cet artiste. Utiliser la fonction calcul_poids pour garder pour chaque utilisateur au plus 100 artistes avec le poids le plus élevé et normaliser les poids des arcs gardés.   \n",
        "    \n",
        "* Affichage du résultat: garder uniquement les arcs qui ont les 5 plus grandes valeurs possibles des poids (utilisez la fonction rank() et la fenêtre over(window)). \n",
        "   Afficher 20 lignes du résultat, en triant le résultat par ordre décroissant des poids, ensuite par ordre croissant des userId et des artistId."
      ],
      "metadata": {
        "id": "E9doji9OFfDZ"
      }
    },
    {
      "cell_type": "code",
      "source": [
        "#poids=nombre de fois qu'un utilisateurs a écouté des morceaux de cet artiste\n",
        "#regrouper les données par userId et artistId\n",
        "userArtist = data.groupby('userId', 'artistId').count()\n",
        "\n",
        "#calculer le poids final en utilisant calcul_poids\n",
        "userArtist = calcul_poids(userArtist, 'userId', 'count', 100).persist()  \n",
        "\n",
        "window = Window.partitionBy('userId').orderBy(col(\"norm_count\").desc())\n",
        "    \n",
        "userArtistList = userArtist.withColumn(\"position\", rank().over(window))\\\n",
        "  .where(col(\"position\")<6)\\\n",
        "  .orderBy('userId', 'artistId').select('userId', 'artistId', 'norm_count').take(20)\n",
        "\n",
        "for val in userArtistList:\n",
        "   print(\"%s %s %s\" % val)\n",
        "    \n",
        "userArtist.count() #résultat: 178419"
      ],
      "metadata": {
        "id": "2hnt69ccFnLj",
        "colab": {
          "base_uri": "https://localhost:8080/"
        },
        "outputId": "284566f5-0cbd-4cd5-ac1b-591632555af3"
      },
      "execution_count": null,
      "outputs": [
        {
          "output_type": "stream",
          "name": "stdout",
          "text": [
            "10 969620 0.125\n",
            "10 970381 0.0625\n",
            "10 972772 0.25\n",
            "10 976111 0.0625\n",
            "10 983989 0.0625\n",
            "10 984123 0.25\n",
            "10 987284 0.0625\n",
            "10 993285 0.0625\n",
            "10 1001022 0.0625\n",
            "28 969041 0.027777777777777776\n",
            "28 970384 0.027777777777777776\n",
            "28 970511 0.027777777777777776\n",
            "28 970771 0.027777777777777776\n",
            "28 971040 0.027777777777777776\n",
            "28 971515 0.027777777777777776\n",
            "28 971748 0.027777777777777776\n",
            "28 972749 0.027777777777777776\n",
            "28 974503 0.027777777777777776\n",
            "28 974853 0.027777777777777776\n",
            "28 977213 0.027777777777777776\n"
          ]
        },
        {
          "output_type": "execute_result",
          "data": {
            "text/plain": [
              "178419"
            ]
          },
          "metadata": {},
          "execution_count": 13
        }
      ]
    },
    {
      "cell_type": "markdown",
      "source": [
        "### Construction des liens pondérés entre artistes et chansons\n",
        "* Construire un DataFrame artistTrack à partir de data pour stocker les arcs entre artistes et chansons. Pour chaque artiste (artistId) on ajoute un arc vers une chanson (trackId) avec un poids égal au nombre total de fois que la chanson de cet artiste a été écoutée par tous les utilisateurs. Utiliser la fonction calcul_poids pour garder pour chaque artiste au plus 100 chansons avec le poids le plus élevé et normaliser les poids des arcs gardés.   \n",
        "    \n",
        "* Affichage du résultat: garder uniquement les arcs qui ont les 5 plus grandes valeurs possibles des poids (utilisez la fonction rank() et la fenêtre over(window)). \n",
        "   Afficher 20 lignes du résultat, en triant le résultat par ordre décroissant des poids, ensuite par ordre croissant des artistId et des trackId.* "
      ],
      "metadata": {
        "id": "BNRUOI5eF0_7"
      }
    },
    {
      "cell_type": "code",
      "source": [
        "# poids de l'arc: nombre de fois qu'un track de l'artiste a été écouté par tous les utilisateurs\n",
        "artistTrack = data.groupby('artistId', 'trackId').count()\n",
        "\n",
        "#calculer le poids final en utilisant calcul_poids\n",
        "artistTrack = calcul_poids(artistTrack, 'artistId', 'count', 100).persist() \n",
        "\n",
        "window = Window.partitionBy(\"artistId\").orderBy(col(\"norm_count\").desc())\n",
        "    \n",
        "artistTrackList = artistTrack.withColumn(\"position\", rank().over(window))\\\n",
        "  .where(col(\"position\")<6)\\\n",
        "  .orderBy('artistId', 'trackId').select('artistId', 'trackId', 'norm_count').take(20)    \n",
        "\n",
        "for val in artistTrackList:\n",
        "   print(\"%s %s %s\" % val)\n",
        "    \n",
        "artistTrack.count() #résultat: 35408"
      ],
      "metadata": {
        "id": "rB31s1wrF5hS",
        "colab": {
          "base_uri": "https://localhost:8080/"
        },
        "outputId": "c0dbd697-234b-41cc-ded5-85d3c1412291"
      },
      "execution_count": null,
      "outputs": [
        {
          "output_type": "stream",
          "name": "stdout",
          "text": [
            "967986 872118 0.06521739130434782\n",
            "967986 886535 0.043478260869565216\n",
            "967986 916802 0.021739130434782608\n",
            "967986 919902 0.021739130434782608\n",
            "967986 943482 0.8478260869565217\n",
            "967988 799810 0.058823529411764705\n",
            "967988 890687 0.7058823529411765\n",
            "967988 914158 0.058823529411764705\n",
            "967988 950807 0.17647058823529413\n",
            "967990 864814 0.5\n",
            "967990 877149 0.25\n",
            "967990 931743 0.25\n",
            "967992 870986 0.125\n",
            "967992 914941 0.25\n",
            "967992 924226 0.625\n",
            "967993 869415 1.0\n",
            "967995 800737 0.5\n",
            "967995 806232 0.5\n",
            "967997 822911 0.06666666666666667\n",
            "967997 823263 0.06666666666666667\n"
          ]
        },
        {
          "output_type": "execute_result",
          "data": {
            "text/plain": [
              "35408"
            ]
          },
          "metadata": {},
          "execution_count": 14
        }
      ]
    },
    {
      "cell_type": "markdown",
      "source": [
        "### Construction des liens pondérés entre chansons\n",
        "* Construire un DataFrame trackTrack à partir de data pour stocker les arcs entre les chansons. Le poids total d'un arc entre trackId1 et trackId2 est le nombre total d'utilisateurs qui ont écouté à la fois trackId1 et trackId2 dans un laps de temps de 10 minutes (à noter que le graphe est non orienté, trackTrack contient à la fois une entrée pour (trackId1, trackId2) et une entrée pour (trackId2, trackId1)).   \n",
        "Utiliser la fonction calcul_poids pour garder pour chaque chanson au plus 100 chansons avec le poids le plus élevé et normaliser les poids gardés.   \n",
        "    \n",
        "* Affichage du résultat: garder uniquement les arcs qui ont les 5 plus grandes valeurs possibles des poids (utilisez la fonction rank() et la fenêtre over(window)). \n",
        "   Afficher 20 lignes du résultat, en triant le résultat par ordre décroissant des poids, ensuite par ordre croissant des artistId et des trackId."
      ],
      "metadata": {
        "id": "tyZIuE1yGDmb"
      }
    },
    {
      "cell_type": "code",
      "source": [
        "# Construire les couples de trackId écoutés par le même utilisateur\n",
        "data2 = data.selectExpr(\"userId as userId2\", \"trackId as trackId2\", \"artistId as artistId2\", \"timestamp as timestamp2\")\n",
        "trackTrack = data.join(data2, ((col(\"userId\")==col(\"userId2\")) & (col('trackId') != col(\"trackId2\")))).where(abs(col('timestamp')-col('timestamp2')) < 600)\\\n",
        ".select('userId', \"trackId\", \"trackId2\")\n",
        "\n",
        "#pour chaque couple de trackId le nombre d'utilisateurs qui les ont écoutés ensemble\n",
        "trackTrack = trackTrack.groupby(\"trackId\", \"trackId2\").count()\n",
        "\n",
        "#calculer le poids final en utilisant calcul_poids\n",
        "trackTrack =  calcul_poids(trackTrack, 'trackId', 'count', 100).persist()\n",
        "\n",
        "window = Window.partitionBy('trackId').orderBy(col(\"norm_count\").desc())\n",
        "\n",
        "trackTrackList = trackTrack.withColumn(\"position\", rank().over(window))\\\n",
        "    .where(col(\"position\")<6)\\\n",
        "    .orderBy('trackId').select('trackId', \"trackId2\", 'norm_count').take(20)   \n",
        "\n",
        "for val in trackTrackList:\n",
        "   print(\"%s %s %s\" % val)\n",
        "    \n",
        "trackTrack.count() #résultat: 136257  "
      ],
      "metadata": {
        "colab": {
          "base_uri": "https://localhost:8080/"
        },
        "id": "IJBybGlyr0BZ",
        "outputId": "12799bf7-29bd-4043-c161-8f96782c6342"
      },
      "execution_count": null,
      "outputs": [
        {
          "output_type": "stream",
          "name": "stdout",
          "text": [
            "798256 954826 0.5\n",
            "798256 923706 0.5\n",
            "798258 810685 0.5\n",
            "798258 808254 0.5\n",
            "798261 911939 0.375\n",
            "798261 924192 0.125\n",
            "798261 895481 0.125\n",
            "798261 943188 0.125\n",
            "798261 905671 0.125\n",
            "798261 916840 0.125\n",
            "798290 906999 0.3333333333333333\n",
            "798290 880442 0.3333333333333333\n",
            "798290 853797 0.3333333333333333\n",
            "798302 893311 0.3333333333333333\n",
            "798302 861163 0.3333333333333333\n",
            "798302 836228 0.3333333333333333\n",
            "798303 823884 1.0\n",
            "798311 903496 0.3333333333333333\n",
            "798311 861793 0.3333333333333333\n",
            "798311 864601 0.3333333333333333\n"
          ]
        },
        {
          "output_type": "execute_result",
          "data": {
            "text/plain": [
              "136257"
            ]
          },
          "metadata": {},
          "execution_count": 15
        }
      ]
    },
    {
      "cell_type": "markdown",
      "source": [
        "## Construction du graphe final"
      ],
      "metadata": {
        "id": "s6szO3vKGWbF"
      }
    },
    {
      "cell_type": "markdown",
      "source": [
        "Construire un DataFrame graphe pour stocker tous les noeuds et tous les liens calculés précédemment. Le dataframe contiendra une colonne 'source' (identifiant du noeud source), une colonne 'destination' et une colonne 'poids'. \n",
        "Les colonnes 'source' et 'dest' contiennent à la fois des identifiants utilisateur, chanson et artiste. La colonne 'poids' contient les poids des arcs calculés à partir des poids précédents qui sont multipliés par les coefficients suivants:\n",
        "* Liens user->artist : 0.5\n",
        "* Liens user->track: 0.5\n",
        "* Liens track->track: 1\n",
        "* Liens artist->track: 1"
      ],
      "metadata": {
        "id": "jCB3eOxcGcOs"
      }
    },
    {
      "cell_type": "code",
      "source": [
        "userTrack_g = userTrack.selectExpr(\"userId as source\", \"trackId as destination\", \"norm_count * 0.5 as poids\")\n",
        "userArtist_g = userArtist.selectExpr(\"userId as source\", \"artistId as destination\", \"norm_count * 0.5 as poids\")\n",
        "artistTrack_g = artistTrack.selectExpr(\"artistId as source\", \"trackId as destination\", \"norm_count as poids\")\n",
        "trackTrack_g = trackTrack.selectExpr(\"trackId as source\", \"trackId2 as destination\", \"norm_count as poids\")"
      ],
      "metadata": {
        "id": "tiDwZzLtWYo8"
      },
      "execution_count": null,
      "outputs": []
    },
    {
      "cell_type": "code",
      "source": [
        "graphe = userTrack_g.union(userArtist_g).union(artistTrack_g).union(trackTrack_g).persist()\n",
        "\n",
        "graphe.printSchema()\n",
        "\n",
        "graphe.count() #résultat: #560759"
      ],
      "metadata": {
        "id": "EI2e8fyeGqZa",
        "colab": {
          "base_uri": "https://localhost:8080/"
        },
        "outputId": "7be88185-3ad7-492c-abdd-17d5fe5c2fed"
      },
      "execution_count": null,
      "outputs": [
        {
          "output_type": "stream",
          "name": "stdout",
          "text": [
            "root\n",
            " |-- source: long (nullable = true)\n",
            " |-- destination: long (nullable = true)\n",
            " |-- poids: double (nullable = true)\n",
            "\n"
          ]
        },
        {
          "output_type": "execute_result",
          "data": {
            "text/plain": [
              "560759"
            ]
          },
          "metadata": {},
          "execution_count": 17
        }
      ]
    },
    {
      "cell_type": "markdown",
      "source": [
        "### Calcul de recommendation de chansons avec PPR"
      ],
      "metadata": {
        "id": "fuI7LKmxHZi9"
      }
    },
    {
      "cell_type": "markdown",
      "source": [
        "En utilisant le calul de PageRank Personalisé, recommender à l'utilisateur avec l'identifiant 10 des chansons qu'il n'a pas écoutées.\n",
        "Rappel de la formule de mise à jour du score de recommendation à chaque itération du calcul:\n",
        "\n",
        "x[i] = alpha * u[i] + (1-alpha)* sum(xant[j]*poids[j][i])\n",
        "\n",
        "    - poids[j][i] : poids de l'arc entre j à i\n",
        "    - u[i]: valeur de personalisation, u[10]=1 et u[i]=0 si i !=10\n",
        "    - xant[j] : valeur du score du noeud j à l'itération précédente (x0[10]=1 et x0[i]=0 si i !=10)\n",
        "\n",
        "On considère alpha=0.15 et on effectue le calcul pour 5 itérations (maxiter=5)"
      ],
      "metadata": {
        "id": "ssDVSPK4HadQ"
      }
    },
    {
      "cell_type": "markdown",
      "source": [
        "### Calcul du vecteur de recommendation x"
      ],
      "metadata": {
        "id": "Ck2fUXL_HkaP"
      }
    },
    {
      "cell_type": "code",
      "source": [
        "import pandas as pd\n",
        "from pyspark.sql.functions import when\n",
        "\n",
        "user = 10\n",
        "d=0.85\n",
        "alpha=(1-d)\n",
        "maxiter = 5\n",
        "# Construire le vecteur d'importance initial\n",
        "x0  = spark.createDataFrame(pd.DataFrame([(user,1)], columns=[\"id\",\"rank\"]))\n",
        "\n",
        "print(\"Importance initiale\")\n",
        "x0.show()\n",
        "\n",
        "x = x0\n",
        "for iter in range(maxiter) :\n",
        "\n",
        "    # nextx = (1-alpha)* sum(xant[j]*poids[j][i])\n",
        "    nextx = x.join(graphe, x.id == graphe.source).selectExpr('destination', \"rank * poids as prod\").groupBy('destination').agg(sum('prod').alias('sum_prod'))\\\n",
        "    .select(\"destination\", (col('sum_prod') * d).alias(\"alpha_sum_prod\"))\n",
        "    \n",
        "    # x = alpha * u[i] + nextx\n",
        "    x = nextx.select(col('destination').alias(\"id\"), when(nextx.destination != user, nextx.alpha_sum_prod).otherwise(alpha + nextx.alpha_sum_prod).alias(\"rank\"))#.orderBy('id')\n",
        "    \n",
        "    if x.filter(col('id')==user).count() == 0:\n",
        "      x = x.union(spark.createDataFrame(pd.DataFrame([(user, alpha)], columns=[\"id\",\"rank\"])))\n",
        "\n",
        "x.persist()\n",
        "print(\"Importance finale\")\n",
        "x.show()\n",
        "\n",
        "x.count() #résultat: 16168"
      ],
      "metadata": {
        "colab": {
          "base_uri": "https://localhost:8080/"
        },
        "id": "37MJQ1Xza7LP",
        "outputId": "381a2ce6-256d-4dc3-e93b-36eacc0fb3e4"
      },
      "execution_count": null,
      "outputs": [
        {
          "output_type": "stream",
          "name": "stdout",
          "text": [
            "Importance initiale\n",
            "+---+----+\n",
            "| id|rank|\n",
            "+---+----+\n",
            "| 10|   1|\n",
            "+---+----+\n",
            "\n",
            "Importance finale\n",
            "+------+--------------------+\n",
            "|    id|                rank|\n",
            "+------+--------------------+\n",
            "|810986| 7.18469357712758E-5|\n",
            "|843951|6.089243971671870...|\n",
            "|856224|4.285758198937867...|\n",
            "|879220|1.333570546372265...|\n",
            "|947737|9.051991059047644E-5|\n",
            "|938217|5.657976463027959E-6|\n",
            "|813815|3.379208514585342E-5|\n",
            "|828085|7.251152666789907...|\n",
            "|813070|3.707235062801998E-7|\n",
            "|966496|9.991016395078787E-5|\n",
            "|892405|6.204220759118849E-5|\n",
            "|889765| 7.23308841890472E-7|\n",
            "|919726|3.659091851598001E-7|\n",
            "|923142|2.706018945187368...|\n",
            "|863929|9.950739746616022E-7|\n",
            "|938608|1.093416729222471E-5|\n",
            "|814505| 4.18054299054014E-5|\n",
            "|854061|1.781094691069518...|\n",
            "|843360|2.755065779294699...|\n",
            "|801947|2.755065779294699...|\n",
            "+------+--------------------+\n",
            "only showing top 20 rows\n",
            "\n"
          ]
        },
        {
          "output_type": "execute_result",
          "data": {
            "text/plain": [
              "16147"
            ]
          },
          "metadata": {},
          "execution_count": 18
        }
      ]
    },
    {
      "cell_type": "markdown",
      "source": [
        "\n",
        "```\n",
        "# Résultat attendu:\n",
        "\n",
        "Importance initiale\n",
        "+---+----+\n",
        "| id|rank|\n",
        "+---+----+\n",
        "| 10| 1|\n",
        "+---+----+\n",
        "\n",
        "Importance finale\n",
        "\n",
        "+------+--------------------+\n",
        "| id| rank|\n",
        "+------+--------------------+\n",
        "|809859|1.078173166785031...|\n",
        "|811663|2.196173966339472...|\n",
        "|815398|4.991726499709634E-6|\n",
        "|819656|2.565325294701734...|\n",
        "|821585|1.085677623094404...|\n",
        "|826383|4.623323114868115...|\n",
        "|828577|3.198389497232263...|\n",
        "|833948|1.508649194553883E-6|\n",
        "|834684|8.776578672498915E-6|\n",
        "|838193|2.702370149734005...|\n",
        "|839249|1.902150200371450...|\n",
        "|839622|3.078835227272727E-4|\n",
        "|839790|2.194482183345908E-7|\n",
        "|841504| 1.57108458561054E-6|\n",
        "|844513|5.834083375811894E-8|\n",
        "|847474|3.237860140464702...|\n",
        "|853761|8.599848688583445E-4|\n",
        "|854531|0.001546366379143...|\n",
        "|856152|6.704348500324493E-8|\n",
        "|856636|8.663166221940156E-6|\n",
        "+------+--------------------+\n",
        "only showing top 20 rows\n",
        "\n",
        "Out[13]: 16168\n",
        "```\n",
        "\n"
      ],
      "metadata": {
        "id": "RR3yOKLY4GaJ"
      }
    },
    {
      "cell_type": "code",
      "source": [
        "x.where(col('id').isin([841504, 844513, 847474, 853761, 854531, 856152, 856636])).show()"
      ],
      "metadata": {
        "colab": {
          "base_uri": "https://localhost:8080/"
        },
        "id": "MlxKsqjznR57",
        "outputId": "229b3e97-2953-49cd-96e3-e63d7638a72f"
      },
      "execution_count": null,
      "outputs": [
        {
          "output_type": "stream",
          "name": "stdout",
          "text": [
            "+------+--------------------+\n",
            "|    id|                rank|\n",
            "+------+--------------------+\n",
            "|854531|0.001554540512839496|\n",
            "|856636|9.373849924168476E-6|\n",
            "|841504|1.696264140221232...|\n",
            "|847474|3.237165813907451E-5|\n",
            "|853761|8.599485698358212E-4|\n",
            "|844513|5.834083375811894E-8|\n",
            "|856152|6.704348500324492E-8|\n",
            "+------+--------------------+\n",
            "\n"
          ]
        }
      ]
    },
    {
      "cell_type": "markdown",
      "source": [
        "### Construction de la liste de chansons non écoutées recommendées\n",
        "Afficher les 10 chansons les plus recommendées que l'utilisateur n'a pas écoutées, avec leur score\n",
        "calculé précédemment"
      ],
      "metadata": {
        "id": "HjEpi7tAuGJk"
      }
    },
    {
      "cell_type": "code",
      "source": [
        "x2 = meta.selectExpr('Name', 'Artist', 'Id as id2')\n",
        "tracksrec = x.join(x2, x.id == x2.id2).selectExpr('id', 'rank', 'Name', 'Artist')\n",
        "\n",
        "window = Window.orderBy(col(\"rank\").desc())\n",
        "\n",
        "tracksreckList = tracksrec.withColumn(\"position\", rank().over(window))\\\n",
        "    .where(col(\"position\")<=10)\\\n",
        "    .orderBy('position').select('id', \"rank\", 'Name', 'Artist').take(20)   \n",
        "       \n",
        "for val in tracksreckList:\n",
        "   print(\"%s %s %s %s\" % val)"
      ],
      "metadata": {
        "id": "vS3ikClIuKxx",
        "colab": {
          "base_uri": "https://localhost:8080/"
        },
        "outputId": "f3c7372d-6d71-48cb-cca7-4eecfe3d819a"
      },
      "execution_count": null,
      "outputs": [
        {
          "output_type": "stream",
          "name": "stdout",
          "text": [
            "839649 0.04804175618196066 Bazam Bekhand Artist: Mohsen Yeganeh\n",
            "828318 0.041461989256473215 Unapologetic Bitch Artist: Madonna\n",
            "960353 0.038525490989983785 Magneto And Titanium Man Artist: Wings\n",
            "960214 0.03797141587570513 Procession Artist: Queen\n",
            "955486 0.034484389884170796 Seni Bilen Biliyor Artist: Arif Susam\n",
            "855194 0.02795106930767553 Porke Artist: Pochill\n",
            "958924 0.02584262856304979 Pictures Artist: Gemafrei\n",
            "801772 0.02535247383791928 Celebration Day Artist: Led Zeppelin\n",
            "823737 0.02194303602829867 Dj Petros Artist: Bang La Decks\n",
            "807650 0.02194303602829867 Take care Artist: Imany\n"
          ]
        }
      ]
    },
    {
      "cell_type": "markdown",
      "source": [
        "\n",
        "\n",
        "```\n",
        "# Résultat attendu:\n",
        "\n",
        "949111 0.01444789334755391 Hah Heh Hah Artist: Vaya Con Dios\n",
        "955858 0.014255786458993664 Legz Artist: Jaffa\n",
        "849768 0.009970446066103254 martin Artist: Dani Martin\n",
        "803682 0.00532400332583392 Every Morning Artist: Sugar Ray\n",
        "926933 0.004131316860041196 Who You Want Artist: Qulinez\n",
        "```\n",
        "\n"
      ],
      "metadata": {
        "id": "9Oz6bySo4oJs"
      }
    },
    {
      "cell_type": "markdown",
      "source": [
        "## Calcul des triangles\n",
        "\n",
        "Implémenter les différentes étapes de l'algorithme amélioré de calcul des triangles \n",
        "présenté en cours sur le graphe trackTrack construit précédemment."
      ],
      "metadata": {
        "id": "vBCj7dGTwF1V"
      }
    },
    {
      "cell_type": "code",
      "source": [
        "trackTrack.count()"
      ],
      "metadata": {
        "colab": {
          "base_uri": "https://localhost:8080/"
        },
        "id": "ZKoST9vtPbI-",
        "outputId": "e5443c01-dee6-4d61-e598-d3713feb230d"
      },
      "execution_count": null,
      "outputs": [
        {
          "output_type": "execute_result",
          "data": {
            "text/plain": [
              "136257"
            ]
          },
          "metadata": {},
          "execution_count": 38
        }
      ]
    },
    {
      "cell_type": "code",
      "source": [
        "# Définir une fonction qui prend comme argument une liste d'utilisateurs triés \n",
        "# par ordre croissant (users) et retourne une liste de couples ordonnés d'utilisateurs\n",
        "\n",
        "from pyspark.sql.functions import udf\n",
        "from pyspark.sql.types import *\n",
        "\n",
        "def parse_string(users):\n",
        "    \n",
        "    results = [[users[i], users[j]] for i in range(len(users)-1) for j in range(i+1, len(users))]\n",
        "    \n",
        "    return results\n",
        "\n",
        "parse_string_udf = udf(parse_string, ArrayType(StringType()))"
      ],
      "metadata": {
        "id": "iSTjGZ1SwHCS"
      },
      "execution_count": null,
      "outputs": []
    },
    {
      "cell_type": "code",
      "source": [
        "# Implémentation de l'algorithme de calcul de triangles\n",
        "\n",
        "from pyspark.sql.functions import collect_list, sort_array\n",
        "\n",
        "#Map1 - cours\n",
        "#Prendre en considération uniquement les couples ordonnés (trackId, track1) (trackId < track1)  \n",
        "trackOrd = trackTrack.where(col('trackId') < col('trackId2')).select('trackId', 'trackId2').orderBy('trackId', 'trackId2')\n",
        "\n",
        "#Reduce 1 - cours: Construire pour chaque trackId la liste de couples ordonnés de ses voisins\n",
        "# a) regrouper les lignes par trackId en construisant la liste de voisins triés par ordre\n",
        "#    croissant (utiliser sort_array)\n",
        "neighbors = trackOrd.groupby('trackId').agg(sort_array(collect_list('trackId2')).alias('liste'))\n",
        "\n",
        "neighbors.show(4)"
      ],
      "metadata": {
        "id": "rtl6tIWwwP9N",
        "colab": {
          "base_uri": "https://localhost:8080/"
        },
        "outputId": "72a7a36d-bba3-451f-8ff5-29003d040984"
      },
      "execution_count": null,
      "outputs": [
        {
          "output_type": "stream",
          "name": "stdout",
          "text": [
            "+-------+--------------------+\n",
            "|trackId|               liste|\n",
            "+-------+--------------------+\n",
            "| 798256|    [923706, 954826]|\n",
            "| 798258|    [808254, 810685]|\n",
            "| 798261|[895481, 905671, ...|\n",
            "| 798290|[853797, 880442, ...|\n",
            "+-------+--------------------+\n",
            "only showing top 4 rows\n",
            "\n"
          ]
        }
      ]
    },
    {
      "cell_type": "code",
      "source": [
        "# b) utiliser la fonction définie précédemment pour retourner la liste de couples de voisins\n",
        "couples= neighbors.withColumn('liste_couple', explode(parse_string_udf(col('liste')))).select('trackId', 'liste_couple')\n",
        "couples.show(5)"
      ],
      "metadata": {
        "colab": {
          "base_uri": "https://localhost:8080/"
        },
        "id": "IbHQmVeaNefG",
        "outputId": "db50f3b4-83ce-407a-8451-9d09f9001b23"
      },
      "execution_count": null,
      "outputs": [
        {
          "output_type": "stream",
          "name": "stdout",
          "text": [
            "+-------+----------------+\n",
            "|trackId|    liste_couple|\n",
            "+-------+----------------+\n",
            "| 798256|[923706, 954826]|\n",
            "| 798258|[808254, 810685]|\n",
            "| 798261|[895481, 905671]|\n",
            "| 798261|[895481, 911939]|\n",
            "| 798261|[895481, 916840]|\n",
            "+-------+----------------+\n",
            "only showing top 5 rows\n",
            "\n"
          ]
        }
      ]
    },
    {
      "cell_type": "code",
      "source": [
        "# Map2 + Reduce 2 - cours\n",
        "# prendre en considération uniquement les lignes telles que les couples de voisins \n",
        "# construits précédemment existent également dans le graphe \n",
        "from pyspark.sql.functions import concat, lit, count, desc\n",
        "trackOrd_couple = trackOrd.withColumn('liste_couple', concat(lit('['), col('trackId'), lit(', '), col('trackId2'), lit(']'))).select('liste_couple')\n",
        "trackOrd_couple.show()"
      ],
      "metadata": {
        "id": "zVw3IEb9t7on",
        "colab": {
          "base_uri": "https://localhost:8080/"
        },
        "outputId": "97365cf4-c813-4a30-a427-30b8a57b69d2"
      },
      "execution_count": null,
      "outputs": [
        {
          "output_type": "stream",
          "name": "stdout",
          "text": [
            "+----------------+\n",
            "|    liste_couple|\n",
            "+----------------+\n",
            "|[798256, 923706]|\n",
            "|[798256, 954826]|\n",
            "|[798258, 808254]|\n",
            "|[798258, 810685]|\n",
            "|[798261, 895481]|\n",
            "|[798261, 905671]|\n",
            "|[798261, 911939]|\n",
            "|[798261, 916840]|\n",
            "|[798261, 924192]|\n",
            "|[798261, 943188]|\n",
            "|[798290, 853797]|\n",
            "|[798290, 880442]|\n",
            "|[798290, 906999]|\n",
            "|[798302, 836228]|\n",
            "|[798302, 861163]|\n",
            "|[798302, 893311]|\n",
            "|[798303, 823884]|\n",
            "|[798311, 861793]|\n",
            "|[798311, 864601]|\n",
            "|[798311, 903496]|\n",
            "+----------------+\n",
            "only showing top 20 rows\n",
            "\n"
          ]
        }
      ]
    },
    {
      "cell_type": "code",
      "source": [
        "liste =  couples.join(trackOrd_couple, on='liste_couple')\n",
        "liste.show(5)"
      ],
      "metadata": {
        "colab": {
          "base_uri": "https://localhost:8080/"
        },
        "id": "yHCd-bSaPIkh",
        "outputId": "3f0895b4-48d1-422f-ac11-1d6186f48058"
      },
      "execution_count": null,
      "outputs": [
        {
          "output_type": "stream",
          "name": "stdout",
          "text": [
            "+------------------+-------+\n",
            "|      liste_couple|trackId|\n",
            "+------------------+-------+\n",
            "|[1179685, 1200833]|1176891|\n",
            "|[1200833, 1218821]|1176891|\n",
            "|[1225222, 1290141]|1178831|\n",
            "|[1226775, 1299891]|1197701|\n",
            "|  [798800, 810775]| 798622|\n",
            "+------------------+-------+\n",
            "only showing top 5 rows\n",
            "\n"
          ]
        }
      ]
    },
    {
      "cell_type": "code",
      "source": [
        "# Calculer le nombre de triangles pour chaque utilisateur et \n",
        "# trier le résultat par le nombre de triangles décroissant\n",
        "triangles = liste.groupBy('trackId').count().orderBy(col('count').desc())\n",
        "\n",
        "print(triangles.count()) #résultat: 7156\n",
        "triangles.agg(sum(col(\"count\"))).show() #Résultat: 93400\n",
        "triangles.orderBy(col(\"count\").desc()).show()"
      ],
      "metadata": {
        "colab": {
          "base_uri": "https://localhost:8080/"
        },
        "id": "O_kN6FvnOu6A",
        "outputId": "9a111652-1c56-4cc1-ae99-b1c5efdc744f"
      },
      "execution_count": null,
      "outputs": [
        {
          "output_type": "stream",
          "name": "stdout",
          "text": [
            "7156\n",
            "+----------+\n",
            "|sum(count)|\n",
            "+----------+\n",
            "|     93388|\n",
            "+----------+\n",
            "\n",
            "+-------+-----+\n",
            "|trackId|count|\n",
            "+-------+-----+\n",
            "| 800288| 1136|\n",
            "| 808082| 1063|\n",
            "| 805688|  898|\n",
            "| 815388|  894|\n",
            "| 806854|  890|\n",
            "| 825174|  880|\n",
            "| 831005|  844|\n",
            "| 805959|  665|\n",
            "| 798517|  630|\n",
            "| 799541|  619|\n",
            "| 846624|  615|\n",
            "| 801571|  607|\n",
            "| 798800|  579|\n",
            "| 802599|  559|\n",
            "| 841340|  552|\n",
            "| 810775|  552|\n",
            "| 811513|  548|\n",
            "| 798587|  540|\n",
            "| 858904|  539|\n",
            "| 813969|  517|\n",
            "+-------+-----+\n",
            "only showing top 20 rows\n",
            "\n"
          ]
        }
      ]
    },
    {
      "cell_type": "markdown",
      "source": [
        "\n",
        "\n",
        "```\n",
        "# Résultat attendu:\n",
        "\n",
        "+-------+------------+\n",
        "|trackid|nb_triangles|\n",
        "+-------+------------+\n",
        "| 800288|        1136|\n",
        "| 808082|        1063|\n",
        "| 805688|         898|\n",
        "| 815388|         893|\n",
        "| 806854|         890|\n",
        "| 825174|         881|\n",
        "| 831005|         844|\n",
        "| 805959|         665|\n",
        "| 798517|         630|\n",
        "| 799541|         619|\n",
        "| 846624|         615|\n",
        "| 801571|         607|\n",
        "| 798800|         579|\n",
        "| 802599|         559|\n",
        "| 841340|         552|\n",
        "| 810775|         552|\n",
        "| 811513|         548|\n",
        "| 798587|         541|\n",
        "| 858904|         539|\n",
        "| 813969|         517|\n",
        "+-------+------------+\n",
        "only showing top 20 rows\n",
        "```\n",
        "\n"
      ],
      "metadata": {
        "id": "O83MwPLB5DAd"
      }
    },
    {
      "cell_type": "markdown",
      "source": [
        "## Calcul du plus court chemin\n",
        "\n",
        "Implémenter l'algorithme parallèle de calcul de plus court chemin d'origine fixée vers n'importe quelle destination"
      ],
      "metadata": {
        "id": "lrJNZLE-K4pp"
      }
    },
    {
      "cell_type": "code",
      "source": [
        "from graphframes.lib import AggregateMessages as AM\n",
        "from pyspark.sql import functions as F\n",
        "\n",
        "origin=10\n",
        "#Rassembler tous les noeuds  dans un seul DF vertices\n",
        "vertices = graphe.select(\"source\").distinct().withColumnRenamed(\"source\", \"id\").union(graphe.select(\"dest\").distinct().withColumnRenamed(\"dest\", \"id\")).distinct() \n",
        "# Vecteur des distances de tous les neouds par rapport à origin\n",
        "distances = vertices.withColumn(\"distance\", F.when(vertices[\"id\"] == origin, 0).otherwise(float(\"inf\")))\n",
        "active  = spark.createDataFrame(pd.DataFrame([(origin,0)], columns=[\"idA\",\"distanceA\"]))\n",
        "\n",
        "distances= AM.getCachedDataFrame(distances)\n",
        "\n",
        "while active.first():\n",
        "\n",
        "   ....\n",
        "   active=AM.getCachedDataFrame(...)\n",
        "   distances=AM.getCachedDataFrame((...)\n",
        "\n",
        "print(\"Distances finales:\")  \n",
        "distances.filter(col(\"distance\")!=float('inf')).orderBy(col(\"distance\")).show()"
      ],
      "metadata": {
        "id": "RqMWghpxK8Ds"
      },
      "execution_count": null,
      "outputs": []
    },
    {
      "cell_type": "markdown",
      "source": [
        "```\n",
        "# Résultat attendu:\n",
        "\n",
        "Distances finales:\n",
        "+------+--------+\n",
        "|    id|distance|\n",
        "+------+--------+\n",
        "|    10|     0.0|\n",
        "|828318| 0.03125|\n",
        "|807650| 0.03125|\n",
        "|801772| 0.03125|\n",
        "|941064| 0.03125|\n",
        "|823737| 0.03125|\n",
        "|824440| 0.03125|\n",
        "|839649| 0.03125|\n",
        "|960214| 0.03125|\n",
        "|855194| 0.03125|\n",
        "|901153| 0.03125|\n",
        "|934050| 0.03125|\n",
        "|943645| 0.03125|\n",
        "|955486| 0.03125|\n",
        "|956604| 0.03125|\n",
        "|958924| 0.03125|\n",
        "|960353| 0.03125|\n",
        "|970381| 0.03125|\n",
        "|976111| 0.03125|\n",
        "|983989| 0.03125|\n",
        "+------+--------+\n",
        "only showing top 20 rows\n",
        "```"
      ],
      "metadata": {
        "id": "xn8SMrRMK8xu"
      }
    }
  ]
}